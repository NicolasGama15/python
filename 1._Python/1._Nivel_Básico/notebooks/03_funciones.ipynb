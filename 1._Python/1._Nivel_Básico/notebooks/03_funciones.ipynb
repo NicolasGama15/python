{
  "cells": [
    {
      "cell_type": "markdown",
      "metadata": {},
      "source": [
        "# 1.  **Título del Tema**\n"
      ]
    },
    {
      "cell_type": "markdown",
      "metadata": {},
      "source": [
        "**Funciones en Python: Bloques de Código Reutilizables**"
      ]
    },
    {
      "cell_type": "markdown",
      "metadata": {},
      "source": [
        "# 2.  **Explicación Conceptual Detallada**\n"
      ]
    },
    {
      "cell_type": "markdown",
      "metadata": {},
      "source": [
        "*   **Definición y Propósito:**\n",
        "    Una función es una secuencia de sentencias que realizan una operación específica. Se definen una vez y pueden ser llamadas (ejecutadas) múltiples veces desde diferentes partes de tu programa. Su propósito principal es agrupar código que realiza una tarea particular, lo que promueve la **reutilización** y la **modularidad**."
      ]
    },
    {
      "cell_type": "markdown",
      "metadata": {},
      "source": [
        "*   **¿Cuándo y por qué se utiliza?**\n",
        "    *   **Reutilización de código (DRY - Don't Repeat Yourself):** Si tienes un fragmento de código que necesitas usar en varios lugares, en lugar de copiarlo y pegarlo, lo defines como una función y lo llamas cuando lo necesites. Esto hace tu código más corto y fácil de mantener (si necesitas cambiar la lógica, solo lo haces en un lugar).\n",
        "    *   **Organización y Legibilidad:** Las funciones dividen programas complejos en partes más pequeñas y manejables. Cada función tiene un propósito claro, lo que hace que el código sea más fácil de entender.\n",
        "    *   **Abstracción:** Puedes usar una función sin necesidad de conocer los detalles exactos de su implementación interna. Solo necesitas saber qué hace, qué parámetros necesita y qué devuelve.\n",
        "    *   **Modularidad:** Facilitan la creación de programas modulares, donde diferentes partes del programa pueden ser desarrolladas y probadas de forma independiente."
      ]
    },
    {
      "cell_type": "markdown",
      "metadata": {},
      "source": [
        "*   **Conceptos Clave y Sintaxis Fundamental:**\n",
        "    *   **Definición de una función:** Se usa la palabra clave `def`, seguida del nombre de la función, paréntesis `()`, y dos puntos `:`. El cuerpo de la función (el código que ejecuta) debe estar indentado.\n",
        "        ```python\n",
        "        def nombre_de_la_funcion(parametro1, parametro2):\n",
        "            # Cuerpo de la función (código indentado)\n",
        "            # Realiza alguna tarea\n",
        "            return valor_de_retorno # Opcional\n",
        "        ```\n",
        "    *   **Parámetros (o Argumentos):** Son variables listadas dentro de los paréntesis en la definición de la función. Actúan como marcadores de posición para los valores que la función espera recibir cuando es llamada.\n",
        "        *   **Parámetros Posicionales:** Se asignan a los argumentos basados en su posición.\n",
        "        *   **Parámetros por Defecto (Default Arguments):** Puedes asignar un valor por defecto a un parámetro en la definición de la función. Si no se pasa un argumento para ese parámetro al llamar la función, se usará el valor por defecto.\n",
        "        *   `*args` **(Argumentos Posicionales Variables):** Permite a una función aceptar un número variable de argumentos posicionales. Estos se empaquetan en una tupla.\n",
        "        *   `**kwargs` **(Argumentos de Palabra Clave Variables):** Permite a una función aceptar un número variable de argumentos de palabra clave. Estos se empaquetan en un diccionario.\n",
        "    *   **Llamada de Función (Invocación):** Para ejecutar una función, escribes su nombre seguido de paréntesis `()`, pasando los argumentos necesarios dentro de los paréntesis.\n",
        "        ```python\n",
        "        resultado = nombre_de_la_funcion(valor1, valor2)\n",
        "        ```\n",
        "    *   **Valores de Retorno (`return`):** La sentencia `return` se usa para salir de una función y, opcionalmente, devolver un valor al código que la llamó. Si una función no tiene una sentencia `return` explícita, o tiene `return` sin un valor, devuelve `None` por defecto.\n",
        "    *   **Docstrings (Cadenas de Documentación):** Es una cadena de texto literal que aparece como la primera sentencia en la definición de un módulo, función, clase o método. Se usa para documentar lo que hace la función. Se accede con `nombre_de_la_funcion.__doc__`.\n",
        "        ```python\n",
        "        def mi_funcion_con_docstring():\n",
        "            \"\"\"Esta es una cadena de documentación (docstring).\n",
        "            Explica brevemente lo que hace la función.\n",
        "            \"\"\"\n",
        "            print(\"Hola desde la función\")"
      ]
    },
    {
      "cell_type": "markdown",
      "metadata": {},
      "source": [
        "*   **Ámbito de Variables (Scope):**\n",
        "    El ámbito de una variable define dónde en tu código puedes acceder a esa variable.\n",
        "    *   **Variables Locales:** Se definen dentro de una función. Solo son accesibles desde dentro de esa función. Se crean cuando la función es llamada y se destruyen cuando la función termina.\n",
        "    *   **Variables Globales:** Se definen fuera de todas las funciones, en el nivel superior del script. Son accesibles desde cualquier parte del código, tanto dentro como fuera de las funciones.\n",
        "    *   **Regla LEGB (Local, Enclosing function locals, Global, Built-in):** Python busca nombres de variables en este orden:\n",
        "        1.  `L`ocal: El ámbito más interno, el de la función actual.\n",
        "        2.  `E`nclosing function locals: Ámbitos de funciones anidadas (si las hay), de la más interna a la más externa.\n",
        "        3.  `G`lobal: El ámbito del módulo actual.\n",
        "        4.  `B`uilt-in: Nombres predefinidos en Python (ej. `print`, `len`).\n",
        "    *   Para modificar una variable global dentro de una función, debes usar la palabra clave `global`. Sin embargo, esto generalmente se considera una mala práctica y debe evitarse si es posible, ya que puede hacer que el flujo de datos sea difícil de seguir.\n",
        "        ```python\n",
        "        x = 10 # Variable global\n",
        "\n",
        "        def mi_funcion_scope():\n",
        "            y = 5 # Variable local\n",
        "            print(\"Dentro de la función, x es:\", x) # Accede a la global\n",
        "            print(\"Dentro de la función, y es:\", y)\n",
        "\n",
        "        mi_funcion_scope()\n",
        "        print(\"Fuera de la función, x es:\", x)\n",
        "        # print(\"Fuera de la función, y es:\", y) # Esto daría un NameError\n",
        "        ```"
      ]
    },
    {
      "cell_type": "markdown",
      "metadata": {},
      "source": [
        "*   **Errores Comunes:**\n",
        "    *   Definir una función pero olvidar llamarla.\n",
        "    *   Llamar a una función con un número incorrecto de argumentos (a menos que uses `*args`, `**kwargs` o valores por defecto).\n",
        "    *   Errores de indentación en el cuerpo de la función.\n",
        "    *   Confusión con el ámbito de las variables (intentar acceder a una variable local fuera de su función).\n",
        "    *   Olvidar la sentencia `return` si esperas un valor de vuelta (obtendrás `None`)."
      ]
    },
    {
      "cell_type": "markdown",
      "metadata": {},
      "source": [
        "*   **Ventajas:**\n",
        "    *   **Reusabilidad:** Escribe el código una vez, úsalo muchas veces.\n",
        "    *   **Legibilidad:** Código más limpio y fácil de entender.\n",
        "    *   **Mantenibilidad:** Cambios en un solo lugar afectan todas las llamadas.\n",
        "    *   **Modularidad:** Divide problemas complejos en partes más simples.\n",
        "    *   **Pruebas:** Las funciones individuales son más fáciles de probar."
      ]
    },
    {
      "cell_type": "markdown",
      "metadata": {},
      "source": [
        "*   **Posibles Limitaciones (en general, no específicas de Python):**\n",
        "    *   Si una función se vuelve demasiado larga y hace demasiadas cosas, puede perder su propósito de simplificar y volverse difícil de entender (viola el Principio de Responsabilidad Única).\n",
        "    *   El paso de muchos parámetros puede ser engorroso, aunque Python ofrece `*args` y `**kwargs` para mitigar esto."
      ]
    },
    {
      "cell_type": "markdown",
      "metadata": {},
      "source": [
        "*   **Buenas Prácticas:**\n",
        "    *   **Nombres Descriptivos:** Usa nombres de funciones que indiquen claramente lo que hacen (ej. `calcular_promedio`, `validar_email`).\n",
        "    *   **Pequeñas y Enfocadas (Principio de Responsabilidad Única):** Cada función debería hacer una sola cosa bien.\n",
        "    *   **Docstrings:** Documenta tus funciones para explicar su propósito, parámetros y lo que retornan.\n",
        "    *   **Evitar Efectos Secundarios Inesperados:** Idealmente, una función toma entradas y produce salidas sin modificar variables globales u otros estados fuera de su control directo, a menos que ese sea su propósito explícito. Las funciones que solo dependen de sus entradas y no tienen efectos secundarios se llaman \"funciones puras\".\n",
        "    *   **Usar `return` de forma consistente:** Si una función a veces retorna un valor y a veces no (implícitamente `None`), puede ser confuso."
      ]
    },
    {
      "cell_type": "markdown",
      "metadata": {},
      "source": [
        "# 3.  **Sintaxis y Ejemplos Básicos**\n"
      ]
    },
    {
      "cell_type": "code",
      "execution_count": 1,
      "metadata": {},
      "outputs": [
        {
          "name": "stdout",
          "output_type": "stream",
          "text": [
            "¡Hola, mundo!\n"
          ]
        }
      ],
      "source": [
        "# 1. Función simple sin parámetros ni valor de retorno\n",
        "def saludar():\n",
        "    print(\"¡Hola, mundo!\")\n",
        "\n",
        "saludar() # Llamada a la función"
      ]
    },
    {
      "cell_type": "code",
      "execution_count": 2,
      "metadata": {},
      "outputs": [
        {
          "name": "stdout",
          "output_type": "stream",
          "text": [
            "¡Hola, Ana!\n",
            "¡Hola, Carlos!\n"
          ]
        }
      ],
      "source": [
        "# 2. Función con parámetros posicionales\n",
        "def saludar_persona(nombre):\n",
        "    print(f\"¡Hola, {nombre}!\")\n",
        "\n",
        "saludar_persona(\"Ana\")\n",
        "saludar_persona(\"Carlos\")"
      ]
    },
    {
      "cell_type": "code",
      "execution_count": 3,
      "metadata": {},
      "outputs": [
        {
          "name": "stdout",
          "output_type": "stream",
          "text": [
            "El resultado de la suma es: 8\n",
            "También podemos imprimir directamente: 30\n"
          ]
        }
      ],
      "source": [
        "# 3. Función con valor de retorno\n",
        "def sumar(a, b):\n",
        "    resultado = a + b\n",
        "    return resultado\n",
        "\n",
        "suma_total = sumar(5, 3)\n",
        "print(f\"El resultado de la suma es: {suma_total}\")\n",
        "print(f\"También podemos imprimir directamente: {sumar(10, 20)}\")"
      ]
    },
    {
      "cell_type": "code",
      "execution_count": 4,
      "metadata": {},
      "outputs": [
        {
          "name": "stdout",
          "output_type": "stream",
          "text": [
            "Hola, Elena.\n",
            "Buenos días, Juan.\n"
          ]
        }
      ],
      "source": [
        "# 4. Función con parámetros por defecto\n",
        "def crear_saludo_personalizado(nombre, saludo=\"Hola\"):\n",
        "    print(f\"{saludo}, {nombre}.\")\n",
        "\n",
        "crear_saludo_personalizado(\"Elena\") # Usa el saludo por defecto\n",
        "crear_saludo_personalizado(\"Juan\", \"Buenos días\") # Proporciona un saludo específico"
      ]
    },
    {
      "cell_type": "code",
      "execution_count": 5,
      "metadata": {},
      "outputs": [
        {
          "name": "stdout",
          "output_type": "stream",
          "text": [
            "Diferencia: 6\n",
            "Docstring de la función restar:\n",
            "\n",
            "Esta función toma dos números como entrada y devuelve su diferencia (a - b).\n",
            "\n",
            "Parámetros:\n",
            "a (int/float): El minuendo.\n",
            "b (int/float): El sustraendo.\n",
            "\n",
            "Retorna:\n",
            "int/float: La diferencia entre a y b.\n",
            "\n"
          ]
        }
      ],
      "source": [
        "def restar(a, b):\n",
        "    \"\"\"\n",
        "    Esta función toma dos números como entrada y devuelve su diferencia (a - b).\n",
        "    \n",
        "    Parámetros:\n",
        "    a (int/float): El minuendo.\n",
        "    b (int/float): El sustraendo.\n",
        "    \n",
        "    Retorna:\n",
        "    int/float: La diferencia entre a y b.\n",
        "    \"\"\"\n",
        "    return a - b\n",
        "\n",
        "diferencia = restar(10, 4)\n",
        "print(f\"Diferencia: {diferencia}\")\n",
        "print(\"Docstring de la función restar:\")\n",
        "print(restar.__doc__)"
      ]
    },
    {
      "cell_type": "code",
      "execution_count": 6,
      "metadata": {},
      "outputs": [
        {
          "name": "stdout",
          "output_type": "stream",
          "text": [
            "Recibí los siguientes argumentos:\n",
            "1\n",
            "hola\n",
            "3.14\n",
            "[1, 2]\n",
            "Tipo de 'args': <class 'tuple'>\n",
            "Recibí los siguientes argumentos:\n",
            "Python\n",
            "es\n",
            "genial\n",
            "Tipo de 'args': <class 'tuple'>\n"
          ]
        }
      ],
      "source": [
        "# 6. Función con *args (para un número variable de argumentos posicionales)\n",
        "def imprimir_argumentos(*args):\n",
        "    print(\"Recibí los siguientes argumentos:\")\n",
        "    for arg in args:\n",
        "        print(arg)\n",
        "    print(f\"Tipo de 'args': {type(args)}\")\n",
        "\n",
        "imprimir_argumentos(1, \"hola\", 3.14, [1, 2])\n",
        "imprimir_argumentos(\"Python\", \"es\", \"genial\")"
      ]
    },
    {
      "cell_type": "code",
      "execution_count": 7,
      "metadata": {},
      "outputs": [
        {
          "name": "stdout",
          "output_type": "stream",
          "text": [
            "Información de la persona:\n",
            "nombre: Laura\n",
            "edad: 30\n",
            "ciudad: Madrid\n",
            "Tipo de 'kwargs': <class 'dict'>\n",
            "Información de la persona:\n",
            "nombre: Pedro\n",
            "profesion: Ingeniero\n",
            "hobbies: ['leer', 'correr']\n",
            "Tipo de 'kwargs': <class 'dict'>\n"
          ]
        }
      ],
      "source": [
        "# 7. Función con **kwargs (para un número variable de argumentos de palabra clave)\n",
        "def imprimir_info_persona(**kwargs):\n",
        "    print(\"Información de la persona:\")\n",
        "    for clave, valor in kwargs.items():\n",
        "        print(f\"{clave}: {valor}\")\n",
        "    print(f\"Tipo de 'kwargs': {type(kwargs)}\")\n",
        "\n",
        "imprimir_info_persona(nombre=\"Laura\", edad=30, ciudad=\"Madrid\")\n",
        "imprimir_info_persona(nombre=\"Pedro\", profesion=\"Ingeniero\", hobbies=[\"leer\", \"correr\"])"
      ]
    },
    {
      "cell_type": "code",
      "execution_count": 12,
      "metadata": {},
      "outputs": [
        {
          "name": "stdout",
          "output_type": "stream",
          "text": [
            "param1: val1\n",
            "param2: val2\n",
            "args: (10, 20, 30)\n",
            "kwargs: {'opcion1': 'sí', 'opcion2': 'no'}\n"
          ]
        }
      ],
      "source": [
        "# 8. Función usando *args y **kwargs juntos\n",
        "def funcion_compleja(param1, param2, *args, **kwargs):\n",
        "    print(f\"param1: {param1}\")\n",
        "    print(f\"param2: {param2}\")\n",
        "    print(f\"args: {args}\")\n",
        "    print(f\"kwargs: {kwargs}\")\n",
        "\n",
        "funcion_compleja(\"val1\", \"val2\", 10, 20, 30, opcion1=\"sí\", opcion2=\"no\")"
      ]
    },
    {
      "cell_type": "code",
      "execution_count": 13,
      "metadata": {},
      "outputs": [
        {
          "name": "stdout",
          "output_type": "stream",
          "text": [
            "Dentro de la función: Soy local\n",
            "Dentro de la función, accediendo a la global: Soy global\n",
            "Fuera de la función: Soy global\n"
          ]
        }
      ],
      "source": [
        "# 9. Ejemplo de Ámbito de Variables (Scope)\n",
        "variable_global = \"Soy global\"\n",
        "\n",
        "def funcion_scope():\n",
        "    variable_local = \"Soy local\"\n",
        "    print(f\"Dentro de la función: {variable_local}\")\n",
        "    print(f\"Dentro de la función, accediendo a la global: {variable_global}\")\n",
        "\n",
        "funcion_scope()\n",
        "print(f\"Fuera de la función: {variable_global}\")\n",
        "# print(f\"Fuera de la función: {variable_local}\") # Esto daría un NameError porque variable_local no existe aquí"
      ]
    },
    {
      "cell_type": "markdown",
      "metadata": {},
      "source": [
        "# 4.  **Documentación y Recursos Clave**\n"
      ]
    },
    {
      "cell_type": "markdown",
      "metadata": {},
      "source": [
        "*   **Documentación Oficial de Python:**\n",
        "    *   Definiendo Funciones: [https://docs.python.org/es/3/tutorial/controlflow.html#defining-functions](https://docs.python.org/es/3/tutorial/controlflow.html#defining-functions)\n",
        "    *   Más sobre Definición de Funciones (incluye `*args`, `**kwargs`, docstrings, etc.): [https://docs.python.org/es/3/tutorial/controlflow.html#more-on-defining-functions](https://docs.python.org/es/3/tutorial/controlflow.html#more-on-defining-functions)\n",
        "*   **Recursos Externos de Alta Calidad:**\n",
        "    *   Real Python - Defining Your Own Python Function: [https://realpython.com/defining-your-own-python-function/](https://realpython.com/defining-your-own-python-function/)\n",
        "    *   Programiz - Python Functions: [https://www.programiz.com/python-programming/function](https://www.programiz.com/python-programming/function)"
      ]
    },
    {
      "cell_type": "markdown",
      "metadata": {},
      "source": [
        "# 5.  **Ejemplos de Código Prácticos**\n"
      ]
    },
    {
      "cell_type": "markdown",
      "metadata": {},
      "source": [
        "**Ejemplo 1: Mini Calculadora**"
      ]
    },
    {
      "cell_type": "code",
      "execution_count": 14,
      "metadata": {},
      "outputs": [
        {
          "name": "stdout",
          "output_type": "stream",
          "text": [
            "Suma (10 + 5): 15\n",
            "División (10 / 2): 5.0\n",
            "División por cero (10 / 0): Error: División por cero no permitida.\n",
            "Operación inválida (10 % 5): Error: Operación no válida. Use '+', '-', '*' o '/'.\n"
          ]
        }
      ],
      "source": [
        "def mini_calculadora(num1, num2, operacion):\n",
        "    \"\"\"\n",
        "    Realiza una operación aritmética básica entre dos números.\n",
        "\n",
        "    Parámetros:\n",
        "    num1 (float): El primer número.\n",
        "    num2 (float): El segundo número.\n",
        "    operacion (str): La operación a realizar ('+', '-', '*', '/').\n",
        "\n",
        "    Retorna:\n",
        "    float: El resultado de la operación.\n",
        "    str: Un mensaje de error si la operación no es válida o hay división por cero.\n",
        "    \"\"\"\n",
        "    if operacion == '+':\n",
        "        return num1 + num2\n",
        "    elif operacion == '-':\n",
        "        return num1 - num2\n",
        "    elif operacion == '*':\n",
        "        return num1 * num2\n",
        "    elif operacion == '/':\n",
        "        if num2 == 0:\n",
        "            return \"Error: División por cero no permitida.\"\n",
        "        else:\n",
        "            return num1 / num2\n",
        "    else:\n",
        "        return \"Error: Operación no válida. Use '+', '-', '*' o '/'.\"\n",
        "\n",
        "# Pruebas\n",
        "resultado_suma = mini_calculadora(10, 5, '+')\n",
        "print(f\"Suma (10 + 5): {resultado_suma}\")\n",
        "\n",
        "resultado_division = mini_calculadora(10, 2, '/')\n",
        "print(f\"División (10 / 2): {resultado_division}\")\n",
        "\n",
        "error_division_cero = mini_calculadora(10, 0, '/')\n",
        "print(f\"División por cero (10 / 0): {error_division_cero}\")\n",
        "\n",
        "error_operacion = mini_calculadora(10, 5, '%')\n",
        "print(f\"Operación inválida (10 % 5): {error_operacion}\")"
      ]
    },
    {
      "cell_type": "markdown",
      "metadata": {},
      "source": [
        "**Ejemplo 2: Generador de Mensajes Personalizados**"
      ]
    },
    {
      "cell_type": "code",
      "execution_count": null,
      "metadata": {},
      "outputs": [
        {
          "name": "stdout",
          "output_type": "stream",
          "text": [
            "Información de Lucía:\n",
            "  - Edad: 28 años\n",
            "  - Ciudad: Valencia\n",
            "\n",
            "Información de Roberto:\n",
            "  - Edad: 45 años\n",
            "  - Ciudad: Ciudad Desconocida\n",
            "  - Detalles Adicionales:\n",
            "    - Profesion: Desarrollador\n",
            "    - Hobbies: Leer, Cine\n",
            "\n",
            "Información de Ana:\n",
            "  - Edad: 33 años\n",
            "  - Ciudad: Barcelona\n",
            "  - Detalles Adicionales:\n",
            "    - Pais: España\n",
            "    - Interes principal: IA\n",
            "    - Interes adicional: ['Python', 'ML']\n",
            "\n"
          ]
        }
      ],
      "source": [
        "def generar_mensaje(nombre, edad, ciudad=\"Ciudad Desconocida\", **detalles_adicionales):\n",
        "    \"\"\"\n",
        "    Genera un mensaje personalizado con información sobre una persona.\n",
        "\n",
        "    Parámetros:\n",
        "    nombre (str): El nombre de la persona.\n",
        "    edad (int): La edad de la persona.\n",
        "    ciudad (str, opcional): La ciudad de la persona. Por defecto \"Ciudad Desconocida\".\n",
        "    **detalles_adicionales: Argumentos de palabra clave para detalles extra.\n",
        "\n",
        "    Retorna:\n",
        "    str: Un mensaje formateado.\n",
        "    \"\"\"\n",
        "    mensaje = f\"Información de {nombre}:\\n\"\n",
        "    mensaje += f\"  - Edad: {edad} años \"\n",
        "    mensaje += f\"  - Ciudad: {ciudad}\\n\"\n",
        "\n",
        "    if detalles_adicionales:\n",
        "        mensaje += \"  - Detalles Adicionales:\\n\"\n",
        "        for clave, valor in detalles_adicionales.items():\n",
        "            mensaje += f\"    - {clave.replace('_', ' ').capitalize()}: {valor}\\n\"\n",
        "    \n",
        "    return mensaje\n",
        "\n",
        "# Pruebas\n",
        "mensaje1 = generar_mensaje(\"Lucía\", 28, ciudad=\"Valencia\")\n",
        "print(mensaje1)\n",
        "\n",
        "mensaje2 = generar_mensaje(\"Roberto\", 45, profesion=\"Desarrollador\", hobbies=\"Leer, Cine\")\n",
        "print(mensaje2)\n",
        "\n",
        "mensaje3 = generar_mensaje(\"Ana\", 33, \"Barcelona\", pais=\"España\", interes_principal=\"IA\",interes_adicional=[\"Python\",\"ML\"])\n",
        "print(mensaje3)"
      ]
    },
    {
      "cell_type": "markdown",
      "metadata": {},
      "source": [
        "**Ejemplo 3: Procesador de Lista de Números**"
      ]
    },
    {
      "cell_type": "code",
      "execution_count": 20,
      "metadata": {},
      "outputs": [
        {
          "name": "stdout",
          "output_type": "stream",
          "text": [
            "Suma de (1, 2, 3, 4, 5): 15\n",
            "Promedio de (10, 20, 30): 20.0\n",
            "Máximo de (7, 1, 9, 4): 9\n",
            "Mínimo de (7, 1, 9, 4): 1\n",
            "Sin números: Error: No se proporcionaron números para procesar.\n",
            "Operación inválida: Error: Operación no válida. Use 'sumar', 'promedio', 'maximo' o 'minimo'.\n"
          ]
        }
      ],
      "source": [
        "def procesar_numeros(*numeros, operacion=\"sumar\"):\n",
        "    \"\"\"\n",
        "    Procesa una lista de números realizando una operación específica.\n",
        "\n",
        "    Parámetros:\n",
        "    *numeros (float/int): Una secuencia de números a procesar.\n",
        "    operacion (str, opcional): La operación a realizar ('sumar', 'promedio', 'maximo', 'minimo').\n",
        "                               Por defecto es 'sumar'.\n",
        "\n",
        "    Retorna:\n",
        "    float/int: El resultado de la operación.\n",
        "    str: Mensaje de error si no se proporcionan números o la operación es inválida.\n",
        "    None: Si no se proporcionan números.\n",
        "    \"\"\"\n",
        "    if not numeros:\n",
        "        return \"Error: No se proporcionaron números para procesar.\"\n",
        "\n",
        "    if operacion == \"sumar\":\n",
        "        return sum(numeros)\n",
        "    elif operacion == \"promedio\":\n",
        "        return sum(numeros) / len(numeros)\n",
        "    elif operacion == \"maximo\":\n",
        "        return max(numeros)\n",
        "    elif operacion == \"minimo\":\n",
        "        return min(numeros)\n",
        "    else:\n",
        "        return \"Error: Operación no válida. Use 'sumar', 'promedio', 'maximo' o 'minimo'.\"\n",
        "\n",
        "# Pruebas\n",
        "print(f\"Suma de (1, 2, 3, 4, 5): {procesar_numeros(1, 2, 3, 4, 5)}\")\n",
        "print(f\"Promedio de (10, 20, 30): {procesar_numeros(10, 20, 30, operacion='promedio')}\")\n",
        "print(f\"Máximo de (7, 1, 9, 4): {procesar_numeros(7, 1, 9, 4, operacion='maximo')}\")\n",
        "print(f\"Mínimo de (7, 1, 9, 4): {procesar_numeros(7, 1, 9, 4, operacion='minimo')}\")\n",
        "print(f\"Sin números: {procesar_numeros()}\")\n",
        "print(f\"Operación inválida: {procesar_numeros(1, 2, operacion='multiplicar')}\")"
      ]
    },
    {
      "cell_type": "markdown",
      "metadata": {},
      "source": [
        "# 6.  **Ejercicio Práctico**\n"
      ]
    },
    {
      "cell_type": "markdown",
      "metadata": {},
      "source": [
        "**Título del Ejercicio:** Validador de Contraseñas"
      ]
    },
    {
      "cell_type": "markdown",
      "metadata": {},
      "source": [
        "**Descripción:**\n",
        "Crea una función llamada `validar_contraseña` que tome una cadena (la contraseña) como parámetro. La función debe verificar si la contraseña cumple con los siguientes criterios:\n",
        "1.  Tiene al menos 8 caracteres de longitud.\n",
        "2.  Contiene al menos una letra mayúscula.\n",
        "3.  Contiene al menos una letra minúscula.\n",
        "4.  Contiene al menos un número.\n",
        "\n",
        "La función debe devolver `True` si la contraseña cumple todos los criterios, y `False` en caso contrario.\n",
        "\n",
        "Opcional (para un desafío extra): Si la contraseña no es válida, además de devolver `False`, puedes hacer que la función devuelva (o imprima) un mensaje indicando qué criterio(s) no se cumplieron. Para esto, podrías devolver una tupla: `(False, \"Mensaje de error\")`.\n",
        "\n",
        "**Pista:**\n",
        "*   Puedes usar un bucle `for` para iterar sobre los caracteres de la contraseña.\n",
        "*   Los métodos de cadenas de Python como `len()`, `isupper()`, `islower()`, `isdigit()` serán muy útiles aquí.\n",
        "*   Considera usar variables booleanas (flags) para rastrear si cada criterio se ha cumplido."
      ]
    },
    {
      "cell_type": "code",
      "execution_count": 42,
      "metadata": {},
      "outputs": [
        {
          "data": {
            "text/plain": [
              "'Contraseña: PRUE1312a1 valida'"
            ]
          },
          "execution_count": 42,
          "metadata": {},
          "output_type": "execute_result"
        }
      ],
      "source": [
        "def validar_contraseña(contraseña):    \n",
        "    mayuscula = False\n",
        "    minuscula = False\n",
        "    numero = False\n",
        "    largo = False \n",
        "    errores = []\n",
        "\n",
        "    if len(contraseña) >= 8:\n",
        "        largo = True\n",
        "        \n",
        "    for caracter in contraseña:\n",
        "        if caracter.isupper():\n",
        "            mayuscula = True\n",
        "        elif caracter.islower():\n",
        "            minuscula = True \n",
        "\n",
        "        if caracter.isdigit():\n",
        "            numero = True \n",
        "        if (mayuscula and minuscula and numero):\n",
        "            break\n",
        "\n",
        "\n",
        "    if not largo:\n",
        "        errores.append(\"Tu contraseña no tiene el largo suficiente\")\n",
        "    if not mayuscula:    \n",
        "        errores.append(\"Tu contraseña no tiene al menos una mayuscula\") \n",
        "    if not minuscula:    \n",
        "        errores.append(\"Tu contraseña no tiene al menos una minuscula\") \n",
        "    if not numero:\n",
        "        errores.append(\"Tu contraseña no tiene al menos un número\")\n",
        "\n",
        "    if errores:\n",
        "        return (f\"Contraseña: {contraseña}  no valida  errores: {errores}\")\n",
        "    else:\n",
        "        return (f\"Contraseña: {contraseña} valida\")  \n",
        "\n",
        "\n",
        "validar_contraseña(\"PRUE1312a1\")"
      ]
    },
    {
      "cell_type": "markdown",
      "metadata": {},
      "source": [
        "# 7.  **Conexión con Otros Temas**\n"
      ]
    },
    {
      "cell_type": "markdown",
      "metadata": {},
      "source": [
        "*   **Conceptos que deberías conocer previamente:**\n",
        "    *   **Variables y Tipos de Datos:** Las funciones operan con variables y diferentes tipos de datos (números, cadenas, booleanos, listas, etc.).\n",
        "    *   **Operadores:** Usarás operadores aritméticos, de comparación, lógicos dentro de tus funciones.\n",
        "    *   **Estructuras de Control:** `if/elif/else` para tomar decisiones y `for/while` para iterar son comúnmente usados dentro del cuerpo de las funciones.\n",
        "    *   **Cadenas (Strings) y sus métodos:** Muy útiles para procesar texto dentro de funciones."
      ]
    },
    {
      "cell_type": "markdown",
      "metadata": {},
      "source": [
        "*   **Temas futuros para los que este conocimiento será importante:**\n",
        "    *   **Módulos:** Los módulos en Python son esencialmente archivos `.py` que contienen definiciones de funciones y variables. Aprenderás a organizar tus funciones en módulos para una mejor reutilización y estructura del proyecto.\n",
        "    *   **Programación Orientada a Objetos (POO):** En POO, las funciones definidas dentro de una clase se llaman **métodos**. Son fundamentales para definir el comportamiento de los objetos.\n",
        "    *   **Decoradores:** Son una forma avanzada de modificar o mejorar funciones (o clases) de manera elegante. Entender bien las funciones es crucial para entender los decoradores.\n",
        "    *   **Funciones Lambda (Funciones Anónimas):** Son pequeñas funciones de una sola línea, útiles para tareas rápidas.\n",
        "    *   `functools.partial`: Como mencionaste, `functools` es un módulo con herramientas para funciones de orden superior. `partial` permite \"fijar\" algunos argumentos de una función, creando una nueva función con menos parámetros. Entender los parámetros de las funciones es clave para usar `partial` efectivamente.\n",
        "    *   **Recursividad:** Un concepto donde una función se llama a sí misma. Es una técnica poderosa para resolver ciertos tipos de problemas."
      ]
    },
    {
      "cell_type": "markdown",
      "metadata": {},
      "source": [
        "# 8.  **Aplicaciones en el Mundo Real**\n"
      ]
    },
    {
      "cell_type": "markdown",
      "metadata": {},
      "source": [
        "Las funciones son omnipresentes en el desarrollo de software. Aquí algunos ejemplos:\n",
        "\n",
        "1.  **Desarrollo Web (Backend):**\n",
        "    *   Una función para validar los datos de un formulario enviado por un usuario (ej. `validar_email(email_str)`).\n",
        "    *   Una función para conectarse a una base de datos y obtener información específica (ej. `obtener_usuario_por_id(user_id)`).\n",
        "    *   Una función para procesar una petición HTTP y generar una respuesta (ej. `manejar_peticion_login(request_data)`).\n",
        "\n",
        "2.  **Análisis de Datos y Ciencia de Datos:**\n",
        "    *   Una función para limpiar un conjunto de datos, eliminando valores nulos o corrigiendo formatos (ej. `limpiar_dataframe(df)`).\n",
        "    *   Una función para calcular una métrica estadística específica sobre un conjunto de datos (ej. `calcular_error_cuadratico_medio(predicciones, reales)`).\n",
        "    *   Una función para visualizar datos, creando un gráfico específico (ej. `graficar_tendencia_ventas(datos_ventas)`).\n",
        "\n",
        "3.  **Automatización de Tareas (Scripting):**\n",
        "    *   Una función para leer el contenido de un archivo y extraer información relevante.\n",
        "    *   Una función para renombrar múltiples archivos en una carpeta según un patrón específico.\n",
        "    *   Una función para enviar un correo electrónico de notificación.\n",
        "\n",
        "Básicamente, cualquier tarea que necesites realizar de forma repetida o que pueda ser aislada como una unidad lógica de trabajo es una candidata perfecta para convertirse en una función."
      ]
    }
  ],
  "metadata": {
    "kernelspec": {
      "display_name": "Python 3",
      "language": "python",
      "name": "python3"
    },
    "language_info": {
      "codemirror_mode": {
        "name": "ipython",
        "version": 3
      },
      "file_extension": ".py",
      "mimetype": "text/x-python",
      "name": "python",
      "nbconvert_exporter": "python",
      "pygments_lexer": "ipython3",
      "version": "3.13.3"
    }
  },
  "nbformat": 4,
  "nbformat_minor": 2
}
