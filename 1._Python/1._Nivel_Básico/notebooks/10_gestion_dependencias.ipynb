{
  "cells": [
    {
      "cell_type": "markdown",
      "metadata": {},
      "source": [
        "# 1.  **Título del Tema**\n"
      ]
    },
    {
      "cell_type": "markdown",
      "metadata": {},
      "source": [
        "**Gestión de Dependencias en Python: Usando `pip` y `requirements.txt`**"
      ]
    },
    {
      "cell_type": "markdown",
      "metadata": {},
      "source": [
        "# 2.  **Explicación Conceptual Detallada**\n"
      ]
    },
    {
      "cell_type": "markdown",
      "metadata": {},
      "source": [
        "**¿Qué es la Gestión de Dependencias?**\n",
        "\n",
        "Es el proceso de identificar, instalar y administrar estas bibliotecas externas que tu proyecto necesita para funcionar correctamente. Tu proyecto \"depende\" de estas bibliotecas."
      ]
    },
    {
      "cell_type": "markdown",
      "metadata": {},
      "source": [
        "**`pip`: El Instalador de Paquetes de Python**\n",
        "\n",
        "`pip` es la herramienta estándar para instalar y gestionar paquetes de Python. Piensa en `pip` como tu asistente personal que va a la \"tienda de LEGO\" (llamada **PyPI - Python Package Index**, el repositorio oficial de software de Python) y te trae los kits que necesitas."
      ]
    },
    {
      "cell_type": "markdown",
      "metadata": {},
      "source": [
        "**`requirements.txt`: La Lista de la Compra de tu Proyecto**\n",
        "\n",
        "Un archivo `requirements.txt` es una simple lista de texto que enumera todos los paquetes externos de los que depende tu proyecto, y opcionalmente, sus versiones específicas. Es como la lista de ingredientes de una receta: cualquiera que tenga esa lista puede conseguir exactamente los mismos ingredientes y (con suerte) obtener el mismo resultado."
      ]
    },
    {
      "cell_type": "markdown",
      "metadata": {},
      "source": [
        "**Importancia en Python:**\n",
        "\n",
        "*   **Replicabilidad:** Permite que tú u otros desarrolladores configuren fácilmente el mismo entorno de desarrollo en diferentes máquinas o en diferentes momentos. Si le pasas tu código a un compañero, él puede usar `requirements.txt` para instalar todo lo necesario.\n",
        "*   **Colaboración:** Facilita el trabajo en equipo. Todos los miembros del equipo trabajan con las mismas versiones de las dependencias, evitando problemas de \"en mi máquina funciona\".\n",
        "*   **Despliegue:** Es crucial para desplegar aplicaciones en servidores. El servidor usará `requirements.txt` para instalar las dependencias correctas.\n",
        "*   **Mantenimiento:** Ayuda a rastrear qué bibliotecas está usando tu proyecto y facilita las actualizaciones."
      ]
    },
    {
      "cell_type": "markdown",
      "metadata": {},
      "source": [
        "**Conceptos Clave Asociados:**\n",
        "\n",
        "*   **Paquete (Package):** Una colección de módulos Python. Puede ser una biblioteca grande (como Django) o una utilidad pequeña.\n",
        "*   **Biblioteca (Library):** Similar a un paquete, a menudo se usa como sinónimo. Es código reutilizable que proporciona ciertas funcionalidades.\n",
        "*   **Módulo (Module):** Un archivo `.py` que contiene definiciones y declaraciones de Python.\n",
        "*   **PyPI (Python Package Index):** El repositorio oficial de software de terceros para Python. `pip` busca paquetes aquí por defecto.\n",
        "*   **Entorno Virtual (Virtual Environment):** ¡MUY IMPORTANTE! Aunque no es el foco principal hoy, es una **buena práctica esencial** usar entornos virtuales. Un entorno virtual es un directorio aislado que contiene una instalación de Python específica y los paquetes necesarios para un proyecto en particular. Esto evita conflictos entre las dependencias de diferentes proyectos. Herramientas como `venv` (integrada en Python) o `conda` se usan para esto. *Siempre activa un entorno virtual antes de instalar paquetes para un proyecto.*"
      ]
    },
    {
      "cell_type": "markdown",
      "metadata": {},
      "source": [
        "**Errores Comunes a Tener en Cuenta:**\n",
        "\n",
        "*   **Conflictos de versiones:** Un paquete A necesita la versión 1.0 de X, y otro paquete B necesita la versión 2.0 de X. `pip` intenta resolver esto, pero a veces puede ser complicado. Especificar versiones en `requirements.txt` puede ayudar.\n",
        "*   **Olvidar actualizar `requirements.txt`:** Instalas un nuevo paquete o actualizas uno, pero olvidas regenerar tu `requirements.txt`.\n",
        "*   **`pip` no encontrado:** Si `pip` no está en el PATH de tu sistema, la terminal no lo reconocerá. Asegúrate de que Python (y `pip`) estén correctamente instalados y configurados en tu PATH.\n",
        "*   **Instalar paquetes globalmente:** Sin un entorno virtual, los paquetes se instalan globalmente, lo que puede llevar a un desorden y conflictos entre proyectos. ¡Usa entornos virtuales!"
      ]
    },
    {
      "cell_type": "markdown",
      "metadata": {},
      "source": [
        "**Ventajas:**\n",
        "\n",
        "*   Acceso a una vasta cantidad de funcionalidades pre-construidas.\n",
        "*   Acelera el desarrollo (no tienes que reinventar la rueda).\n",
        "*   Mejora la calidad del código al usar bibliotecas probadas y mantenidas por la comunidad.\n",
        "*   Facilita la colaboración y la reproducibilidad."
      ]
    },
    {
      "cell_type": "markdown",
      "metadata": {},
      "source": [
        "**Buenas Prácticas Relacionadas:**\n",
        "\n",
        "1.  **SIEMPRE usa entornos virtuales** para tus proyectos.\n",
        "2.  Mantén tu archivo `requirements.txt` actualizado. Genera o actualízalo cada vez que añadas, elimines o actualices una dependencia.\n",
        "3.  Fija las versiones de tus dependencias (`nombre_paquete==1.2.3`) en `requirements.txt` para mayor estabilidad, especialmente para producción. Para desarrollo, a veces puedes ser más flexible (`nombre_paquete>=1.2.0`).\n",
        "4.  Revisa las licencias de los paquetes que usas, especialmente para proyectos comerciales.\n",
        "5.  Actualiza tus dependencias regularmente para obtener correcciones de errores y parches de seguridad, pero hazlo con cuidado y prueba tu aplicación después."
      ]
    },
    {
      "cell_type": "markdown",
      "metadata": {},
      "source": [
        "# 3.  **Sintaxis y Ejemplos Básicos**\n"
      ]
    },
    {
      "cell_type": "markdown",
      "metadata": {},
      "source": [
        "*   **Instalar un paquete:**\n",
        "    ```bash\n",
        "    !pip install nombre_del_paquete\n",
        "    ```\n",
        "    Ejemplo: `!pip install requests`\n",
        "\n",
        "*   **Instalar una versión específica de un paquete:**\n",
        "    ```bash\n",
        "    !pip install nombre_del_paquete==version_especifica\n",
        "    ``  **Mostrar información sobre un paquete instalado:**\n",
        "    ```bash\n",
        "    !pip show nombre_del_paquete\n",
        "    ```\n",
        "    Ejemplo: `!pip show requests`\n",
        "\n",
        "*   **Congelar (\"freeze\") las dependencias actuales a un archivo `requirements.txt`:**\n",
        "    ```bash\n",
        "    !pip freeze > requirements.txt\n",
        "    ```\n",
        "    Este comando toma todos los paquetes instalados en el entorno actual y los guarda en el archivo `requirements.txt` con sus versiones exactas.\n",
        "\n",
        "*   **Instalar paquetes desde un archivo `requirements.txt`:**\n",
        "    ```bash\n",
        "    !pip install -r requirements.txt\n",
        "    ```\n",
        "    Esto es súper útil cuando clonas un proyecto o configuras un nuevo entorno. `pip` leerá el archivo e instalará todos los paquetes listados.`\n",
        "    Ejemplo: `!pip install requests==2.25.0`\n",
        "\n",
        "*   **Instalar un paquete con un requisito de versión mínima:**\n",
        "    ```bash\n",
        "    !pip install \"nombre_del_paquete>=version_minima\"\n",
        "    ```\n",
        "    Ejemplo: `!pip install \"requests>=2.20\"`\n",
        "\n",
        "*   **Actualizar un paquete a la última versión:**\n",
        "    ```bash\n",
        "    !pip install --upgrade nombre_del_paquete\n",
        "    ```\n",
        "    Ejemplo: `!pip install --upgrade requests`\n",
        "\n",
        "*   **Desinstalar un paquete:**\n",
        "    ```bash\n",
        "    !pip uninstall nombre_del_paquete\n",
        "    ```\n",
        "    (Te pedirá confirmación `y/n`)\n",
        "    Ejemplo: `!pip uninstall requests`\n",
        "    Para evitar la confirmación: `!pip uninstall -y nombre_del_paquete`\n",
        "\n",
        "*   **Listar paquetes instalados:**\n",
        "    ```bash\n",
        "    !pip list\n",
        "    ```\n",
        "    Esto mostrará todos los paquetes en tu entorno actual y sus versiones."
      ]
    },
    {
      "cell_type": "markdown",
      "metadata": {},
      "source": [
        "# 4.  **Documentación y Recursos Clave**\n"
      ]
    },
    {
      "cell_type": "markdown",
      "metadata": {},
      "source": [
        "*   **Documentación oficial de `pip`:** [pip documentation v24.0](https://pip.pypa.io/en/stable/)\n",
        "*   **Python Packaging User Guide (PyPA) - Instalar Paquetes:** [Installing Packages - Python Packaging User Guide](https://packaging.python.org/en/latest/tutorials/installing-packages/)\n",
        "*   **PyPI - The Python Package Index:** [PyPI.org](https://pypi.org/) (Aquí puedes buscar paquetes)"
      ]
    },
    {
      "cell_type": "markdown",
      "metadata": {},
      "source": [
        "# 5.  **Ejemplos de Código Prácticos**\n"
      ]
    },
    {
      "cell_type": "markdown",
      "metadata": {},
      "source": [
        "### Ejemplo 1: Instalar y usar un paquete simple (`requests`)\n",
        "\n",
        "El paquete `requests` se utiliza para hacer peticiones HTTP (por ejemplo, obtener el contenido de una página web).\n"
      ]
    },
    {
      "cell_type": "code",
      "execution_count": 3,
      "metadata": {},
      "outputs": [
        {
          "name": "stdout",
          "output_type": "stream",
          "text": [
            "Collecting requests\n",
            "  Using cached requests-2.32.3-py3-none-any.whl.metadata (4.6 kB)\n",
            "Collecting charset-normalizer<4,>=2 (from requests)\n",
            "  Using cached charset_normalizer-3.4.2-cp313-cp313-win_amd64.whl.metadata (36 kB)\n",
            "Collecting idna<4,>=2.5 (from requests)\n",
            "  Using cached idna-3.10-py3-none-any.whl.metadata (10 kB)\n",
            "Collecting urllib3<3,>=1.21.1 (from requests)\n",
            "  Using cached urllib3-2.4.0-py3-none-any.whl.metadata (6.5 kB)\n",
            "Collecting certifi>=2017.4.17 (from requests)\n",
            "  Using cached certifi-2025.4.26-py3-none-any.whl.metadata (2.5 kB)\n",
            "Using cached requests-2.32.3-py3-none-any.whl (64 kB)\n",
            "Using cached charset_normalizer-3.4.2-cp313-cp313-win_amd64.whl (105 kB)\n",
            "Using cached idna-3.10-py3-none-any.whl (70 kB)\n",
            "Using cached urllib3-2.4.0-py3-none-any.whl (128 kB)\n",
            "Using cached certifi-2025.4.26-py3-none-any.whl (159 kB)\n",
            "Installing collected packages: urllib3, idna, charset-normalizer, certifi, requests\n",
            "\n",
            "   ---------------------------------------- 0/5 [urllib3]\n",
            "   ---------------------------------------- 0/5 [urllib3]\n",
            "   ---------------------------------------- 0/5 [urllib3]\n",
            "   -------- ------------------------------- 1/5 [idna]\n",
            "   ---------------- ----------------------- 2/5 [charset-normalizer]\n",
            "   ---------------- ----------------------- 2/5 [charset-normalizer]\n",
            "   ------------------------ --------------- 3/5 [certifi]\n",
            "   -------------------------------- ------- 4/5 [requests]\n",
            "   -------------------------------- ------- 4/5 [requests]\n",
            "   -------------------------------- ------- 4/5 [requests]\n",
            "   ---------------------------------------- 5/5 [requests]\n",
            "\n",
            "Successfully installed certifi-2025.4.26 charset-normalizer-3.4.2 idna-3.10 requests-2.32.3 urllib3-2.4.0\n"
          ]
        }
      ],
      "source": [
        "# Celda 1: Instalar el paquete requests\n",
        "# Si ya lo tienes instalado, pip lo indicará.\n",
        "!pip install requests"
      ]
    },
    {
      "cell_type": "code",
      "execution_count": 4,
      "metadata": {},
      "outputs": [
        {
          "name": "stdout",
          "output_type": "stream",
          "text": [
            "Petición exitosa:\n",
            "Título de la tarea: delectus aut autem\n",
            "Completada: False\n"
          ]
        }
      ],
      "source": [
        "# Celda 2: Usar el paquete requests\n",
        "import requests\n",
        "\n",
        "try:\n",
        "    # Hacemos una petición GET a una API de prueba\n",
        "    response = requests.get('https://jsonplaceholder.typicode.com/todos/1')\n",
        "    \n",
        "    # Verificamos si la petición fue exitosa (código de estado 200)\n",
        "    if response.status_code == 200:\n",
        "        data = response.json()  # Convertimos la respuesta JSON a un diccionario Python\n",
        "        print(\"Petición exitosa:\")\n",
        "        print(f\"Título de la tarea: {data['title']}\")\n",
        "        print(f\"Completada: {data['completed']}\")\n",
        "    else:\n",
        "        print(f\"Error en la petición: Código {response.status_code}\")\n",
        "\n",
        "except requests.exceptions.RequestException as e:\n",
        "    print(f\"Ocurrió un error de red: {e}\")\n",
        "\n",
        "# Salida esperada (o similar):\n",
        "# Petición exitosa:\n",
        "# Título de la tarea: delectus aut autem\n",
        "# Completada: False"
      ]
    },
    {
      "cell_type": "markdown",
      "metadata": {},
      "source": [
        "### Ejemplo 2: Crear y usar `requirements.txt`\n",
        "\n",
        "Vamos a instalar un par de paquetes, generar `requirements.txt`, y luego simular la reinstalación."
      ]
    },
    {
      "cell_type": "code",
      "execution_count": 5,
      "metadata": {},
      "outputs": [
        {
          "name": "stdout",
          "output_type": "stream",
          "text": [
            "Collecting matplotlib\n",
            "  Downloading matplotlib-3.10.3-cp313-cp313-win_amd64.whl.metadata (11 kB)\n",
            "Collecting cowsay\n",
            "  Downloading cowsay-6.1-py3-none-any.whl.metadata (5.6 kB)\n",
            "Collecting contourpy>=1.0.1 (from matplotlib)\n",
            "  Downloading contourpy-1.3.2-cp313-cp313-win_amd64.whl.metadata (5.5 kB)\n",
            "Collecting cycler>=0.10 (from matplotlib)\n",
            "  Downloading cycler-0.12.1-py3-none-any.whl.metadata (3.8 kB)\n",
            "Collecting fonttools>=4.22.0 (from matplotlib)\n",
            "  Downloading fonttools-4.58.1-cp313-cp313-win_amd64.whl.metadata (108 kB)\n",
            "Collecting kiwisolver>=1.3.1 (from matplotlib)\n",
            "  Downloading kiwisolver-1.4.8-cp313-cp313-win_amd64.whl.metadata (6.3 kB)\n",
            "Collecting numpy>=1.23 (from matplotlib)\n",
            "  Using cached numpy-2.2.6-cp313-cp313-win_amd64.whl.metadata (60 kB)\n",
            "Requirement already satisfied: packaging>=20.0 in c:\\users\\nicolás\\documents\\python\\.venv\\lib\\site-packages (from matplotlib) (25.0)\n",
            "Collecting pillow>=8 (from matplotlib)\n",
            "  Downloading pillow-11.2.1-cp313-cp313-win_amd64.whl.metadata (9.1 kB)\n",
            "Collecting pyparsing>=2.3.1 (from matplotlib)\n",
            "  Downloading pyparsing-3.2.3-py3-none-any.whl.metadata (5.0 kB)\n",
            "Requirement already satisfied: python-dateutil>=2.7 in c:\\users\\nicolás\\documents\\python\\.venv\\lib\\site-packages (from matplotlib) (2.9.0.post0)\n",
            "Requirement already satisfied: six>=1.5 in c:\\users\\nicolás\\documents\\python\\.venv\\lib\\site-packages (from python-dateutil>=2.7->matplotlib) (1.17.0)\n",
            "Downloading matplotlib-3.10.3-cp313-cp313-win_amd64.whl (8.1 MB)\n",
            "   ---------------------------------------- 0.0/8.1 MB ? eta -:--:--\n",
            "   -------------------------------------- - 7.9/8.1 MB 62.7 MB/s eta 0:00:01\n",
            "   ---------------------------------------- 8.1/8.1 MB 28.1 MB/s eta 0:00:00\n",
            "Downloading cowsay-6.1-py3-none-any.whl (25 kB)\n",
            "Downloading contourpy-1.3.2-cp313-cp313-win_amd64.whl (223 kB)\n",
            "Downloading cycler-0.12.1-py3-none-any.whl (8.3 kB)\n",
            "Downloading fonttools-4.58.1-cp313-cp313-win_amd64.whl (2.2 MB)\n",
            "   ---------------------------------------- 0.0/2.2 MB ? eta -:--:--\n",
            "   ---------------------------------------- 2.2/2.2 MB 21.6 MB/s eta 0:00:00\n",
            "Downloading kiwisolver-1.4.8-cp313-cp313-win_amd64.whl (71 kB)\n",
            "Using cached numpy-2.2.6-cp313-cp313-win_amd64.whl (12.6 MB)\n",
            "Downloading pillow-11.2.1-cp313-cp313-win_amd64.whl (2.7 MB)\n",
            "   ---------------------------------------- 0.0/2.7 MB ? eta -:--:--\n",
            "   ---------------------------------------  2.6/2.7 MB 118.8 MB/s eta 0:00:01\n",
            "   ---------------------------------------  2.6/2.7 MB 118.8 MB/s eta 0:00:01\n",
            "   ---------------------------------------- 2.7/2.7 MB 5.0 MB/s eta 0:00:00\n",
            "Downloading pyparsing-3.2.3-py3-none-any.whl (111 kB)\n",
            "Installing collected packages: pyparsing, pillow, numpy, kiwisolver, fonttools, cycler, cowsay, contourpy, matplotlib\n",
            "\n",
            "   ---------------------------------------- 0/9 [pyparsing]\n",
            "   ---------------------------------------- 0/9 [pyparsing]\n",
            "   ---------------------------------------- 0/9 [pyparsing]\n",
            "   ---- ----------------------------------- 1/9 [pillow]\n",
            "   ---- ----------------------------------- 1/9 [pillow]\n",
            "   ---- ----------------------------------- 1/9 [pillow]\n",
            "   ---- ----------------------------------- 1/9 [pillow]\n",
            "   ---- ----------------------------------- 1/9 [pillow]\n",
            "   ---- ----------------------------------- 1/9 [pillow]\n",
            "   ---- ----------------------------------- 1/9 [pillow]\n",
            "   ---- ----------------------------------- 1/9 [pillow]\n",
            "   ---- ----------------------------------- 1/9 [pillow]\n",
            "   ---- ----------------------------------- 1/9 [pillow]\n",
            "   -------- ------------------------------- 2/9 [numpy]\n",
            "   -------- ------------------------------- 2/9 [numpy]\n",
            "   -------- ------------------------------- 2/9 [numpy]\n",
            "   -------- ------------------------------- 2/9 [numpy]\n",
            "   -------- ------------------------------- 2/9 [numpy]\n",
            "   -------- ------------------------------- 2/9 [numpy]\n",
            "   -------- ------------------------------- 2/9 [numpy]\n",
            "   -------- ------------------------------- 2/9 [numpy]\n",
            "   -------- ------------------------------- 2/9 [numpy]\n",
            "   -------- ------------------------------- 2/9 [numpy]\n",
            "   -------- ------------------------------- 2/9 [numpy]\n",
            "   -------- ------------------------------- 2/9 [numpy]\n",
            "   -------- ------------------------------- 2/9 [numpy]\n",
            "   -------- ------------------------------- 2/9 [numpy]\n",
            "   -------- ------------------------------- 2/9 [numpy]\n",
            "   -------- ------------------------------- 2/9 [numpy]\n",
            "   -------- ------------------------------- 2/9 [numpy]\n",
            "   -------- ------------------------------- 2/9 [numpy]\n",
            "   -------- ------------------------------- 2/9 [numpy]\n",
            "   -------- ------------------------------- 2/9 [numpy]\n",
            "   -------- ------------------------------- 2/9 [numpy]\n",
            "   -------- ------------------------------- 2/9 [numpy]\n",
            "   -------- ------------------------------- 2/9 [numpy]\n",
            "   -------- ------------------------------- 2/9 [numpy]\n",
            "   -------- ------------------------------- 2/9 [numpy]\n",
            "   -------- ------------------------------- 2/9 [numpy]\n",
            "   -------- ------------------------------- 2/9 [numpy]\n",
            "   -------- ------------------------------- 2/9 [numpy]\n",
            "   -------- ------------------------------- 2/9 [numpy]\n",
            "   -------- ------------------------------- 2/9 [numpy]\n",
            "   -------- ------------------------------- 2/9 [numpy]\n",
            "   -------- ------------------------------- 2/9 [numpy]\n",
            "   -------- ------------------------------- 2/9 [numpy]\n",
            "   -------- ------------------------------- 2/9 [numpy]\n",
            "   -------- ------------------------------- 2/9 [numpy]\n",
            "   -------- ------------------------------- 2/9 [numpy]\n",
            "   -------- ------------------------------- 2/9 [numpy]\n",
            "   -------- ------------------------------- 2/9 [numpy]\n",
            "   -------- ------------------------------- 2/9 [numpy]\n",
            "   -------- ------------------------------- 2/9 [numpy]\n",
            "   -------- ------------------------------- 2/9 [numpy]\n",
            "   -------- ------------------------------- 2/9 [numpy]\n",
            "   ------------- -------------------------- 3/9 [kiwisolver]\n",
            "   ----------------- ---------------------- 4/9 [fonttools]\n",
            "   ----------------- ---------------------- 4/9 [fonttools]\n",
            "   ----------------- ---------------------- 4/9 [fonttools]\n",
            "   ----------------- ---------------------- 4/9 [fonttools]\n",
            "   ----------------- ---------------------- 4/9 [fonttools]\n",
            "   ----------------- ---------------------- 4/9 [fonttools]\n",
            "   ----------------- ---------------------- 4/9 [fonttools]\n",
            "   ----------------- ---------------------- 4/9 [fonttools]\n",
            "   ----------------- ---------------------- 4/9 [fonttools]\n",
            "   ----------------- ---------------------- 4/9 [fonttools]\n",
            "   ----------------- ---------------------- 4/9 [fonttools]\n",
            "   ----------------- ---------------------- 4/9 [fonttools]\n",
            "   ----------------- ---------------------- 4/9 [fonttools]\n",
            "   ----------------- ---------------------- 4/9 [fonttools]\n",
            "   ----------------- ---------------------- 4/9 [fonttools]\n",
            "   ----------------- ---------------------- 4/9 [fonttools]\n",
            "   ----------------- ---------------------- 4/9 [fonttools]\n",
            "   ----------------- ---------------------- 4/9 [fonttools]\n",
            "   ----------------- ---------------------- 4/9 [fonttools]\n",
            "   ----------------- ---------------------- 4/9 [fonttools]\n",
            "   ----------------- ---------------------- 4/9 [fonttools]\n",
            "   ----------------- ---------------------- 4/9 [fonttools]\n",
            "   ----------------- ---------------------- 4/9 [fonttools]\n",
            "   ----------------- ---------------------- 4/9 [fonttools]\n",
            "   ----------------- ---------------------- 4/9 [fonttools]\n",
            "   ----------------- ---------------------- 4/9 [fonttools]\n",
            "   ----------------- ---------------------- 4/9 [fonttools]\n",
            "   ----------------- ---------------------- 4/9 [fonttools]\n",
            "   ----------------- ---------------------- 4/9 [fonttools]\n",
            "   ----------------- ---------------------- 4/9 [fonttools]\n",
            "   ----------------- ---------------------- 4/9 [fonttools]\n",
            "   ----------------- ---------------------- 4/9 [fonttools]\n",
            "   ----------------- ---------------------- 4/9 [fonttools]\n",
            "   ----------------- ---------------------- 4/9 [fonttools]\n",
            "   ---------------------- ----------------- 5/9 [cycler]\n",
            "   -------------------------- ------------- 6/9 [cowsay]\n",
            "   -------------------------- ------------- 6/9 [cowsay]\n",
            "   ------------------------------- -------- 7/9 [contourpy]\n",
            "   ------------------------------- -------- 7/9 [contourpy]\n",
            "   ------------------------------- -------- 7/9 [contourpy]\n",
            "   ----------------------------------- ---- 8/9 [matplotlib]\n",
            "   ----------------------------------- ---- 8/9 [matplotlib]\n",
            "   ----------------------------------- ---- 8/9 [matplotlib]\n",
            "   ----------------------------------- ---- 8/9 [matplotlib]\n",
            "   ----------------------------------- ---- 8/9 [matplotlib]\n",
            "   ----------------------------------- ---- 8/9 [matplotlib]\n",
            "   ----------------------------------- ---- 8/9 [matplotlib]\n",
            "   ----------------------------------- ---- 8/9 [matplotlib]\n",
            "   ----------------------------------- ---- 8/9 [matplotlib]\n",
            "   ----------------------------------- ---- 8/9 [matplotlib]\n",
            "   ----------------------------------- ---- 8/9 [matplotlib]\n",
            "   ----------------------------------- ---- 8/9 [matplotlib]\n",
            "   ----------------------------------- ---- 8/9 [matplotlib]\n",
            "   ----------------------------------- ---- 8/9 [matplotlib]\n",
            "   ----------------------------------- ---- 8/9 [matplotlib]\n",
            "   ----------------------------------- ---- 8/9 [matplotlib]\n",
            "   ----------------------------------- ---- 8/9 [matplotlib]\n",
            "   ----------------------------------- ---- 8/9 [matplotlib]\n",
            "   ----------------------------------- ---- 8/9 [matplotlib]\n",
            "   ----------------------------------- ---- 8/9 [matplotlib]\n",
            "   ----------------------------------- ---- 8/9 [matplotlib]\n",
            "   ----------------------------------- ---- 8/9 [matplotlib]\n",
            "   ----------------------------------- ---- 8/9 [matplotlib]\n",
            "   ----------------------------------- ---- 8/9 [matplotlib]\n",
            "   ----------------------------------- ---- 8/9 [matplotlib]\n",
            "   ----------------------------------- ---- 8/9 [matplotlib]\n",
            "   ----------------------------------- ---- 8/9 [matplotlib]\n",
            "   ----------------------------------- ---- 8/9 [matplotlib]\n",
            "   ----------------------------------- ---- 8/9 [matplotlib]\n",
            "   ----------------------------------- ---- 8/9 [matplotlib]\n",
            "   ----------------------------------- ---- 8/9 [matplotlib]\n",
            "   ----------------------------------- ---- 8/9 [matplotlib]\n",
            "   ----------------------------------- ---- 8/9 [matplotlib]\n",
            "   ---------------------------------------- 9/9 [matplotlib]\n",
            "\n",
            "Successfully installed contourpy-1.3.2 cowsay-6.1 cycler-0.12.1 fonttools-4.58.1 kiwisolver-1.4.8 matplotlib-3.10.3 numpy-2.2.6 pillow-11.2.1 pyparsing-3.2.3\n"
          ]
        }
      ],
      "source": [
        "# Celda 1: Instalar dos paquetes (por ejemplo, 'matplotlib' para gráficos y 'cowsay' para diversión)\n",
        "# cowsay es un paquete simple que muestra un mensaje con una vaca ASCII.\n",
        "!pip install matplotlib cowsay"
      ]
    },
    {
      "cell_type": "code",
      "execution_count": 6,
      "metadata": {},
      "outputs": [
        {
          "name": "stdout",
          "output_type": "stream",
          "text": [
            "Archivo requirements.txt generado.\n"
          ]
        }
      ],
      "source": [
        "# Celda 2: Generar el archivo requirements.txt\n",
        "!pip freeze > requirements.txt\n",
        "print(\"Archivo requirements.txt generado.\")"
      ]
    },
    {
      "cell_type": "code",
      "execution_count": 8,
      "metadata": {},
      "outputs": [
        {
          "name": "stdout",
          "output_type": "stream",
          "text": [
            "asttokens==3.0.0\n",
            "certifi==2025.4.26\n",
            "charset-normalizer==3.4.2\n",
            "colorama==0.4.6\n",
            "comm==0.2.2\n",
            "contourpy==1.3.2\n",
            "cowsay==6.1\n",
            "cycler==0.12.1\n",
            "debugpy==1.8.14\n",
            "decorator==5.2.1\n",
            "executing==2.2.0\n",
            "fonttools==4.58.1\n",
            "idna==3.10\n",
            "ipykernel==6.29.5\n",
            "ipython==9.2.0\n",
            "ipython_pygments_lexers==1.1.1\n",
            "jedi==0.19.2\n",
            "jupyter_client==8.6.3\n",
            "jupyter_core==5.8.1\n",
            "kiwisolver==1.4.8\n",
            "matplotlib==3.10.3\n",
            "matplotlib-inline==0.1.7\n",
            "nest-asyncio==1.6.0\n",
            "numpy==2.2.6\n",
            "packaging==25.0\n",
            "parso==0.8.4\n",
            "pillow==11.2.1\n",
            "platformdirs==4.3.8\n",
            "prompt_toolkit==3.0.51\n",
            "psutil==7.0.0\n",
            "pure_eval==0.2.3\n",
            "Pygments==2.19.1\n",
            "pyparsing==3.2.3\n",
            "python-dateutil==2.9.0.post0\n",
            "pywin32==310\n",
            "pyzmq==26.4.0\n",
            "requests==2.32.3\n",
            "six==1.17.0\n",
            "stack-data==0.6.3\n",
            "tornado==6.5.1\n",
            "traitlets==5.14.3\n",
            "urllib3==2.4.0\n",
            "wcwidth==0.2.13\n",
            "\n"
          ]
        }
      ],
      "source": [
        "# Celda 3: Ver el contenido del requirements.txt (Linux/macOS)\n",
        "with open('requirements.txt', 'r') as f:\n",
        "    print(f.read())"
      ]
    },
    {
      "cell_type": "code",
      "execution_count": 9,
      "metadata": {},
      "outputs": [
        {
          "name": "stdout",
          "output_type": "stream",
          "text": [
            "Desinstalando 'cowsay'...\n",
            "Found existing installation: cowsay 6.1\n",
            "Uninstalling cowsay-6.1:\n",
            "  Successfully uninstalled cowsay-6.1\n"
          ]
        }
      ],
      "source": [
        "# Celda 4: Simular un nuevo entorno (desinstalamos un paquete y lo reinstalamos desde requirements.txt)\n",
        "print(\"Desinstalando 'cowsay'...\")\n",
        "!pip uninstall -y cowsay "
      ]
    },
    {
      "cell_type": "code",
      "execution_count": 10,
      "metadata": {},
      "outputs": [
        {
          "name": "stdout",
          "output_type": "stream",
          "text": [
            "'cowsay' no encontrado, ¡desinstalación exitosa!\n",
            "\n",
            "Reinstalando todo desde requirements.txt...\n",
            "Requirement already satisfied: asttokens==3.0.0 in c:\\users\\nicolás\\documents\\python\\.venv\\lib\\site-packages (from -r requirements.txt (line 1)) (3.0.0)\n",
            "Requirement already satisfied: certifi==2025.4.26 in c:\\users\\nicolás\\documents\\python\\.venv\\lib\\site-packages (from -r requirements.txt (line 2)) (2025.4.26)\n",
            "Requirement already satisfied: charset-normalizer==3.4.2 in c:\\users\\nicolás\\documents\\python\\.venv\\lib\\site-packages (from -r requirements.txt (line 3)) (3.4.2)\n",
            "Requirement already satisfied: colorama==0.4.6 in c:\\users\\nicolás\\documents\\python\\.venv\\lib\\site-packages (from -r requirements.txt (line 4)) (0.4.6)\n",
            "Requirement already satisfied: comm==0.2.2 in c:\\users\\nicolás\\documents\\python\\.venv\\lib\\site-packages (from -r requirements.txt (line 5)) (0.2.2)\n",
            "Requirement already satisfied: contourpy==1.3.2 in c:\\users\\nicolás\\documents\\python\\.venv\\lib\\site-packages (from -r requirements.txt (line 6)) (1.3.2)\n",
            "Collecting cowsay==6.1 (from -r requirements.txt (line 7))\n",
            "  Using cached cowsay-6.1-py3-none-any.whl.metadata (5.6 kB)\n",
            "Requirement already satisfied: cycler==0.12.1 in c:\\users\\nicolás\\documents\\python\\.venv\\lib\\site-packages (from -r requirements.txt (line 8)) (0.12.1)\n",
            "Requirement already satisfied: debugpy==1.8.14 in c:\\users\\nicolás\\documents\\python\\.venv\\lib\\site-packages (from -r requirements.txt (line 9)) (1.8.14)\n",
            "Requirement already satisfied: decorator==5.2.1 in c:\\users\\nicolás\\documents\\python\\.venv\\lib\\site-packages (from -r requirements.txt (line 10)) (5.2.1)\n",
            "Requirement already satisfied: executing==2.2.0 in c:\\users\\nicolás\\documents\\python\\.venv\\lib\\site-packages (from -r requirements.txt (line 11)) (2.2.0)\n",
            "Requirement already satisfied: fonttools==4.58.1 in c:\\users\\nicolás\\documents\\python\\.venv\\lib\\site-packages (from -r requirements.txt (line 12)) (4.58.1)\n",
            "Requirement already satisfied: idna==3.10 in c:\\users\\nicolás\\documents\\python\\.venv\\lib\\site-packages (from -r requirements.txt (line 13)) (3.10)\n",
            "Requirement already satisfied: ipykernel==6.29.5 in c:\\users\\nicolás\\documents\\python\\.venv\\lib\\site-packages (from -r requirements.txt (line 14)) (6.29.5)\n",
            "Requirement already satisfied: ipython==9.2.0 in c:\\users\\nicolás\\documents\\python\\.venv\\lib\\site-packages (from -r requirements.txt (line 15)) (9.2.0)\n",
            "Requirement already satisfied: ipython_pygments_lexers==1.1.1 in c:\\users\\nicolás\\documents\\python\\.venv\\lib\\site-packages (from -r requirements.txt (line 16)) (1.1.1)\n",
            "Requirement already satisfied: jedi==0.19.2 in c:\\users\\nicolás\\documents\\python\\.venv\\lib\\site-packages (from -r requirements.txt (line 17)) (0.19.2)\n",
            "Requirement already satisfied: jupyter_client==8.6.3 in c:\\users\\nicolás\\documents\\python\\.venv\\lib\\site-packages (from -r requirements.txt (line 18)) (8.6.3)\n",
            "Requirement already satisfied: jupyter_core==5.8.1 in c:\\users\\nicolás\\documents\\python\\.venv\\lib\\site-packages (from -r requirements.txt (line 19)) (5.8.1)\n",
            "Requirement already satisfied: kiwisolver==1.4.8 in c:\\users\\nicolás\\documents\\python\\.venv\\lib\\site-packages (from -r requirements.txt (line 20)) (1.4.8)\n",
            "Requirement already satisfied: matplotlib==3.10.3 in c:\\users\\nicolás\\documents\\python\\.venv\\lib\\site-packages (from -r requirements.txt (line 21)) (3.10.3)\n",
            "Requirement already satisfied: matplotlib-inline==0.1.7 in c:\\users\\nicolás\\documents\\python\\.venv\\lib\\site-packages (from -r requirements.txt (line 22)) (0.1.7)\n",
            "Requirement already satisfied: nest-asyncio==1.6.0 in c:\\users\\nicolás\\documents\\python\\.venv\\lib\\site-packages (from -r requirements.txt (line 23)) (1.6.0)\n",
            "Requirement already satisfied: numpy==2.2.6 in c:\\users\\nicolás\\documents\\python\\.venv\\lib\\site-packages (from -r requirements.txt (line 24)) (2.2.6)\n",
            "Requirement already satisfied: packaging==25.0 in c:\\users\\nicolás\\documents\\python\\.venv\\lib\\site-packages (from -r requirements.txt (line 25)) (25.0)\n",
            "Requirement already satisfied: parso==0.8.4 in c:\\users\\nicolás\\documents\\python\\.venv\\lib\\site-packages (from -r requirements.txt (line 26)) (0.8.4)\n",
            "Requirement already satisfied: pillow==11.2.1 in c:\\users\\nicolás\\documents\\python\\.venv\\lib\\site-packages (from -r requirements.txt (line 27)) (11.2.1)\n",
            "Requirement already satisfied: platformdirs==4.3.8 in c:\\users\\nicolás\\documents\\python\\.venv\\lib\\site-packages (from -r requirements.txt (line 28)) (4.3.8)\n",
            "Requirement already satisfied: prompt_toolkit==3.0.51 in c:\\users\\nicolás\\documents\\python\\.venv\\lib\\site-packages (from -r requirements.txt (line 29)) (3.0.51)\n",
            "Requirement already satisfied: psutil==7.0.0 in c:\\users\\nicolás\\documents\\python\\.venv\\lib\\site-packages (from -r requirements.txt (line 30)) (7.0.0)\n",
            "Requirement already satisfied: pure_eval==0.2.3 in c:\\users\\nicolás\\documents\\python\\.venv\\lib\\site-packages (from -r requirements.txt (line 31)) (0.2.3)\n",
            "Requirement already satisfied: Pygments==2.19.1 in c:\\users\\nicolás\\documents\\python\\.venv\\lib\\site-packages (from -r requirements.txt (line 32)) (2.19.1)\n",
            "Requirement already satisfied: pyparsing==3.2.3 in c:\\users\\nicolás\\documents\\python\\.venv\\lib\\site-packages (from -r requirements.txt (line 33)) (3.2.3)\n",
            "Requirement already satisfied: python-dateutil==2.9.0.post0 in c:\\users\\nicolás\\documents\\python\\.venv\\lib\\site-packages (from -r requirements.txt (line 34)) (2.9.0.post0)\n",
            "Requirement already satisfied: pywin32==310 in c:\\users\\nicolás\\documents\\python\\.venv\\lib\\site-packages (from -r requirements.txt (line 35)) (310)\n",
            "Requirement already satisfied: pyzmq==26.4.0 in c:\\users\\nicolás\\documents\\python\\.venv\\lib\\site-packages (from -r requirements.txt (line 36)) (26.4.0)\n",
            "Requirement already satisfied: requests==2.32.3 in c:\\users\\nicolás\\documents\\python\\.venv\\lib\\site-packages (from -r requirements.txt (line 37)) (2.32.3)\n",
            "Requirement already satisfied: six==1.17.0 in c:\\users\\nicolás\\documents\\python\\.venv\\lib\\site-packages (from -r requirements.txt (line 38)) (1.17.0)\n",
            "Requirement already satisfied: stack-data==0.6.3 in c:\\users\\nicolás\\documents\\python\\.venv\\lib\\site-packages (from -r requirements.txt (line 39)) (0.6.3)\n",
            "Requirement already satisfied: tornado==6.5.1 in c:\\users\\nicolás\\documents\\python\\.venv\\lib\\site-packages (from -r requirements.txt (line 40)) (6.5.1)\n",
            "Requirement already satisfied: traitlets==5.14.3 in c:\\users\\nicolás\\documents\\python\\.venv\\lib\\site-packages (from -r requirements.txt (line 41)) (5.14.3)\n",
            "Requirement already satisfied: urllib3==2.4.0 in c:\\users\\nicolás\\documents\\python\\.venv\\lib\\site-packages (from -r requirements.txt (line 42)) (2.4.0)\n",
            "Requirement already satisfied: wcwidth==0.2.13 in c:\\users\\nicolás\\documents\\python\\.venv\\lib\\site-packages (from -r requirements.txt (line 43)) (0.2.13)\n",
            "Using cached cowsay-6.1-py3-none-any.whl (25 kB)\n",
            "Installing collected packages: cowsay\n",
            "Successfully installed cowsay-6.1\n"
          ]
        }
      ],
      "source": [
        "try:\n",
        "    import cowsay\n",
        "    print(\"cowsay todavía está importable, algo no fue bien con la desinstalación manual.\")\n",
        "except ImportError:\n",
        "    print(\"'cowsay' no encontrado, ¡desinstalación exitosa!\")\n",
        "\n",
        "print(\"\\nReinstalando todo desde requirements.txt...\")\n",
        "!pip install -r requirements.txt"
      ]
    },
    {
      "cell_type": "code",
      "execution_count": 11,
      "metadata": {},
      "outputs": [
        {
          "name": "stdout",
          "output_type": "stream",
          "text": [
            "  _____________________________________\n",
            "| ¡Pip y requirements.txt son geniales! |\n",
            "  =====================================\n",
            "                                     \\\n",
            "                                      \\\n",
            "                                        ^__^\n",
            "                                        (oo)\\_______\n",
            "                                        (__)\\       )\\/\\\n",
            "                                            ||----w |\n",
            "                                            ||     ||\n"
          ]
        }
      ],
      "source": [
        "import cowsay\n",
        "cowsay.cow(\"¡Pip y requirements.txt son geniales!\")"
      ]
    },
    {
      "cell_type": "markdown",
      "metadata": {},
      "source": [
        "### Ejemplo 3: Especificar versiones y actualizar\n"
      ]
    },
    {
      "cell_type": "code",
      "execution_count": 13,
      "metadata": {},
      "outputs": [
        {
          "name": "stderr",
          "output_type": "stream",
          "text": [
            "WARNING: Skipping cowsay as it is not installed.\n"
          ]
        },
        {
          "name": "stdout",
          "output_type": "stream",
          "text": [
            "Collecting cowsay==5.0\n",
            "  Downloading cowsay-5.0.tar.gz (25 kB)\n",
            "  Installing build dependencies: started\n",
            "  Installing build dependencies: finished with status 'done'\n",
            "  Getting requirements to build wheel: started\n",
            "  Getting requirements to build wheel: finished with status 'done'\n",
            "  Preparing metadata (pyproject.toml): started\n",
            "  Preparing metadata (pyproject.toml): finished with status 'done'\n",
            "Building wheels for collected packages: cowsay\n",
            "  Building wheel for cowsay (pyproject.toml): started\n",
            "  Building wheel for cowsay (pyproject.toml): finished with status 'done'\n",
            "  Created wheel for cowsay: filename=cowsay-5.0-py2.py3-none-any.whl size=25812 sha256=1974275fb1624b57078ff6af4967abac1d1b2c80778d87821f46352af5dfa29a\n",
            "  Stored in directory: c:\\users\\nicolás\\appdata\\local\\pip\\cache\\wheels\\8a\\66\\eb\\84760b61cafe094e553f264866a12f0529e321344adc59ac55\n",
            "Successfully built cowsay\n",
            "Installing collected packages: cowsay\n",
            "Successfully installed cowsay-5.0\n"
          ]
        }
      ],
      "source": [
        "# Celda 1: Instalar una versión específica de un paquete (usaremos 'cowsay' de nuevo por simplicidad)\n",
        "# Primero, desinstalamos si existe para asegurar una instalación limpia de la versión específica.\n",
        "!pip uninstall -y cowsay\n",
        "!pip install \"cowsay==5.0\" \n",
        "# Instalamos una versión anterior (la actual al escribir esto es >5.0)"
      ]
    },
    {
      "cell_type": "code",
      "execution_count": null,
      "metadata": {},
      "outputs": [
        {
          "name": "stdout",
          "output_type": "stream",
          "text": [
            "Name: cowsay\n",
            "Version: 5.0\n",
            "Summary: The famous cowsay for GNU/Linux is now available for python\n",
            "Home-page: https://github.com/VaasuDevanS/cowsay-python\n",
            "Author: Vaasudevan Srinivasan\n",
            "Author-email: vaasuceg.96@gmail.com\n",
            "License: GNU-GPL\n",
            "Location: c:\\Users\\Nicolás\\Documents\\Python\\.venv\\Lib\\site-packages\n",
            "Requires: \n",
            "Required-by: \n",
            "\n",
            "Versión de cowsay importada: 6.1\n"
          ]
        }
      ],
      "source": [
        "# Celda 2: Verificar la versión instalada\n",
        "!pip show cowsay\n",
        "\n",
        "# También puedes verificarlo en Python (si el paquete lo permite)\n",
        "import cowsay\n",
        "# Algunos paquetes exponen __version__, otros no. cowsay sí.\n",
        "print(f\"\\nVersión de cowsay importada: {cowsay.__version__}\")"
      ]
    },
    {
      "cell_type": "code",
      "execution_count": 15,
      "metadata": {},
      "outputs": [
        {
          "name": "stdout",
          "output_type": "stream",
          "text": [
            "Requirement already satisfied: cowsay in c:\\users\\nicolás\\documents\\python\\.venv\\lib\\site-packages (5.0)\n",
            "Collecting cowsay\n",
            "  Using cached cowsay-6.1-py3-none-any.whl.metadata (5.6 kB)\n",
            "Using cached cowsay-6.1-py3-none-any.whl (25 kB)\n",
            "Installing collected packages: cowsay\n",
            "  Attempting uninstall: cowsay\n",
            "    Found existing installation: cowsay 5.0\n",
            "    Uninstalling cowsay-5.0:\n",
            "      Successfully uninstalled cowsay-5.0\n",
            "Successfully installed cowsay-6.1\n"
          ]
        }
      ],
      "source": [
        "# Celda 3: Actualizar el paquete a la última versión\n",
        "!pip install --upgrade cowsay"
      ]
    },
    {
      "cell_type": "code",
      "execution_count": null,
      "metadata": {},
      "outputs": [
        {
          "name": "stdout",
          "output_type": "stream",
          "text": [
            "Name: cowsay\n",
            "Version: 6.1\n",
            "Summary: The famous cowsay for GNU/Linux is now available for python\n",
            "Home-page: https://github.com/VaasuDevanS/cowsay-python\n",
            "Author: Vaasudevan Srinivasan\n",
            "Author-email: vaasuceg.96@gmail.com\n",
            "License: GNU-GPL\n",
            "Location: c:\\Users\\Nicolás\\Documents\\Python\\.venv\\Lib\\site-packages\n",
            "Requires: \n",
            "Required-by: \n",
            "\n",
            "Versión de cowsay actualizada e importada: 6.1\n"
          ]
        }
      ],
      "source": [
        "!pip show cowsay\n",
        "import importlib # Necesario para recargar el módulo si ya estaba importado\n",
        "importlib.reload(cowsay) # Recargamos el módulo para obtener la nueva versión\n",
        "print(f\"\\nVersión de cowsay actualizada e importada: {cowsay.__version__}\")"
      ]
    },
    {
      "cell_type": "code",
      "execution_count": 17,
      "metadata": {},
      "outputs": [
        {
          "name": "stdout",
          "output_type": "stream",
          "text": [
            "\n",
            "requirements.txt actualizado con la nueva versión de cowsay.\n"
          ]
        }
      ],
      "source": [
        "# Celda 5: No olvides actualizar tu requirements.txt si quieres reflejar esta actualización\n",
        "!pip freeze > requirements.txt\n",
        "print(\"\\nrequirements.txt actualizado con la nueva versión de cowsay.\")\n",
        "# Puedes verificar el contenido de requirements.txt como en el Ejemplo 2."
      ]
    },
    {
      "cell_type": "markdown",
      "metadata": {},
      "source": [
        "# 6.  **Ejercicio Práctico**\n"
      ]
    },
    {
      "cell_type": "markdown",
      "metadata": {},
      "source": [
        "1.  **Explora PyPI:** Ve a [PyPI.org](https://pypi.org/) y busca un paquete que te parezca interesante o útil para algo que te gustaría hacer.\n",
        "    *   Algunas ideas: `arrow` (para trabajar con fechas y horas de forma más amigable), `Pillow` (para manipulación de imágenes), `pyjokes` (para chistes de programadores), `emoji` (para usar emojis fácilmente).\n",
        "2.  **Instala el paquete:** En una celda de tu Jupyter Notebook, instala el paquete que elegiste usando `!pip install`.\n",
        "3.  **Pruébalo:** En otra celda, importa el paquete y escribe un pequeño script que use alguna de sus funcionalidades básicas. Consulta la documentación del paquete (generalmente en PyPI o en un enlace desde allí) para ver cómo usarlo.\n",
        "4.  **Genera `requirements.txt`:** Crea (o actualiza) un archivo `requirements.txt` para tu \"mini-proyecto\" que incluya el nuevo paquete y cualquier otro que hayas usado (como `requests` o `matplotlib` de los ejemplos, si los mantuviste).\n",
        "5.  **(Opcional Avanzado):** Si te sientes con confianza, intenta lo siguiente:\n",
        "    *   Crea un nuevo entorno virtual (fuera de este ejercicio inmediato, necesitarás investigar `venv`).\n",
        "    *   Activa ese entorno.\n",
        "    *   Copia tu `requirements.txt` a una carpeta para este nuevo entorno.\n",
        "    *   Instala las dependencias usando `!pip install -r requirements.txt` en ese nuevo entorno.\n",
        "    *   Verifica que tu script del paso 3 funciona en este nuevo entorno.\n",
        "\n",
        "**Pista:** Para el paso 3, la página del paquete en PyPI suele tener un ejemplo de \"uso rápido\" o \"quickstart\"."
      ]
    },
    {
      "cell_type": "code",
      "execution_count": 18,
      "metadata": {},
      "outputs": [
        {
          "name": "stdout",
          "output_type": "stream",
          "text": [
            "Collecting polars\n",
            "  Downloading polars-1.30.0-cp39-abi3-win_amd64.whl.metadata (15 kB)\n",
            "Downloading polars-1.30.0-cp39-abi3-win_amd64.whl (36.4 MB)\n",
            "   ---------------------------------------- 0.0/36.4 MB ? eta -:--:--\n",
            "   -------------------- ------------------- 18.4/36.4 MB 93.8 MB/s eta 0:00:01\n",
            "   -------------------------------------- - 35.4/36.4 MB 88.8 MB/s eta 0:00:01\n",
            "   ---------------------------------------  36.2/36.4 MB 88.6 MB/s eta 0:00:01\n",
            "   ---------------------------------------- 36.4/36.4 MB 50.7 MB/s eta 0:00:00\n",
            "Installing collected packages: polars\n",
            "Successfully installed polars-1.30.0\n"
          ]
        }
      ],
      "source": [
        "!pip install polars"
      ]
    },
    {
      "cell_type": "code",
      "execution_count": null,
      "metadata": {},
      "outputs": [
        {
          "name": "stdout",
          "output_type": "stream",
          "text": [
            "1.30.0\n"
          ]
        }
      ],
      "source": [
        "import polars as pl\n",
        "print(pl.__version__)"
      ]
    },
    {
      "cell_type": "code",
      "execution_count": 23,
      "metadata": {},
      "outputs": [
        {
          "name": "stdout",
          "output_type": "stream",
          "text": [
            "shape: (4, 3)\n",
            "┌─────────────────────────────────┬───────────────┬──────────────────────┐\n",
            "│ names                           ┆ children_ages ┆ medical_appointments │\n",
            "│ ---                             ┆ ---           ┆ ---                  │\n",
            "│ list[str]                       ┆ list[i64]     ┆ list[i64]            │\n",
            "╞═════════════════════════════════╪═══════════════╪══════════════════════╡\n",
            "│ [\"Anne\", \"Averill\", \"Adams\"]    ┆ [5, 7]        ┆ []                   │\n",
            "│ [\"Brandon\", \"Brooke\", … \"Brans… ┆ []            ┆ []                   │\n",
            "│ [\"Camila\", \"Campbell\"]          ┆ []            ┆ []                   │\n",
            "│ [\"Dennis\", \"Doyle\"]             ┆ [8, 11, 18]   ┆ [10]                 │\n",
            "└─────────────────────────────────┴───────────────┴──────────────────────┘\n"
          ]
        }
      ],
      "source": [
        "df = pl.DataFrame(\n",
        "    {\n",
        "        \"names\": [\n",
        "            [\"Anne\", \"Averill\", \"Adams\"],\n",
        "            [\"Brandon\", \"Brooke\", \"Borden\", \"Branson\"],\n",
        "            [\"Camila\", \"Campbell\"],\n",
        "            [\"Dennis\", \"Doyle\"],\n",
        "        ],\n",
        "        \"children_ages\": [\n",
        "            [5, 7],\n",
        "            [],\n",
        "            [],\n",
        "            [8, 11, 18],\n",
        "        ],\n",
        "        \"medical_appointments\": [\n",
        "            [],\n",
        "            [],\n",
        "            [],\n",
        "            [10],\n",
        "        ],\n",
        "    }\n",
        ")\n",
        "\n",
        "print(df)"
      ]
    },
    {
      "cell_type": "code",
      "execution_count": 24,
      "metadata": {},
      "outputs": [],
      "source": [
        "!pip freeze > requirements.txt"
      ]
    },
    {
      "cell_type": "markdown",
      "metadata": {},
      "source": [
        "# 7.  **Conexión con Otros Temas**\n"
      ]
    },
    {
      "cell_type": "markdown",
      "metadata": {},
      "source": [
        "*   **Conceptos que deberías conocer previamente:**\n",
        "    *   **Módulos y Paquetes en Python:** Entender qué es un módulo (`.py` file) y cómo se organizan en paquetes (directorios con un `__init__.py`) te ayudará a comprender qué estás instalando.\n",
        "    *   **Comandos básicos de terminal/shell:** Aunque usamos `!` en Jupyter, `pip` es una herramienta de línea de comandos.\n",
        "    *   **Importación de módulos:** Saber cómo usar `import mi_modulo` o `from mi_paquete import mi_funcion`.\n",
        "\n",
        "*   **Temas futuros para los que este conocimiento será importante:**\n",
        "    *   **Entornos Virtuales (`venv`, `conda`):** ESTE ES EL SIGUIENTE PASO LÓGICO Y CRUCIAL. La gestión de dependencias se vuelve mucho más limpia y segura con entornos virtuales. Aprenderás a aislar las dependencias de cada proyecto.\n",
        "    *   **Empaquetado de Proyectos Propios (`setup.py`, `pyproject.toml`, `setuptools`, `Poetry`, `PDM`):** Si quieres distribuir tus propios paquetes Python para que otros los usen con `pip`, necesitarás aprender a empaquetarlos.\n",
        "    *   **Integración Continua/Despliegue Continuo (CI/CD):** En sistemas automatizados de CI/CD, el archivo `requirements.txt` (o similar) es fundamental para construir y probar la aplicación en un entorno limpio.\n",
        "    *   **Desarrollo de Aplicaciones Complejas:** Cualquier aplicación no trivial (web, ciencia de datos, GUI, etc.) dependerá de múltiples bibliotecas externas."
      ]
    },
    {
      "cell_type": "markdown",
      "metadata": {},
      "source": [
        "# 8.  **Aplicaciones en el Mundo Real**\n"
      ]
    },
    {
      "cell_type": "markdown",
      "metadata": {},
      "source": [
        "*   **Desarrollo Web:** Frameworks como Django y Flask tienen un ecosistema enorme de paquetes (ej. `django-rest-framework` para APIs, `SQLAlchemy` para ORMs). Gestionar estas dependencias es vital.\n",
        "*   **Ciencia de Datos y Machine Learning:** Proyectos en este campo dependen masivamente de bibliotecas como `NumPy`, `Pandas`, `SciPy`, `Matplotlib`, `Scikit-learn`, `TensorFlow`, `PyTorch`. `pip` y `requirements.txt` (a menudo junto con `conda`) son esenciales para reproducir análisis y modelos.\n",
        "*   **Automatización de Tareas:** Scripts que interactúan con APIs, sistemas de archivos, hojas de cálculo, etc., a menudo usan paquetes como `requests`, `openpyxl`, `paramiko`.\n",
        "*   **Cualquier proyecto colaborativo:** Cuando trabajas en equipo, asegurar que todos tienen el mismo entorno de dependencias es clave para evitar el clásico \"¡pero en mi máquina funciona!\"."
      ]
    }
  ],
  "metadata": {
    "kernelspec": {
      "display_name": ".venv",
      "language": "python",
      "name": "python3"
    },
    "language_info": {
      "codemirror_mode": {
        "name": "ipython",
        "version": 3
      },
      "file_extension": ".py",
      "mimetype": "text/x-python",
      "name": "python",
      "nbconvert_exporter": "python",
      "pygments_lexer": "ipython3",
      "version": "3.13.3"
    }
  },
  "nbformat": 4,
  "nbformat_minor": 2
}
