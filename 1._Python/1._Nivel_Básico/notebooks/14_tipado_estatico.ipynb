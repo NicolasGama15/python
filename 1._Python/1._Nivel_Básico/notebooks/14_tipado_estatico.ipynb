{
  "cells": [
    {
      "cell_type": "markdown",
      "metadata": {},
      "source": [
        "# 1.  **Título del Tema**\n"
      ]
    },
    {
      "cell_type": "markdown",
      "metadata": {},
      "source": [
        "**Tipado Estático en Python: Mejorando tu Código con Anotaciones de Tipo (Type Hints)**"
      ]
    },
    {
      "cell_type": "markdown",
      "metadata": {},
      "source": [
        "# 2.  **Explicación Conceptual Detallada**\n"
      ]
    },
    {
      "cell_type": "markdown",
      "metadata": {},
      "source": [
        "*   **¿Qué es?** Por defecto, Python es un lenguaje de **tipado dinámico**. Esto significa que el tipo de una variable se determina en tiempo de ejecución.\n",
        "    ```python\n",
        "    mi_variable = 5      # Ahora es un entero\n",
        "    mi_variable = \"hola\" # Ahora es un string. ¡Python lo permite!\n",
        "    ```\n",
        "    Las **anotaciones de tipo (type hints)**, introducidas en PEP 484, son una forma de indicar explícitamente el tipo esperado para variables, argumentos de funciones y valores de retorno. Es importante entender esto: **son solo \"pistas\"**. El intérprete de Python, por sí solo, las ignora y no las fuerza."
      ]
    },
    {
      "cell_type": "markdown",
      "metadata": {},
      "source": [
        "*   **¿Para qué se utiliza?** Su propósito principal es habilitar el **análisis de tipado estático**. Herramientas externas, llamadas *type checkers* (el más popular es `mypy`), leen estas anotaciones *antes* de que ejecutes el código para encontrar posibles errores de tipo."
      ]
    },
    {
      "cell_type": "markdown",
      "metadata": {},
      "source": [
        "*   **Importancia y Ventajas:**\n",
        "    1.  **Detección Temprana de Errores:** Atrapa errores como `TypeError: unsupported operand type(s) for +: 'int' and 'str'` antes de que tu programa se ejecute.\n",
        "    2.  **Código Auto-documentado:** La firma de una función como `def crear_usuario(nombre: str, edad: int) -> User:` es mucho más clara que `def crear_usuario(nombre, edad):`. Sabes qué enviar y qué esperar de vuelta sin leer el código interno.\n",
        "    3.  **Mejor Experiencia de Desarrollo (IDE):** Los editores de código como VS Code, PyCharm, etc., usan estas pistas para ofrecerte un autocompletado más inteligente, navegación de código y refactorización más seguras.\n",
        "    4.  **Mayor Fiabilidad:** Especialmente en proyectos grandes y colaborativos, aseguran que las diferentes partes del sistema se comuniquen correctamente."
      ]
    },
    {
      "cell_type": "markdown",
      "metadata": {},
      "source": [
        "*   **Limitaciones y Errores Comunes:**\n",
        "    *   **No hay enforcement en runtime:** Un error común es pensar que Python lanzará un error si pasas un tipo incorrecto. No lo hará. Las anotaciones son para herramientas de análisis estático, no para el intérprete.\n",
        "    *   **Verbosity:** Pueden hacer que el código sea un poco más largo. El truco es encontrar un equilibrio. No es necesario tipar cada variable en un script pequeño, pero es crucial en las \"fronteras\" de tu código (parámetros de funciones, APIs)."
      ]
    },
    {
      "cell_type": "markdown",
      "metadata": {},
      "source": [
        "*   **Buenas Prácticas:**\n",
        "    *   Usa `mypy` o un *linter* integrado en tu editor para sacarles provecho real.\n",
        "    *   Tipa las firmas de tus funciones siempre que sea posible.\n",
        "    *   Para tipos complejos, utiliza el módulo `typing`."
      ]
    },
    {
      "cell_type": "markdown",
      "metadata": {},
      "source": [
        "# 3.  **Sintaxis y Ejemplos Básicos**\n"
      ]
    },
    {
      "cell_type": "code",
      "execution_count": null,
      "metadata": {},
      "outputs": [],
      "source": [
        "# --- Anotación de tipo para variables ---\n",
        "# La sintaxis es nombre_variable: tipo = valor\n",
        "nombre: str = \"Alice\"\n",
        "edad: int = 30\n",
        "altura: float = 1.75\n",
        "es_estudiante: bool = True"
      ]
    },
    {
      "cell_type": "code",
      "execution_count": 2,
      "metadata": {},
      "outputs": [],
      "source": [
        "# --- Anotación de tipo para funciones ---\n",
        "# def nombre_funcion(param1: tipo, param2: tipo) -> tipo_de_retorno:\n",
        "def saludar(nombre_usuario: str) -> str:\n",
        "    return f\"Hola, {nombre_usuario}!\""
      ]
    },
    {
      "cell_type": "code",
      "execution_count": 3,
      "metadata": {},
      "outputs": [
        {
          "name": "stdout",
          "output_type": "stream",
          "text": [
            "Hola, Bob!\n"
          ]
        }
      ],
      "source": [
        "# Llamada a la función\n",
        "mensaje = saludar(\"Bob\")\n",
        "print(mensaje)"
      ]
    },
    {
      "cell_type": "code",
      "execution_count": 6,
      "metadata": {},
      "outputs": [
        {
          "name": "stdout",
          "output_type": "stream",
          "text": [
            "test <class 'str'>\n"
          ]
        }
      ],
      "source": [
        "test: int = \"test\"\n",
        "print(test, type(test))"
      ]
    },
    {
      "cell_type": "code",
      "execution_count": 4,
      "metadata": {},
      "outputs": [
        {
          "name": "stdout",
          "output_type": "stream",
          "text": [
            "Lista de números: [1, 2, 3, 4, 5]\n",
            "Diccionario de precios: {'manzana': 0.99, 'banana': 0.59}\n"
          ]
        }
      ],
      "source": [
        "# --- Anotaciones para tipos de datos complejos ---\n",
        "# Necesitamos importar del módulo `typing`\n",
        "from typing import List, Dict, Tuple, Set\n",
        "\n",
        "# Una lista de enteros\n",
        "numeros: List[int] = [1, 2, 3, 4, 5]\n",
        "\n",
        "# Un diccionario con claves string y valores float\n",
        "precios: Dict[str, float] = {\"manzana\": 0.99, \"banana\": 0.59}\n",
        "\n",
        "# Una tupla con un string y un entero\n",
        "persona: Tuple[str, int] = (\"Carlos\", 45)\n",
        "\n",
        "# Un conjunto de strings\n",
        "hobbies: Set[str] = {\"leer\", \"programar\", \"correr\"}\n",
        "\n",
        "print(f\"Lista de números: {numeros}\")\n",
        "print(f\"Diccionario de precios: {precios}\")"
      ]
    },
    {
      "cell_type": "markdown",
      "metadata": {},
      "source": [
        "# 4.  **Documentación y Recursos Clave**\n"
      ]
    },
    {
      "cell_type": "markdown",
      "metadata": {},
      "source": [
        "*   **Documentación Oficial de Python:**\n",
        "    *   [Módulo `typing`](https://docs.python.org/es/3/library/typing.html): La referencia principal para todos los tipos especiales (`List`, `Dict`, `Optional`, etc.).\n",
        "    *   [PEP 484 -- Type Hints](https://peps.python.org/pep-0484/): El documento original que propuso esta funcionalidad. Es técnico pero fundamental para entender el \"porqué\".\n",
        "\n",
        "*   **Recursos Externos de Calidad:**\n",
        "    *   [Real Python - Python Type Checking (Guide)](https://realpython.com/python-type-checking/): Un tutorial muy completo y amigable que cubre desde lo básico hasta temas avanzados.\n",
        "    *   [Documentación de `mypy`](https://mypy.readthedocs.io/en/stable/): La web oficial de la herramienta más popular para chequear tipos.\n"
      ]
    },
    {
      "cell_type": "markdown",
      "metadata": {},
      "source": [
        "# 5.  **Ejemplos de Código Prácticos**\n"
      ]
    },
    {
      "cell_type": "markdown",
      "metadata": {},
      "source": [
        "#### **Ejemplo 1: Procesando una Lista de Datos**"
      ]
    },
    {
      "cell_type": "markdown",
      "metadata": {},
      "source": [
        "Este ejemplo simula el cálculo del promedio de calificaciones de estudiantes. Usaremos tipos complejos como `List` y `Dict`.\n"
      ]
    },
    {
      "cell_type": "code",
      "execution_count": 8,
      "metadata": {},
      "outputs": [],
      "source": [
        "from typing import List, Dict, Union\n",
        "\n",
        "# Definimos un alias de tipo para mayor claridad. Un Estudiante es un diccionario.\n",
        "# Usamos Union para indicar que las claves del diccionario pueden tener valores de\n",
        "# tipo string o float.\n",
        "Estudiante = Dict[str, Union[str, float]]\n",
        "\n",
        "def calcular_promedio_calificaciones(estudiantes: List[Estudiante]) -> float:\n",
        "    \"\"\"\n",
        "    Calcula el promedio de las calificaciones de una lista de estudiantes.\n",
        "\n",
        "    Args:\n",
        "        estudiantes: Una lista de diccionarios, donde cada diccionario representa\n",
        "                     a un estudiante con 'nombre' y 'calificacion'.\n",
        "\n",
        "    Returns:\n",
        "        El promedio de las calificaciones como un float.\n",
        "    \"\"\"\n",
        "    total_calificaciones = 0.0\n",
        "    # IDEs con soporte de tipado ahora saben que `estudiante` es un `Dict` y\n",
        "    # `estudiante['calificacion']` debería existir.\n",
        "    for estudiante in estudiantes:\n",
        "        # mypy detectaría un error si intentáramos acceder a una clave que no está\n",
        "        # implícita en nuestra definición, o si tratamos el valor como un tipo incorrecto.\n",
        "        total_calificaciones += estudiante['calificacion']\n",
        "\n",
        "    if not estudiantes:\n",
        "        return 0.0\n",
        "\n",
        "    return total_calificaciones / len(estudiantes)"
      ]
    },
    {
      "cell_type": "code",
      "execution_count": 9,
      "metadata": {},
      "outputs": [
        {
          "name": "stdout",
          "output_type": "stream",
          "text": [
            "El promedio de calificaciones es: 8.73\n"
          ]
        }
      ],
      "source": [
        "# --- Datos de prueba ---\n",
        "lista_estudiantes: List[Estudiante] = [\n",
        "    {\"nombre\": \"Ana\", \"calificacion\": 9.5},\n",
        "    {\"nombre\": \"Luis\", \"calificacion\": 7.8},\n",
        "    {\"nombre\": \"Marta\", \"calificacion\": 8.9}\n",
        "]\n",
        "\n",
        "# --- Ejecución y salida ---\n",
        "promedio = calcular_promedio_calificaciones(lista_estudiantes)\n",
        "print(f\"El promedio de calificaciones es: {promedio:.2f}\")"
      ]
    },
    {
      "cell_type": "markdown",
      "metadata": {},
      "source": [
        "#### **Ejemplo 2: Usando `Optional` para valores que pueden no existir**"
      ]
    },
    {
      "cell_type": "markdown",
      "metadata": {},
      "source": [
        "A menudo, una función puede devolver un valor o `None` (por ejemplo, si no encuentra algo). El tipo `Optional` es perfecto para esto."
      ]
    },
    {
      "cell_type": "code",
      "execution_count": 16,
      "metadata": {},
      "outputs": [
        {
          "name": "stdout",
          "output_type": "stream",
          "text": [
            "Producto encontrado: Mouse, Stock: 150\n",
            "El producto con ID 99 no fue encontrado.\n"
          ]
        }
      ],
      "source": [
        "from typing import List, Dict, Optional\n",
        "\n",
        "# Un alias de tipo para un producto\n",
        "Producto = Dict[str, Union[str, int, float]]\n",
        "\n",
        "inventario: List[Producto] = [\n",
        "    {\"id\": 1, \"nombre\": \"Laptop\", \"stock\": 20},\n",
        "    {\"id\": 2, \"nombre\": \"Mouse\", \"stock\": 150},\n",
        "    {\"id\": 3, \"nombre\": \"Teclado\", \"stock\": 75}\n",
        "]\n",
        "\n",
        "def encontrar_producto_por_id(id_producto: int) -> Optional[Producto]:\n",
        "    \"\"\"\n",
        "    Busca un producto en el inventario por su ID.\n",
        "\n",
        "    Args:\n",
        "        id_producto: El ID del producto a buscar.\n",
        "\n",
        "    Returns:\n",
        "        El diccionario del producto si se encuentra, de lo contrario None.\n",
        "    \"\"\"\n",
        "    for producto in inventario:\n",
        "        if producto[\"id\"] == id_producto:\n",
        "            return producto\n",
        "    return None # Es crucial devolver None si no se encuentra\n",
        "\n",
        "# --- Búsqueda exitosa ---\n",
        "producto_encontrado = encontrar_producto_por_id(2)\n",
        "if producto_encontrado:\n",
        "    # El IDE sabe que aquí `producto_encontrado` no es None, por lo que puede\n",
        "    # autocompletar las claves como 'nombre' o 'stock'.\n",
        "    print(f\"Producto encontrado: {producto_encontrado['nombre']}, Stock: {producto_encontrado['stock']}\")\n",
        "else:\n",
        "    print(\"El producto no fue encontrado.\")\n",
        "\n",
        "# --- Búsqueda fallida ---\n",
        "producto_no_encontrado = encontrar_producto_por_id(99)\n",
        "if producto_no_encontrado:\n",
        "    print(f\"Producto encontrado: {producto_no_encontrado['nombre']}\")\n",
        "else:\n",
        "    print(\"El producto con ID 99 no fue encontrado.\")"
      ]
    },
    {
      "cell_type": "markdown",
      "metadata": {},
      "source": [
        "# 6.  **Ejercicio Práctico**\n"
      ]
    },
    {
      "cell_type": "markdown",
      "metadata": {},
      "source": [
        "Has sido contratado para mejorar el sistema de gestión de una biblioteca. Tu primera tarea es crear una función para prestar libros, asegurando que el código sea claro y robusto gracias al tipado.\n",
        "\n",
        "**Tu Tarea:**\n",
        "\n",
        "1.  Crea una función llamada `prestar_libro`.\n",
        "2.  La función debe recibir tres argumentos:\n",
        "    *   `libro_id`: Un `str` que representa el identificador único del libro.\n",
        "    *   `usuario_id`: Un `int` que representa el ID del usuario que toma prestado el libro.\n",
        "    *   `base_de_datos`: Un diccionario que simula la base de datos de la biblioteca. Las claves son los `libro_id` (strings) y los valores son otros diccionarios que contienen el `titulo` (str) y `disponible` (bool) del libro.\n",
        "3.  La función debe devolver un `bool`: `True` si el préstamo fue exitoso, `False` en caso contrario (si el libro no existe o si ya no está disponible).\n",
        "4.  La función debe modificar la `base_de_datos` \"in-place\", cambiando el estado `disponible` del libro a `False` si el préstamo es exitoso.\n",
        "5.  **Aplica anotaciones de tipo a todos los argumentos de la función y a su valor de retorno.**\n",
        "\n",
        "**Pista:** Para anotar el tipo del argumento `base_de_datos`, piensa en qué tipo son sus claves y qué tipo son sus valores. El módulo `typing` te será de gran ayuda aquí.\n",
        "\n",
        "¡Inténtalo! Escribe la función y pruébala con un diccionario de ejemplo."
      ]
    },
    {
      "cell_type": "code",
      "execution_count": null,
      "metadata": {},
      "outputs": [],
      "source": [
        "from typing import Dict\n",
        "\n",
        "Base_de_datos = Dict[str, Dict[str, bool]]\n",
        "\n",
        "def prestar_libro(libro_id: str, usuario_id: int, base_de_datos: Base_de_datos) -> bool:\n",
        "    try:\n",
        "        if base_de_datos[f\"{libro_id}\"][\"disponible\"] == False:\n",
        "            print(\"libro no disponible\")\n",
        "            return False\n",
        "        else:\n",
        "            base_de_datos[f\"{libro_id}\"][\"disponible\"] = False\n",
        "            print(\"libro disponible\")\n",
        "            return True\n",
        "        \n",
        "    except KeyError: \n",
        "        print(\"libro no existente\")\n",
        "        return False"
      ]
    },
    {
      "cell_type": "code",
      "execution_count": 44,
      "metadata": {},
      "outputs": [
        {
          "name": "stdout",
          "output_type": "stream",
          "text": [
            "libro disponible\n",
            "libro no disponible\n",
            "libro no existente\n"
          ]
        },
        {
          "data": {
            "text/plain": [
              "False"
            ]
          },
          "execution_count": 44,
          "metadata": {},
          "output_type": "execute_result"
        }
      ],
      "source": [
        "base_datos_prueba = {\n",
        "    \"1\": {\"nombre\" : \"test\", \"disponible\" : True},\n",
        "    \"2\": {\"nombre\" : \"test2\", \"disponible\" : False},\n",
        "    \"3\": {\"nombre\" : \"test3\", \"disponible\" : True}\n",
        "    }\n",
        "\n",
        "\n",
        "prestar_libro(\"1\",10,base_datos_prueba)\n",
        "prestar_libro(\"2\",10,base_datos_prueba)\n",
        "prestar_libro(\"99\",10,base_datos_prueba)\n"
      ]
    },
    {
      "cell_type": "markdown",
      "metadata": {},
      "source": [
        "# 7.  **Conexión con Otros Temas**\n"
      ]
    },
    {
      "cell_type": "markdown",
      "metadata": {},
      "source": [
        "*   **Conceptos Previos:** Para entender bien este tema, necesitas una base sólida en los **tipos de datos de Python** (int, str, list, dict, bool) y en la **definición de funciones**.\n",
        "*   **Temas Futuros:** Este conocimiento es fundamental para:\n",
        "    *   **Clases y Programación Orientada a Objetos (POO):** Podrás usar tus propias clases como tipos (ej. `def mi_func(usuario: Usuario) -> None:`).\n",
        "    *   **Data Classes (`dataclasses`):** Son clases diseñadas para almacenar datos, y se integran de forma nativa y elegante con las anotaciones de tipo.\n",
        "    *   **Pydantic:** Una librería que lleva las anotaciones de tipo al siguiente nivel, usándolas para la validación de datos en tiempo de ejecución (¡lo que Python no hace por defecto!).\n",
        "    *   **Desarrollo de APIs:** Frameworks modernos como **FastAPI** dependen completamente de las anotaciones de tipo para validar requests, serializar respuestas y generar documentación automática."
      ]
    },
    {
      "cell_type": "markdown",
      "metadata": {},
      "source": [
        "# 8.  **Aplicaciones en el Mundo Real**\n"
      ]
    },
    {
      "cell_type": "markdown",
      "metadata": {},
      "source": [
        "1.  **Grandes Proyectos de Software (ej. Dropbox):** Dropbox migró millones de líneas de código Python 2 a 3 y usó `mypy` masivamente para asegurar que el nuevo código fuera correcto y para facilitar el trabajo de cientos de ingenieros en la misma base de código.\n",
        "2.  **Frameworks de APIs (ej. FastAPI):** Cuando defines un endpoint con FastAPI como `async def crear_item(item: Item):`, donde `Item` es una clase con tipos, FastAPI usa esa información para:\n",
        "    *   Validar que los datos JSON que llegan en la petición tienen la forma correcta.\n",
        "    *   Convertir los datos al tipo correcto.\n",
        "    *   Generar documentación interactiva (Swagger UI) automáticamente."
      ]
    }
  ],
  "metadata": {
    "kernelspec": {
      "display_name": ".venv",
      "language": "python",
      "name": "python3"
    },
    "language_info": {
      "codemirror_mode": {
        "name": "ipython",
        "version": 3
      },
      "file_extension": ".py",
      "mimetype": "text/x-python",
      "name": "python",
      "nbconvert_exporter": "python",
      "pygments_lexer": "ipython3",
      "version": "3.13.3"
    }
  },
  "nbformat": 4,
  "nbformat_minor": 2
}
