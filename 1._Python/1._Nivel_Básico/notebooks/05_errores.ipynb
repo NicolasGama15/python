{
  "cells": [
    {
      "cell_type": "markdown",
      "metadata": {},
      "source": [
        "# 1.  **Título del Tema**\n"
      ]
    },
    {
      "cell_type": "markdown",
      "metadata": {},
      "source": [
        "**Manejo de Errores en Python: Bloques `try-except-else-finally` y Excepciones Personalizadas**"
      ]
    },
    {
      "cell_type": "markdown",
      "metadata": {},
      "source": [
        "# 2.  **Explicación Conceptual Detallada**\n"
      ]
    },
    {
      "cell_type": "markdown",
      "metadata": {},
      "source": [
        "*   **¿Qué es una Excepción?**\n",
        "    Una excepción es un objeto en Python que representa un error que ocurre durante la ejecución de un programa. Cuando este error ocurre, Python crea una instancia de una clase de excepción. Si esta excepción no es \"capturada\" y \"manejada\", el programa termina."
      ]
    },
    {
      "cell_type": "markdown",
      "metadata": {},
      "source": [
        "*   **¿Para qué se utiliza el Manejo de Errores?**\n",
        "    Se utiliza para:\n",
        "    1.  **Prevenir la interrupción abrupta del programa:** Permite que el programa continúe funcionando o termine de forma controlada incluso si ocurre un error.\n",
        "    2.  **Gestionar situaciones inesperadas:** Como entradas de usuario incorrectas, archivos no encontrados, problemas de red, etc.\n",
        "    3.  **Informar al usuario de manera amigable:** En lugar de un críptico mensaje de error, puedes mostrar un mensaje claro sobre lo que salió mal.\n",
        "    4.  **Realizar acciones de limpieza:** Como cerrar archivos o conexiones de red, independientemente de si ocurrió un error o no."
      ]
    },
    {
      "cell_type": "markdown",
      "metadata": {},
      "source": [
        "*   **Importancia en Python:**\n",
        "    El manejo de errores es crucial para desarrollar aplicaciones robustas, confiables y fáciles de usar. Es una característica esencial de Python y de la mayoría de los lenguajes de programación modernos.\n"
      ]
    },
    {
      "cell_type": "markdown",
      "metadata": {},
      "source": [
        "*   **Conceptos Clave y Sintaxis Fundamental:**\n",
        "    La estructura principal para el manejo de errores en Python es el bloque `try-except`.\n",
        "    *   `try`: En este bloque se coloca el código que *podría* generar una excepción.\n",
        "    *   `except <TipoDeExcepcion>`: Si ocurre una excepción del tipo especificado (o de una clase derivada) dentro del bloque `try`, el código dentro de este bloque `except` se ejecuta. Puedes tener múltiples bloques `except` para manejar diferentes tipos de excepciones. Si omites `<TipoDeExcepcion>`, capturará cualquier excepción (generalmente no recomendado a menos que sepas lo que haces).\n",
        "    *   `else`: (Opcional) Este bloque se ejecuta *solo si no ocurrió ninguna excepción* en el bloque `try`.\n",
        "    *   `finally`: (Opcional) Este bloque se ejecuta *siempre*, haya ocurrido una excepción o no. Es ideal para tareas de limpieza (como cerrar archivos).\n",
        "    *   `raise`: Se utiliza para lanzar (o relanzar) una excepción manualmente.\n",
        "\n",
        "    **Errores comunes a tener en cuenta:**\n",
        "    *   Capturar `Exception` genérica ( `except Exception:` ) y \"silenciar\" el error sin tratarlo adecuadamente. Esto puede ocultar bugs.\n",
        "    *   Colocar código en el bloque `try` que no puede generar la excepción que se está intentando capturar.\n",
        "    *   Olvidar cerrar recursos (como archivos) si no se usa `finally` o un gestor de contexto (`with`)."
      ]
    },
    {
      "cell_type": "markdown",
      "metadata": {},
      "source": [
        "*   **¿Cómo funciona internamente?**\n",
        "    Cuando Python encuentra una instrucción en un bloque `try` que lanza una excepción:\n",
        "    1.  Python busca inmediatamente un bloque `except` que coincida con el tipo de excepción lanzada.\n",
        "    2.  Si encuentra uno, se ejecuta el código de ese bloque `except` y la ejecución continúa después del bloque `try-except-else-finally` completo (a menos que el bloque `except` lance una nueva excepción o use `return`/`break`).\n",
        "    3.  Si hay un bloque `else` y no hubo excepciones en el `try`, se ejecuta el `else`.\n",
        "    4.  Si hay un bloque `finally`, se ejecuta sin importar lo que haya pasado antes (excepción capturada, no capturada, o ninguna excepción).\n",
        "    5.  Si no se encuentra un `except` que maneje la excepción en la función actual, la excepción se \"propaga\" hacia arriba en la pila de llamadas (a la función que llamó a la actual) hasta que se encuentre un manejador o el programa termine."
      ]
    },
    {
      "cell_type": "markdown",
      "metadata": {},
      "source": [
        "*   **Buenas Prácticas Relacionadas:**\n",
        "    1.  **Sé específico:** Captura las excepciones más específicas que esperas, en lugar de `Exception` genérica. Por ejemplo, `except ValueError:` en lugar de `except Exception:`.\n",
        "    2.  **No silencies errores:** Si capturas una excepción, haz algo con ella (regístrala, informa al usuario, intenta una acción alternativa). Un `except: pass` suele ser una mala idea.\n",
        "    3.  **Usa `else` para código limpio:** El código en el bloque `else` se ejecuta solo si el bloque `try` no lanzó excepciones. Esto ayuda a evitar capturar accidentalmente excepciones de código que no querías proteger.\n",
        "    4.  **Usa `finally` para limpieza:** Asegura que los recursos (archivos, conexiones) se liberen, incluso si ocurre un error.\n",
        "    5.  **Lanza excepciones cuando sea apropiado:** Si tu función encuentra una condición de error que no puede manejar, lanza una excepción (posiblemente una personalizada) para que el código que la llamó pueda decidir qué hacer.\n",
        "    6.  **Proporciona mensajes de error útiles:** Cuando lances o manejes excepciones, incluye información que ayude a diagnosticar el problema.\n",
        "    7.  **Considera la jerarquía de excepciones:** Python tiene una jerarquía de excepciones incorporadas (`BaseException` -> `Exception` -> `ArithmeticError` -> `ZeroDivisionError`, etc.). Puedes capturar una clase base para manejar varias excepciones relacionadas.\n"
      ]
    },
    {
      "cell_type": "markdown",
      "metadata": {},
      "source": [
        "*   **Ventajas y Posibles Casos de Uso:**\n",
        "    *   **Ventajas:**\n",
        "        *   **Robustez:** El programa no \"crachea\" ante el primer problema.\n",
        "        *   **Fiabilidad:** Puede manejar situaciones imprevistas y continuar o terminar limpiamente.\n",
        "        *   **Mejor Experiencia de Usuario (UX):** Mensajes de error claros en lugar de tracebacks.\n",
        "        *   **Mantenimiento de Código:** Separa la lógica de manejo de errores de la lógica principal del programa.\n",
        "    *   **Casos de Uso Comunes:**\n",
        "        *   Validación de entradas del usuario (ej. asegurarse de que se ingrese un número).\n",
        "        *   Operaciones de E/S de archivos (ej. el archivo no existe, no hay permisos).\n",
        "        *   Llamadas a APIs o servicios de red (ej. el servidor no responde, problemas de conexión).\n",
        "        *   Operaciones matemáticas (ej. división por cero).\n",
        "        *   Acceso a bases de datos."
      ]
    },
    {
      "cell_type": "markdown",
      "metadata": {},
      "source": [
        "# 3.  **Sintaxis y Ejemplos Básicos**\n"
      ]
    },
    {
      "cell_type": "markdown",
      "metadata": {},
      "source": [
        "**a) `try-except` básico:**"
      ]
    },
    {
      "cell_type": "code",
      "execution_count": 3,
      "metadata": {},
      "outputs": [
        {
          "name": "stdout",
          "output_type": "stream",
          "text": [
            "Error: No puedes dividir por cero.\n"
          ]
        }
      ],
      "source": [
        "try:\n",
        "    # Código que podría generar un error\n",
        "    numero = int(input(\"Ingresa un número: \"))\n",
        "    resultado = 10 / numero\n",
        "    print(f\"10 / {numero} = {resultado}\")\n",
        "except ValueError:\n",
        "    # Se ejecuta si el input no puede convertirse a entero\n",
        "    print(\"Error: Debes ingresar un número válido.\")\n",
        "except ZeroDivisionError:\n",
        "    # Se ejecuta si se intenta dividir por cero\n",
        "    print(\"Error: No puedes dividir por cero.\")"
      ]
    },
    {
      "cell_type": "markdown",
      "metadata": {},
      "source": [
        "**b) Capturando múltiples excepciones en un solo bloque `except`:**\n"
      ]
    },
    {
      "cell_type": "code",
      "execution_count": 4,
      "metadata": {},
      "outputs": [
        {
          "name": "stdout",
          "output_type": "stream",
          "text": [
            "Ocurrió un error: division by zero\n",
            "Tipo de error: <class 'ZeroDivisionError'>\n"
          ]
        }
      ],
      "source": [
        "try:\n",
        "    # Código que podría generar un error\n",
        "    valor = input(\"Ingresa algo: \")\n",
        "    numero = int(valor)\n",
        "    print(10 / numero)\n",
        "except (ValueError, ZeroDivisionError) as e:\n",
        "    # Se ejecuta si ocurre ValueError O ZeroDivisionError\n",
        "    print(f\"Ocurrió un error: {e}\")\n",
        "    print(f\"Tipo de error: {type(e)}\")"
      ]
    },
    {
      "cell_type": "markdown",
      "metadata": {},
      "source": [
        "**c) `try-except-else`:**"
      ]
    },
    {
      "cell_type": "code",
      "execution_count": 8,
      "metadata": {},
      "outputs": [
        {
          "name": "stdout",
          "output_type": "stream",
          "text": [
            "Ambos deben ser números.\n"
          ]
        }
      ],
      "source": [
        "try:\n",
        "    numerador = int(input(\"Ingresa el numerador: \"))\n",
        "    denominador = int(input(\"Ingresa el denominador: \"))\n",
        "    resultado = numerador / denominador\n",
        "except ValueError:\n",
        "    print(\"Ambos deben ser números.\")\n",
        "except ZeroDivisionError:\n",
        "    print(\"El denominador no puede ser cero.\")\n",
        "else:\n",
        "    # Se ejecuta SOLO si no hubo excepciones en el try\n",
        "    print(f\"El resultado de la división es: {resultado}\")"
      ]
    },
    {
      "cell_type": "markdown",
      "metadata": {},
      "source": [
        "**d) `try-except-finally`:**"
      ]
    },
    {
      "cell_type": "code",
      "execution_count": 9,
      "metadata": {},
      "outputs": [
        {
          "name": "stdout",
          "output_type": "stream",
          "text": [
            "Error: El archivo no fue encontrado.\n",
            "Ejecutando el bloque finally.\n"
          ]
        }
      ],
      "source": [
        "archivo = None # Inicializamos para asegurar que 'archivo' exista en el finally\n",
        "try:\n",
        "    archivo = open(\"mi_archivo_inexistente.txt\", \"r\")\n",
        "    contenido = archivo.read()\n",
        "    print(contenido)\n",
        "except FileNotFoundError:\n",
        "    print(\"Error: El archivo no fue encontrado.\")\n",
        "finally:\n",
        "    # Se ejecuta SIEMPRE\n",
        "    print(\"Ejecutando el bloque finally.\")\n",
        "    if archivo: # Solo intenta cerrar si el archivo fue abierto (si no, archivo sigue siendo None)\n",
        "        print(\"Cerrando el archivo.\")\n",
        "        archivo.close()"
      ]
    },
    {
      "cell_type": "markdown",
      "metadata": {},
      "source": [
        "**e) `try-except-else-finally` (completo):**"
      ]
    },
    {
      "cell_type": "code",
      "execution_count": 10,
      "metadata": {},
      "outputs": [
        {
          "name": "stdout",
          "output_type": "stream",
          "text": [
            "El inverso de 10 es 0.1\n",
            "Bloque try-except-else-finally finalizado.\n"
          ]
        }
      ],
      "source": [
        "try:\n",
        "    numero = int(input(\"Ingresa un número para calcular su inverso: \"))\n",
        "    inverso = 1 / numero\n",
        "except ValueError:\n",
        "    print(\"Entrada inválida. Debe ser un número.\")\n",
        "except ZeroDivisionError:\n",
        "    print(\"No se puede calcular el inverso de cero.\")\n",
        "else:\n",
        "    print(f\"El inverso de {numero} es {inverso}\")\n",
        "finally:\n",
        "    print(\"Bloque try-except-else-finally finalizado.\")"
      ]
    },
    {
      "cell_type": "markdown",
      "metadata": {},
      "source": [
        "**f) Lanzar una excepción con `raise`:**"
      ]
    },
    {
      "cell_type": "code",
      "execution_count": 13,
      "metadata": {},
      "outputs": [
        {
          "name": "stdout",
          "output_type": "stream",
          "text": [
            "Edad verificada correctamente.\n",
            "Error de valor: La edad no puede ser negativa.\n"
          ]
        }
      ],
      "source": [
        "def verificar_edad(edad):\n",
        "    if edad < 0:\n",
        "        raise ValueError(\"La edad no puede ser negativa.\")\n",
        "    elif edad < 18:\n",
        "        raise PermissionError(\"Debes ser mayor de edad.\")\n",
        "    print(\"Edad verificada correctamente.\")\n",
        "\n",
        "try:\n",
        "    verificar_edad(25)  # Prueba con 25\n",
        "    # verificar_edad(10)  # Prueba con 10\n",
        "    verificar_edad(-5) # Descomenta para probar ValueError\n",
        "except ValueError as ve:\n",
        "    print(f\"Error de valor: {ve}\")\n",
        "except PermissionError as pe:\n",
        "    print(f\"Error de permiso: {pe}\")"
      ]
    },
    {
      "cell_type": "markdown",
      "metadata": {},
      "source": [
        "**g) Crear y lanzar una Excepción Personalizada:**"
      ]
    },
    {
      "cell_type": "code",
      "execution_count": 14,
      "metadata": {},
      "outputs": [
        {
          "name": "stdout",
          "output_type": "stream",
          "text": [
            "Procesando dato: hola\n",
            "Error personalizado capturado: El dato debe ser una cadena de texto para este proceso.\n"
          ]
        }
      ],
      "source": [
        "# 1. Definir tu propia clase de excepción (heredando de Exception)\n",
        "class MiErrorPersonalizado(Exception):\n",
        "    \"\"\"Una excepción personalizada para mi aplicación.\"\"\"\n",
        "    pass\n",
        "\n",
        "# 2. Usarla en tu código\n",
        "def procesar_datos_especiales(dato):\n",
        "    if not isinstance(dato, str):\n",
        "        raise MiErrorPersonalizado(\"El dato debe ser una cadena de texto para este proceso.\")\n",
        "    elif dato == \"secreto\":\n",
        "        raise MiErrorPersonalizado(\"El dato 'secreto' no puede ser procesado aquí.\")\n",
        "    print(f\"Procesando dato: {dato}\")\n",
        "\n",
        "# 3. Capturarla\n",
        "try:\n",
        "    procesar_datos_especiales(\"hola\")\n",
        "    procesar_datos_especiales(123) # Esto lanzará nuestro error\n",
        "except MiErrorPersonalizado as mep:\n",
        "    print(f\"Error personalizado capturado: {mep}\")"
      ]
    },
    {
      "cell_type": "markdown",
      "metadata": {},
      "source": [
        "# 4.  **Documentación y Recursos Clave**\n"
      ]
    },
    {
      "cell_type": "markdown",
      "metadata": {},
      "source": [
        "*   **Documentación Oficial de Python:**\n",
        "    *   **Tutorial sobre Errores y Excepciones:** [https://docs.python.org/es/3/tutorial/errors.html](https://docs.python.org/es/3/tutorial/errors.html) (¡Muy recomendado!)\n",
        "    *   **Excepciones Incorporadas (Built-in Exceptions):** [https://docs.python.org/es/3/library/exceptions.html](https://docs.python.org/es/3/library/exceptions.html) (Lista de todas las excepciones estándar)\n",
        "\n",
        "*   **Recursos Externos de Alta Calidad:**\n",
        "    *   **Real Python - Python Exceptions: An Introduction:** [https://realpython.com/python-exceptions/](https://realpython.com/python-exceptions/) (Excelente artículo con ejemplos claros)\n",
        "    *   **Programiz - Python try...except:** [https://www.programiz.com/python-programming/exception-handling](https://www.programiz.com/python-programming/exception-handling) (Un tutorial conciso y bueno para empezar)\n"
      ]
    },
    {
      "cell_type": "markdown",
      "metadata": {},
      "source": [
        "# 5.  **Ejemplos de Código Prácticos**\n"
      ]
    },
    {
      "cell_type": "markdown",
      "metadata": {},
      "source": [
        "**Ejemplo 1: Validación de entrada del usuario y división segura**"
      ]
    },
    {
      "cell_type": "code",
      "execution_count": 16,
      "metadata": {},
      "outputs": [
        {
          "name": "stdout",
          "output_type": "stream",
          "text": [
            "Error: Ambos valores deben ser números enteros válidos.\n",
            "Por favor, intenta de nuevo.\n",
            "--- Fin del intento de división ---\n"
          ]
        }
      ],
      "source": [
        "# Celda 1: Ejemplo de Validación de Entrada y División Segura\n",
        "\n",
        "def division_segura():\n",
        "    \"\"\"Pide dos números al usuario y realiza una división segura.\"\"\"\n",
        "    try:\n",
        "        num1_str = input(\"Introduce el numerador (un número entero): \")\n",
        "        num1 = int(num1_str) # Posible ValueError si no es un número\n",
        "\n",
        "        num2_str = input(\"Introduce el denominador (un número entero): \")\n",
        "        num2 = int(num2_str) # Posible ValueError si no es un número\n",
        "\n",
        "        resultado = num1 / num2 # Posible ZeroDivisionError si num2 es 0\n",
        "\n",
        "    except ValueError:\n",
        "        print(\"Error: Ambos valores deben ser números enteros válidos.\")\n",
        "        print(\"Por favor, intenta de nuevo.\")\n",
        "    except ZeroDivisionError:\n",
        "        print(f\"Error: No se puede dividir {num1} por cero.\")\n",
        "        print(\"Por favor, introduce un denominador diferente de cero.\")\n",
        "    else:\n",
        "        # Este bloque se ejecuta si no hubo excepciones en el try\n",
        "        print(f\"El resultado de {num1} / {num2} es: {resultado}\")\n",
        "    finally:\n",
        "        # Este bloque se ejecuta siempre, haya o no haya error\n",
        "        print(\"--- Fin del intento de división ---\")\n",
        "\n",
        "# Ejecutamos la función\n",
        "division_segura()"
      ]
    },
    {
      "cell_type": "markdown",
      "metadata": {},
      "source": [
        "**Ejemplo 2: Manejo de archivos con `try-except-finally` (y alternativa con `with`)**"
      ]
    },
    {
      "cell_type": "code",
      "execution_count": 18,
      "metadata": {},
      "outputs": [
        {
          "name": "stdout",
          "output_type": "stream",
          "text": [
            "--- Intento 1: Usando try-except-finally para leer 'datos_prueba.txt' ---\n",
            "Contenido de 'datos_prueba.txt':\n",
            "Hola, este es un archivo de prueba.\n",
            "Contiene algunas líneas de texto.\n",
            "Bloque finally ejecutado.\n",
            "Cerrando el archivo 'datos_prueba.txt'.\n",
            "------------------------------\n",
            "\n",
            "--- Intento 2: Leyendo un archivo inexistente ---\n",
            "Error: El archivo 'archivo_que_no_existe.txt' no fue encontrado, ¡como se esperaba!\n",
            "Bloque finally ejecutado para archivo inexistente.\n",
            "------------------------------\n",
            "\n",
            "--- Forma idiomática y recomendada usando 'with' (gestor de contexto) ---\n",
            "Contenido de 'datos_prueba.txt' (leído con 'with'):\n",
            "Hola, este es un archivo de prueba.\n",
            "Contiene algunas líneas de texto.\n",
            "Bloque finally (opcional con 'with' para la gestión de archivos, pero puede usarse para otras cosas).\n"
          ]
        }
      ],
      "source": [
        "# Celda 2: Ejemplo de Manejo de Archivos\n",
        "\n",
        "# Primero, creamos un archivo de prueba para leer\n",
        "with open(\"datos_prueba.txt\", \"w\") as f:\n",
        "    f.write(\"Hola, este es un archivo de prueba.\\n\")\n",
        "    f.write(\"Contiene algunas líneas de texto.\")\n",
        "\n",
        "print(\"--- Intento 1: Usando try-except-finally para leer 'datos_prueba.txt' ---\")\n",
        "archivo = None # Es buena práctica inicializarlo a None\n",
        "try:\n",
        "    nombre_archivo = \"datos_prueba.txt\"\n",
        "    archivo = open(nombre_archivo, \"r\") # 'r' para leer\n",
        "    contenido = archivo.read()\n",
        "    print(f\"Contenido de '{nombre_archivo}':\\n{contenido}\")\n",
        "except FileNotFoundError:\n",
        "    print(f\"Error: El archivo '{nombre_archivo}' no fue encontrado.\")\n",
        "except IOError: # IOError es más genérico para problemas de E/S\n",
        "    print(f\"Error: Ocurrió un problema al leer el archivo '{nombre_archivo}'.\")\n",
        "finally:\n",
        "    print(\"Bloque finally ejecutado.\")\n",
        "    if archivo: # Solo intenta cerrar si el archivo se abrió exitosamente\n",
        "        print(f\"Cerrando el archivo '{archivo.name}'.\")\n",
        "        archivo.close()\n",
        "print(\"-\" * 30)\n",
        "\n",
        "print(\"\\n--- Intento 2: Leyendo un archivo inexistente ---\")\n",
        "archivo_inexistente = None\n",
        "try:\n",
        "    nombre_archivo_inexistente = \"archivo_que_no_existe.txt\"\n",
        "    archivo_inexistente = open(nombre_archivo_inexistente, \"r\")\n",
        "    contenido = archivo_inexistente.read() # Esta línea no se ejecutará\n",
        "    print(contenido)\n",
        "except FileNotFoundError:\n",
        "    print(f\"Error: El archivo '{nombre_archivo_inexistente}' no fue encontrado, ¡como se esperaba!\")\n",
        "finally:\n",
        "    print(\"Bloque finally ejecutado para archivo inexistente.\")\n",
        "    if archivo_inexistente:\n",
        "        print(\"Cerrando el archivo inexistente (esto no debería pasar).\")\n",
        "        archivo_inexistente.close()\n",
        "print(\"-\" * 30)\n",
        "\n",
        "print(\"\\n--- Forma idiomática y recomendada usando 'with' (gestor de contexto) ---\")\n",
        "# 'with' maneja automáticamente la apertura y cierre del archivo, incluso si ocurren errores.\n",
        "try:\n",
        "    nombre_archivo = \"datos_prueba.txt\"\n",
        "    with open(nombre_archivo, \"r\") as archivo_con_with:\n",
        "        contenido = archivo_con_with.read()\n",
        "        print(f\"Contenido de '{nombre_archivo}' (leído con 'with'):\\n{contenido}\")\n",
        "        # Simulemos un error después de abrir el archivo para ver que 'with' lo cierra igual\n",
        "        # 10 / 0 # Descomenta esta línea para probar un error dentro del 'with'\n",
        "except FileNotFoundError:\n",
        "    print(f\"Error con 'with': El archivo '{nombre_archivo}' no fue encontrado.\")\n",
        "except ZeroDivisionError:\n",
        "    print(\"Error con 'with': División por cero detectada dentro del 'with'.\")\n",
        "    print(\"El archivo se habrá cerrado automáticamente gracias a 'with'.\")\n",
        "finally:\n",
        "    print(\"Bloque finally (opcional con 'with' para la gestión de archivos, pero puede usarse para otras cosas).\")\n",
        "\n",
        "# Limpieza del archivo de prueba\n",
        "import os\n",
        "os.remove(\"datos_prueba.txt\")"
      ]
    },
    {
      "cell_type": "markdown",
      "metadata": {},
      "source": [
        "**Ejemplo 3: Uso de Excepciones Personalizadas y `raise`**"
      ]
    },
    {
      "cell_type": "code",
      "execution_count": 23,
      "metadata": {},
      "outputs": [
        {
          "name": "stdout",
          "output_type": "stream",
          "text": [
            "\n",
            "Intentando pedir 2 de 'uvas'...\n",
            "Error de Inventario: \"Producto 'uvas' no encontrado en el inventario.\"\n",
            "\n",
            "--- Verificación de pedidos finalizada ---\n",
            "Estado final del inventario: {'manzanas': 10, 'bananas': 5, 'naranjas': 0}\n"
          ]
        }
      ],
      "source": [
        "# Celda 3: Ejemplo de Excepciones Personalizadas\n",
        "\n",
        "class InventarioInsuficienteError(Exception):\n",
        "    \"\"\"Excepción personalizada para cuando no hay suficiente stock de un producto.\"\"\"\n",
        "    def __init__(self, producto, solicitado, disponible):\n",
        "        self.producto = producto\n",
        "        self.solicitado = solicitado\n",
        "        self.disponible = disponible\n",
        "        # Creamos un mensaje descriptivo\n",
        "        mensaje = f\"No hay suficiente stock de '{producto}'. Solicitado: {solicitado}, Disponible: {disponible}\"\n",
        "        super().__init__(mensaje) # Llamamos al constructor de la clase base (Exception) con el mensaje\n",
        "\n",
        "# Simulación de un inventario\n",
        "inventario = {\n",
        "    \"manzanas\": 10,\n",
        "    \"bananas\": 5,\n",
        "    \"naranjas\": 0\n",
        "}\n",
        "\n",
        "def realizar_pedido(producto, cantidad):\n",
        "    \"\"\"Intenta realizar un pedido y lanza InventarioInsuficienteError si no hay stock.\"\"\"\n",
        "    print(f\"\\nIntentando pedir {cantidad} de '{producto}'...\")\n",
        "    if producto not in inventario:\n",
        "        raise KeyError(f\"Producto '{producto}' no encontrado en el inventario.\") # Usamos una excepción incorporada\n",
        "\n",
        "    stock_actual = inventario[producto]\n",
        "\n",
        "    if cantidad <= 0:\n",
        "        raise ValueError(\"La cantidad solicitada debe ser mayor que cero.\") # Otra excepción incorporada\n",
        "\n",
        "    if cantidad > stock_actual:\n",
        "        # Lanzamos nuestra excepción personalizada\n",
        "        raise InventarioInsuficienteError(producto, cantidad, stock_actual)\n",
        "\n",
        "    # Si todo va bien, actualizamos el inventario (simulación)\n",
        "    inventario[producto] -= cantidad\n",
        "    print(f\"Pedido realizado: {cantidad} de '{producto}'. Stock restante: {inventario[producto]}.\")\n",
        "    return True\n",
        "\n",
        "# Probando la función\n",
        "try:\n",
        "    # realizar_pedido(\"manzanas\", 3)\n",
        "    # realizar_pedido(\"bananas\", 5)\n",
        "    realizar_pedido(\"uvas\", 2)      # Probará KeyError\n",
        "    realizar_pedido(\"manzanas\", -1) # Probará ValueError\n",
        "    realizar_pedido(\"naranjas\", 1)  # Probará InventarioInsuficienteError\n",
        "except InventarioInsuficienteError as e:\n",
        "    print(f\"Error de Pedido: {e}\")\n",
        "    print(f\"  Detalles - Producto: {e.producto}, Solicitado: {e.solicitado}, Disponible: {e.disponible}\")\n",
        "except KeyError as e:\n",
        "    print(f\"Error de Inventario: {e}\")\n",
        "except ValueError as e:\n",
        "    print(f\"Error de Cantidad: {e}\")\n",
        "except Exception as e: # Captura general para cualquier otro error inesperado\n",
        "    print(f\"Ocurrió un error inesperado: {e}\")\n",
        "finally:\n",
        "    print(\"\\n--- Verificación de pedidos finalizada ---\")\n",
        "    print(f\"Estado final del inventario: {inventario}\")"
      ]
    },
    {
      "cell_type": "markdown",
      "metadata": {},
      "source": [
        "# 6.  **Ejercicio Práctico**\n"
      ]
    },
    {
      "cell_type": "markdown",
      "metadata": {},
      "source": [
        "**Título del Ejercicio: Calculadora Segura de Promedios**"
      ]
    },
    {
      "cell_type": "markdown",
      "metadata": {},
      "source": [
        "**Descripción:**\n",
        "Escribe una función llamada `calcular_promedio_seguro(lista_numeros_str)` que reciba una lista de cadenas. Se espera que cada cadena represente un número.\n",
        "Tu función debe:\n",
        "1.  Intentar convertir cada cadena de la lista a un número de punto flotante (float).\n",
        "2.  Sumar todos los números convertidos.\n",
        "3.  Calcular el promedio.\n",
        "4.  Manejar las siguientes situaciones:\n",
        "    *   Si una cadena no puede convertirse a número (ej. \"hola\"), debe ignorar esa cadena y continuar con las demás, pero imprimir un mensaje de advertencia indicando qué valor no pudo ser convertido.\n",
        "    *   Si la lista está vacía o si después de filtrar los valores no numéricos no queda ningún número válido para calcular el promedio, la función debe devolver `0.0` y mostrar un mensaje apropiado.\n",
        "    *   Si se proporciona algo que no es una lista como argumento de entrada, la función debe capturar un `TypeError` e informar al usuario."
      ]
    },
    {
      "cell_type": "markdown",
      "metadata": {},
      "source": [
        "**Ejemplo de uso esperado:**\n",
        "\n",
        "```python\n",
        "numeros1 = [\"10\", \"20\", \"treinta\", \"40\", \"50.5\"]\n",
        "print(f\"Promedio de {numeros1}: {calcular_promedio_seguro(numeros1)}\")\n",
        "# Salida esperada (o similar):\n",
        "# ADVERTENCIA: No se pudo convertir 'treinta' a número.\n",
        "# Promedio de ['10', '20', 'treinta', '40', '50.5']: 30.125\n",
        "\n",
        "numeros2 = [\"cien\", \"mil\"]\n",
        "print(f\"Promedio de {numeros2}: {calcular_promedio_seguro(numeros2)}\")\n",
        "# Salida esperada (o similar):\n",
        "# ADVERTENCIA: No se pudo convertir 'cien' a número.\n",
        "# ADVERTENCIA: No se pudo convertir 'mil' a número.\n",
        "# INFO: No hay números válidos para calcular el promedio después de la conversión.\n",
        "# Promedio de ['cien', 'mil']: 0.0\n",
        "\n",
        "numeros3 = []\n",
        "print(f\"Promedio de {numeros3}: {calcular_promedio_seguro(numeros3)}\")\n",
        "# Salida esperada (o similar):\n",
        "# INFO: La lista está vacía, no se puede calcular el promedio.\n",
        "# Promedio de []: 0.0\n",
        "\n",
        "print(f\"Promedio de un no-lista: {calcular_promedio_seguro('no es una lista')}\")\n",
        "# Salida esperada (o similar):\n",
        "# ERROR: La entrada debe ser una lista.\n",
        "# Promedio de un no-lista: 0.0\n",
        "```"
      ]
    },
    {
      "cell_type": "markdown",
      "metadata": {},
      "source": [
        "**Pista:**\n",
        "Puedes usar un bucle `for` para iterar sobre la lista de cadenas. Dentro del bucle, necesitarás un bloque `try-except` para la conversión a `float`. Lleva la cuenta de los números válidos y su suma."
      ]
    },
    {
      "cell_type": "code",
      "execution_count": 59,
      "metadata": {},
      "outputs": [
        {
          "name": "stdout",
          "output_type": "stream",
          "text": [
            "ADVERTENCIA: No se pudo convertir 'treinta' a número\n",
            "Promedio de ['10', '20', 'treinta', '40', '50.5']: 30.125\n"
          ]
        }
      ],
      "source": [
        "def calcular_promedio_seguro(numeros : str):\n",
        "    numeros_convertidos = []\n",
        "    if len(numeros) == 0:\n",
        "        print(\"INFO: La lista está vacía, no se puede calcular el promedio.\")\n",
        "    if not isinstance(numeros, list):\n",
        "        return (f\"ERROR: La entrada debe ser una lista. Promedio de un no-lista: 0.0\")\n",
        "    for numero in numeros:\n",
        "        try:\n",
        "            numeros_convertidos.append(float(numero))\n",
        "            promedio = sum(numeros_convertidos) / len(numeros_convertidos)\n",
        "        except ValueError:\n",
        "            print(f\"ADVERTENCIA: No se pudo convertir '{numero}' a número\")\n",
        "        except ZeroDivisionError:\n",
        "            print (\"INFO: No hay números válidos para calcular el promedio después de la conversión.\")\n",
        "    if len(numeros_convertidos) > 0:\n",
        "        return print(f\"Promedio de {numeros}: {promedio}\")\n",
        "    else:\n",
        "        return print(f\"Promedio de {numeros}: 0.0\")\n",
        "\n",
        "calcular_promedio_seguro([\"10\", \"20\", \"treinta\", \"40\", \"50.5\"])\n",
        "# calcular_promedio_seguro([\"cien\", \"mil\"])\n",
        "# calcular_promedio_seguro([])\n",
        "# calcular_promedio_seguro('no es una lista')"
      ]
    },
    {
      "cell_type": "code",
      "execution_count": 52,
      "metadata": {},
      "outputs": [
        {
          "name": "stdout",
          "output_type": "stream",
          "text": [
            "False\n"
          ]
        }
      ],
      "source": [
        "numeros = \"hola\"\n",
        "print(isinstance(numeros, list))"
      ]
    },
    {
      "cell_type": "markdown",
      "metadata": {},
      "source": [
        "# 7.  **Conexión con Otros Temas**\n"
      ]
    },
    {
      "cell_type": "markdown",
      "metadata": {},
      "source": [
        "*   **Conceptos que deberías conocer previamente:**\n",
        "    *   **Tipos de Datos Básicos:** Entender qué son enteros (`int`), flotantes (`float`), cadenas (`str`).\n",
        "    *   **Estructuras de Datos:** Listas, cómo iterar sobre ellas.\n",
        "    *   **Flujo de Control:** Bucles (`for`, `while`), condicionales (`if-elif-else`).\n",
        "    *   **Funciones:** Cómo definir y llamar funciones, pasar argumentos y retornar valores.\n",
        "    *   **Operadores:** Aritméticos ( `/`, `+` ), de asignación."
      ]
    },
    {
      "cell_type": "markdown",
      "metadata": {},
      "source": [
        "*   **Temas futuros para los que este conocimiento será importante:**\n",
        "    *   **Depuración (Debugging):** Entender las excepciones te ayuda a interpretar los mensajes de error y a depurar tu código más eficazmente.\n",
        "    *   **Programación Orientada a Objetos (POO):** Las excepciones son clases. Crear excepciones personalizadas más complejas es una aplicación de POO.\n",
        "    *   **Desarrollo de Módulos y Paquetes:** Al crear bibliotecas, es crucial manejar errores y lanzar excepciones apropiadas para los usuarios de tu código.\n",
        "    *   **Testing:** Escribir pruebas que verifiquen que tu código maneja errores correctamente (ej. `pytest.raises`).\n",
        "    *   **Logging:** Registrar excepciones y errores en archivos de log para diagnóstico posterior.\n",
        "    *   **Desarrollo Web (ej. Django, Flask):** Manejar errores en las solicitudes HTTP, validación de formularios, etc.\n",
        "    *   **Interacción con APIs y Bases de Datos:** Estas operaciones son propensas a errores (red, datos inválidos) y requieren un manejo robusto."
      ]
    },
    {
      "cell_type": "markdown",
      "metadata": {},
      "source": [
        "# 8.  **Aplicaciones en el Mundo Real**\n"
      ]
    },
    {
      "cell_type": "markdown",
      "metadata": {},
      "source": [
        "1.  **Sistemas de Comercio Electrónico:**\n",
        "    *   Cuando un usuario intenta comprar un producto, el sistema debe verificar si hay stock. Si no lo hay, en lugar de fallar, puede lanzar una excepción `StockInsuficienteError`. El frontend (la página web) captura este error y muestra un mensaje amigable al usuario (\"Lo sentimos, este producto está agotado\") en lugar de una página de error genérica.\n",
        "    *   Al procesar un pago, si la tarjeta es rechazada, el sistema de pago devuelve un error. El backend maneja esta excepción y notifica al usuario para que intente con otra tarjeta o método de pago."
      ]
    },
    {
      "cell_type": "markdown",
      "metadata": {},
      "source": [
        "2.  **Software de Procesamiento de Datos Científicos:**\n",
        "    *   Al leer grandes archivos de datos (ej. CSV, HDF5), pueden ocurrir errores como formato incorrecto, datos faltantes o valores corruptos. Un script robusto usará `try-except` para saltar filas problemáticas (quizás registrando el error) o para detenerse graciosamente si el archivo es completamente ilegible, informando al científico sobre el problema exacto.\n",
        "    *   En cálculos numéricos complejos, pueden ocurrir divisiones por cero o desbordamientos numéricos. El manejo de `ArithmeticError` o `FloatingPointError` puede permitir al programa ajustar parámetros, usar un algoritmo alternativo o simplemente marcar ese cálculo como fallido sin detener todo el análisis."
      ]
    }
  ],
  "metadata": {
    "kernelspec": {
      "display_name": "Python 3",
      "language": "python",
      "name": "python3"
    },
    "language_info": {
      "codemirror_mode": {
        "name": "ipython",
        "version": 3
      },
      "file_extension": ".py",
      "mimetype": "text/x-python",
      "name": "python",
      "nbconvert_exporter": "python",
      "pygments_lexer": "ipython3",
      "version": "3.13.3"
    }
  },
  "nbformat": 4,
  "nbformat_minor": 2
}
