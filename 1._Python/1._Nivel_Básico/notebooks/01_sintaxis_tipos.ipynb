{
  "cells": [
    {
      "cell_type": "markdown",
      "metadata": {},
      "source": [
        "# 1.  **Título del Tema**\n"
      ]
    },
    {
      "cell_type": "markdown",
      "metadata": {},
      "source": [
        "**Sintaxis Fundamental y Tipos de Datos Esenciales**"
      ]
    },
    {
      "cell_type": "markdown",
      "metadata": {},
      "source": [
        "# 2.  **Explicación Conceptual Detallada**\n"
      ]
    },
    {
      "cell_type": "markdown",
      "metadata": {},
      "source": [
        "#### Sintaxis en Python"
      ]
    },
    {
      "cell_type": "markdown",
      "metadata": {},
      "source": [
        "*   **Definición y Propósito:** La sintaxis de Python se refiere al conjunto de reglas que definen cómo se escribe un programa Python correctamente estructurado. El propósito es proporcionar una forma clara e inequívoca para que los programadores comuniquen sus intenciones al intérprete de Python (el programa que ejecuta tu código)."
      ]
    },
    {
      "cell_type": "markdown",
      "metadata": {},
      "source": [
        "*   **Conceptos Clave Asociados:**\n",
        "    *   **Palabras Clave (Keywords):** Palabras reservadas con significados especiales en Python (ej: `if`, `for`, `def`, `class`, `True`, `False`, `None`). No puedes usarlas como nombres de variables.\n",
        "    *   **Identificadores:** Nombres que das a variables, funciones, clases, etc. Deben seguir ciertas reglas (empezar con letra o guion bajo, pueden contener letras, números y guion bajo). Python es sensible a mayúsculas y minúsculas (`miVariable` es diferente de `mivariable`).\n",
        "    *   **Comentarios:** Texto que Python ignora, usado para explicar el código. Comienzan con `#` para una línea, o se usan triples comillas `\"\"\" ... \"\"\"` o `''' ... '''` para multilínea (docstrings).\n",
        "    *   **Indentación:** ¡Crucial en Python! Python usa espacios en blanco (generalmente 4 espacios por nivel) al inicio de una línea para definir bloques de código (por ejemplo, el cuerpo de una función, un bucle o una condición). No usa llaves `{}` como otros lenguajes para esto.\n",
        "    *   **Declaraciones (Statements):** Instrucciones que Python puede ejecutar (ej: `x = 5`, `print(\"Hola\")`).\n",
        "    *   **Expresiones (Expressions):** Combinaciones de valores, variables y operadores que se evalúan para producir un valor (ej: `5 + 3`, `x * 2`)."
      ]
    },
    {
      "cell_type": "markdown",
      "metadata": {},
      "source": [
        "*   **\"Gotchas\" o Errores Comunes:**\n",
        "    *   `IndentationError`: Error más común para principiantes, debido a una indentación incorrecta o inconsistente.\n",
        "    *   `SyntaxError`: Ocurre cuando el código no sigue las reglas gramaticales de Python.\n",
        "    *   Olvidar los dos puntos `:` al final de declaraciones que inician un bloque (ej: `if`, `for`, `def`).\n",
        "    *   Sensibilidad a mayúsculas/minúsculas: `variable` y `Variable` son diferentes."
      ]
    },
    {
      "cell_type": "markdown",
      "metadata": {},
      "source": [
        "#### Tipos de Datos en Python\n"
      ]
    },
    {
      "cell_type": "markdown",
      "metadata": {},
      "source": [
        "*   **Definición y Propósito:** Los tipos de datos son clasificaciones que especifican qué tipo de valor tiene una variable y qué tipo de operaciones matemáticas, relacionales o lógicas se pueden aplicar sin causar un error. Python es un lenguaje de **tipado dinámico**, lo que significa que no necesitas declarar explícitamente el tipo de una variable; Python lo infiere en tiempo de ejecución."
      ]
    },
    {
      "cell_type": "markdown",
      "metadata": {},
      "source": [
        "*   **Tipos de Datos Fundamentales:**\n",
        "    *   **Numéricos:**\n",
        "        *   `int`: Números enteros (ej: `-5`, `0`, `100`).\n",
        "        *   `float`: Números de punto flotante (decimales) (ej: `-3.14`, `0.0`, `99.99`).\n",
        "        *   `complex`: Números complejos (ej: `3+5j`) (menos común para empezar).\n",
        "    *   **Secuencias (ordenadas):**\n",
        "        *   `str`: Cadenas de caracteres (texto). Se definen con comillas simples `'...'`, dobles `\"...\"` o triples `'''...'''` o `\"\"\"...\"\"\"`. Son **inmutables**.\n",
        "        *   `list`: Colecciones ordenadas y **mutables** de ítems. Se definen con corchetes `[]` y los elementos separados por comas (ej: `[1, \"hola\", 3.0]`).\n",
        "        *   `tuple`: Colecciones ordenadas e **inmutables** de ítems. Se definen con paréntesis `()` (ej: `(1, \"hola\", 3.0)`).\n",
        "    *   **Mapeo (pares clave-valor):**\n",
        "        *   `dict`: Diccionarios. Colecciones no ordenadas (aunque en Python 3.7+ mantienen el orden de inserción) de pares `clave:valor`. Son **mutables**. Se definen con llaves `{}` (ej: `{\"nombre\": \"Ana\", \"edad\": 30}`).\n",
        "    *   **Conjuntos:**\n",
        "        *   `set`: Colecciones desordenadas de ítems **únicos**. Son **mutables**. Se definen con llaves `{}` pero sin pares clave-valor (ej: `{1, 2, 3}`) o usando `set()`.\n",
        "        *   `frozenset`: Versión **inmutable** de un `set`.\n",
        "    *   **Booleanos:**\n",
        "        *   `bool`: Representa valores de verdad. Solo puede ser `True` o `False`.\n",
        "    *   **Tipo Nulo:**\n",
        "        *   `NoneType`: Tiene un único valor: `None`. Se usa para representar la ausencia de un valor o un estado nulo."
      ]
    },
    {
      "cell_type": "markdown",
      "metadata": {},
      "source": [
        "*   **Importancia:** Conocer los tipos de datos es crucial porque determina:\n",
        "    *   Qué operaciones puedes realizar (ej: no puedes sumar un número a una cadena de texto directamente sin convertir uno de ellos).\n",
        "    *   Cuánta memoria ocupa una variable.\n",
        "    *   Cómo se comportan los datos (mutabilidad vs. inmutabilidad).\n"
      ]
    },
    {
      "cell_type": "markdown",
      "metadata": {},
      "source": [
        "*   **Mutabilidad e Inmutabilidad:**\n",
        "    *   **Objetos Inmutables:** Una vez creados, su valor no puede cambiar. Si intentas \"modificar\" un objeto inmutable, en realidad estás creando un nuevo objeto. Ejemplos: `int`, `float`, `str`, `tuple`, `frozenset`.\n",
        "    *   **Objetos Mutables:** Su valor puede cambiar después de su creación. Ejemplos: `list`, `dict`, `set`.\n"
      ]
    },
    {
      "cell_type": "markdown",
      "metadata": {},
      "source": [
        "*   **Verificación y Conversión de Tipos:**\n",
        "    *   `type()`: Función incorporada para obtener el tipo de un objeto.\n",
        "    *   Conversión de tipos (Type Casting): Funciones como `int()`, `float()`, `str()`, `list()`, `tuple()`, `set()` permiten convertir un valor de un tipo a otro (si la conversión es válida).\n"
      ]
    },
    {
      "cell_type": "markdown",
      "metadata": {},
      "source": [
        "*   **Ventajas de los Tipos de Datos en Python:**\n",
        "    *   **Tipado Dinámico:** Facilita la escritura rápida de código y flexibilidad.\n",
        "    *   **Riqueza de Tipos Incorporados:** Python ofrece una gran variedad de tipos de datos útiles listos para usar.\n"
      ]
    },
    {
      "cell_type": "markdown",
      "metadata": {},
      "source": [
        "*   **Posibles Limitaciones o \"Gotchas\":**\n",
        "    *   El tipado dinámico puede llevar a errores en tiempo de ejecución si no se manejan cuidadosamente los tipos (`TypeError`).\n",
        "    *   La mutabilidad puede tener efectos secundarios inesperados si varias variables apuntan al mismo objeto mutable y una de ellas lo modifica.\n"
      ]
    },
    {
      "cell_type": "markdown",
      "metadata": {},
      "source": [
        "*   **Buenas Prácticas:**\n",
        "    *   Usa nombres de variables descriptivos.\n",
        "    *   Entiende la mutabilidad de los objetos con los que trabajas.\n",
        "    *   Verifica los tipos si recibes datos de fuentes externas o si la lógica de tu programa depende críticamente de ellos.\n",
        "    *   Utiliza comentarios para aclarar el propósito de las variables y las secciones de código complejas."
      ]
    },
    {
      "cell_type": "markdown",
      "metadata": {},
      "source": [
        "# 3.  **Sintaxis y Ejemplos Básicos**\n"
      ]
    },
    {
      "cell_type": "code",
      "execution_count": 8,
      "metadata": {},
      "outputs": [
        {
          "name": "stdout",
          "output_type": "stream",
          "text": [
            "edad: 25 tipo: <class 'int'>,\n",
            "precio: 19.99,  tipo: <class 'float'>\n"
          ]
        }
      ],
      "source": [
        "# Enteros y flotantes\n",
        "edad = 25\n",
        "precio = 19.99\n",
        "print(f\"edad: {edad} tipo: {type(edad)},\\nprecio: {precio},  tipo: {type(precio)}\")"
      ]
    },
    {
      "cell_type": "code",
      "execution_count": 11,
      "metadata": {},
      "outputs": [
        {
          "name": "stdout",
          "output_type": "stream",
          "text": [
            "nombre: Ana tipo: <class 'str'>,\n",
            "mensaje: Hola Mundo,  tipo: <class 'str'>\n"
          ]
        }
      ],
      "source": [
        "# Cadenas\n",
        "nombre = \"Ana\"\n",
        "mensaje = 'Hola Mundo'\n",
        "print(f\"nombre: {nombre} tipo: {type(nombre)},\\nmensaje: {mensaje},  tipo: {type(mensaje)}\")"
      ]
    },
    {
      "cell_type": "code",
      "execution_count": 12,
      "metadata": {},
      "outputs": [
        {
          "name": "stdout",
          "output_type": "stream",
          "text": [
            "es_valido: True tipo: <class 'bool'>,\n",
            "tiene_saldo: False,  tipo: <class 'bool'>\n"
          ]
        }
      ],
      "source": [
        "# Booleanos\n",
        "es_valido = True\n",
        "tiene_saldo = False\n",
        "print(f\"es_valido: {es_valido} tipo: {type(es_valido)},\\ntiene_saldo: {tiene_saldo},  tipo: {type(tiene_saldo)}\")"
      ]
    },
    {
      "cell_type": "code",
      "execution_count": 14,
      "metadata": {},
      "outputs": [
        {
          "name": "stdout",
          "output_type": "stream",
          "text": [
            "frutas: ['manzana', 'banana', 'naranja'] tipo: <class 'list'>\n"
          ]
        }
      ],
      "source": [
        "# Listas\n",
        "frutas = [\"manzana\", \"banana\", \"naranja\"]\n",
        "print(f\"frutas: {frutas} tipo: {type(frutas)}\")"
      ]
    },
    {
      "cell_type": "code",
      "execution_count": 15,
      "metadata": {},
      "outputs": [
        {
          "name": "stdout",
          "output_type": "stream",
          "text": [
            "coordenadas: (40.7128, -74.006) tipo: <class 'tuple'>\n"
          ]
        }
      ],
      "source": [
        "# Tuplas\n",
        "coordenadas = (40.7128, -74.0060)\n",
        "print(f\"coordenadas: {coordenadas} tipo: {type(coordenadas)}\")"
      ]
    },
    {
      "cell_type": "code",
      "execution_count": 16,
      "metadata": {},
      "outputs": [
        {
          "name": "stdout",
          "output_type": "stream",
          "text": [
            "usuario: {'nombre': 'Carlos', 'edad': 30} tipo: <class 'dict'>\n"
          ]
        }
      ],
      "source": [
        "# Diccionarios\n",
        "usuario = {\"nombre\": \"Carlos\", \"edad\": 30}\n",
        "print(f\"usuario: {usuario} tipo: {type(usuario)}\")"
      ]
    },
    {
      "cell_type": "markdown",
      "metadata": {},
      "source": [
        "# 4.  **Documentación y Recursos Clave**\n"
      ]
    },
    {
      "cell_type": "markdown",
      "metadata": {},
      "source": [
        "*   **Documentación Oficial de Python:**\n",
        "    *   [Tipos de Datos Incorporados (Built-in Types)](https://docs.python.org/es/3/library/stdtypes.html)\n",
        "    *   [Introducción Informal a Python (Cubre sintaxis básica)](https://docs.python.org/es/3/tutorial/introduction.html)\n"
      ]
    },
    {
      "cell_type": "markdown",
      "metadata": {},
      "source": [
        "*   **Recursos Externos de Alta Calidad:**\n",
        "    *   [Real Python - Basic Data Types in Python](https://realpython.com/python-data-types/): Un excelente artículo que profundiza en los tipos de datos.\n",
        "    *   [W3Schools - Python Syntax](https://www.w3schools.com/python/python_syntax.asp): Referencia rápida y concisa sobre la sintaxis."
      ]
    },
    {
      "cell_type": "markdown",
      "metadata": {},
      "source": [
        "# 5.  **Ejemplos de Código Prácticos**\n"
      ]
    },
    {
      "cell_type": "markdown",
      "metadata": {},
      "source": [
        "### Ejemplo 1: Explorando Tipos de Datos y Operaciones Básicas"
      ]
    },
    {
      "cell_type": "code",
      "execution_count": null,
      "metadata": {},
      "outputs": [
        {
          "name": "stdout",
          "output_type": "stream",
          "text": [
            "Edad en 5 años: 35\n",
            "Nueva altura: 1.7850000000000001\n",
            "Tipo de saldo_bancario: <class 'float'>\n",
            "---\n",
            "Nombre completo: Ana Pérez\n",
            "Saludo repetido: Hola! Hola! Hola! \n",
            "Primera letra de Ana: A\n",
            "---\n",
            "¿Es Ana mayor de edad?: True\n",
            "¿Tiene Ana buen saldo?: False\n",
            "Tipo de es_mayor_de_edad: <class 'bool'>\n",
            "---\n",
            "Trabajo actual de Ana: None\n",
            "Tipo de trabajo_actual: <class 'NoneType'>\n"
          ]
        }
      ],
      "source": [
        "# Explorando Tipos de Datos y Operaciones Básicas\n",
        "\n",
        "# ---- Variables Numéricas ----\n",
        "edad = 30               # int\n",
        "altura = 1.75           # float\n",
        "saldo_bancario = -50.25 # float (puede ser negativo)\n",
        "\n",
        "# Operaciones numéricas\n",
        "suma_edades = edad + 5\n",
        "nueva_altura = altura * 1.02 # Incremento del 2%\n",
        "print(f\"Edad en 5 años: {suma_edades}\")\n",
        "print(f\"Nueva altura: {nueva_altura}\")\n",
        "print(f\"Tipo de saldo_bancario: {type(saldo_bancario)}\")\n",
        "print(\"---\")\n",
        "\n",
        "# ---- Variables de Texto (Strings) ----\n",
        "nombre = \"Ana\"\n",
        "apellido = \"Pérez\"\n",
        "\n",
        "# Concatenación de strings\n",
        "nombre_completo = nombre + \" \" + apellido\n",
        "print(f\"Nombre completo: {nombre_completo}\")\n",
        "\n",
        "# Repetición de strings\n",
        "saludo_repetido = \"Hola! \" * 3\n",
        "print(f\"Saludo repetido: {saludo_repetido}\")\n",
        "\n",
        "# Acceder a un carácter (los strings son secuencias)\n",
        "primera_letra_nombre = nombre[0]\n",
        "print(f\"Primera letra de {nombre}: {primera_letra_nombre}\")\n",
        "print(\"---\")\n",
        "\n",
        "# ---- Variables Booleanas ----\n",
        "es_mayor_de_edad = edad >= 18\n",
        "tiene_buen_saldo = saldo_bancario > 0\n",
        "print(f\"¿Es Ana mayor de edad?: {es_mayor_de_edad}\")\n",
        "print(f\"¿Tiene Ana buen saldo?: {tiene_buen_saldo}\")\n",
        "print(f\"Tipo de es_mayor_de_edad: {type(es_mayor_de_edad)}\")\n",
        "print(\"---\")\n",
        "\n",
        "# ---- Tipo None ----\n",
        "trabajo_actual = None # Ana actualmente no tiene trabajo\n",
        "print(f\"Trabajo actual de Ana: {trabajo_actual}\")\n",
        "print(f\"Tipo de trabajo_actual: {type(trabajo_actual)}\")"
      ]
    },
    {
      "cell_type": "markdown",
      "metadata": {},
      "source": [
        "### Ejemplo 2: Trabajando con Listas y Diccionarios"
      ]
    },
    {
      "cell_type": "code",
      "execution_count": 22,
      "metadata": {},
      "outputs": [
        {
          "name": "stdout",
          "output_type": "stream",
          "text": [
            "Lista de compras inicial: ['manzanas', 'leche', 'pan', 'huevos']\n",
            "Primer ítem: manzanas\n",
            "Lista de compras modificada: ['manzanas', 'leche deslactosada', 'pan', 'huevos']\n",
            "Lista con nuevo ítem: ['manzanas', 'leche deslactosada', 'pan', 'huevos', 'yogur']\n",
            "Número de ítems en la lista: 5\n",
            "---\n",
            "Información inicial de la persona: {'nombre': 'Carlos', 'edad': 28, 'ciudad': 'Madrid', 'hobbies': ['leer', 'correr', 'cocinar']}\n",
            "Nombre: Carlos, Edad: 28\n",
            "Nombre: Carlos, Apellido: None con .get()\n",
            "Información con ciudad actualizada: {'nombre': 'Carlos', 'edad': 28, 'ciudad': 'Barcelona', 'hobbies': ['leer', 'correr', 'cocinar']}\n",
            "Información con profesión: {'nombre': 'Carlos', 'edad': 28, 'ciudad': 'Barcelona', 'hobbies': ['leer', 'correr', 'cocinar'], 'profesion': 'Ingeniero'}\n",
            "Hobbies de Carlos: ['leer', 'correr', 'cocinar']\n",
            "Primer hobbie de Carlos: leer\n"
          ]
        }
      ],
      "source": [
        "# Celda 2: Trabajando con Listas y Diccionarios\n",
        "\n",
        "# ---- Listas (mutables, ordenadas) ----\n",
        "compras_supermercado = [\"manzanas\", \"leche\", \"pan\", \"huevos\"]\n",
        "print(f\"Lista de compras inicial: {compras_supermercado}\")\n",
        "\n",
        "# Acceder a un elemento (índices empiezan en 0)\n",
        "primer_item = compras_supermercado[0]\n",
        "print(f\"Primer ítem: {primer_item}\")\n",
        "\n",
        "# Modificar un elemento\n",
        "compras_supermercado[1] = \"leche deslactosada\"\n",
        "print(f\"Lista de compras modificada: {compras_supermercado}\")\n",
        "\n",
        "# Añadir un elemento al final\n",
        "compras_supermercado.append(\"yogur\")\n",
        "print(f\"Lista con nuevo ítem: {compras_supermercado}\")\n",
        "\n",
        "# Longitud de la lista\n",
        "num_items = len(compras_supermercado)\n",
        "print(f\"Número de ítems en la lista: {num_items}\")\n",
        "print(\"---\")\n",
        "\n",
        "# ---- Diccionarios (mutables, pares clave-valor) ----\n",
        "informacion_persona = {\n",
        "    \"nombre\": \"Carlos\",\n",
        "    \"edad\": 28,\n",
        "    \"ciudad\": \"Madrid\",\n",
        "    \"hobbies\": [\"leer\", \"correr\", \"cocinar\"]\n",
        "}\n",
        "print(f\"Información inicial de la persona: {informacion_persona}\")\n",
        "\n",
        "# Acceder a un valor usando su clave\n",
        "nombre_persona = informacion_persona[\"nombre\"]\n",
        "\n",
        "edad_persona = informacion_persona.get(\"edad\") # .get() es más seguro si la clave podría no existir\n",
        "print(f\"Nombre: {nombre_persona}, Edad: {edad_persona}\")\n",
        "\n",
        "apellido_persona = informacion_persona.get(\"apellido\") # .get() es más seguro si la clave podría no existir\n",
        "print(f\"Nombre: {nombre_persona}, Apellido: {apellido_persona} con .get()\")\n",
        "\n",
        "# apellido_persona = informacion_persona[\"apellido\"] genera error\n",
        "# print(f\"Nombre: {nombre_persona}, Apellido: {apellido_persona} sin .get()\") genera error\n",
        "\n",
        "# Modificar un valor\n",
        "informacion_persona[\"ciudad\"] = \"Barcelona\"\n",
        "print(f\"Información con ciudad actualizada: {informacion_persona}\")\n",
        "\n",
        "# Añadir un nuevo par clave-valor\n",
        "informacion_persona[\"profesion\"] = \"Ingeniero\"\n",
        "print(f\"Información con profesión: {informacion_persona}\")\n",
        "\n",
        "# Acceder a una lista dentro del diccionario\n",
        "hobbies_carlos = informacion_persona[\"hobbies\"]\n",
        "print(f\"Hobbies de Carlos: {hobbies_carlos}\")\n",
        "print(f\"Primer hobbie de Carlos: {hobbies_carlos[0]}\")"
      ]
    },
    {
      "cell_type": "markdown",
      "metadata": {},
      "source": [
        "### Ejemplo 3: Conversión de Tipos e Inmutabilidad de Strings y Tuplas"
      ]
    },
    {
      "cell_type": "code",
      "execution_count": 23,
      "metadata": {},
      "outputs": [
        {
          "name": "stdout",
          "output_type": "stream",
          "text": [
            "Puntos (str): '150', Tipo: <class 'str'>\n",
            "Puntos (int): 150, Tipo: <class 'int'>\n",
            "Total puntos (float): 175.5, Tipo: <class 'float'>\n",
            "Total de puntos acumulados: 175.5\n",
            "---\n",
            "String original: Hola Mundo\n",
            "String 'modificado' (en realidad nuevo): hola Mundo\n",
            "---\n",
            "Tupla original: (10, 20, 30)\n",
            "Primer elemento de la tupla: 10\n",
            "Tupla 'modificada' (pasando por lista): (5, 20, 30)\n"
          ]
        }
      ],
      "source": [
        "# Celda 3: Conversión de Tipos e Inmutabilidad\n",
        "\n",
        "# ---- Conversión de Tipos ----\n",
        "puntos_str = \"150\"\n",
        "puntos_int = int(puntos_str)  # Convertir string a entero\n",
        "print(f\"Puntos (str): '{puntos_str}', Tipo: {type(puntos_str)}\")\n",
        "print(f\"Puntos (int): {puntos_int}, Tipo: {type(puntos_int)}\")\n",
        "\n",
        "puntos_adicionales = 25.5\n",
        "total_puntos_float = puntos_int + puntos_adicionales # int + float = float\n",
        "print(f\"Total puntos (float): {total_puntos_float}, Tipo: {type(total_puntos_float)}\")\n",
        "\n",
        "# Convertir a string para concatenar\n",
        "mensaje_puntos = \"Total de puntos acumulados: \" + str(total_puntos_float)\n",
        "print(mensaje_puntos)\n",
        "print(\"---\")\n",
        "\n",
        "# ---- Inmutabilidad de Strings ----\n",
        "mi_string = \"Hola Mundo\"\n",
        "print(f\"String original: {mi_string}\")\n",
        "# mi_string[0] = \"h\" # Esto generaría un TypeError: 'str' object does not support item assignment\n",
        "# Para \"modificar\" un string, creamos uno nuevo\n",
        "mi_string_modificado = \"h\" + mi_string[1:]\n",
        "print(f\"String 'modificado' (en realidad nuevo): {mi_string_modificado}\")\n",
        "print(\"---\")\n",
        "\n",
        "# ---- Inmutabilidad de Tuplas ----\n",
        "coordenadas = (10, 20, 30)\n",
        "print(f\"Tupla original: {coordenadas}\")\n",
        "print(f\"Primer elemento de la tupla: {coordenadas[0]}\")\n",
        "# coordenadas[0] = 5 # Esto generaría un TypeError: 'tuple' object does not support item assignment\n",
        "# Si necesitas modificarla, tendrías que convertirla a lista, modificar y luego (opcionalmente) a tupla de nuevo\n",
        "coordenadas_lista = list(coordenadas)\n",
        "coordenadas_lista[0] = 5\n",
        "coordenadas_modificada_tupla = tuple(coordenadas_lista)\n",
        "print(f\"Tupla 'modificada' (pasando por lista): {coordenadas_modificada_tupla}\")"
      ]
    },
    {
      "cell_type": "markdown",
      "metadata": {},
      "source": [
        "# 6.  **Ejercicio Práctico**\n"
      ]
    },
    {
      "cell_type": "markdown",
      "metadata": {},
      "source": [
        "**Título del Ejercicio:** Mini Perfil de Usuario"
      ]
    },
    {
      "cell_type": "markdown",
      "metadata": {},
      "source": [
        "**Descripción:**\n",
        "Vas a crear un pequeño script que almacene y muestre información básica sobre un usuario ficticio."
      ]
    },
    {
      "cell_type": "markdown",
      "metadata": {},
      "source": [
        "1.  **Crea las siguientes variables** con los datos que elijas:\n",
        "    *   `nombre_usuario` (string)\n",
        "    *   `edad_usuario` (integer)\n",
        "    *   `altura_cm_usuario` (integer, ej: 175 para 1.75m)\n",
        "    *   `email_usuario` (string)\n",
        "    *   `es_estudiante_activo` (boolean)\n",
        "    *   `cursos_inscrito` (list de strings, con al menos 2 nombres de cursos)"
      ]
    },
    {
      "cell_type": "markdown",
      "metadata": {},
      "source": [
        "2.  **Convierte la altura de cm a metros** (float) y guárdala en una nueva variable llamada `altura_metros_usuario`. (Pista: 1 metro = 100 cm)."
      ]
    },
    {
      "cell_type": "markdown",
      "metadata": {},
      "source": [
        "3.  **Imprime la información del usuario** de una manera legible y amigable. Deberías mostrar:\n",
        "    *   El nombre del usuario.\n",
        "    *   Su edad.\n",
        "    *   Su altura en metros (con dos decimales).\n",
        "    *   Su email.\n",
        "    *   Si es un estudiante activo o no.\n",
        "    *   El primer curso al que está inscrito.\n",
        "    *   La cantidad total de cursos a los que está inscrito."
      ]
    },
    {
      "cell_type": "markdown",
      "metadata": {},
      "source": [
        "4.  **Verifica e imprime el tipo de dato** de al menos 3 de tus variables (ej: `nombre_usuario`, `altura_metros_usuario`, `cursos_inscrito`)."
      ]
    },
    {
      "cell_type": "code",
      "execution_count": 30,
      "metadata": {},
      "outputs": [
        {
          "name": "stdout",
          "output_type": "stream",
          "text": [
            "nombre_usuario = <class 'str'> ,type: <class 'type'>\n",
            "edad_usuario = <class 'int'> ,type: <class 'type'>\n",
            "altura_cm_usuario = <class 'int'> ,type: <class 'type'>\n",
            "email_usuario = <class 'str'> ,type: <class 'type'>\n",
            "es_estudiante_activo = <class 'bool'> ,type: <class 'type'>\n",
            "cursos_inscritos = <class 'list'> ,type: <class 'type'>\n"
          ]
        }
      ],
      "source": [
        "nombre_usuario = str\n",
        "edad_usuario = int\n",
        "altura_cm_usuario = int\n",
        "email_usuario = str\n",
        "es_estudiante_activo = bool\n",
        "cursos_inscritos = list\n",
        "\n",
        "print(f\"nombre_usuario = {nombre_usuario} ,type: {type(nombre_usuario)}\")\n",
        "print(f\"edad_usuario = {edad_usuario} ,type: {type(edad_usuario)}\")\n",
        "print(f\"altura_cm_usuario = {altura_cm_usuario} ,type: {type(altura_cm_usuario)}\")\n",
        "print(f\"email_usuario = {email_usuario} ,type: {type(email_usuario)}\")\n",
        "print(f\"es_estudiante_activo = {es_estudiante_activo} ,type: {type(es_estudiante_activo)}\")\n",
        "print(f\"cursos_inscritos = {cursos_inscritos} ,type: {type(cursos_inscritos)}\")"
      ]
    },
    {
      "cell_type": "code",
      "execution_count": 36,
      "metadata": {},
      "outputs": [
        {
          "name": "stdout",
          "output_type": "stream",
          "text": [
            "nombre_usuario = nicolas\n",
            "edad_usuario = 20\n",
            "altura_cm_usuario = 170cm\n",
            "email_usuario = nicolas@email\n",
            "es_estudiante_activo = True\n",
            "cursos_inscritos = ['python', 'sql']\n",
            "altura_m_usuairo = 1.7m\n",
            "total_cursos = 2\n"
          ]
        }
      ],
      "source": [
        "nombre_usuario = \"nicolas\"\n",
        "edad_usuario = 20\n",
        "altura_cm_usuario = 170\n",
        "email_usuario = \"nicolas@email\"\n",
        "es_estudiante_activo = True\n",
        "cursos_inscritos = [\"python\",\"sql\"]\n",
        "altura_m_usuairo = altura_cm_usuario/100\n",
        "total_cursos = len(cursos_inscritos)\n",
        "\n",
        "print(f\"nombre_usuario = {nombre_usuario}\") \n",
        "print(f\"edad_usuario = {edad_usuario}\") \n",
        "print(f\"altura_cm_usuario = {altura_cm_usuario}cm\") \n",
        "print(f\"email_usuario = {email_usuario}\") \n",
        "print(f\"es_estudiante_activo = {es_estudiante_activo}\") \n",
        "print(f\"cursos_inscritos = {cursos_inscritos}\") \n",
        "print(f\"altura_m_usuairo = {altura_m_usuairo}m\") \n",
        "print(f\"total_cursos = {total_cursos}\") "
      ]
    },
    {
      "cell_type": "markdown",
      "metadata": {},
      "source": [
        "# 7.  **Conexión con Otros Temas**\n"
      ]
    },
    {
      "cell_type": "markdown",
      "metadata": {},
      "source": [
        "*   **Conceptos que debería conocer previamente:**\n",
        "    *   Realmente, este es el punto de partida. Una idea general de qué es la programación puede ser útil, pero no se requieren conocimientos previos de Python."
      ]
    },
    {
      "cell_type": "markdown",
      "metadata": {},
      "source": [
        "*   **Temas futuros para los que este conocimiento será importante:**\n",
        "    *   **Absolutamente TODO en Python.**\n",
        "    *   **Operadores:** Aprenderás sobre los operadores aritméticos (`+`, `-`, `*`, `/`), de comparación (`==`, `!=`, `>`, `<`), lógicos (`and`, `or`, `not`), etc., que actúan sobre estos tipos de datos.\n",
        "    *   **Estructuras de Control:** `if/elif/else` (condicionales) y `for/while` (bucles) toman decisiones y repiten acciones basadas en valores y tipos de datos (especialmente booleanos y secuencias).\n",
        "    *   **Funciones:** Recibirán argumentos (que tienen tipos) y devolverán valores (que también tienen tipos).\n",
        "    *   **Estructuras de Datos Avanzadas:** Listas, tuplas, diccionarios y sets son la base, pero construirás estructuras más complejas a partir de ellos.\n",
        "    *   **Programación Orientada a Objetos (POO):** Crearás tus propios tipos de datos (clases) que encapsulan datos y comportamientos.\n",
        "    *   **Manejo de Archivos:** Leerás y escribirás datos (que serán strings, números, etc.) desde y hacia archivos.\n",
        "    *   **Librerías y Módulos:** Todas las librerías de Python (NumPy, Pandas, Django, etc.) manipulan estos tipos de datos fundamentales."
      ]
    },
    {
      "cell_type": "markdown",
      "metadata": {},
      "source": [
        "# 8.  **Aplicaciones en el Mundo Real**\n"
      ]
    },
    {
      "cell_type": "markdown",
      "metadata": {},
      "source": [
        "*   **Desarrollo Web:**\n",
        "    *   Almacenar información de usuarios (nombres - `str`, edades - `int`, emails - `str`, perfiles - `dict`).\n",
        "    *   Gestionar el contenido de un blog (títulos - `str`, artículos - `str`, fechas - `datetime` (un tipo más avanzado), etiquetas - `list`).\n",
        "\n"
      ]
    },
    {
      "cell_type": "markdown",
      "metadata": {},
      "source": [
        "*   **Análisis de Datos y Ciencia de Datos:**\n",
        "    *   Procesar conjuntos de datos numéricos (ventas - `float`, conteos - `int`).\n",
        "    *   Manipular datos categóricos (nombres de productos - `str`, regiones - `str`).\n",
        "    *   Resultados de experimentos (mediciones - `float`, observaciones - `list` de `dict`).\n"
      ]
    },
    {
      "cell_type": "markdown",
      "metadata": {},
      "source": [
        "*   **Automatización de Tareas:**\n",
        "    *   Leer nombres de archivos (`str`), tamaños de archivos (`int`).\n",
        "    *   Configuraciones de scripts (parámetros como `True`/`False` - `bool`, umbrales numéricos - `int`/`float`).\n"
      ]
    },
    {
      "cell_type": "markdown",
      "metadata": {},
      "source": [
        "*   **Juegos:**\n",
        "    *   Puntuaciones de jugadores (`int`).\n",
        "    *   Nombres de personajes (`str`).\n",
        "    *   Inventarios (`list` o `dict`).\n",
        "    *   Posiciones en un mapa (coordenadas en `tuple` o `list` de `float`)."
      ]
    }
  ],
  "metadata": {
    "kernelspec": {
      "display_name": "Python 3",
      "language": "python",
      "name": "python3"
    },
    "language_info": {
      "codemirror_mode": {
        "name": "ipython",
        "version": 3
      },
      "file_extension": ".py",
      "mimetype": "text/x-python",
      "name": "python",
      "nbconvert_exporter": "python",
      "pygments_lexer": "ipython3",
      "version": "3.13.3"
    }
  },
  "nbformat": 4,
  "nbformat_minor": 2
}
