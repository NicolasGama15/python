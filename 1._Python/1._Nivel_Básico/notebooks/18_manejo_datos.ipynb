{
  "cells": [
    {
      "cell_type": "markdown",
      "metadata": {},
      "source": [
        "# 1.  **Título del Tema**\n"
      ]
    },
    {
      "cell_type": "markdown",
      "metadata": {},
      "source": [
        "**Manejo de Datos en Python: Introducción a `Pandas`, `NumPy` y `openpyxl`**"
      ]
    },
    {
      "cell_type": "markdown",
      "metadata": {},
      "source": [
        "# 2.  **Explicación Conceptual Detallada**\n"
      ]
    },
    {
      "cell_type": "markdown",
      "metadata": {},
      "source": [
        "**¿Qué son y para qué se utilizan?**\n"
      ]
    },
    {
      "cell_type": "markdown",
      "metadata": {},
      "source": [
        "**A. NumPy: La Base Numérica**\n",
        "\n",
        "*   **Definición y Propósito:** NumPy es la librería fundamental para la computación científica en Python. Su objeto principal es el `ndarray` (N-dimensional array), una estructura de datos que almacena elementos del mismo tipo (generalmente números) en una cuadrícula de dimensiones variables.\n",
        "*   **¿Por qué se utiliza?** Las listas de Python son flexibles pero lentas para operaciones matemáticas. Un `ndarray` de NumPy está implementado en C y almacena los datos en un bloque de memoria contiguo. Esto permite que las operaciones se realicen a nivel de \"código compilado\" (mucho más rápido) en lugar de interpretar cada operación en Python. A esto se le llama **vectorización**.\n",
        "*   **Ventajas:**\n",
        "    *   **Rendimiento:** Extremadamente rápido para operaciones matemáticas.\n",
        "    *   **Eficiencia de Memoria:** Más compacto que las listas de Python para almacenar datos numéricos.\n",
        "    *   **Funcionalidad:** Ofrece una vasta colección de funciones matemáticas de alto nivel.\n",
        "*   **Buenas Prácticas:** Siempre que vayas a realizar operaciones matemáticas sobre una secuencia de números, usa un array de NumPy en lugar de una lista."
      ]
    },
    {
      "cell_type": "markdown",
      "metadata": {},
      "source": [
        "**B. Pandas: El Estándar para el Análisis de Datos**\n",
        "\n",
        "*   **Definición y Propósito:** Pandas es una librería construida sobre NumPy, diseñada para trabajar con datos \"tabulares\" o \"relacionales\" de forma fácil e intuitiva. Proporciona estructuras de datos de alto nivel y herramientas para limpiar, transformar, analizar y visualizar datos.\n",
        "*   **Conceptos Clave:**\n",
        "    *   **`Series`:** Un array unidimensional etiquetado, similar a una columna en una hoja de cálculo. Cada elemento tiene un índice.\n",
        "    *   **`DataFrame`:** Una estructura bidimensional, similar a una tabla de una base de datos o una hoja de Excel. Es la herramienta principal de Pandas. Consta de filas y columnas, donde cada columna es una `Series`.\n",
        "*   **¿Pandas o Polars?**\n",
        "    *   **Pandas** es el estándar de la industria, con una comunidad masiva y una integración perfecta con casi todas las demás librerías de datos de Python. Para aprender los fundamentos, **Pandas es la mejor opción pedagógica**.\n",
        "    *   **Polars** es una alternativa más moderna y extremadamente rápida, escrita en Rust. Utiliza todos los núcleos de tu CPU por defecto. Es una excelente librería para aprender *después* de dominar Pandas, especialmente cuando trabajes con datasets muy grandes. Hoy nos centraremos en Pandas para construir una base sólida.\n",
        "*   **Ventajas:**\n",
        "    *   **Manejo de Datos Faltantes:** Herramientas robustas para encontrar y tratar valores `NaN` (Not a Number).\n",
        "    *   **Carga y Escritura de Datos:** Lee y escribe fácilmente desde/hacia múltiples formatos (CSV, Excel, SQL, etc.).\n",
        "    *   **Manipulación Potente:** Permite filtrar, agrupar (groupby), fusionar (merge), pivotar y remodelar datos con facilidad.\n",
        "*   **Error Común:** Un error común es intentar iterar sobre un DataFrame fila por fila con un bucle `for`. Esto es muy ineficiente. La forma \"pandástica\" de pensar es usar operaciones vectorizadas, que se aplican a columnas enteras a la vez."
      ]
    },
    {
      "cell_type": "markdown",
      "metadata": {},
      "source": [
        "**C. Openpyxl: El Motor de Excel**\n",
        "\n",
        "*   **Definición y Propósito:** Es una librería que permite a Python leer y escribir archivos de Excel 2010 (`.xlsx`).\n",
        "*   **¿Cómo funciona?** Pandas la utiliza como un \"motor\" (engine). Cuando tú escribes `pd.read_excel('mi_archivo.xlsx')`, Pandas llama internamente a `openpyxl` para que haga el trabajo pesado de interpretar el archivo Excel y devolver los datos en un formato que Pandas entienda. No necesitas interactuar directamente con `openpyxl` para tareas básicas, pero sí **necesitas tenerla instalada**."
      ]
    },
    {
      "cell_type": "markdown",
      "metadata": {},
      "source": [
        "# 3.  **Sintaxis y Ejemplos Básicos**\n"
      ]
    },
    {
      "cell_type": "code",
      "execution_count": 6,
      "metadata": {},
      "outputs": [
        {
          "name": "stdout",
          "output_type": "stream",
          "text": [
            "Array de NumPy:\n",
            "[1 2 3 4 5]\n",
            "\n",
            "Array multiplicado por 2:\n",
            "[ 2  4  6  8 10]\n",
            "\n",
            "Serie de Pandas:\n",
            "0    a\n",
            "1    b\n",
            "2    c\n",
            "3    d\n",
            "Name: Letras, dtype: object\n",
            "\n",
            "DataFrame de Pandas:\n",
            "  Nombre  Edad     Ciudad\n",
            "0    Ana    28     Madrid\n",
            "1   Luis    34  Barcelona\n",
            "2  Marta    29   Valencia\n",
            "3   Juan    42     Madrid\n"
          ]
        }
      ],
      "source": [
        "# Primero, asegúrate de que las librerías están instaladas.\n",
        "# Puedes ejecutar esto directamente en una celda de Jupyter.\n",
        "# !pip install pandas numpy openpyxl\n",
        "\n",
        "# Ahora, importemos las librerías con sus alias estándar.\n",
        "import numpy as np\n",
        "import pandas as pd\n",
        "\n",
        "# --- NumPy Básico ---\n",
        "# Crear un array de NumPy desde una lista de Python\n",
        "lista_numeros = [1, 2, 3, 4, 5]\n",
        "array_np = np.array(lista_numeros)\n",
        "print(\"Array de NumPy:\")\n",
        "print(array_np)\n",
        "# Realizar una operación vectorizada (multiplicar todo por 2)\n",
        "print(\"\\nArray multiplicado por 2:\")\n",
        "print(array_np * 2)\n",
        "\n",
        "# --- Pandas Básico ---\n",
        "# Crear una Serie de Pandas (una columna)\n",
        "serie_pd = pd.Series(['a', 'b', 'c', 'd'], name='Letras')\n",
        "print(\"\\nSerie de Pandas:\")\n",
        "print(serie_pd)\n",
        "\n",
        "# Crear un DataFrame de Pandas (una tabla) desde un diccionario\n",
        "datos = {\n",
        "    'Nombre': ['Ana', 'Luis', 'Marta', 'Juan'],\n",
        "    'Edad': [28, 34, 29, 42],\n",
        "    'Ciudad': ['Madrid', 'Barcelona', 'Valencia', 'Madrid']\n",
        "}\n",
        "df = pd.DataFrame(datos)\n",
        "print(\"\\nDataFrame de Pandas:\")\n",
        "print(df)"
      ]
    },
    {
      "cell_type": "markdown",
      "metadata": {},
      "source": [
        "# 4.  **Documentación y Recursos Clave**\n"
      ]
    },
    {
      "cell_type": "markdown",
      "metadata": {},
      "source": [
        "*   **Documentación Oficial:**\n",
        "    *   [Documentación de Pandas](https://pandas.pydata.org/docs/)\n",
        "    *   [Documentación de NumPy](https://numpy.org/doc/stable/)\n",
        "    *   [Documentación de openpyxl](https://openpyxl.readthedocs.io/en/stable/)"
      ]
    },
    {
      "cell_type": "markdown",
      "metadata": {},
      "source": [
        "*   **Recursos Externos de Alta Calidad:**\n",
        "    *   [**10 Minutes to pandas**](https://pandas.pydata.org/pandas-docs/stable/user_guide/10min.html): El tutorial oficial de inicio rápido. ¡Muy recomendado!\n",
        "    *   [**NumPy: The Absolute Basics for Beginners**](https://numpy.org/doc/stable/user_guide/absolute_beginners.html): Una guía muy amigable para empezar con NumPy."
      ]
    },
    {
      "cell_type": "markdown",
      "metadata": {},
      "source": [
        "# 5.  **Ejemplos de Código Prácticos**\n"
      ]
    },
    {
      "cell_type": "markdown",
      "metadata": {},
      "source": [
        "#### **Ejemplo 1: Creación, Inspección y Selección Básica en un DataFrame**"
      ]
    },
    {
      "cell_type": "code",
      "execution_count": 8,
      "metadata": {},
      "outputs": [
        {
          "name": "stdout",
          "output_type": "stream",
          "text": [
            "--- Primeras 3 filas del DataFrame ---\n",
            "   ID_Empleado  Nombre Departamento  Salario Fecha_Contrato\n",
            "0          101  Carlos       Ventas    50000     2021-06-01\n",
            "1          102   Sofia           IT    75000     2020-03-15\n",
            "2          103   Pedro       Ventas    52000     2021-07-20\n",
            "\n",
            "--- Información general del DataFrame ---\n",
            "<class 'pandas.core.frame.DataFrame'>\n",
            "RangeIndex: 5 entries, 0 to 4\n",
            "Data columns (total 5 columns):\n",
            " #   Column          Non-Null Count  Dtype         \n",
            "---  ------          --------------  -----         \n",
            " 0   ID_Empleado     5 non-null      int64         \n",
            " 1   Nombre          5 non-null      object        \n",
            " 2   Departamento    5 non-null      object        \n",
            " 3   Salario         5 non-null      int64         \n",
            " 4   Fecha_Contrato  5 non-null      datetime64[ns]\n",
            "dtypes: datetime64[ns](1), int64(2), object(2)\n",
            "memory usage: 332.0+ bytes\n",
            "\n",
            "--- Estadísticas descriptivas de las columnas numéricas ---\n",
            "       ID_Empleado       Salario       Fecha_Contrato\n",
            "count     5.000000      5.000000                    5\n",
            "mean    103.000000  63400.000000  2021-01-03 00:00:00\n",
            "min     101.000000  50000.000000  2019-11-05 00:00:00\n",
            "25%     102.000000  52000.000000  2020-03-15 00:00:00\n",
            "50%     103.000000  60000.000000  2021-06-01 00:00:00\n",
            "75%     104.000000  75000.000000  2021-07-20 00:00:00\n",
            "max     105.000000  80000.000000  2022-01-10 00:00:00\n",
            "std       1.581139  13520.355025                  NaN\n",
            "\n",
            "--- Seleccionar solo la columna 'Nombre' ---\n",
            "0    Carlos\n",
            "1     Sofia\n",
            "2     Pedro\n",
            "3     Laura\n",
            "4     David\n",
            "Name: Nombre, dtype: object\n",
            "\n",
            "--- Seleccionar las columnas 'Nombre' y 'Salario' ---\n",
            "   Nombre  Salario\n",
            "0  Carlos    50000\n",
            "1   Sofia    75000\n",
            "2   Pedro    52000\n",
            "3   Laura    60000\n",
            "4   David    80000\n",
            "\n",
            "--- Seleccionar empleados del departamento de 'IT' (filtrado booleano) ---\n",
            "   ID_Empleado Nombre Departamento  Salario Fecha_Contrato\n",
            "1          102  Sofia           IT    75000     2020-03-15\n",
            "4          105  David           IT    80000     2019-11-05\n"
          ]
        }
      ],
      "source": [
        "import pandas as pd\n",
        "\n",
        "# Datos de empleados\n",
        "data = {\n",
        "    'ID_Empleado': [101, 102, 103, 104, 105],\n",
        "    'Nombre': ['Carlos', 'Sofia', 'Pedro', 'Laura', 'David'],\n",
        "    'Departamento': ['Ventas', 'IT', 'Ventas', 'Marketing', 'IT'],\n",
        "    'Salario': [50000, 75000, 52000, 60000, 80000],\n",
        "    'Fecha_Contrato': pd.to_datetime(['2021-06-01', '2020-03-15', '2021-07-20', '2022-01-10', '2019-11-05'])\n",
        "}\n",
        "empleados_df = pd.DataFrame(data)\n",
        "\n",
        "# --- Inspección del DataFrame ---\n",
        "print(\"--- Primeras 3 filas del DataFrame ---\")\n",
        "print(empleados_df.head(3))\n",
        "\n",
        "print(\"\\n--- Información general del DataFrame ---\")\n",
        "empleados_df.info()\n",
        "\n",
        "print(\"\\n--- Estadísticas descriptivas de las columnas numéricas ---\")\n",
        "print(empleados_df.describe())\n",
        "\n",
        "# --- Selección de Datos ---\n",
        "print(\"\\n--- Seleccionar solo la columna 'Nombre' ---\")\n",
        "nombres = empleados_df['Nombre']\n",
        "print(nombres)\n",
        "\n",
        "print(\"\\n--- Seleccionar las columnas 'Nombre' y 'Salario' ---\")\n",
        "nombre_salario = empleados_df[['Nombre', 'Salario']]\n",
        "print(nombre_salario)\n",
        "\n",
        "print(\"\\n--- Seleccionar empleados del departamento de 'IT' (filtrado booleano) ---\")\n",
        "empleados_it = empleados_df[empleados_df['Departamento'] == 'IT']\n",
        "print(empleados_it)"
      ]
    },
    {
      "cell_type": "markdown",
      "metadata": {},
      "source": [
        "#### **Ejemplo 2: Creación de un Archivo Excel, Lectura y Análisis Básico**"
      ]
    },
    {
      "cell_type": "code",
      "execution_count": 9,
      "metadata": {},
      "outputs": [
        {
          "name": "stdout",
          "output_type": "stream",
          "text": [
            "Archivo 'reporte_ventas.xlsx' guardado con éxito.\n",
            "\n",
            "--- Contenido leído del archivo Excel ---\n",
            "  Producto  Cantidad  Precio_Unitario\n",
            "0   Laptop         5             1200\n",
            "1    Mouse        10               25\n",
            "2  Teclado         8               75\n",
            "3  Monitor         3              300\n",
            "4   Laptop         3             1150\n",
            "5    Mouse        12               27\n",
            "6    Mouse         5               26\n",
            "\n",
            "--- DataFrame con la nueva columna 'Ingreso_Total' ---\n",
            "  Producto  Cantidad  Precio_Unitario  Ingreso_Total\n",
            "0   Laptop         5             1200           6000\n",
            "1    Mouse        10               25            250\n",
            "2  Teclado         8               75            600\n",
            "3  Monitor         3              300            900\n",
            "4   Laptop         3             1150           3450\n",
            "5    Mouse        12               27            324\n",
            "6    Mouse         5               26            130\n",
            "\n",
            "--- Total de unidades vendidas por producto ---\n",
            "Producto\n",
            "Laptop      8\n",
            "Monitor     3\n",
            "Mouse      27\n",
            "Teclado     8\n",
            "Name: Cantidad, dtype: int64\n"
          ]
        }
      ],
      "source": [
        "# Celda 2: Crear y guardar el archivo Excel\n",
        "import pandas as pd\n",
        "import os\n",
        "\n",
        "# Datos de ventas de productos\n",
        "ventas_data = {\n",
        "    'Producto': ['Laptop', 'Mouse', 'Teclado', 'Monitor', 'Laptop', 'Mouse', 'Mouse'],\n",
        "    'Cantidad': [5, 10, 8, 3, 3, 12, 5],\n",
        "    'Precio_Unitario': [1200, 25, 75, 300, 1150, 27, 26]\n",
        "}\n",
        "ventas_df = pd.DataFrame(ventas_data)\n",
        "\n",
        "# Nombre del archivo\n",
        "nombre_archivo_excel = 'reporte_ventas.xlsx'\n",
        "\n",
        "# Guardar el DataFrame en un archivo Excel\n",
        "# engine='openpyxl' es necesario para el formato .xlsx\n",
        "# index=False evita que Pandas guarde el índice del DataFrame como una columna en el Excel\n",
        "ventas_df.to_excel(nombre_archivo_excel, sheet_name='Ventas_Enero', index=False, engine='openpyxl')\n",
        "\n",
        "print(f\"Archivo '{nombre_archivo_excel}' guardado con éxito.\")\n",
        "\n",
        "# Celda 3: Leer el archivo Excel y analizarlo\n",
        "# Asegurarnos de que el archivo existe antes de leerlo\n",
        "if os.path.exists(nombre_archivo_excel):\n",
        "    # Leer los datos desde el archivo Excel\n",
        "    df_leido = pd.read_excel(nombre_archivo_excel, engine='openpyxl')\n",
        "\n",
        "    print(\"\\n--- Contenido leído del archivo Excel ---\")\n",
        "    print(df_leido)\n",
        "\n",
        "    # --- Análisis Básico ---\n",
        "    # 1. Calcular una nueva columna 'Ingreso_Total'\n",
        "    df_leido['Ingreso_Total'] = df_leido['Cantidad'] * df_leido['Precio_Unitario']\n",
        "    print(\"\\n--- DataFrame con la nueva columna 'Ingreso_Total' ---\")\n",
        "    print(df_leido)\n",
        "\n",
        "    # 2. Calcular el total de unidades vendidas por producto (usando groupby)\n",
        "    ventas_por_producto = df_leido.groupby('Producto')['Cantidad'].sum()\n",
        "    print(\"\\n--- Total de unidades vendidas por producto ---\")\n",
        "    print(ventas_por_producto)\n",
        "else:\n",
        "    print(f\"El archivo '{nombre_archivo_excel}' no se encontró.\")"
      ]
    },
    {
      "cell_type": "markdown",
      "metadata": {},
      "source": [
        "#### **Ejemplo 3: Integración de Pandas y NumPy**"
      ]
    },
    {
      "cell_type": "code",
      "execution_count": null,
      "metadata": {},
      "outputs": [
        {
          "name": "stdout",
          "output_type": "stream",
          "text": [
            "--- DataFrame Original ---\n",
            "  Ticker  Precio  Volatilidad_Anual\n",
            "0  GOOGL   140.5               0.25\n",
            "1   AAPL   175.2               0.22\n",
            "2   MSFT   330.8               0.20\n",
            "3   AMZN   135.4               0.30\n",
            "\n",
            "Tipo de 'precios_np': <class 'numpy.ndarray'>\n",
            "\n",
            "Logaritmo natural de los precios (calculado con NumPy):\n",
            "[4.94520749 5.16592818 5.80151396 4.90823336]\n",
            "\n",
            "--- DataFrame actualizado con el cálculo de NumPy ---\n",
            "  Ticker  Precio  Volatilidad_Anual  Log_Precio\n",
            "0  GOOGL   140.5               0.25    4.945207\n",
            "1   AAPL   175.2               0.22    5.165928\n",
            "2   MSFT   330.8               0.20    5.801514\n",
            "3   AMZN   135.4               0.30    4.908233\n"
          ]
        }
      ],
      "source": [
        "import pandas as pd\n",
        "import numpy as np\n",
        "\n",
        "datos_financieros = {\n",
        "    'Ticker': ['GOOGL', 'AAPL', 'MSFT', 'AMZN'],\n",
        "    'Precio': [140.5, 175.2, 330.8, 135.4],\n",
        "    'Volatilidad_Anual': [0.25, 0.22, 0.20, 0.30] # Desviación estándar de los retornos\n",
        "}\n",
        "df_acciones = pd.DataFrame(datos_financieros)\n",
        "\n",
        "print(\"--- DataFrame Original ---\")\n",
        "print(df_acciones)\n",
        "\n",
        "# Extraer la columna 'Precio' como un array de NumPy para cálculos eficientes\n",
        "precios_np = df_acciones['Precio'].to_numpy()\n",
        "print(f\"\\nTipo de 'precios_np': {type(precios_np)}\")\n",
        "\n",
        "# Usar una función de NumPy (logaritmo natural) sobre el array\n",
        "log_precios = np.log(precios_np)\n",
        "print(\"\\nLogaritmo natural de los precios (calculado con NumPy):\")\n",
        "print(log_precios)\n",
        "\n",
        "# Añadir este resultado de vuelta al DataFrame de Pandas\n",
        "df_acciones['Log_Precio'] = log_precios\n",
        "\n",
        "print(\"\\n--- DataFrame actualizado con el cálculo de NumPy ---\")\n",
        "print(df_acciones)"
      ]
    },
    {
      "cell_type": "code",
      "execution_count": 11,
      "metadata": {},
      "outputs": [
        {
          "name": "stdout",
          "output_type": "stream",
          "text": [
            "--- DataFrame Original ---\n",
            "  Ticker  Precio  Volatilidad_Anual\n",
            "0  GOOGL   140.5               0.25\n",
            "1   AAPL   175.2               0.22\n",
            "2   MSFT   330.8               0.20\n",
            "3   AMZN   135.4               0.30\n",
            "\n",
            "--- DataFrame actualizado con el cálculo de NumPy ---\n",
            "  Ticker  Precio  Volatilidad_Anual  Log_Precio\n",
            "0  GOOGL   140.5               0.25    4.945207\n",
            "1   AAPL   175.2               0.22    5.165928\n",
            "2   MSFT   330.8               0.20    5.801514\n",
            "3   AMZN   135.4               0.30    4.908233\n"
          ]
        }
      ],
      "source": [
        "import pandas as pd\n",
        "import numpy as np\n",
        "\n",
        "datos_financieros = {\n",
        "    'Ticker': ['GOOGL', 'AAPL', 'MSFT', 'AMZN'],\n",
        "    'Precio': [140.5, 175.2, 330.8, 135.4],\n",
        "    'Volatilidad_Anual': [0.25, 0.22, 0.20, 0.30] # Desviación estándar de los retornos\n",
        "}\n",
        "df_acciones = pd.DataFrame(datos_financieros)\n",
        "\n",
        "print(\"--- DataFrame Original ---\")\n",
        "print(df_acciones)\n",
        "\n",
        "# Añadir este resultado de vuelta al DataFrame de Pandas\n",
        "df_acciones['Log_Precio'] = np.log(df_acciones['Precio'].to_numpy())\n",
        "\n",
        "print(\"\\n--- DataFrame actualizado con el cálculo de NumPy ---\")\n",
        "print(df_acciones)"
      ]
    },
    {
      "cell_type": "markdown",
      "metadata": {},
      "source": [
        "# 6.  **Ejercicio Práctico**\n"
      ]
    },
    {
      "cell_type": "markdown",
      "metadata": {},
      "source": [
        "Imagina que eres un profesor y tienes las calificaciones de tus alumnos en un archivo Excel. Quieres realizar un análisis para determinar quiénes han aprobado y obtener un ranking de las mejores notas.\n",
        "\n",
        "**Tu Tarea:**\n",
        "\n",
        "1.  **Crear los Datos:** Ejecuta la celda de \"Preparación\" que te proporciono a continuación para generar el archivo `calificaciones_curso.xlsx`.\n",
        "2.  **Cargar y Analizar:**\n",
        "    *   Carga los datos del archivo `calificaciones_curso.xlsx` en un DataFrame de Pandas.\n",
        "    *   La **\"Nota Final\"** se calcula como el 40% de la \"Nota_Parcial\" más el 60% de la \"Nota_Examen\". Crea una nueva columna llamada `\"Nota_Final\"` con este cálculo.\n",
        "    *   Crea una columna booleana (True/False) llamada `\"Aprobado\"` que sea `True` si la `\"Nota_Final\"` es mayor o igual a 5.0, y `False` en caso contrario.\n",
        "    *   Filtra el DataFrame para obtener un nuevo DataFrame llamado `aprobados_df` que contenga únicamente a los estudiantes que han aprobado.\n",
        "    *   Ordena `aprobados_df` de mayor a menor según la `\"Nota_Final\"`.\n",
        "    *   Guarda este DataFrame de aprobados y ordenado en un nuevo archivo Excel llamado `ranking_aprobados.xlsx`, sin incluir el índice.\n",
        "3.  **Verificación:** Imprime por pantalla las primeras 5 filas del DataFrame de aprobados y ordenado.\n"
      ]
    },
    {
      "cell_type": "code",
      "execution_count": 12,
      "metadata": {},
      "outputs": [
        {
          "name": "stdout",
          "output_type": "stream",
          "text": [
            "Archivo 'calificaciones_curso.xlsx' creado. ¡Ya puedes empezar tu ejercicio!\n"
          ]
        }
      ],
      "source": [
        "# --- Celda de Preparación del Ejercicio ---\n",
        "import pandas as pd\n",
        "\n",
        "datos_estudiantes = {\n",
        "    'ID_Estudiante': range(201, 216),\n",
        "    'Nombre': ['Elena', 'Marcos', 'Beatriz', 'Daniel', 'Lucia', 'Hugo', 'Valeria', 'Pablo', 'Paula', 'Adrian', 'Jimena', 'Sergio', 'Carla', 'Diego', 'Alba'],\n",
        "    'Nota_Parcial': [6.5, 4.0, 8.0, 9.5, 3.0, 7.5, 8.5, 2.5, 5.0, 6.0, 9.0, 4.5, 7.0, 8.0, 5.5],\n",
        "    'Nota_Examen': [7.0, 5.5, 8.5, 9.0, 4.0, 6.0, 9.5, 3.0, 4.5, 7.5, 9.5, 5.0, 8.0, 7.5, 6.0]\n",
        "}\n",
        "df_calificaciones = pd.DataFrame(datos_estudiantes)\n",
        "df_calificaciones.to_excel('calificaciones_curso.xlsx', index=False, engine='openpyxl')\n",
        "\n",
        "print(\"Archivo 'calificaciones_curso.xlsx' creado. ¡Ya puedes empezar tu ejercicio!\")"
      ]
    },
    {
      "cell_type": "code",
      "execution_count": null,
      "metadata": {},
      "outputs": [
        {
          "name": "stdout",
          "output_type": "stream",
          "text": [
            "    ID_Estudiante   Nombre  Nota_Parcial  Nota_Examen  Nota_Final  Aprobado\n",
            "10            211   Jimena           9.0          9.5         9.3      True\n",
            "3             204   Daniel           9.5          9.0         9.2      True\n",
            "6             207  Valeria           8.5          9.5         9.1      True\n",
            "2             203  Beatriz           8.0          8.5         8.3      True\n",
            "13            214    Diego           8.0          7.5         7.7      True\n"
          ]
        }
      ],
      "source": [
        "import pandas as pd\n",
        "import numpy as np\n",
        "\n",
        "# Leer el documento\n",
        "try: \n",
        "    df_c = pd.read_excel(\"calificaciones_curso.xlsx\",)\n",
        "except FileNotFoundError:\n",
        "    print(\"error al leer el archivo\")\n",
        "\n",
        "# print(df_c.head(5))\n",
        "# Crear columna Nota final\n",
        "df_c[\"Nota_Final\"] = df_c[\"Nota_Parcial\"]*0.4 + df_c[\"Nota_Examen\"]*0.6\n",
        "\n",
        "# print(df_c.head(5))\n",
        "# Crear columna Aprobado\n",
        "df_c[\"Aprobado\"] = df_c[\"Nota_Final\"] >= 5.0\n",
        "\n",
        "# print(df_c.head(5))\n",
        "# Filtrar solo los Aprobados\n",
        "aprobados_df = df_c[df_c[\"Aprobado\"]]\n",
        "\n",
        "# print(aprobados_df.head(5))\n",
        "# Ordernar segun la Nota final\n",
        "aprobados_df = aprobados_df.sort_values(by = [\"Nota_Final\"], ascending=False)\n",
        "\n",
        "print(aprobados_df.head(5))\n",
        "# Exportar el documento\n",
        "aprobados_df.to_excel(\"ranking_aprobados.xlsx\", index=False)"
      ]
    },
    {
      "cell_type": "markdown",
      "metadata": {},
      "source": [
        "# 7.  **Conexión con Otros Temas**\n"
      ]
    },
    {
      "cell_type": "markdown",
      "metadata": {},
      "source": [
        "*   **Conceptos Previos:** Es fundamental tener una buena base de los tipos de datos de Python, especialmente **listas** y **diccionarios**, ya que son la forma más común de crear DataFrames manualmente.\n",
        "*   **Temas Futuros:**\n",
        "    *   **Visualización de Datos (`Matplotlib` y `Seaborn`):** Una vez que tienes tus datos limpios y analizados en Pandas, el siguiente paso lógico es crear gráficos (barras, líneas, histogramas) para comunicar tus hallazgos. Estas librerías se integran a la perfección con Pandas.\n",
        "    *   **Machine Learning (`Scikit-learn`):** Los DataFrames de Pandas son el formato de entrada estándar para la mayoría de los modelos de machine learning. Preparar tus datos con Pandas es el 90% del trabajo en un proyecto de machine learning."
      ]
    },
    {
      "cell_type": "markdown",
      "metadata": {},
      "source": [
        "# 8.  **Aplicaciones en el Mundo Real**\n"
      ]
    },
    {
      "cell_type": "markdown",
      "metadata": {},
      "source": [
        "1.  **Análisis de Negocio:** Una empresa de e-commerce utiliza Pandas para analizar millones de transacciones, agruparlas por categoría de producto, calcular la rentabilidad y encontrar los clientes más valiosos.\n",
        "2.  **Investigación Científica:** Un biólogo podría registrar datos de un experimento en un archivo CSV o Excel. Luego, usaría Pandas para cargarlos, limpiar datos anómalos, calcular estadísticas y NumPy para aplicar transformaciones matemáticas complejas antes de publicar sus resultados."
      ]
    },
    {
      "cell_type": "markdown",
      "metadata": {},
      "source": [
        "# 9. **Cheat Sheet (Hoja de Trucos)**"
      ]
    },
    {
      "cell_type": "markdown",
      "metadata": {},
      "source": [
        "#### **`NumPy`**\n",
        "| Código | Descripción |\n",
        "| :--- | :--- |\n",
        "| `import numpy as np` | Importación estándar. |\n",
        "| `np.array(lista)` | Crea un array de NumPy a partir de una lista. |\n",
        "| `array.shape` | Devuelve una tupla con las dimensiones del array. |\n",
        "| `array.dtype` | Devuelve el tipo de datos de los elementos del array. |\n",
        "| `np.arange(inicio, fin)` | Crea un array con un rango de números. |\n",
        "| `np.zeros(shape)` | Crea un array de ceros con la forma dada. |\n",
        "| `np.ones(shape)` | Crea un array de unos con la forma dada. |\n",
        "| `array * 2`, `array + 5` | Operaciones aritméticas vectorizadas. |\n",
        "| `np.sqrt(array)` | Aplica la raíz cuadrada a cada elemento. |\n",
        "| `np.log(array)` | Aplica el logaritmo natural a cada elemento. |\n",
        "\n",
        "#### **`Pandas` (Creación e Inspección)**\n",
        "| Código | Descripción |\n",
        "| :--- | :--- |\n",
        "| `import pandas as pd` | Importación estándar. |\n",
        "| `pd.Series(datos)` | Crea un objeto Series (una columna). |\n",
        "| `pd.DataFrame(diccionario)`| Crea un DataFrame a partir de un diccionario. |\n",
        "| `df.head(n)` | Muestra las primeras `n` filas (5 por defecto). |\n",
        "| `df.tail(n)` | Muestra las últimas `n` filas (5 por defecto). |\n",
        "| `df.info()` | Muestra un resumen técnico del DataFrame. |\n",
        "| `df.describe()` | Muestra estadísticas descriptivas para columnas numéricas. |\n",
        "| `df.shape` | Devuelve una tupla `(filas, columnas)`. |\n",
        "| `df.columns` | Devuelve los nombres de las columnas. |\n",
        "| `df.dtypes` | Devuelve los tipos de datos de cada columna. |\n",
        "\n",
        "#### **`Pandas` (Selección y Manipulación)**\n",
        "| Código | Descripción |\n",
        "| :--- | :--- |\n",
        "| `df['columna']` | Selecciona una columna como una Serie. |\n",
        "| `df[['col1', 'col2']]` | Selecciona múltiples columnas como un DataFrame. |\n",
        "| `df.loc[fila, columna]` | Selección por etiqueta/nombre. |\n",
        "| `df.iloc[fila_idx, col_idx]` | Selección por posición entera (índice). |\n",
        "| `df[df['col'] > valor]` | Filtrado booleano. |\n",
        "| `df.sort_values(by='col')`| Ordena el DataFrame por una columna. |\n",
        "| `df.groupby('col').sum()`| Agrupa por una columna y aplica una función (ej. `sum`). |\n",
        "| `df['nueva_col'] = ...` | Crea o modifica una columna. |\n",
        "| `df.drop('col', axis=1)` | Elimina una columna. |\n",
        "| `df.to_numpy()` | Convierte el DataFrame (o una Serie) a un array NumPy. |\n",
        "\n",
        "#### **`Pandas` (Lectura y Escritura - I/O)**\n",
        "| Código | Descripción |\n",
        "| :--- | :--- |\n",
        "| `pd.read_excel('f.xlsx')` | Lee datos de un archivo Excel. |\n",
        "| `pd.read_csv('f.csv')` | Lee datos de un archivo CSV. |\n",
        "| `df.to_excel('f.xlsx', index=False)` | Guarda en Excel sin el índice. |\n",
        "| `df.to_csv('f.csv', index=False)` | Guarda en CSV sin el índice. |"
      ]
    }
  ],
  "metadata": {
    "kernelspec": {
      "display_name": ".venv",
      "language": "python",
      "name": "python3"
    },
    "language_info": {
      "codemirror_mode": {
        "name": "ipython",
        "version": 3
      },
      "file_extension": ".py",
      "mimetype": "text/x-python",
      "name": "python",
      "nbconvert_exporter": "python",
      "pygments_lexer": "ipython3",
      "version": "3.13.3"
    }
  },
  "nbformat": 4,
  "nbformat_minor": 2
}
