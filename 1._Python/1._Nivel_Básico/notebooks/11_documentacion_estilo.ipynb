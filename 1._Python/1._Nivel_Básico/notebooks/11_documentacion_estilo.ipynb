{
  "cells": [
    {
      "cell_type": "markdown",
      "metadata": {},
      "source": [
        "# 1.  **Título del Tema**\n"
      ]
    },
    {
      "cell_type": "markdown",
      "metadata": {},
      "source": [
        "**Documentación y Estilo de Código en Python: Escribiendo Código Claro y Mantenible**"
      ]
    },
    {
      "cell_type": "markdown",
      "metadata": {},
      "source": [
        "# 2.  **Explicación Conceptual Detallada**\n"
      ]
    },
    {
      "cell_type": "markdown",
      "metadata": {},
      "source": [
        "*   **¿Qué es y para qué se utiliza?**\n",
        "    *   **Estilo de Código (PEP 8):** Se refiere a un conjunto de convenciones y guías sobre cómo formatear y escribir código Python. El objetivo principal es mejorar la legibilidad y consistencia del código. Cuando todos escriben siguiendo las mismas reglas, es más fácil leer y entender el código de otros. **PEP 8** (Python Enhancement Proposal 8) es la guía de estilo oficial para el código Python.\n",
        "    *   **Documentación (Docstrings):** Son cadenas de texto literales que aparecen justo después de la definición de un módulo, función, clase o método. Se utilizan para explicar qué hace ese bloque de código, cómo usarlo, qué parámetros espera y qué devuelve. Son una forma de documentación integrada en el propio código.\n",
        "    *   **Herramientas:**\n",
        "        *   **`pydoc`**: Es una herramienta que viene con Python y permite generar documentación HTML o mostrarla en la consola a partir de los docstrings de tu código. Es muy útil para una consulta rápida.\n",
        "        *   **`Sphinx`**: Es un generador de documentación mucho más potente y flexible. Puede crear documentación con múltiples formatos (HTML, PDF, ePub), incluir tutoriales, referencias cruzadas, y es ampliamente utilizado por grandes proyectos Python (incluyendo la documentación oficial de Python). Es más avanzado y requiere una curva de aprendizaje, pero es el estándar para proyectos serios.\n",
        "        *   **`pylint`** (y otros linters como Flake8, Black): Son herramientas de análisis estático de código. Verifican tu código en busca de errores de programación, errores de estilo (según PEP 8), y \"code smells\" (patrones de código que sugieren un problema más profundo). Te ayudan a mantener la calidad y consistencia del código."
      ]
    },
    {
      "cell_type": "markdown",
      "metadata": {},
      "source": [
        "\n",
        "*   **Importancia en Python:**\n",
        "    *   **Legibilidad:** Python se enorgullece de su legibilidad. Seguir PEP 8 y escribir buenos docstrings la refuerza. \"El código se lee mucho más a menudo de lo que se escribe\".\n",
        "    *   **Mantenibilidad:** Código bien documentado y con estilo consistente es más fácil de entender, modificar y extender sin introducir errores.\n",
        "    *   **Colaboración:** Cuando se trabaja en equipo, un estilo y documentación comunes son cruciales para que todos puedan entender y contribuir al código de los demás.\n",
        "    *   **Depuración:** Un código claro es más fácil de depurar. Los docstrings pueden explicar el comportamiento esperado, ayudando a identificar dónde fallan las cosas."
      ]
    },
    {
      "cell_type": "markdown",
      "metadata": {},
      "source": [
        "*   **Conceptos Clave Asociados y Sintaxis Fundamental:**\n",
        "    *   **PEP 8:**\n",
        "        *   **Indentación:** Usar 4 espacios por nivel de indentación (no tabuladores).\n",
        "        *   **Longitud de Línea:** Limitar las líneas a 79 caracteres (código) o 72 (comentarios/docstrings).\n",
        "        *   **Líneas en Blanco:** Usar para separar funciones, clases y bloques lógicos dentro de funciones.\n",
        "        *   **Importaciones:** `import` al principio del archivo, agrupadas (biblioteca estándar, terceros, locales).\n",
        "        *   **Nombres de Variables, Funciones y Métodos:** `snake_case` (minúsculas con guiones bajos).\n",
        "        *   **Nombres de Clases:** `CamelCase` (o `CapWords`).\n",
        "        *   **Comentarios:** Deben ser claros y relevantes, explicando el *porqué* y no solo el *qué*.\n",
        "    *   **Docstrings (PEP 257):**\n",
        "        *   Se encierran entre comillas triples (`\"\"\"Docstring aquí\"\"\"` o `'''Docstring aquí'''`).\n",
        "        *   La primera línea es un resumen conciso (imperativo: \"Calcula...\", \"Devuelve...\").\n",
        "        *   Puede haber una línea en blanco después del resumen, seguida de una explicación más detallada.\n",
        "        *   Se pueden documentar parámetros (`:param nombre: descripción`), tipos (`:type nombre: tipo`), lo que devuelve (`:return: descripción`, `:rtype: tipo`), y errores que puede lanzar (`:raises ErrorTipo: descripción`)."
      ]
    },
    {
      "cell_type": "markdown",
      "metadata": {},
      "source": [
        "*   **Errores Comunes a Tener en Cuenta:**\n",
        "    *   Ignorar PEP 8, resultando en código inconsistente y difícil de leer.\n",
        "    *   Docstrings ausentes, incompletos o desactualizados.\n",
        "    *   Comentarios que simplemente repiten lo que hace el código (ej. `# incrementa i por 1` para `i += 1`).\n",
        "    *   Mezclar tabuladores y espacios para la indentación (¡fuente de muchos errores!)."
      ]
    },
    {
      "cell_type": "markdown",
      "metadata": {},
      "source": [
        "*   **Ventajas:**\n",
        "    *   Código más profesional y de mayor calidad.\n",
        "    *   Reducción del tiempo dedicado a entender código antiguo.\n",
        "    *   Facilita la incorporación de nuevos miembros al equipo.\n",
        "    *   Mejora la depuración y el mantenimiento."
      ]
    },
    {
      "cell_type": "markdown",
      "metadata": {},
      "source": [
        "*   **Buenas Prácticas:**\n",
        "    *   Configura tu editor de código para que te ayude con PEP 8 (muchos lo hacen automáticamente o con plugins).\n",
        "    *   Utiliza un linter como `pylint` o `flake8` regularmente.\n",
        "    *   Escribe docstrings para todos los módulos, funciones, clases y métodos públicos.\n",
        "    *   Mantén los docstrings actualizados cuando cambies el código.\n",
        "    *   Comenta el código complejo o las decisiones de diseño no obvias."
      ]
    },
    {
      "cell_type": "markdown",
      "metadata": {},
      "source": [
        "# 3.  **Sintaxis y Ejemplos Básicos**\n"
      ]
    },
    {
      "cell_type": "markdown",
      "metadata": {},
      "source": [
        "**PEP 8 (Conceptos ilustrados, no es \"sintaxis\" per se):**"
      ]
    },
    {
      "cell_type": "code",
      "execution_count": 1,
      "metadata": {},
      "outputs": [],
      "source": [
        "# mal estilo (no PEP 8)\n",
        "def miFuncion( parametro_uno, parametro_dos ):\n",
        "    if parametro_uno==parametro_dos :\n",
        "        return True\n",
        "    else:\n",
        "     return False\n",
        "\n",
        "# buen estilo (PEP 8)\n",
        "def mi_funcion(parametro_uno, parametro_dos):\n",
        "    \"\"\"Compara dos parámetros y devuelve True si son iguales.\"\"\"\n",
        "    if parametro_uno == parametro_dos:\n",
        "        return True\n",
        "    else:\n",
        "        return False\n",
        "\n",
        "# Nombres\n",
        "CONSTANTE_GLOBAL = 10\n",
        "variable_local = 5\n",
        "\n",
        "class MiClaseBonita:\n",
        "    pass"
      ]
    },
    {
      "cell_type": "markdown",
      "metadata": {},
      "source": [
        "**Docstrings:**"
      ]
    },
    {
      "cell_type": "markdown",
      "metadata": {},
      "source": [
        "**Para una función:**"
      ]
    },
    {
      "cell_type": "code",
      "execution_count": 2,
      "metadata": {},
      "outputs": [
        {
          "name": "stdout",
          "output_type": "stream",
          "text": [
            "\n",
            "Calcula el área de un rectángulo.\n",
            "\n",
            "Esta función toma la base y la altura de un rectángulo y devuelve\n",
            "su área calculada como base * altura.\n",
            "\n",
            ":param base: La longitud de la base del rectángulo.\n",
            ":type base: float | int\n",
            ":param altura: La altura del rectángulo.\n",
            ":type altura: float | int\n",
            ":raises TypeError: si la base o la altura no son numéricas.\n",
            ":return: El área del rectángulo.\n",
            ":rtype: float | int\n",
            "\n",
            "Help on function calcular_area_rectangulo in module __main__:\n",
            "\n",
            "calcular_area_rectangulo(base, altura)\n",
            "    Calcula el área de un rectángulo.\n",
            "\n",
            "    Esta función toma la base y la altura de un rectángulo y devuelve\n",
            "    su área calculada como base * altura.\n",
            "\n",
            "    :param base: La longitud de la base del rectángulo.\n",
            "    :type base: float | int\n",
            "    :param altura: La altura del rectángulo.\n",
            "    :type altura: float | int\n",
            "    :raises TypeError: si la base o la altura no son numéricas.\n",
            "    :return: El área del rectángulo.\n",
            "    :rtype: float | int\n",
            "\n"
          ]
        }
      ],
      "source": [
        "def calcular_area_rectangulo(base, altura):\n",
        "    \"\"\"\n",
        "    Calcula el área de un rectángulo.\n",
        "\n",
        "    Esta función toma la base y la altura de un rectángulo y devuelve\n",
        "    su área calculada como base * altura.\n",
        "\n",
        "    :param base: La longitud de la base del rectángulo.\n",
        "    :type base: float | int\n",
        "    :param altura: La altura del rectángulo.\n",
        "    :type altura: float | int\n",
        "    :raises TypeError: si la base o la altura no son numéricas.\n",
        "    :return: El área del rectángulo.\n",
        "    :rtype: float | int\n",
        "    \"\"\"\n",
        "    if not isinstance(base, (int, float)) or not isinstance(altura, (int, float)):\n",
        "        raise TypeError(\"La base y la altura deben ser números.\")\n",
        "    return base * altura\n",
        "\n",
        "# Para acceder al docstring:\n",
        "print(calcular_area_rectangulo.__doc__)\n",
        "help(calcular_area_rectangulo)"
      ]
    },
    {
      "cell_type": "markdown",
      "metadata": {},
      "source": [
        "**Para una clase y sus métodos:**"
      ]
    },
    {
      "cell_type": "code",
      "execution_count": 4,
      "metadata": {},
      "outputs": [
        {
          "name": "stdout",
          "output_type": "stream",
          "text": [
            "\n",
            "Una clase para representar un perro.\n",
            "\n",
            "Atributos:\n",
            "    nombre (str): El nombre del perro.\n",
            "    raza (str): La raza del perro.\n",
            "\n",
            "\n",
            "Inicializa un nuevo objeto Perro.\n",
            "\n",
            ":param nombre: El nombre del perro.\n",
            ":type nombre: str\n",
            ":param raza: La raza del perro.\n",
            ":type raza: str\n",
            "\n",
            "\n",
            "Hace que el perro ladre.\n",
            "\n",
            ":return: Una cadena representando el ladrido del perro.\n",
            ":rtype: str\n",
            "\n",
            "Help on class Perro in module __main__:\n",
            "\n",
            "class Perro(builtins.object)\n",
            " |  Perro(nombre, raza)\n",
            " |\n",
            " |  Una clase para representar un perro.\n",
            " |\n",
            " |  Atributos:\n",
            " |      nombre (str): El nombre del perro.\n",
            " |      raza (str): La raza del perro.\n",
            " |\n",
            " |  Methods defined here:\n",
            " |\n",
            " |  __init__(self, nombre, raza)\n",
            " |      Inicializa un nuevo objeto Perro.\n",
            " |\n",
            " |      :param nombre: El nombre del perro.\n",
            " |      :type nombre: str\n",
            " |      :param raza: La raza del perro.\n",
            " |      :type raza: str\n",
            " |\n",
            " |  ladrar(self)\n",
            " |      Hace que el perro ladre.\n",
            " |\n",
            " |      :return: Una cadena representando el ladrido del perro.\n",
            " |      :rtype: str\n",
            " |\n",
            " |  ----------------------------------------------------------------------\n",
            " |  Data descriptors defined here:\n",
            " |\n",
            " |  __dict__\n",
            " |      dictionary for instance variables\n",
            " |\n",
            " |  __weakref__\n",
            " |      list of weak references to the object\n",
            " |\n",
            " |  ----------------------------------------------------------------------\n",
            " |  Data and other attributes defined here:\n",
            " |\n",
            " |  especie = 'Canis familiaris'\n",
            "\n"
          ]
        }
      ],
      "source": [
        "class Perro:\n",
        "    \"\"\"\n",
        "    Una clase para representar un perro.\n",
        "\n",
        "    Atributos:\n",
        "        nombre (str): El nombre del perro.\n",
        "        raza (str): La raza del perro.\n",
        "    \"\"\"\n",
        "\n",
        "    especie = \"Canis familiaris\" # Atributo de clase\n",
        "\n",
        "    def __init__(self, nombre, raza):\n",
        "        \"\"\"\n",
        "        Inicializa un nuevo objeto Perro.\n",
        "\n",
        "        :param nombre: El nombre del perro.\n",
        "        :type nombre: str\n",
        "        :param raza: La raza del perro.\n",
        "        :type raza: str\n",
        "        \"\"\"\n",
        "        self.nombre = nombre\n",
        "        self.raza = raza\n",
        "\n",
        "    def ladrar(self):\n",
        "        \"\"\"\n",
        "        Hace que el perro ladre.\n",
        "\n",
        "        :return: Una cadena representando el ladrido del perro.\n",
        "        :rtype: str\n",
        "        \"\"\"\n",
        "        return f\"{self.nombre} dice: ¡Guau!\"\n",
        "\n",
        "# Para acceder a los docstrings:\n",
        "# print(Perro.__doc__)\n",
        "print(Perro.__doc__)\n",
        "# print(Perro.__init__.__doc__)\n",
        "print(Perro.__init__.__doc__)\n",
        "# print(Perro.ladrar.__doc__)\n",
        "print(Perro.ladrar.__doc__)\n",
        "# help(Perro)\n",
        "help(Perro)"
      ]
    },
    {
      "cell_type": "markdown",
      "metadata": {},
      "source": [
        "# 4.  **Documentación y Recursos Clave**\n"
      ]
    },
    {
      "cell_type": "markdown",
      "metadata": {},
      "source": [
        "*   **Documentación Oficial de Python:**\n",
        "    *   **PEP 8 -- Style Guide for Python Code:** [https://www.python.org/dev/peps/pep-0008/](https://www.python.org/dev/peps/pep-0008/) (¡Lectura obligada!)\n",
        "    *   **PEP 257 -- Docstring Conventions:** [https://www.python.org/dev/peps/pep-0257/](https://www.python.org/dev/peps/pep-0257/)\n",
        "    *   **Documentación de `pydoc`:** [https://docs.python.org/3/library/pydoc.html](https://docs.python.org/3/library/pydoc.html)\n",
        "\n",
        "*   **Recursos Externos de Alta Calidad:**\n",
        "    *   **Real Python - Python Docstrings: A Guide:** [https://realpython.com/python-docstrings/](https://realpython.com/python-docstrings/) (Excelente artículo con ejemplos)\n",
        "    *   **Google Python Style Guide:** [https://google.github.io/styleguide/pyguide.html](https://google.github.io/styleguide/pyguide.html) (Otra guía de estilo muy influyente, compatible en gran medida con PEP 8 pero con algunas especificaciones adicionales, especialmente para docstrings)."
      ]
    },
    {
      "cell_type": "markdown",
      "metadata": {},
      "source": [
        "# 5.  **Ejemplos de Código Prácticos**\n"
      ]
    },
    {
      "cell_type": "markdown",
      "metadata": {},
      "source": [
        "**Ejemplo 1: Función bien documentada y cómo acceder a su docstring**"
      ]
    },
    {
      "cell_type": "code",
      "execution_count": 5,
      "metadata": {},
      "outputs": [
        {
          "name": "stdout",
          "output_type": "stream",
          "text": [
            "Hola, Ana!\n",
            "Estimado, Dr. López!\n",
            "Error: Tanto el nombre como el saludo deben ser cadenas de texto.\n",
            "\n",
            "--- Docstring de saludar_usuario ---\n",
            "\n",
            "Genera un saludo personalizado para un usuario.\n",
            "\n",
            "Concatena un saludo (por defecto \"Hola\") con el nombre del usuario\n",
            "y un signo de exclamación.\n",
            "\n",
            ":param nombre: El nombre de la persona a saludar.\n",
            ":type nombre: str\n",
            ":param saludo: El saludo a utilizar (opcional, por defecto \"Hola\").\n",
            ":type saludo: str\n",
            ":return: Un saludo personalizado.\n",
            ":rtype: str\n",
            "\n"
          ]
        }
      ],
      "source": [
        "def saludar_usuario(nombre, saludo=\"Hola\"):\n",
        "    \"\"\"\n",
        "    Genera un saludo personalizado para un usuario.\n",
        "\n",
        "    Concatena un saludo (por defecto \"Hola\") con el nombre del usuario\n",
        "    y un signo de exclamación.\n",
        "\n",
        "    :param nombre: El nombre de la persona a saludar.\n",
        "    :type nombre: str\n",
        "    :param saludo: El saludo a utilizar (opcional, por defecto \"Hola\").\n",
        "    :type saludo: str\n",
        "    :return: Un saludo personalizado.\n",
        "    :rtype: str\n",
        "    \"\"\"\n",
        "    if not isinstance(nombre, str) or not isinstance(saludo, str):\n",
        "        return \"Error: Tanto el nombre como el saludo deben ser cadenas de texto.\"\n",
        "    return f\"{saludo}, {nombre}!\"\n",
        "\n",
        "# Probamos la función\n",
        "mensaje_bienvenida = saludar_usuario(\"Ana\")\n",
        "print(mensaje_bienvenida)\n",
        "\n",
        "mensaje_formal = saludar_usuario(\"Dr. López\", saludo=\"Estimado\")\n",
        "print(mensaje_formal)\n",
        "\n",
        "mensaje_error = saludar_usuario(123) # Probamos con un tipo incorrecto\n",
        "print(mensaje_error)\n",
        "\n",
        "# Accedemos al docstring\n",
        "print(\"\\n--- Docstring de saludar_usuario ---\")\n",
        "print(saludar_usuario.__doc__)\n",
        "\n",
        "# Otra forma de ver la ayuda (en un entorno interactivo como Jupyter o la consola Python)\n",
        "# help(saludar_usuario) # Descomenta esta línea para ver la salida de help()"
      ]
    },
    {
      "cell_type": "markdown",
      "metadata": {},
      "source": [
        "\n",
        "**Ejemplo 2: Mención de Linters (`pylint`)**"
      ]
    },
    {
      "cell_type": "markdown",
      "metadata": {},
      "source": [
        "Los linters como `pylint` o `flake8` no se ejecutan *dentro* de un notebook de la misma forma que el código Python, sino que son herramientas externas que analizan tus archivos `.py`.\n",
        "\n",
        "Si tuvieras el siguiente código en un archivo `codigo_descuidado.py`:"
      ]
    },
    {
      "cell_type": "code",
      "execution_count": null,
      "metadata": {},
      "outputs": [],
      "source": [
        "# Contenido de codigo_descuidado.py\n",
        "def SUMAR_COSAS(a,b): # Mal nombre de función y parámetros\n",
        "    Resultado=a+b # Mal nombre de variable, sin espacios alrededor de =\n",
        "    return Resultado\n",
        "CONSTANTEMAL=10 # Mal nombre de constante\n",
        "\n",
        "# Para analizarlo con pylint (desde la terminal):\n",
        "# pylint codigo_descuidado.py"
      ]
    },
    {
      "cell_type": "markdown",
      "metadata": {},
      "source": [
        "`pylint` te daría una salida similar a esta (simplificada):\n",
        "\n",
        "```\n",
        "************* Module codigo_descuidado\n",
        "codigo_descuidado.py:1:0: C0301: Line too long (23/79) (line-too-long)\n",
        "codigo_descuidado.py:1:0: C0103: Function name \"SUMAR_COSAS\" doesn't conform to snake_case naming style (invalid-name)\n",
        "codigo_descuidado.py:1:18: C0103: Argument name \"a\" doesn't conform to snake_case naming style (invalid-name)\n",
        "codigo_descuidado.py:1:20: C0103: Argument name \"b\" doesn't conform to snake_case naming style (invalid-name)\n",
        "codigo_descuidado.py:2:4: C0103: Variable name \"Resultado\" doesn't conform to snake_case naming style (invalid-name)\n",
        "codigo_descuidado.py:2:14: C0326: Bad whitespace_ python around assignment_operator\n",
        "    Resultado=a+b # Mal nombre de variable, sin espacios alrededor de =\n",
        "             ^ (bad-whitespace)\n",
        "codigo_descuidado.py:4:0: C0103: Constant name \"CONSTANTEMAL\" doesn't conform to UPPER_CASE naming style (invalid-name)\n",
        "```\n",
        "\n",
        "Esto te indica exactamente qué convenciones de PEP 8 no estás siguiendo y dónde. Muchos editores de código (como VS Code, PyCharm) integran estos linters para darte retroalimentación en tiempo real.\n"
      ]
    },
    {
      "cell_type": "markdown",
      "metadata": {},
      "source": [
        "# 6.  **Ejercicio Práctico**\n"
      ]
    },
    {
      "cell_type": "markdown",
      "metadata": {},
      "source": [
        "**Objetivo:** Refactorizar un fragmento de código para que cumpla con las convenciones de PEP 8 y añadirle docstrings completos.\n",
        "\n",
        "**Código a Refactorizar:**\n",
        "\n",
        "Copia y pega el siguiente código en una celda de tu Jupyter Notebook. Tu tarea es modificarlo.\n",
        "\n",
        "```python\n",
        "# Código para refactorizar\n",
        "class calculadorA:\n",
        "    PI_VAL = 3.14159\n",
        "\n",
        "    def __init__(self,RADIO):\n",
        "        self.RADIO=RADIO\n",
        "\n",
        "    def Area_Circulo(self): #calcula el area\n",
        "        area=self.PI_VAL * (self.RADIO**2); return area\n",
        "\n",
        "    def VOLUMEN_ESFERA(self):\n",
        "        # V = 4/3 * pi * r^3\n",
        "        vol = (4/3) * self.PI_VAL * (self.RADIO**3)\n",
        "        return vol\n",
        "\n",
        "# Uso\n",
        "mi_calc = calculadorA(10)\n",
        "print( \"Area:\", mi_calc.Area_Circulo() )\n",
        "print( \"Volumen:\", mi_calc.VOLUMEN_ESFERA())\n",
        "\n",
        "otro_calc = calculadorA( Radio=2 ) # Esto funciona, pero ¿es el estilo preferido para el parámetro?\n",
        "print(\"Otra area:\", otro_calc.Area_Circulo())\n",
        "```\n",
        "\n",
        "**Instrucciones:**\n",
        "\n",
        "1.  **Nombres:** Corrige los nombres de la clase, métodos, la constante y las variables para seguir las convenciones de `CamelCase` para clases y `snake_case` para funciones/métodos/variables, y `UPPER_SNAKE_CASE` para constantes.\n",
        "2.  **Indentación y Espaciado:** Asegúrate de que la indentación sea de 4 espacios y que haya un espaciado adecuado alrededor de los operadores y después de las comas (si aplica). Revisa la longitud de las líneas.\n",
        "3.  **Docstrings:**\n",
        "    *   Añade un docstring a la clase `calculadorA` que explique su propósito.\n",
        "    *   Añade docstrings al método `__init__` y a los otros dos métodos. Explica qué hacen, qué parámetros toman (si los hay, con su tipo) y qué devuelven (con su tipo).\n",
        "4.  **Comentarios:** Revisa si los comentarios existentes son útiles o si pueden mejorarse/eliminarse.\n",
        "5.  **Pequeños Detalles:** ¿Hay alguna otra cosa que mejorarías según PEP 8? (Pista: mira cómo se pasa el argumento `Radio=2`).\n",
        "\n",
        "**Pista Sutil:** Presta atención a cómo se definen los parámetros en `__init__` y cómo se usan en el código de ejemplo. Para los docstrings, sigue el formato que vimos antes (resumen, parámetros, retorno)."
      ]
    },
    {
      "cell_type": "code",
      "execution_count": 6,
      "metadata": {},
      "outputs": [
        {
          "name": "stdout",
          "output_type": "stream",
          "text": [
            "Area: 314.159\n",
            "Volumen: 4188.786666666666\n",
            "Otra area: 12.56636\n"
          ]
        }
      ],
      "source": [
        "# Código para refactorizar\n",
        "class Calculadora:\n",
        "    \"\"\"\n",
        "    Una clase para representar una calculadora.\n",
        "\n",
        "    Atributos:\n",
        "        radio (float): radio para calcular el área o volumen\n",
        "    \"\"\"\n",
        "    pi_val = 3.14159\n",
        "\n",
        "    def __init__(self, radio):\n",
        "        self.radio = radio\n",
        "\n",
        "    def area_circulo(self):\n",
        "        \"\"\"\n",
        "        This Python function calculates the area of a circle based on the given radius \n",
        "        and a constant value\n",
        "        for pi.\n",
        "        :return: The function `area_circulo` is returning the area of a circle calculated \n",
        "        using the formula\n",
        "        `pi * radius^2`.\n",
        "        \"\"\"\n",
        "        area = self.pi_val * (self.radio**2)\n",
        "        return area\n",
        "\n",
        "    def volumen_esfera(self):\n",
        "        \"\"\"\n",
        "        This Python function calculates the volume of a sphere using the formula V = 4/3 * pi * r^3.\n",
        "        :return: The method `volumen_esfera` is returning the volume of a sphere \n",
        "        calculated using the formula V = 4/3 * pi * r^3, where `pi_val` is the \n",
        "        value of pi and `radio` is the radius of the\n",
        "        sphere.\n",
        "        \"\"\"\n",
        "        vol = (4/3) * self.pi_val * (self.radio**3)\n",
        "        return vol\n",
        "\n",
        "\n",
        "# Uso\n",
        "mi_calc = Calculadora(10)\n",
        "print(\"Area:\", mi_calc.area_circulo())\n",
        "print(\"Volumen:\", mi_calc.volumen_esfera())\n",
        "\n",
        "# Esto funciona, pero ¿es el estilo preferido para el parámetro?\n",
        "otro_calc = Calculadora(radio=2)\n",
        "print(\"Otra area:\", otro_calc.area_circulo())\n"
      ]
    },
    {
      "cell_type": "markdown",
      "metadata": {},
      "source": [
        "# 7.  **Conexión con Otros Temas**\n"
      ]
    },
    {
      "cell_type": "markdown",
      "metadata": {},
      "source": [
        "*   **Conceptos que debería conocer previamente:**\n",
        "    *   **Fundamentos de Python:** Variables, tipos de datos, operadores.\n",
        "    *   **Funciones:** Definición, parámetros, `return`.\n",
        "    *   **Programación Orientada a Objetos (OOP):** Clases, objetos, `__init__`, métodos, atributos (ya que los docstrings son cruciales aquí).\n",
        "    *   **Módulos:** Entender cómo se organiza el código en archivos `.py` es relevante para `pydoc` y el concepto de documentación a nivel de módulo.\n",
        "\n",
        "*   **Temas futuros para los que este conocimiento será importante:**\n",
        "    *   **Desarrollo de Librerías y Paquetes:** Es impensable publicar una librería sin una buena documentación y un estilo de código consistente. Sphinx es la herramienta estándar aquí.\n",
        "    *   **Trabajo en Equipo y Proyectos Colaborativos:** PEP 8 y la documentación clara son la base para que múltiples desarrolladores puedan trabajar juntos eficientemente.\n",
        "    *   **Proyectos de Software a Gran Escala:** Mantener un proyecto grande sin estas prácticas es una receta para el desastre.\n",
        "    *   **Depuración Avanzada:** Los docstrings que explican el comportamiento esperado son una ayuda invaluable al depurar.\n",
        "    *   **Testing:** La documentación clara de lo que una función o método *debería* hacer facilita la escritura de tests unitarios."
      ]
    },
    {
      "cell_type": "markdown",
      "metadata": {},
      "source": [
        "# 8.  **Aplicaciones en el Mundo Real**\n"
      ]
    },
    {
      "cell_type": "markdown",
      "metadata": {},
      "source": [
        "1.  **Desarrollo de Software Profesional:** En cualquier empresa de desarrollo de software, seguir guías de estilo (como PEP 8 o guías internas) y documentar el código es una práctica estándar y esperada. Facilita las revisiones de código, el mantenimiento y la incorporación de nuevos desarrolladores.\n",
        "2.  **Proyectos Open Source:** Si contribuyes a un proyecto de código abierto en Python (como NumPy, Pandas, Django, Flask), verás que todos siguen PEP 8 rigurosamente y tienen una documentación extensa, a menudo generada con Sphinx. Esto es vital para que la comunidad pueda entender, usar y contribuir al proyecto.\n",
        "3.  **Creación de APIs y Librerías Internas:** Cuando una empresa desarrolla herramientas o librerías para uso interno, una buena documentación (generada a partir de docstrings) permite a otros equipos utilizar esas herramientas sin necesidad de consultar constantemente a los desarrolladores originales."
      ]
    }
  ],
  "metadata": {
    "kernelspec": {
      "display_name": "Python 3",
      "language": "python",
      "name": "python3"
    },
    "language_info": {
      "codemirror_mode": {
        "name": "ipython",
        "version": 3
      },
      "file_extension": ".py",
      "mimetype": "text/x-python",
      "name": "python",
      "nbconvert_exporter": "python",
      "pygments_lexer": "ipython3",
      "version": "3.13.3"
    }
  },
  "nbformat": 4,
  "nbformat_minor": 2
}
