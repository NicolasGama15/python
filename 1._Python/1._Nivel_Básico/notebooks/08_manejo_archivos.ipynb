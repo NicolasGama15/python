{
  "cells": [
    {
      "cell_type": "markdown",
      "metadata": {},
      "source": [
        "# 1.  **Título del Tema**\n"
      ]
    },
    {
      "cell_type": "markdown",
      "metadata": {},
      "source": [
        "**Manejo de Archivos en Python: Lectura, Escritura y Manipulación con `os`, `shutil` y `pathlib`**"
      ]
    },
    {
      "cell_type": "markdown",
      "metadata": {},
      "source": [
        "# 2.  **Explicación Conceptual Detallada**\n"
      ]
    },
    {
      "cell_type": "markdown",
      "metadata": {},
      "source": [
        "*   **¿Qué es el manejo de archivos?**\n",
        "    Es el proceso de interactuar con archivos almacenados en el sistema de archivos de tu computadora. Esto incluye crear, leer, actualizar y eliminar archivos, así como gestionar directorios (carpetas)."
      ]
    },
    {
      "cell_type": "markdown",
      "metadata": {},
      "source": [
        "*   **¿Para qué se utiliza? Importancia en Python:**\n",
        "    El manejo de archivos es crucial para la **persistencia de datos**. Los programas a menudo necesitan:\n",
        "    *   **Guardar datos:** Para que no se pierdan cuando el programa termina (ej. resultados de un cálculo, progreso de un juego).\n",
        "    *   **Leer datos:** Para cargar configuraciones, datos de entrada para análisis, etc.\n",
        "    *   **Registrar eventos (Logging):** Guardar un historial de lo que ha hecho un programa.\n",
        "    *   **Intercambiar información:** Usar archivos como un formato común para que diferentes programas o sistemas se comuniquen.\n",
        "    Python ofrece herramientas muy poderosas y flexibles para estas tareas."
      ]
    },
    {
      "cell_type": "markdown",
      "metadata": {},
      "source": [
        "*   **Conceptos Clave Asociados:**\n",
        "    *   **Archivos de Texto vs. Archivos Binarios:**\n",
        "        *   **Archivos de texto:** Contienen secuencias de caracteres legibles por humanos (ej. `.txt`, `.py`, `.csv`, `.html`). Python los trata como cadenas de texto (`str`).\n",
        "        *   **Archivos binarios:** Contienen datos en formato binario (secuencias de bytes), que no son directamente legibles por humanos (ej. imágenes `.jpg`, ejecutables `.exe`, audio `.mp3`). Python los trata como objetos `bytes`.\n",
        "    *   **Rutas de Archivo (Path):**\n",
        "        *   **Absoluta:** Especifica la ubicación completa del archivo desde el directorio raíz del sistema (ej. `C:\\Usuarios\\TuNombre\\Documentos\\archivo.txt` en Windows o `/home/tunombre/documentos/archivo.txt` en Linux/macOS).\n",
        "        *   **Relativa:** Especifica la ubicación del archivo en relación con el directorio de trabajo actual del script (ej. `datos/archivo.txt` o `../otro_directorio/archivo.txt`).\n",
        "    *   **Modos de Apertura:** Cuando abres un archivo, debes especificar cómo quieres interactuar con él. Los modos más comunes son:\n",
        "        *   `'r'`: Lectura (Read). El archivo debe existir. Es el modo por defecto.\n",
        "        *   `'w'`: Escritura (Write). Crea un archivo nuevo. Si existe, **sobrescribe** su contenido.\n",
        "        *   `'a'`: Añadir (Append). Escribe al final del archivo. Si no existe, lo crea.\n",
        "        *   `'x'`: Creación exclusiva. Crea un archivo nuevo. Falla si el archivo ya existe.\n",
        "        *   `'b'`: Modo binario (se combina con otros: `'rb'`, `'wb'`, `'ab'`).\n",
        "        *   `'+'`: Modo de actualización (lectura y escritura, se combina: `'r+'`, `'w+'`, `'a+'`).\n",
        "    *   **El Objeto Archivo (File Object):** Cuando abres un archivo con `open()`, Python te devuelve un objeto archivo. Este objeto tiene métodos para interactuar con el archivo (ej. `read()`, `write()`, `close()`).\n",
        "    *   **Context Managers (`with open(...) as f:`):**\n",
        "        Esta es la forma **recomendada y más segura** de trabajar con archivos. Garantiza que el archivo se cierre automáticamente, incluso si ocurren errores.\n",
        "        ```python\n",
        "        with open('mi_archivo.txt', 'r') as f:\n",
        "            contenido = f.read()\n",
        "        # Aquí el archivo f ya está cerrado\n",
        "        ```\n",
        "    *   **Codificación (Encoding):** Para archivos de texto, es importante especificar la codificación (ej. `'utf-8'`, `'ascii'`, `'latin-1'`). `UTF-8` es una opción muy común y recomendada. Si no se especifica, Python usa la codificación por defecto del sistema, lo que puede causar problemas al mover archivos entre sistemas."
      ]
    },
    {
      "cell_type": "markdown",
      "metadata": {},
      "source": [
        "*   **Módulos Importantes:**\n",
        "    *   **Función `open()` (integrada):** La base para abrir archivos.\n",
        "    *   **Módulo `os`:** Proporciona funciones para interactuar con el sistema operativo, incluyendo la manipulación de rutas, directorios, y propiedades de archivos (ej. `os.path.join()`, `os.listdir()`, `os.mkdir()`, `os.remove()`, `os.path.exists()`).\n",
        "    *   **Módulo `shutil`:** Ofrece operaciones de archivo de alto nivel, como copiar, mover y eliminar archivos y árboles de directorios (ej. `shutil.copy()`, `shutil.move()`, `shutil.rmtree()`).\n",
        "    *   **Módulo `pathlib` (Enfoque Moderno):** Introducido en Python 3.4, proporciona una forma orientada a objetos para manejar rutas de archivos y directorios. Es más legible y potente que las funciones de cadena de `os.path`. ¡Muy recomendado!"
      ]
    },
    {
      "cell_type": "markdown",
      "metadata": {},
      "source": [
        "*   **Errores Comunes:**\n",
        "    *   `FileNotFoundError`: Intentar abrir un archivo para lectura que no existe.\n",
        "    *   `PermissionError`: No tener los permisos necesarios para leer/escribir/crear un archivo o directorio.\n",
        "    *   Olvidar cerrar un archivo (`f.close()`) si no se usa `with`. Esto puede llevar a pérdida de datos o a que el archivo quede bloqueado.\n",
        "    *   Problemas con las rutas (usar `\\` en Windows vs. `/` en Linux/macOS). `pathlib` y `os.path.join()` ayudan a evitar esto.\n",
        "    *   Errores de codificación al leer o escribir archivos de texto."
      ]
    },
    {
      "cell_type": "markdown",
      "metadata": {},
      "source": [
        "*   **Cómo Funciona Internamente (Brevemente):**\n",
        "    Cuando Python interactúa con archivos, en realidad está solicitando al sistema operativo (SO) que realice esas operaciones. El SO gestiona el acceso al hardware de almacenamiento y asegura que las operaciones se realicen de forma segura y ordenada. El objeto archivo en Python actúa como un intermediario o \"manejador\" (file handle) para estas operaciones."
      ]
    },
    {
      "cell_type": "markdown",
      "metadata": {},
      "source": [
        "*   **Ventajas y Posibles Limitaciones:**\n",
        "    *   **Ventajas:**\n",
        "        *   Persistencia de datos.\n",
        "        *   Flexibilidad para manejar diversos formatos.\n",
        "        *   Interoperabilidad con otros sistemas y lenguajes.\n",
        "        *   Automatización de tareas de gestión de archivos.\n",
        "    *   **Limitaciones:**\n",
        "        *   El acceso a disco es más lento que el acceso a memoria RAM.\n",
        "        *   El tamaño de los archivos puede estar limitado por el sistema de archivos o el espacio en disco.\n",
        "        *   El manejo concurrente de archivos (varios procesos escribiendo al mismo tiempo) puede requerir mecanismos de bloqueo adicionales."
      ]
    },
    {
      "cell_type": "markdown",
      "metadata": {},
      "source": [
        "*   **Buenas Prácticas:**\n",
        "    *   **Siempre usa `with open(...) as ...:`** para asegurar que los archivos se cierren correctamente.\n",
        "    *   **Maneja excepciones:** Usa `try...except` para errores como `FileNotFoundError` o `PermissionError`.\n",
        "    *   **Especifica la codificación** al trabajar con archivos de texto, preferiblemente `encoding='utf-8'`.\n",
        "    *   **Usa `pathlib` para manipular rutas:** Es más moderno, legible y menos propenso a errores que las manipulaciones de cadenas o `os.path` directamente.\n",
        "    *   **Cierra los archivos tan pronto como sea posible** si no usas `with`.\n",
        "    *   **Ten cuidado al usar el modo `'w'`**, ya que sobrescribe el archivo existente sin previo aviso."
      ]
    },
    {
      "cell_type": "markdown",
      "metadata": {},
      "source": [
        "# 3.  **Sintaxis y Ejemplos Básicos**\n"
      ]
    },
    {
      "cell_type": "markdown",
      "metadata": {},
      "source": [
        "#### Apertura, Escritura y Cierre (Método tradicional - menos recomendado)"
      ]
    },
    {
      "cell_type": "code",
      "execution_count": 1,
      "metadata": {},
      "outputs": [
        {
          "name": "stdout",
          "output_type": "stream",
          "text": [
            "Contenido leído (tradicional):\n",
            " Hola desde Python!\n",
            "Esta es la segunda línea.\n",
            "\n"
          ]
        }
      ],
      "source": [
        "# Escribir en un archivo\n",
        "f = open('mi_archivo_tradicional.txt', 'w') # Abrir en modo escritura\n",
        "f.write('Hola desde Python!\\n')\n",
        "f.write('Esta es la segunda línea.\\n')\n",
        "f.close() # ¡Muy importante cerrar el archivo!\n",
        "\n",
        "# Leer desde un archivo\n",
        "f = open('mi_archivo_tradicional.txt', 'r') # Abrir en modo lectura\n",
        "contenido = f.read()\n",
        "f.close()\n",
        "print(\"Contenido leído (tradicional):\\n\", contenido)"
      ]
    },
    {
      "cell_type": "markdown",
      "metadata": {},
      "source": [
        "#### Apertura, Escritura y Cierre con `with` (Recomendado)"
      ]
    },
    {
      "cell_type": "code",
      "execution_count": 1,
      "metadata": {},
      "outputs": [
        {
          "name": "stdout",
          "output_type": "stream",
          "text": [
            "Contenido completo (with):\n",
            " Hola usando with!\n",
            "Esta es una forma más segura.\n",
            "\n",
            "Primera línea (with):\n",
            " Hola usando with!\n",
            "Segunda línea (with):\n",
            " Esta es una forma más segura.\n",
            "Todas las líneas como lista (with):\n",
            " ['Hola usando with!\\n', 'Esta es una forma más segura.\\n']\n"
          ]
        }
      ],
      "source": [
        "# Escribir en un archivo usando 'with'\n",
        "with open('mi_archivo_with.txt', 'w', encoding='utf-8') as f:\n",
        "    f.write('Hola usando with!\\n')\n",
        "    f.write('Esta es una forma más segura.\\n')\n",
        "# El archivo se cierra automáticamente aquí\n",
        "\n",
        "# Leer desde un archivo usando 'with'\n",
        "with open('mi_archivo_with.txt', 'r', encoding='utf-8') as f:\n",
        "    contenido_completo = f.read() # Lee todo el archivo\n",
        "    print(\"Contenido completo (with):\\n\", contenido_completo)\n",
        "\n",
        "with open('mi_archivo_with.txt', 'r', encoding='utf-8') as f:\n",
        "    linea1 = f.readline() # Lee la primera línea\n",
        "    linea2 = f.readline() # Lee la segunda línea\n",
        "    print(\"Primera línea (with):\\n\", linea1.strip()) # .strip() quita saltos de línea\n",
        "    print(\"Segunda línea (with):\\n\", linea2.strip())\n",
        "\n",
        "with open('mi_archivo_with.txt', 'r', encoding='utf-8') as f:\n",
        "    todas_las_lineas = f.readlines() # Lee todas las líneas y las devuelve como una lista\n",
        "    print(\"Todas las líneas como lista (with):\\n\", todas_las_lineas)"
      ]
    },
    {
      "cell_type": "markdown",
      "metadata": {},
      "source": [
        "#### Añadir contenido a un archivo (Append)"
      ]
    },
    {
      "cell_type": "code",
      "execution_count": 2,
      "metadata": {},
      "outputs": [
        {
          "name": "stdout",
          "output_type": "stream",
          "text": [
            "Contenido después de añadir (with):\n",
            " Hola usando with!\n",
            "Esta es una forma más segura.\n",
            "Añadiendo una nueva línea al final.\n",
            "\n"
          ]
        }
      ],
      "source": [
        "with open('mi_archivo_with.txt', 'a', encoding='utf-8') as f:\n",
        "    f.write('Añadiendo una nueva línea al final.\\n')\n",
        "\n",
        "with open('mi_archivo_with.txt', 'r', encoding='utf-8') as f:\n",
        "    print(\"Contenido después de añadir (with):\\n\", f.read())"
      ]
    },
    {
      "cell_type": "markdown",
      "metadata": {},
      "source": [
        "#### Trabajar con archivos binarios"
      ]
    },
    {
      "cell_type": "code",
      "execution_count": 3,
      "metadata": {},
      "outputs": [
        {
          "name": "stdout",
          "output_type": "stream",
          "text": [
            "Contenido binario leído:\n",
            " b'\\x00\\x01\\x02\\x03\\x04\\xff'\n",
            "Representación en hexadecimal: 0001020304ff\n"
          ]
        }
      ],
      "source": [
        "# Escribir datos binarios\n",
        "datos_binarios = b'\\x00\\x01\\x02\\x03\\x04\\xFF' # 'b' indica una cadena de bytes\n",
        "with open('mi_archivo_binario.dat', 'wb') as f: # 'wb' para escritura binaria\n",
        "    f.write(datos_binarios)\n",
        "\n",
        "# Leer datos binarios\n",
        "with open('mi_archivo_binario.dat', 'rb') as f: # 'rb' para lectura binaria\n",
        "    contenido_binario = f.read()\n",
        "    print(\"Contenido binario leído:\\n\", contenido_binario)\n",
        "    print(\"Representación en hexadecimal:\", contenido_binario.hex())"
      ]
    },
    {
      "cell_type": "markdown",
      "metadata": {},
      "source": [
        "# 4.  **Documentación y Recursos Clave**\n"
      ]
    },
    {
      "cell_type": "markdown",
      "metadata": {},
      "source": [
        "*   **Documentación Oficial de Python:**\n",
        "    *   Función `open()`: [https://docs.python.org/3/library/functions.html#open](https://docs.python.org/3/library/functions.html#open)\n",
        "    *   Métodos de los objetos archivo: [https://docs.python.org/3/library/io.html#io.TextIOBase](https://docs.python.org/3/library/io.html#io.TextIOBase) (para texto), [https://docs.python.org/3/library/io.html#io.BufferedIOBase](https://docs.python.org/3/library/io.html#io.BufferedIOBase) (para binario)\n",
        "    *   Módulo `os`: [https://docs.python.org/3/library/os.html](https://docs.python.org/3/library/os.html)\n",
        "    *   Módulo `os.path` (para manipulación de rutas, aunque `pathlib` es más moderno): [https://docs.python.org/3/library/os.path.html](https://docs.python.org/3/library/os.path.html)\n",
        "    *   Módulo `shutil`: [https://docs.python.org/3/library/shutil.html](https://docs.python.org/3/library/shutil.html)\n",
        "    *   Módulo `pathlib`: [https://docs.python.org/3/library/pathlib.html](https://docs.python.org/3/library/pathlib.html)\n",
        "*   **Recursos Externos de Alta Calidad:**\n",
        "    *   Real Python - Reading and Writing Files in Python: [https://realpython.com/read-write-files-python/](https://realpython.com/read-write-files-python/) (Excelente tutorial muy completo)\n",
        "    *   Python `pathlib` Module: Taming the File System: [https://realpython.com/python-pathlib/](https://realpython.com/python-pathlib/) (Enfocado en `pathlib`)"
      ]
    },
    {
      "cell_type": "markdown",
      "metadata": {},
      "source": [
        "# 5.  **Ejemplos de Código Prácticos**\n"
      ]
    },
    {
      "cell_type": "markdown",
      "metadata": {},
      "source": [
        "#### Ejemplo 1: Crear y leer una lista de tareas en un archivo de texto"
      ]
    },
    {
      "cell_type": "code",
      "execution_count": 6,
      "metadata": {},
      "outputs": [
        {
          "name": "stdout",
          "output_type": "stream",
          "text": [
            "Archivo 'lista_tareas.txt' creado y tareas escritas exitosamente.\n",
            "\n",
            "--- Leyendo tareas del archivo ---\n",
            "Tareas pendientes en 'lista_tareas.txt':\n",
            "1. Comprar leche\n",
            "2. Estudiar Python sobre manejo de archivos\n",
            "3. Hacer ejercicio\n",
            "4. Llamar a mamá\n"
          ]
        }
      ],
      "source": [
        "# Importamos pathlib para un manejo de rutas más moderno\n",
        "from pathlib import Path\n",
        "\n",
        "# Definimos el nombre del archivo y la ruta (en el directorio actual)\n",
        "archivo_tareas = Path(\"lista_tareas.txt\")\n",
        "\n",
        "# Lista de tareas a escribir\n",
        "tareas = [\n",
        "    \"Comprar leche\",\n",
        "    \"Estudiar Python sobre manejo de archivos\",\n",
        "    \"Hacer ejercicio\",\n",
        "    \"Llamar a mamá\"\n",
        "]\n",
        "\n",
        "# Escribir las tareas en el archivo\n",
        "# Usamos 'w' para crear el archivo (o sobrescribirlo si ya existe)\n",
        "# y encoding='utf-8' para buena compatibilidad\n",
        "try:\n",
        "    with open(archivo_tareas, 'w', encoding='utf-8') as f:\n",
        "        for tarea in tareas:\n",
        "            f.write(tarea + '\\n') # Añadimos un salto de línea después de cada tarea\n",
        "    print(f\"Archivo '{archivo_tareas}' creado y tareas escritas exitosamente.\")\n",
        "except IOError as e:\n",
        "    print(f\"Ocurrió un error de E/S al escribir: {e}\")\n",
        "\n",
        "\n",
        "# Leer las tareas del archivo y mostrarlas\n",
        "print(\"\\n--- Leyendo tareas del archivo ---\")\n",
        "try:\n",
        "    with open(archivo_tareas, 'r', encoding='utf-8') as f:\n",
        "        print(f\"Tareas pendientes en '{archivo_tareas}':\")\n",
        "        for i, linea in enumerate(f): # enumerate nos da el índice y el valor\n",
        "            print(f\"{i+1}. {linea.strip()}\") # .strip() para quitar el \\n final\n",
        "except FileNotFoundError:\n",
        "    print(f\"Error: El archivo '{archivo_tareas}' no fue encontrado.\")\n",
        "except IOError as e:\n",
        "    print(f\"Ocurrió un error de E/S al leer: {e}\")"
      ]
    },
    {
      "cell_type": "markdown",
      "metadata": {},
      "source": [
        "#### Ejemplo 2: Procesar un \"CSV\" simple y contar palabras"
      ]
    },
    {
      "cell_type": "markdown",
      "metadata": {},
      "source": [
        "Imagina que tienes un archivo `datos.csv` con este contenido (puedes crearlo manualmente o con el código):\n",
        "\n",
        "```\n",
        "nombre,edad,ciudad\n",
        "Ana,28,Madrid\n",
        "Luis,34,Barcelona\n",
        "Clara,22,Valencia\n",
        "```"
      ]
    },
    {
      "cell_type": "code",
      "execution_count": 13,
      "metadata": {},
      "outputs": [
        {
          "name": "stdout",
          "output_type": "stream",
          "text": [
            "Archivo 'datos_ejemplo.csv' creado.\n",
            "Cabecera del CSV: nombre,edad,ciudad\n",
            "  Procesando: ['Ana', '28', 'Madrid']\n",
            "  Procesando: ['Luis', '34', 'Barcelona']\n",
            "  Procesando: ['Clara', '22', 'Valencia']\n",
            "  Procesando: ['Pedro', '45', 'Sevilla']\n",
            "\n",
            "--- Resultados del procesamiento de 'datos_ejemplo.csv' ---\n",
            "Número total de registros (sin cabecera): 4\n",
            "Veces que aparece la ciudad 'Madrid': 1\n"
          ]
        }
      ],
      "source": [
        "# Importamos las librerías necesarias\n",
        "from pathlib import Path\n",
        "import os # Para os.getcwd() como ejemplo, aunque Path puede hacerlo\n",
        "\n",
        "# Crear el archivo CSV de ejemplo\n",
        "nombre_archivo_csv = Path(\"datos_ejemplo.csv\")\n",
        "contenido_csv = \"\"\"nombre,edad,ciudad\n",
        "Ana,28,Madrid\n",
        "Luis,34,Barcelona\n",
        "Clara,22,Valencia\n",
        "Pedro,45,Sevilla\"\"\"\n",
        "\n",
        "with open(nombre_archivo_csv, 'w', encoding='utf-8') as f:\n",
        "    f.write(contenido_csv)\n",
        "print(f\"Archivo '{nombre_archivo_csv}' creado.\")\n",
        "\n",
        "# Leer el archivo CSV, contar líneas y una palabra específica\n",
        "palabra_a_buscar = \"Madrid\"\n",
        "contador_lineas = 0\n",
        "contador_palabra = 0\n",
        "\n",
        "try:\n",
        "    with open(nombre_archivo_csv, 'r', encoding='utf-8') as f:\n",
        "        # Omitir la cabecera\n",
        "        cabecera = f.readline() \n",
        "        print(f\"Cabecera del CSV: {cabecera.strip()}\")\n",
        "        \n",
        "        for linea in f:\n",
        "            contador_lineas += 1\n",
        "            # Dividimos la línea por la coma para obtener los campos\n",
        "            campos = linea.strip().split(',')\n",
        "            print(f\"  Procesando: {campos}\")\n",
        "            # Buscamos la palabra en el campo ciudad (índice 2)\n",
        "            if len(campos) > 2 and palabra_a_buscar.lower() in campos[2].lower():\n",
        "                contador_palabra += 1\n",
        "                \n",
        "    print(f\"\\n--- Resultados del procesamiento de '{nombre_archivo_csv}' ---\")\n",
        "    print(f\"Número total de registros (sin cabecera): {contador_lineas}\")\n",
        "    print(f\"Veces que aparece la ciudad '{palabra_a_buscar}': {contador_palabra}\")\n",
        "\n",
        "except FileNotFoundError:\n",
        "    print(f\"Error: El archivo '{nombre_archivo_csv}' no fue encontrado.\")\n",
        "except Exception as e:\n",
        "    print(f\"Ocurrió un error: {e}\")"
      ]
    },
    {
      "cell_type": "markdown",
      "metadata": {},
      "source": [
        "#### Ejemplo 3: Usar `pathlib` y `shutil` para organizar archivos"
      ]
    },
    {
      "cell_type": "code",
      "execution_count": null,
      "metadata": {},
      "outputs": [
        {
          "name": "stdout",
          "output_type": "stream",
          "text": [
            "Directorio 'mi_directorio_organizado' eliminado para limpieza.\n",
            "Directorios creados: 'mi_directorio_organizado', 'mi_directorio_organizado\\imagenes', 'mi_directorio_organizado\\documentos'\n",
            "Archivos de ejemplo creados en el directorio base.\n",
            "\n",
            "Archivos en 'mi_directorio_organizado' antes de organizar:\n",
            "  - foto1.jpg\n",
            "  - informe_final.docx\n",
            "  - logo.png\n",
            "  - notas_reunion.txt\n",
            "  - script_util.py\n",
            "Movido 'foto1.jpg' a 'mi_directorio_organizado\\imagenes'\n",
            "Movido 'informe_final.docx' a 'mi_directorio_organizado\\documentos'\n",
            "Movido 'logo.png' a 'mi_directorio_organizado\\imagenes'\n",
            "Movido 'notas_reunion.txt' a 'mi_directorio_organizado\\documentos'\n",
            "\n",
            "--- Después de organizar ---\n",
            "Archivos restantes en 'mi_directorio_organizado':\n",
            "  - script_util.py\n",
            "\n",
            "Archivos en 'mi_directorio_organizado\\imagenes':\n",
            "  - foto1.jpg\n",
            "  - logo.png\n",
            "\n",
            "Archivos en 'mi_directorio_organizado\\documentos':\n",
            "  - informe_final.docx\n",
            "  - notas_reunion.txt\n"
          ]
        }
      ],
      "source": [
        "import os\n",
        "import shutil\n",
        "from pathlib import Path\n",
        "\n",
        "# Crear un directorio de prueba y algunos archivos dentro\n",
        "directorio_base = Path(\"mi_directorio_organizado\")\n",
        "directorio_imagenes = directorio_base / \"imagenes\"\n",
        "directorio_documentos = directorio_base / \"documentos\"\n",
        "\n",
        "# Eliminar directorios si existen de ejecuciones anteriores (para limpieza)\n",
        "if directorio_base.exists():\n",
        "    shutil.rmtree(directorio_base)\n",
        "    print(f\"Directorio '{directorio_base}' eliminado para limpieza.\")\n",
        "\n",
        "# Crear los directorios\n",
        "directorio_base.mkdir(exist_ok=True)  # exist_ok=True evita error si ya existe\n",
        "directorio_imagenes.mkdir(exist_ok=True)\n",
        "directorio_documentos.mkdir(exist_ok=True)\n",
        "print(\n",
        "    f\"Directorios creados: '{directorio_base}', '{directorio_imagenes}', '{directorio_documentos}'\")\n",
        "\n",
        "# Crear algunos archivos de ejemplo en el directorio base\n",
        "(directorio_base / \"foto1.jpg\").touch()  # .touch() crea un archivo vacío\n",
        "(directorio_base / \"informe_final.docx\").touch()\n",
        "(directorio_base / \"logo.png\").touch()\n",
        "(directorio_base / \"notas_reunion.txt\").touch()\n",
        "(directorio_base / \"script_util.py\").touch()  # Un archivo que no moveremos\n",
        "print(\"Archivos de ejemplo creados en el directorio base.\")\n",
        "\n",
        "# Listar archivos en el directorio base\n",
        "print(f\"\\nArchivos en '{directorio_base}' antes de organizar:\")\n",
        "for item in directorio_base.iterdir():\n",
        "    if item.is_file():  # Solo listar archivos\n",
        "        print(f\"  - {item.name}\")\n",
        "\n",
        "# Organizar archivos: moverlos a las carpetas correspondientes\n",
        "for archivo_actual in directorio_base.iterdir():\n",
        "    if archivo_actual.is_file():  # Asegurarnos de que es un archivo\n",
        "        # Obtener la extensión en minúsculas (ej. '.jpg')\n",
        "        sufijo = archivo_actual.suffix.lower()\n",
        "\n",
        "        if sufijo in [\".jpg\", \".jpeg\", \".png\", \".gif\"]:\n",
        "            destino = directorio_imagenes / archivo_actual.name\n",
        "            # shutil.move necesita strings o Path objects\n",
        "            shutil.move(str(archivo_actual), str(destino))\n",
        "            print(f\"Movido '{archivo_actual.name}' a '{directorio_imagenes}'\")\n",
        "        elif sufijo in [\".doc\", \".docx\", \".txt\", \".pdf\"]:\n",
        "            destino = directorio_documentos / archivo_actual.name\n",
        "            shutil.move(str(archivo_actual), str(destino))\n",
        "            print(\n",
        "                f\"Movido '{archivo_actual.name}' a '{directorio_documentos}'\")\n",
        "\n",
        "print(\"\\n--- Después de organizar ---\")\n",
        "print(f\"Archivos restantes en '{directorio_base}':\")\n",
        "for item in directorio_base.iterdir():\n",
        "    if item.is_file():\n",
        "        print(f\"  - {item.name}\")\n",
        "\n",
        "print(f\"\\nArchivos en '{directorio_imagenes}':\")\n",
        "for item in directorio_imagenes.iterdir():\n",
        "    if item.is_file():\n",
        "        print(f\"  - {item.name}\")\n",
        "\n",
        "print(f\"\\nArchivos en '{directorio_documentos}':\")\n",
        "for item in directorio_documentos.iterdir():\n",
        "    if item.is_file():\n",
        "        print(f\"  - {item.name}\")\n",
        "\n",
        "# Opcional: Limpiar los directorios creados después de la prueba\n",
        "# shutil.rmtree(directorio_base)\n",
        "# print(f\"\\nDirectorio '{directorio_base}' y su contenido eliminados.\")"
      ]
    },
    {
      "cell_type": "markdown",
      "metadata": {},
      "source": [
        "# 6.  **Ejercicio Práctico**\n"
      ]
    },
    {
      "cell_type": "markdown",
      "metadata": {},
      "source": [
        "**Título del Ejercicio:** Analizador Simple de Archivos de Texto"
      ]
    },
    {
      "cell_type": "markdown",
      "metadata": {},
      "source": [
        "**Descripción:**\n",
        "Escribe un script de Python que realice las siguientes acciones:\n",
        "\n",
        "1.  **Crear un archivo:** Crea un archivo llamado `mi_documento.txt` en un subdirectorio llamado `analisis_textos` (el script debe crear este subdirectorio si no existe).\n",
        "2.  **Escribir contenido:** Escribe al menos 5 líneas de texto en `mi_documento.txt`. El contenido puede ser cualquier cosa: un poema corto, una lista de ideas, etc. Asegúrate de que algunas palabras se repitan.\n",
        "3.  **Leer y analizar:**\n",
        "    *   Lee el contenido del archivo `mi_documento.txt`.\n",
        "    *   Calcula y muestra:\n",
        "        *   El número total de líneas en el archivo.\n",
        "        *   El número total de palabras en el archivo.\n",
        "        *   La frecuencia de cada palabra (cuántas veces aparece cada palabra). Muestra las 5 palabras más comunes.\n",
        "4.  **Guardar el análisis:** Crea un nuevo archivo llamado `analisis_resultados.txt` en el mismo subdirectorio `analisis_textos`. Escribe en este archivo un resumen de los resultados del análisis (número de líneas, número de palabras, y las 5 palabras más comunes con sus frecuencias).\n",
        "\n",
        "**Desafío Adicional (Opcional):**\n",
        "Haz que tu script ignore la capitalización al contar palabras (es decir, \"Hola\" y \"hola\" deben contar como la misma palabra) y que ignore signos de puntuación comunes (., ,, !, ?).\n",
        "\n",
        "**Pista Sutil:**\n",
        "*   Para la frecuencia de palabras, un diccionario puede ser muy útil. El módulo `collections` tiene una clase `Counter` que es perfecta para esto.\n",
        "*   Recuerda usar `pathlib` para manejar las rutas y la creación de directorios de una forma más limpia.\n",
        "*   Para el desafío adicional, métodos de string como `.lower()` y `.replace()` te serán de ayuda."
      ]
    },
    {
      "cell_type": "code",
      "execution_count": 88,
      "metadata": {},
      "outputs": [
        {
          "name": "stdout",
          "output_type": "stream",
          "text": [
            "Cantidad de lineas: 5\n",
            "Cantidad de palabras: 64\n",
            "las 5 palabras mas repetidas son:\n",
            "la palabra un esta 5 veces\n",
            "la palabra el esta 4 veces\n",
            "la palabra una esta 3 veces\n",
            "la palabra día esta 3 veces\n",
            "la palabra nuevo esta 2 veces\n"
          ]
        }
      ],
      "source": [
        "from pathlib import Path\n",
        "\n",
        "texto = \"\"\"\n",
        "El sol brilla en el cielo azul, un cielo vasto y profundo.\n",
        "Las nubes blancas flotan, como barcos en un mar sereno.\n",
        "Un pájaro canta una melodía, una dulce canción de la mañana.\n",
        "La brisa fresca susurra entre los árboles, una brisa que invita a soñar.\n",
        "El día comienza lleno de promesas, un nuevo día para explorar el mundo, un nuevo día para aprender.\n",
        "\"\"\"\n",
        "directorio = Path(\"analisis_textos\")\n",
        "# print(directorio)\n",
        "\n",
        "directorio.mkdir(exist_ok=True)\n",
        "# print(f\"creado directorio: {directorio}\")\n",
        "\n",
        "documento = (directorio / \"mi_documento.txt\")\n",
        "documento_final = (directorio / \"analisis_resultados.txt\")\n",
        "documento.touch()\n",
        "# print(f\"creado documento: {documento}\")\n",
        "\n",
        "with open(documento, 'w', encoding='utf-8') as d:\n",
        "    d.write(texto.strip())\n",
        "# print(f\"Texto escrito en {documento}\")\n",
        "\n",
        "# print(f\"leyendo {documento}\")\n",
        "lineas = 0\n",
        "total_palabras = 0\n",
        "palabras = []\n",
        "conteo_palabras = {}\n",
        "with open(documento, 'r', encoding='utf-8') as d:\n",
        "    for line in d:\n",
        "        # print(line.strip())\n",
        "        lineas += 1\n",
        "        total_palabras += len(line.split())\n",
        "        palabras += list(line.split())\n",
        "\n",
        "final_palabras = {palabra:0 for palabra in set(map(str.lower,palabras))}\n",
        "\n",
        "for palabra in palabras:\n",
        "    final_palabras[palabra.lower()] += 1\n",
        "\n",
        "ordered_dict_by_key = sorted(final_palabras.items(),key= lambda item:item[1],reverse=True)\n",
        "\n",
        "analisis = []\n",
        "print(f\"Cantidad de lineas: {lineas}\")\n",
        "analisis.append(f\"Cantidad de lineas: {lineas} \\n\")\n",
        "print(f\"Cantidad de palabras: {total_palabras}\")\n",
        "analisis.append(f\"Cantidad de palabras: {total_palabras} \\n\")\n",
        "print(f\"las 5 palabras mas repetidas son:\")\n",
        "analisis.append(f\"las 5 palabras mas repetidas son: \\n\")\n",
        "contador = 0\n",
        "for palabra, valor in ordered_dict_by_key:\n",
        "    print(f\"la palabra {palabra} esta {valor} veces\")\n",
        "    analisis.append(f\"la palabra {palabra} esta {valor} veces \\n\")\n",
        "    contador += 1\n",
        "    if contador == 5:\n",
        "        break\n",
        "    \n",
        "with open(documento_final, 'w', encoding='utf-8') as d:\n",
        "    for linea in analisis:\n",
        "        d.write(linea)\n",
        "# print(f\"Texto escrito en {documento}\")"
      ]
    },
    {
      "cell_type": "markdown",
      "metadata": {},
      "source": [
        "# 7.  **Conexión con Otros Temas**\n"
      ]
    },
    {
      "cell_type": "markdown",
      "metadata": {},
      "source": [
        "*   **Conceptos que Deberías Conocer Previamente:**\n",
        "    *   **Variables y Tipos de Datos:** Especialmente strings (para el contenido de los archivos de texto) y bytes (para archivos binarios).\n",
        "    *   **Estructuras de Datos:** Listas (para `readlines()` o para almacenar datos antes de escribir), diccionarios (útiles para contar frecuencias de palabras, por ejemplo).\n",
        "    *   **Bucles y Condicionales:** Para procesar líneas de un archivo, iterar sobre archivos en un directorio, etc.\n",
        "    *   **Funciones:** Para encapsular lógica de manejo de archivos y hacer tu código más modular.\n",
        "    *   **Manejo de Excepciones (`try...except`):** Fundamental para lidiar con errores como `FileNotFoundError` o `PermissionError` de forma robusta."
      ]
    },
    {
      "cell_type": "markdown",
      "metadata": {},
      "source": [
        "*   **Temas Futuros para los que este Conocimiento será Importante:**\n",
        "    *   **Serialización de Datos (Pickle, JSON, CSV):** Estos módulos se basan en la lectura y escritura de archivos para guardar y cargar estructuras de datos complejas.\n",
        "    *   **Trabajo con APIs Web:** Muchas APIs devuelven datos en formatos como JSON o XML, que a menudo se guardan en archivos. También podrías necesitar subir archivos.\n",
        "    *   **Desarrollo Web (Backend):** Manejar subida de archivos de usuarios, guardar logs, servir archivos estáticos.\n",
        "    *   **Análisis de Datos y Ciencia de Datos:** Cargar datasets desde archivos (CSV, Excel, etc.), guardar resultados, modelos entrenados.\n",
        "    *   **Automatización de Tareas (Scripting):** Muchos scripts implican leer configuraciones de archivos, procesar lotes de archivos, o generar reportes en archivos.\n",
        "    *   **Logging:** El módulo `logging` de Python guarda información en archivos de log."
      ]
    },
    {
      "cell_type": "markdown",
      "metadata": {},
      "source": [
        "# 8.  **Aplicaciones en el Mundo Real**\n"
      ]
    },
    {
      "cell_type": "markdown",
      "metadata": {},
      "source": [
        "1.  **Sistemas de Configuración:** Muchas aplicaciones (desde simples scripts hasta grandes servidores web) leen sus configuraciones iniciales desde archivos (ej. `config.ini`, `settings.yaml`, `.env`). Esto permite cambiar el comportamiento de la aplicación sin modificar el código.\n",
        "2.  **Procesamiento de Logs:** Los servidores y aplicaciones generan archivos de log que registran eventos, errores y actividad. Los scripts de Python se usan a menudo para parsear estos logs, extraer información útil, generar estadísticas o detectar problemas. Por ejemplo, analizar logs de un servidor web para ver las páginas más visitadas o los errores 404.\n",
        "3.  **Importación/Exportación de Datos:** Las empresas a menudo necesitan mover datos entre diferentes sistemas. Python es excelente para escribir scripts que lean datos de un formato de archivo (ej. un CSV exportado de una base de datos) y los transformen para importarlos a otro sistema, o viceversa.\n",
        "4.  **Herramientas de Backup y Sincronización:** Aunque existen herramientas dedicadas, se pueden crear scripts sencillos con `shutil` y `os` para realizar copias de seguridad de directorios importantes o sincronizar archivos entre diferentes ubicaciones."
      ]
    }
  ],
  "metadata": {
    "kernelspec": {
      "display_name": "Python 3",
      "language": "python",
      "name": "python3"
    },
    "language_info": {
      "codemirror_mode": {
        "name": "ipython",
        "version": 3
      },
      "file_extension": ".py",
      "mimetype": "text/x-python",
      "name": "python",
      "nbconvert_exporter": "python",
      "pygments_lexer": "ipython3",
      "version": "3.13.3"
    }
  },
  "nbformat": 4,
  "nbformat_minor": 2
}
