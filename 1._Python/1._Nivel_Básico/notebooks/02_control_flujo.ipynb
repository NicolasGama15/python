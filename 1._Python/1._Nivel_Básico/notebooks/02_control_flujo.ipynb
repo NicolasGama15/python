{
  "cells": [
    {
      "cell_type": "markdown",
      "metadata": {},
      "source": [
        "# 1.  **Título del Tema**\n"
      ]
    },
    {
      "cell_type": "markdown",
      "metadata": {},
      "source": [
        "**Control de Flujo en Python: Dirigiendo la Ejecución de tu Código**"
      ]
    },
    {
      "cell_type": "markdown",
      "metadata": {},
      "source": [
        "# 2.  **Explicación Conceptual Detallada**\n"
      ]
    },
    {
      "cell_type": "markdown",
      "metadata": {},
      "source": [
        "**¿Qué es y para qué se utiliza?**\n",
        "El control de flujo se refiere a las estructuras que permiten alterar el orden secuencial en el que se ejecutan las instrucciones de un programa. Por defecto, Python ejecuta el código línea por línea, de arriba hacia abajo. Sin embargo, a menudo necesitamos:\n",
        "*   **Tomar decisiones:** Ejecutar un bloque de código solo si se cumple una condición específica (ej. \"si el usuario es mayor de edad, permitir el acceso\").\n",
        "*   **Repetir tareas:** Ejecutar un bloque de código múltiples veces (ej. \"procesar cada elemento de una lista\").\n",
        "*   **Saltar o detener ejecuciones:** Modificar el comportamiento normal de un bucle.\n",
        "\n",
        "**Importancia en Python:**\n",
        "Sin control de flujo, nuestros programas serían extremadamente limitados, capaces solo de realizar secuencias fijas de operaciones. El control de flujo introduce la **lógica** y la **dinámica**, permitiendo que los programas reaccionen a diferentes entradas y situaciones."
      ]
    },
    {
      "cell_type": "markdown",
      "metadata": {},
      "source": [
        "**Conceptos Clave Asociados y Sintaxis Fundamental:**"
      ]
    },
    {
      "cell_type": "markdown",
      "metadata": {},
      "source": [
        "*   **Condicionales (`if`, `elif`, `else`):**\n",
        "    *   **Definición:** Permiten ejecutar bloques de código basados en si una o varias condiciones son verdaderas (`True`) o falsas (`False`).\n",
        "    *   **Sintaxis:**\n",
        "        ```python\n",
        "        if condicion1:\n",
        "            # bloque de código si condicion1 es Verdadera\n",
        "        elif condicion2:\n",
        "            # bloque de código si condicion1 es Falsa y condicion2 es Verdadera\n",
        "        else:\n",
        "            # bloque de código si todas las condiciones anteriores son Falsas\n",
        "        ```\n",
        "    *   **Puntos Clave:**\n",
        "        *   La indentación (generalmente 4 espacios) es **crucial** en Python. Define qué código pertenece a cada bloque.\n",
        "        *   Se usa un colon `:` después de la condición y de `else`/`elif`.\n",
        "        *   `elif` (abreviatura de \"else if\") y `else` son opcionales. Puedes tener solo un `if`."
      ]
    },
    {
      "cell_type": "markdown",
      "metadata": {},
      "source": [
        "*   **Bucles `for`:**\n",
        "    *   **Definición:** Se utilizan para iterar sobre una secuencia (como una lista, tupla, diccionario, conjunto o cadena) o cualquier objeto iterable. Ejecuta un bloque de código una vez por cada elemento en la secuencia.\n",
        "    *   **Sintaxis:**\n",
        "        ```python\n",
        "        for variable_iteradora in secuencia:\n",
        "            # bloque de código a ejecutar para cada elemento\n",
        "        ```\n",
        "    *   **Puntos Clave:**\n",
        "        *   `variable_iteradora` tomará el valor de cada elemento de la `secuencia` en cada iteración.\n",
        "        *   La función `range()` es muy útil para generar secuencias de números para los bucles `for`."
      ]
    },
    {
      "cell_type": "markdown",
      "metadata": {},
      "source": [
        "*   **Bucles `while`:**\n",
        "    *   **Definición:** Repiten un bloque de código mientras una condición especificada sea verdadera (`True`).\n",
        "    *   **Sintaxis:**\n",
        "        ```python\n",
        "        while condicion:\n",
        "            # bloque de código a ejecutar mientras la condicion sea Verdadera\n",
        "        ```\n",
        "    *   **Puntos Clave:**\n",
        "        *   Es fundamental que algo dentro del bucle `while` eventualmente haga que la `condicion` se vuelva `False`, de lo contrario, ¡tendrás un bucle infinito!"
      ]
    },
    {
      "cell_type": "markdown",
      "metadata": {},
      "source": [
        "*   **Sentencias de Control de Bucles:**\n",
        "    *   **`break`**:\n",
        "        *   **Definición:** Termina la ejecución del bucle más interno (`for` o `while`) en el que se encuentra, de forma inmediata. El programa continúa con la siguiente instrucción después del bucle.\n",
        "        *   **Propósito:** Salir de un bucle prematuramente cuando se cumple una condición específica.\n",
        "    *   **`continue`**:\n",
        "        *   **Definición:** Omite el resto del código dentro del bucle para la iteración actual y pasa directamente a la siguiente iteración del bucle.\n",
        "        *   **Propósito:** Saltar una parte del procesamiento de un elemento sin salir del bucle.\n",
        "    *   **`pass`**:\n",
        "        *   **Definición:** Es una operación nula; no hace nada cuando se ejecuta.\n",
        "        *   **Propósito:** Se utiliza como un marcador de posición (placeholder) donde sintácticamente se requiere una sentencia, pero no quieres que se ejecute ningún código. Es útil para definir estructuras vacías que planeas completar más tarde."
      ]
    },
    {
      "cell_type": "markdown",
      "metadata": {},
      "source": [
        "**Errores Comunes a Tener en Cuenta:**"
      ]
    },
    {
      "cell_type": "markdown",
      "metadata": {},
      "source": [
        "*   **Errores de indentación (`IndentationError`):** Python es muy estricto con la indentación. Asegúrate de que el código dentro de los bloques `if`, `elif`, `else`, `for`, `while` esté correctamente indentado.\n",
        "*   **Olvidar los dos puntos (`:`)** al final de las declaraciones `if`, `elif`, `else`, `for`, `while`.\n",
        "*   **Bucles infinitos en `while`:** Si la condición de un bucle `while` nunca se vuelve `False`.\n",
        "*   **Condiciones mal formuladas:** Asegúrate de que tus condiciones evalúen correctamente a `True` o `False` (usando operadores de comparación como `==`, `!=`, `<`, `>`, `<=`, `>=` y operadores lógicos como `and`, `or`, `not`)."
      ]
    },
    {
      "cell_type": "markdown",
      "metadata": {},
      "source": [
        "**Ventajas y Posibles Casos de Uso:**"
      ]
    },
    {
      "cell_type": "markdown",
      "metadata": {},
      "source": [
        "*   **Ventajas:**\n",
        "    *   **Lógica Condicional:** Permite que los programas tomen decisiones inteligentes.\n",
        "    *   **Automatización:** Facilita la repetición de tareas sin escribir el mismo código una y otra vez.\n",
        "    *   **Flexibilidad:** Crea programas que pueden adaptarse a diferentes entradas y escenarios.\n",
        "    *   **Eficiencia:** Evita la ejecución innecesaria de código.\n",
        "*   **Casos de Uso:**\n",
        "    *   Validación de datos de entrada.\n",
        "    *   Menús de usuario interactivos.\n",
        "    *   Procesamiento de archivos línea por línea o de colecciones de datos elemento por elemento.\n",
        "    *   Implementación de algoritmos (búsqueda, ordenamiento, etc.).\n",
        "    *   Simulaciones y juegos.\n"
      ]
    },
    {
      "cell_type": "markdown",
      "metadata": {},
      "source": [
        "**¿Cómo funciona internamente?**"
      ]
    },
    {
      "cell_type": "markdown",
      "metadata": {},
      "source": [
        "*   **Condicionales:** El intérprete de Python evalúa la expresión booleana después del `if`. Si es `True`, ejecuta el bloque indentado. Si es `False`, salta ese bloque y evalúa el siguiente `elif` (si existe) o ejecuta el bloque `else` (si existe).\n",
        "*   **Bucles `for`:** Python obtiene un iterador del objeto iterable. En cada paso, llama al método `__next__()` del iterador para obtener el siguiente elemento y lo asigna a la variable iteradora, luego ejecuta el bloque de código. Cuando el iterador se agota (lanza una excepción `StopIteration`), el bucle termina.\n",
        "*   **Bucles `while`:** El intérprete evalúa la condición. Si es `True`, ejecuta el bloque de código y luego vuelve a evaluar la condición. Este proceso se repite hasta que la condición es `False`."
      ]
    },
    {
      "cell_type": "markdown",
      "metadata": {},
      "source": [
        "**Buenas Prácticas Relacionadas:**"
      ]
    },
    {
      "cell_type": "markdown",
      "metadata": {},
      "source": [
        "*   **Nombres de variables descriptivos:** Especialmente para las condiciones y variables iteradoras.\n",
        "*   **Condiciones claras y concisas:** Evita condiciones excesivamente complejas en una sola línea. Si es necesario, usa variables auxiliares para clarificar.\n",
        "*   **Evitar anidamiento profundo:** Muchos niveles de `if` o bucles anidados pueden hacer el código difícil de leer y depurar. Considera refactorizar usando funciones o descomponiendo la lógica.\n",
        "*   **Uso juicioso de `break` y `continue`:** Pueden hacer el código menos predecible si se abusa de ellos. Asegúrate de que su uso clarifique la lógica, no la oscurezca.\n",
        "*   **Comentar la lógica compleja:** Si una condición o bucle tiene una lógica no obvia, añade un comentario."
      ]
    },
    {
      "cell_type": "markdown",
      "metadata": {},
      "source": [
        "# 3.  **Sintaxis y Ejemplos Básicos**\n"
      ]
    },
    {
      "cell_type": "markdown",
      "metadata": {},
      "source": [
        "**Condicional `if/elif/else`:**"
      ]
    },
    {
      "cell_type": "code",
      "execution_count": 1,
      "metadata": {},
      "outputs": [
        {
          "name": "stdout",
          "output_type": "stream",
          "text": [
            "Eres mayor de edad.\n"
          ]
        }
      ],
      "source": [
        "edad = 20\n",
        "\n",
        "if edad < 18:\n",
        "    print(\"Eres menor de edad.\")\n",
        "elif edad == 18:\n",
        "    print(\"¡Justo tienes 18 años!\")\n",
        "else:\n",
        "    print(\"Eres mayor de edad.\")"
      ]
    },
    {
      "cell_type": "markdown",
      "metadata": {},
      "source": [
        "**Bucle `for` (con una lista):**"
      ]
    },
    {
      "cell_type": "code",
      "execution_count": 2,
      "metadata": {},
      "outputs": [
        {
          "name": "stdout",
          "output_type": "stream",
          "text": [
            "Me gusta el color rojo\n",
            "Me gusta el color verde\n",
            "Me gusta el color azul\n"
          ]
        }
      ],
      "source": [
        "colores = [\"rojo\", \"verde\", \"azul\"]\n",
        "for color in colores:\n",
        "    print(f\"Me gusta el color {color}\")"
      ]
    },
    {
      "cell_type": "markdown",
      "metadata": {},
      "source": [
        "**Bucle `for` (con `range()`):**"
      ]
    },
    {
      "cell_type": "code",
      "execution_count": 3,
      "metadata": {},
      "outputs": [
        {
          "name": "stdout",
          "output_type": "stream",
          "text": [
            "Número: 0\n",
            "Número: 1\n",
            "Número: 2\n"
          ]
        }
      ],
      "source": [
        "for i in range(3):  # range(3) genera números del 0 al 2\n",
        "    print(f\"Número: {i}\")"
      ]
    },
    {
      "cell_type": "markdown",
      "metadata": {},
      "source": [
        "**Bucle `while`:**"
      ]
    },
    {
      "cell_type": "code",
      "execution_count": 4,
      "metadata": {},
      "outputs": [
        {
          "name": "stdout",
          "output_type": "stream",
          "text": [
            "Contador actual: 0\n",
            "Contador actual: 1\n",
            "Contador actual: 2\n",
            "Bucle while terminado.\n"
          ]
        }
      ],
      "source": [
        "contador = 0\n",
        "while contador < 3:\n",
        "    print(f\"Contador actual: {contador}\")\n",
        "    contador += 1  # ¡Importante! Modificar la variable de control para evitar bucle infinito\n",
        "print(\"Bucle while terminado.\")"
      ]
    },
    {
      "cell_type": "markdown",
      "metadata": {},
      "source": [
        "**Sentencia `break`:**"
      ]
    },
    {
      "cell_type": "code",
      "execution_count": 5,
      "metadata": {},
      "outputs": [
        {
          "name": "stdout",
          "output_type": "stream",
          "text": [
            "1\n",
            "2\n",
            "3\n",
            "Encontré el 4, ¡saliendo del bucle!\n"
          ]
        }
      ],
      "source": [
        "numeros = [1, 2, 3, 4, 5, 6]\n",
        "for num in numeros:\n",
        "    if num == 4:\n",
        "        print(\"Encontré el 4, ¡saliendo del bucle!\")\n",
        "        break  # Termina el bucle for\n",
        "    print(num)"
      ]
    },
    {
      "cell_type": "markdown",
      "metadata": {},
      "source": [
        "\n",
        "**Sentencia `continue`:**"
      ]
    },
    {
      "cell_type": "code",
      "execution_count": 6,
      "metadata": {},
      "outputs": [
        {
          "name": "stdout",
          "output_type": "stream",
          "text": [
            "Procesando número impar: 1\n",
            "Saltando el número par: 2\n",
            "Procesando número impar: 3\n",
            "Saltando el número par: 4\n",
            "Procesando número impar: 5\n"
          ]
        }
      ],
      "source": [
        "numeros = [1, 2, 3, 4, 5]\n",
        "for num in numeros:\n",
        "    if num % 2 == 0:  # Si el número es par\n",
        "        print(f\"Saltando el número par: {num}\")\n",
        "        continue  # Salta a la siguiente iteración\n",
        "    print(f\"Procesando número impar: {num}\")"
      ]
    },
    {
      "cell_type": "markdown",
      "metadata": {},
      "source": [
        "**Sentencia `pass`:**"
      ]
    },
    {
      "cell_type": "code",
      "execution_count": 7,
      "metadata": {},
      "outputs": [
        {
          "name": "stdout",
          "output_type": "stream",
          "text": [
            "La función con pass se ejecutó sin problemas.\n"
          ]
        }
      ],
      "source": [
        "def mi_funcion_pendiente():\n",
        "    # TODO: Implementar esta función más tarde\n",
        "    pass  # Evita un error de sintaxis por tener un bloque vacío\n",
        "\n",
        "mi_funcion_pendiente() # No hace nada, pero no da error\n",
        "print(\"La función con pass se ejecutó sin problemas.\")"
      ]
    },
    {
      "cell_type": "code",
      "execution_count": 8,
      "metadata": {},
      "outputs": [
        {
          "name": "stdout",
          "output_type": "stream",
          "text": [
            "El número no es mayor que 10.\n"
          ]
        }
      ],
      "source": [
        "numero = 5\n",
        "if numero > 10:\n",
        "    # Aún no sé qué hacer aquí\n",
        "    pass\n",
        "else:\n",
        "    print(\"El número no es mayor que 10.\")"
      ]
    },
    {
      "cell_type": "markdown",
      "metadata": {},
      "source": [
        "# 4.  **Documentación y Recursos Clave**\n"
      ]
    },
    {
      "cell_type": "markdown",
      "metadata": {},
      "source": [
        "*   **Documentación Oficial de Python:**\n",
        "    *   `if` Statements: [https://docs.python.org/es/3/tutorial/controlflow.html#if-statements](https://docs.python.org/es/3/tutorial/controlflow.html#if-statements)\n",
        "    *   `for` Statements: [https://docs.python.org/es/3/tutorial/controlflow.html#for-statements](https://docs.python.org/es/3/tutorial/controlflow.html#for-statements)\n",
        "    *   `range()` Function: [https://docs.python.org/es/3/tutorial/controlflow.html#the-range-function](https://docs.python.org/es/3/tutorial/controlflow.html#the-range-function)\n",
        "    *   `break` and `continue` Statements, and `else` Clauses on Loops: [https://docs.python.org/es/3/tutorial/controlflow.html#break-and-continue-statements-and-else-clauses-on-loops](https://docs.python.org/es/3/tutorial/controlflow.html#break-and-continue-statements-and-else-clauses-on-loops)\n",
        "    *   `pass` Statements: [https://docs.python.org/es/3/tutorial/controlflow.html#pass-statements](https://docs.python.org/es/3/tutorial/controlflow.html#pass-statements)\n",
        "    *   (Nota: El bucle `while` se explica generalmente junto con los otros bucles o en la sección de \"Más herramientas de control de flujo\" de la documentación, aunque no tiene una sección tan prominente como `for` o `if` en el tutorial principal. La referencia del lenguaje lo cubre bien: [https://docs.python.org/3/reference/compound_stmts.html#the-while-statement](https://docs.python.org/3/reference/compound_stmts.html#the-while-statement))\n",
        "\n",
        "*   **Recursos Externos de Calidad:**\n",
        "    *   Real Python - Conditional Statements in Python (if/elif/else): [https://realpython.com/python-conditional-statements/](https://realpython.com/python-conditional-statements/)\n",
        "    *   Real Python - Python \"for\" Loops (Definite Iteration): [https://realpython.com/python-for-loop/](https://realpython.com/python-for-loop/)\n",
        "    *   Real Python - Python \"while\" Loops (Indefinite Iteration): [https://realpython.com/python-while-loop/](https://realpython.com/python-while-loop/)"
      ]
    },
    {
      "cell_type": "markdown",
      "metadata": {},
      "source": [
        "# 5.  **Ejemplos de Código Prácticos**\n"
      ]
    },
    {
      "cell_type": "markdown",
      "metadata": {},
      "source": [
        "**Ejemplo 1: Clasificador simple de números**"
      ]
    },
    {
      "cell_type": "code",
      "execution_count": 11,
      "metadata": {},
      "outputs": [
        {
          "name": "stdout",
          "output_type": "stream",
          "text": [
            "El número 0 es cero.\n"
          ]
        }
      ],
      "source": [
        "# Solicitar al usuario que ingrese un número\n",
        "entrada_usuario = input(\"Ingresa un número entero: \")\n",
        "\n",
        "# Intentar convertir la entrada a un entero\n",
        "try:\n",
        "    numero = int(entrada_usuario)\n",
        "\n",
        "    # Determinar si es positivo, negativo o cero\n",
        "    if numero > 0:\n",
        "        print(f\"El número {numero} es positivo.\")\n",
        "    elif numero < 0:\n",
        "        print(f\"El número {numero} es negativo.\")\n",
        "    else:\n",
        "        print(f\"El número {numero} es cero.\")\n",
        "\n",
        "    # Determinar si es par o impar (solo si no es cero para evitar confusión)\n",
        "    if numero != 0:\n",
        "        if numero % 2 == 0:\n",
        "            print(f\"Además, el número {numero} es par.\")\n",
        "        else:\n",
        "            print(f\"Además, el número {numero} es impar.\")\n",
        "\n",
        "except ValueError:\n",
        "    print(\"Entrada no válida. Por favor, ingresa un número entero.\")"
      ]
    },
    {
      "cell_type": "markdown",
      "metadata": {},
      "source": [
        "**Ejemplo 2: Procesamiento de una lista de compras con `for` y `continue`**"
      ]
    },
    {
      "cell_type": "code",
      "execution_count": 12,
      "metadata": {},
      "outputs": [
        {
          "name": "stdout",
          "output_type": "stream",
          "text": [
            "Calculando el total de la compra...\n",
            "Agregando 'Manzana' al carrito: $1.50\n",
            "Agregando 'Leche' al carrito: $2.00\n",
            "Lo sentimos, 'Pan' no está en stock. Saltando este artículo.\n",
            "Agregando 'Huevo' al carrito: $3.00\n",
            "Lo sentimos, 'Queso' no está en stock. Saltando este artículo.\n",
            "\n",
            "--- Resumen de la Compra ---\n",
            "Productos comprados:\n",
            "- Manzana\n",
            "- Leche\n",
            "- Huevo\n",
            "Total a pagar: $6.50\n"
          ]
        }
      ],
      "source": [
        "# Lista de tuplas: (producto, precio, en_stock)\n",
        "lista_compras = [\n",
        "    (\"Manzana\", 1.50, True),\n",
        "    (\"Leche\", 2.00, True),\n",
        "    (\"Pan\", 2.50, False),  # No hay pan en stock\n",
        "    (\"Huevo\", 3.00, True),\n",
        "    (\"Queso\", 4.50, False)  # No hay queso en stock\n",
        "]\n",
        "\n",
        "total_a_pagar = 0\n",
        "productos_comprados = []\n",
        "\n",
        "print(\"Calculando el total de la compra...\")\n",
        "for producto, precio, en_stock in lista_compras:\n",
        "    if not en_stock:\n",
        "        print(f\"Lo sentimos, '{producto}' no está en stock. Saltando este artículo.\")\n",
        "        continue  # Salta al siguiente artículo de la lista\n",
        "\n",
        "    # Si está en stock, lo añadimos al total y a la lista de comprados\n",
        "    print(f\"Agregando '{producto}' al carrito: ${precio:.2f}\")\n",
        "    total_a_pagar += precio\n",
        "    productos_comprados.append(producto)\n",
        "\n",
        "print(\"\\n--- Resumen de la Compra ---\")\n",
        "if productos_comprados:\n",
        "    print(\"Productos comprados:\")\n",
        "    for item in productos_comprados:\n",
        "        print(f\"- {item}\")\n",
        "    print(f\"Total a pagar: ${total_a_pagar:.2f}\")\n",
        "else:\n",
        "    print(\"No se pudo comprar ningún artículo.\")"
      ]
    },
    {
      "cell_type": "markdown",
      "metadata": {},
      "source": [
        "**Ejemplo 3: Juego simple de adivinar un número con `while` y `break`**"
      ]
    },
    {
      "cell_type": "code",
      "execution_count": 14,
      "metadata": {},
      "outputs": [
        {
          "name": "stdout",
          "output_type": "stream",
          "text": [
            "¡Bienvenido al juego de adivinar el número!\n",
            "Tienes 3 intentos para adivinar un número entre 1 y 10.\n",
            "\n",
            "Intento #1\n",
            "El número secreto es menor, tu número fue: 6.\n",
            "\n",
            "Intento #2\n",
            "El número secreto es menor, tu número fue: 4.\n",
            "\n",
            "Intento #3\n",
            "El número secreto es menor, tu número fue: 2.\n",
            "\n",
            "¡Lo siento! Te quedaste sin intentos. El número secreto era 1.\n"
          ]
        }
      ],
      "source": [
        "import random # Módulo para generar números aleatorios\n",
        "\n",
        "numero_secreto = random.randint(1, 10) # Genera un número aleatorio entre 1 y 10\n",
        "intentos_maximos = 3\n",
        "intentos_realizados = 0\n",
        "\n",
        "print(\"¡Bienvenido al juego de adivinar el número!\")\n",
        "print(f\"Tienes {intentos_maximos} intentos para adivinar un número entre 1 y 10.\")\n",
        "\n",
        "while intentos_realizados < intentos_maximos:\n",
        "    print(f\"\\nIntento #{intentos_realizados + 1}\")\n",
        "    try:\n",
        "        adivinanza_str = input(\"Ingresa tu número: \")\n",
        "        adivinanza = int(adivinanza_str)\n",
        "\n",
        "        if adivinanza < 1 or adivinanza > 10:\n",
        "            print(\"Por favor, ingresa un número entre 1 y 10.\")\n",
        "            continue # Vuelve al inicio del bucle sin contar como un intento válido si está fuera de rango\n",
        "\n",
        "    except ValueError:\n",
        "        print(\"Entrada no válida. Debes ingresar un número.\")\n",
        "        continue # Vuelve al inicio del bucle si la entrada no es un número\n",
        "\n",
        "    intentos_realizados += 1\n",
        "\n",
        "    if adivinanza == numero_secreto:\n",
        "        print(f\"¡Felicidades! Adivinaste el número {numero_secreto} en {intentos_realizados} intentos.\")\n",
        "        break # Sale del bucle while porque el usuario adivinó\n",
        "    elif adivinanza < numero_secreto:\n",
        "        print(f\"El número secreto es mayor, tu número fue: {adivinanza}\")\n",
        "    else:\n",
        "        print(f\"El número secreto es menor, tu número fue: {adivinanza}.\")\n",
        "\n",
        "    if intentos_realizados == intentos_maximos and adivinanza != numero_secreto:\n",
        "        print(f\"\\n¡Lo siento! Te quedaste sin intentos. El número secreto era {numero_secreto}.\")"
      ]
    },
    {
      "cell_type": "markdown",
      "metadata": {},
      "source": [
        "# 6.  **Ejercicio Práctico**\n"
      ]
    },
    {
      "cell_type": "markdown",
      "metadata": {},
      "source": [
        "**Ejercicio: Analizador de Contraseñas Simples**\n",
        "\n",
        "Crea un programa que evalúe la \"fortaleza\" de una contraseña ingresada por el usuario según los siguientes criterios:\n",
        "1.  Debe tener al menos 8 caracteres de longitud.\n",
        "2.  Debe contener al menos una letra mayúscula.\n",
        "3.  Debe contener al menos un número.\n",
        "\n",
        "Tu programa debe:\n",
        "*   Solicitar al usuario que ingrese una contraseña.\n",
        "*   Iterar sobre la contraseña (puedes tratarla como una secuencia de caracteres con un bucle `for`).\n",
        "*   Usar condicionales (`if`) para verificar cada criterio.\n",
        "*   Mantener un puntaje de fortaleza (p.ej., empieza en 0, suma 1 por cada criterio cumplido).\n",
        "*   Al final, imprimir un mensaje indicando la fortaleza de la contraseña:\n",
        "    *   Si cumple los 3 criterios: \"Contraseña fuerte\".\n",
        "    *   Si cumple 2 criterios: \"Contraseña moderada\".\n",
        "    *   Si cumple 1 criterio: \"Contraseña débil\".\n",
        "    *   Si no cumple ningún criterio: \"Contraseña muy débil\".\n",
        "\n",
        "**Pista:**\n",
        "*   Puedes usar métodos de string como `isupper()` para verificar si un carácter es una mayúscula, y `isdigit()` para verificar si es un número.\n",
        "*   Recuerda la función `len()` para obtener la longitud de la contraseña."
      ]
    },
    {
      "cell_type": "code",
      "execution_count": 58,
      "metadata": {},
      "outputs": [
        {
          "name": "stdout",
          "output_type": "stream",
          "text": [
            "\n",
            "--- Análisis de la Contraseña 'Prueba1234' ---\n",
            "Tu contraseña tiene el largo suficiente, +1 punto!\n",
            "Tu contraseña tiene al menos una mayuscula, +1 punto!\n",
            "Tu contraseña tiene al menos un número, +1 punto\n",
            "\n",
            "Puntuación total: 3\n",
            "Resultado: Contraseña fuerte.\n"
          ]
        }
      ],
      "source": [
        "\n",
        "contraseña = \"Prueba1234\"\n",
        "# contraseña = input(\"Ingresa tu contraseña: \")\n",
        "puntos = 0\n",
        "mayuscula = False\n",
        "numero = False\n",
        "largo = False\n",
        "\n",
        "if len(contraseña) >= 8:\n",
        "    largo = True\n",
        "    \n",
        "for caracter in contraseña:\n",
        "    if caracter.isupper():\n",
        "        mayuscula = True\n",
        "        break\n",
        "\n",
        "for caracter in contraseña:\n",
        "    if caracter.isdigit():\n",
        "        numero = True \n",
        "        break\n",
        "\n",
        "print(f\"\\n--- Análisis de la Contraseña '{contraseña}' ---\")\n",
        "if largo:\n",
        "    print(f\"Tu contraseña tiene el largo suficiente, +1 punto!\")\n",
        "    puntos += 1\n",
        "else:\n",
        "    print(f\"Tu contraseña no tiene el largo suficiente\")\n",
        "if mayuscula:    \n",
        "    print(\"Tu contraseña tiene al menos una mayuscula, +1 punto!\")\n",
        "    puntos += 1\n",
        "else:\n",
        "    print(\"Tu contraseña no tiene al menos una mayuscula!\") \n",
        "\n",
        "if numero:\n",
        "    print(\"Tu contraseña tiene al menos un número, +1 punto\")\n",
        "    puntos += 1\n",
        "else:\n",
        "    print(\"Tu contraseña no tiene al menos un número\")\n",
        "\n",
        "\n",
        "print(f\"\\nPuntuación total: {puntos}\")\n",
        "if puntos == 3:\n",
        "    print(\"Resultado: Contraseña fuerte.\")\n",
        "elif puntos == 2:\n",
        "    print(\"Resultado: Contraseña moderada.\")\n",
        "elif puntos == 1:\n",
        "    print(\"Resultado: Contraseña débil.\")\n",
        "else:\n",
        "    print(\"Resultado: Contraseña muy débil.\")"
      ]
    },
    {
      "cell_type": "markdown",
      "metadata": {},
      "source": [
        "# 7.  **Conexión con Otros Temas**\n"
      ]
    },
    {
      "cell_type": "markdown",
      "metadata": {},
      "source": [
        "**Conceptos que debería conocer previamente:**\n",
        "*   **Variables y Tipos de Datos:** Para almacenar y manipular los valores sobre los que tomarás decisiones (números, cadenas, booleanos).\n",
        "*   **Operadores:**\n",
        "    *   **De Comparación:** `==`, `!=`, `<`, `>`, `<=`, `>=` (fundamentales para las condiciones `if` y `while`).\n",
        "    *   **Lógicos:** `and`, `or`, `not` (para combinar múltiples condiciones).\n",
        "    *   **Aritméticos:** `+`, `-`, `*`, `/`, `%` (a menudo usados dentro de los bucles o condicionales).\n",
        "*   **Tipos de Secuencia:** Listas, tuplas, cadenas (son los objetos sobre los que típicamente itera un bucle `for`).\n",
        "*   **Entrada y Salida Básica:** `input()` para obtener datos del usuario y `print()` para mostrar resultados, lo que hace los ejemplos más interactivos."
      ]
    },
    {
      "cell_type": "markdown",
      "metadata": {},
      "source": [
        "**Temas futuros para los que este conocimiento será importante:**\n",
        "*   **Funciones:** El control de flujo es esencial dentro de las funciones para definir su comportamiento. Podrás usar `return` que también es una forma de controlar el flujo de ejecución de una función.\n",
        "*   **Manejo de Errores (`try`/`except`):** Estas estructuras también controlan el flujo de ejecución, permitiendo que tu programa reaccione a errores en lugar de simplemente detenerse.\n",
        "*   **Comprensión de Listas/Diccionarios/Conjuntos:** Son formas concisas de crear colecciones que a menudo incorporan lógica de bucles y condicionales.\n",
        "*   **Algoritmos y Estructuras de Datos:** La mayoría de los algoritmos (búsqueda, ordenamiento, etc.) se implementan utilizando extensivamente bucles y condicionales.\n",
        "*   **Programación Orientada a Objetos:** Los métodos dentro de las clases contendrán lógica de control de flujo para definir el comportamiento de los objetos."
      ]
    },
    {
      "cell_type": "markdown",
      "metadata": {},
      "source": [
        "# 8.  **Aplicaciones en el Mundo Real**\n"
      ]
    },
    {
      "cell_type": "markdown",
      "metadata": {},
      "source": [
        "El control de flujo es omnipresente en la programación. Aquí un par de ejemplos concretos:\n",
        "\n",
        "1.  **Validación de Formularios Web:** Cuando te registras en un sitio web, el servidor (que podría estar ejecutando Python con un framework como Django o Flask) usa condicionales para verificar si tu nombre de usuario ya existe, si tu contraseña cumple los requisitos de seguridad (longitud, caracteres especiales, etc.), si el formato del email es correcto, etc. Si algo no es válido, te muestra un mensaje de error; si todo es correcto, procede a crear tu cuenta.\n",
        "2.  **Procesamiento de Archivos de Datos (ETL - Extract, Transform, Load):** Imagina que tienes un archivo CSV con miles de registros de ventas. Un script de Python podría usar un bucle `for` para leer cada fila del archivo. Dentro del bucle, usaría condicionales `if/elif/else` para:\n",
        "    *   Limpiar datos (ej. si un campo está vacío, poner un valor por defecto).\n",
        "    *   Filtrar registros (ej. solo procesar ventas de una cierta región o producto).\n",
        "    *   Realizar cálculos (ej. calcular el total de ventas por categoría).\n",
        "    *   Luego, estos datos procesados se cargarían en una base de datos o se guardarían en un nuevo archivo."
      ]
    }
  ],
  "metadata": {
    "kernelspec": {
      "display_name": "Python 3",
      "language": "python",
      "name": "python3"
    },
    "language_info": {
      "codemirror_mode": {
        "name": "ipython",
        "version": 3
      },
      "file_extension": ".py",
      "mimetype": "text/x-python",
      "name": "python",
      "nbconvert_exporter": "python",
      "pygments_lexer": "ipython3",
      "version": "3.13.3"
    }
  },
  "nbformat": 4,
  "nbformat_minor": 2
}
