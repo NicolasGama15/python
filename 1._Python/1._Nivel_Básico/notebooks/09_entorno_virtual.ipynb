{
  "cells": [
    {
      "cell_type": "markdown",
      "metadata": {},
      "source": [
        "# 1.  **Título del Tema**\n"
      ]
    },
    {
      "cell_type": "markdown",
      "metadata": {},
      "source": [
        "**Entornos Virtuales en Python: Creando Espacios Aislados para tus Proyectos con `venv`**"
      ]
    },
    {
      "cell_type": "markdown",
      "metadata": {},
      "source": [
        "# 2.  **Explicación Conceptual Detallada**\n"
      ]
    },
    {
      "cell_type": "markdown",
      "metadata": {},
      "source": [
        "**Profundización Técnica:**\n",
        "\n",
        "*   **¿Qué es?** Un entorno virtual es un directorio que contiene una instalación de Python de una versión particular, además de varias bibliotecas y scripts adicionales específicos para un proyecto. Esencialmente, crea una copia aislada de Python para tu proyecto.\n",
        "*   **¿Para qué se utiliza?** Se utiliza para gestionar las dependencias de un proyecto de forma aislada. Esto significa que cada proyecto puede tener sus propias versiones de paquetes sin afectar a otros proyectos o a la instalación global de Python en tu sistema.\n",
        "*   **Importancia en Python:**\n",
        "    *   **Evita conflictos de versiones:** Diferentes proyectos pueden requerir diferentes versiones de una misma biblioteca (por ejemplo, Proyecto A necesita `requests==2.20.0` y Proyecto B necesita `requests==2.25.1`). Sin entornos virtuales, sería una pesadilla gestionar esto.\n",
        "    *   **Mantiene limpio el entorno global:** Evita instalar innumerables paquetes en tu Python global, lo que puede llevar a la confusión y a un sistema más lento.\n",
        "    *   **Facilita la reproducibilidad:** Al definir las dependencias de un proyecto en un archivo (generalmente `requirements.txt`), cualquiera puede recrear el mismo entorno fácilmente.\n",
        "    *   **Colaboración:** Permite que diferentes desarrolladores trabajen en el mismo proyecto con un conjunto consistente de paquetes y versiones."
      ]
    },
    {
      "cell_type": "markdown",
      "metadata": {},
      "source": [
        "**Conceptos Clave Asociados:**\n",
        "\n",
        "*   **`venv`:** Es el módulo estándar en Python (desde la versión 3.3) para crear entornos virtuales. Es el recomendado para la mayoría de los casos de uso modernos.\n",
        "*   **`virtualenv`:** Es una herramienta de terceros más antigua pero muy popular que ofrece algunas funcionalidades adicionales y compatibilidad con versiones más antiguas de Python. Si `venv` cubre tus necesidades, es una excelente opción por ser parte de la librería estándar.\n",
        "*   **`pip` (Pip Installs Packages):** Es el gestor de paquetes de Python. Lo usarás para instalar, desinstalar y gestionar bibliotecas dentro de tu entorno virtual activado.\n",
        "*   **Dependencias:** Son los paquetes o bibliotecas externas que tu proyecto necesita para funcionar.\n",
        "*   **`requirements.txt`:** Un archivo de texto que lista todas las dependencias de un proyecto y sus versiones exactas. Permite recrear el entorno de forma idéntica."
      ]
    },
    {
      "cell_type": "markdown",
      "metadata": {},
      "source": [
        "**Errores Comunes a Tener en Cuenta:**\n",
        "\n",
        "*   **Olvidar activar el entorno:** Si instalas paquetes sin activar el entorno virtual, se instalarán globalmente o en otro entorno activo.\n",
        "*   **Versionar la carpeta del entorno:** La carpeta del entorno virtual (por ejemplo, `venv/` o `mi_entorno/`) no debe incluirse en sistemas de control de versiones como Git. Contiene muchos archivos y puede ser específica del sistema operativo. En su lugar, versiona el archivo `requirements.txt`.\n",
        "*   **Confusión entre la terminal del sistema y la terminal de Jupyter:** La creación y activación de entornos se hace en la terminal del sistema."
      ]
    },
    {
      "cell_type": "markdown",
      "metadata": {},
      "source": [
        "**Ventajas:**\n",
        "*   **Aislamiento:** Las dependencias de un proyecto no afectan a otros.\n",
        "*   **Organización:** Cada proyecto tiene sus propias dependencias claramente definidas.\n",
        "*   **Portabilidad y Reproducibilidad:** Facilita la configuración del proyecto en diferentes máquinas o por diferentes desarrolladores.\n",
        "*   **Gestión de Versiones:** Permite usar diferentes versiones de Python y paquetes para diferentes proyectos."
      ]
    },
    {
      "cell_type": "markdown",
      "metadata": {},
      "source": [
        "**Posibles Casos de Uso:**\n",
        "*   Desarrollar una aplicación web con Django que necesita una versión específica de ciertas bibliotecas.\n",
        "*   Trabajar en un script de análisis de datos que usa versiones particulares de `pandas` y `scikit-learn`.\n",
        "*   Experimentar con nuevas bibliotecas sin \"contaminar\" tu instalación global de Python.\n",
        "*   Colaborar en un proyecto con un equipo, asegurando que todos usen las mismas dependencias."
      ]
    },
    {
      "cell_type": "markdown",
      "metadata": {},
      "source": [
        "**Definición y Propósito:**\n",
        "*   Un entorno virtual es un mecanismo para crear árboles de directorios aislados o \"sandboxes\" que contienen una instalación específica de Python y cualquier paquete adicional que requiera un proyecto en particular. El propósito principal es asegurar que los proyectos tengan sus propias dependencias, independientes de otros proyectos y de la instalación global de Python."
      ]
    },
    {
      "cell_type": "markdown",
      "metadata": {},
      "source": [
        "**¿Cuándo y por qué se utiliza?**\n",
        "*   **Siempre que inicies un nuevo proyecto de Python:** Es una buena práctica por defecto.\n",
        "*   **Cuando trabajas en múltiples proyectos:** Especialmente si tienen dependencias diferentes o conflictivas.\n",
        "*   **Cuando colaboras con otros:** Para asegurar la consistencia del entorno de desarrollo.\n",
        "*   **Antes de desplegar una aplicación:** Para empaquetar las dependencias correctas."
      ]
    },
    {
      "cell_type": "markdown",
      "metadata": {},
      "source": [
        "**¿Cómo funciona internamente (simplificado)?**\n",
        "Cuando creas un entorno virtual (por ejemplo, con `python -m venv mi_entorno`), Python:\n",
        "1.  Crea una nueva carpeta (ej. `mi_entorno`).\n",
        "2.  Dentro de esta carpeta, copia o enlaza una versión del intérprete de Python.\n",
        "3.  Crea subdirectorios para albergar los paquetes instalados (`Lib/site-packages` en Windows, `lib/pythonX.Y/site-packages` en Unix).\n",
        "4.  Proporciona scripts de activación (ej. `activate`). Cuando ejecutas el script de activación, modifica las variables de entorno de tu shell (como `PATH` y `PYTHONHOME`) para que, cuando escribas `python` o `pip`, se utilicen las versiones que están dentro del entorno virtual. El prompt de tu terminal generalmente cambia para indicar que un entorno está activo."
      ]
    },
    {
      "cell_type": "markdown",
      "metadata": {},
      "source": [
        "**Buenas Prácticas Relacionadas:**\n",
        "*   Crea un entorno virtual para cada nuevo proyecto de Python.\n",
        "*   Activa siempre el entorno virtual antes de trabajar en el proyecto o instalar paquetes.\n",
        "*   Usa `pip freeze > requirements.txt` para guardar las dependencias de tu proyecto.\n",
        "*   Añade el nombre de tu carpeta de entorno virtual (ej. `venv/`, `env/`, `*.env`) a tu archivo `.gitignore`.\n",
        "*   Actualiza regularmente tus dependencias (con precaución y probando).\n",
        "*   Nombra tus entornos de forma descriptiva si tienes muchos, aunque un nombre genérico como `venv` o `env` dentro de la carpeta del proyecto es muy común."
      ]
    },
    {
      "cell_type": "markdown",
      "metadata": {},
      "source": [
        "# 3.  **Sintaxis y Ejemplos Básicos**\n"
      ]
    },
    {
      "cell_type": "markdown",
      "metadata": {},
      "source": [
        "**Importante:** Los siguientes comandos se ejecutan en la **terminal** de tu sistema operativo (como PowerShell o CMD en Windows, o Terminal en macOS/Linux), **no directamente en una celda de Jupyter Notebook**."
      ]
    },
    {
      "cell_type": "markdown",
      "metadata": {},
      "source": [
        "1.  **Crear un entorno virtual:**\n",
        "    Usa el módulo `venv`. Navega en tu terminal hasta la carpeta de tu proyecto y ejecuta:\n",
        "    ```bash\n",
        "    python -m venv nombre_del_entorno\n",
        "    ```\n",
        "    Por ejemplo, para crear un entorno llamado `mi_proyecto_env`:\n",
        "    ```bash\n",
        "    python -m venv mi_proyecto_env\n",
        "    ```\n",
        "    Esto creará una carpeta `mi_proyecto_env` en tu directorio actual. Un nombre común es simplemente `venv`.\n",
        "\n",
        "2.  **Activar el entorno virtual:**\n",
        "    *   **Windows (CMD):**\n",
        "        ```bash\n",
        "        nombre_del_entorno\\Scripts\\activate.bat\n",
        "        ```\n",
        "        o en **PowerShell**:\n",
        "        ```bash\n",
        "        nombre_del_entorno\\Scripts\\Activate.ps1\n",
        "        ```\n",
        "        (Puede que necesites ajustar la política de ejecución en PowerShell: `Set-ExecutionPolicy -ExecutionPolicy RemoteSigned -Scope CurrentUser`)\n",
        "    *   **macOS/Linux (bash/zsh):**\n",
        "        ```bash\n",
        "        source nombre_del_entorno/bin/activate\n",
        "        ```\n",
        "    Una vez activado, el nombre del entorno aparecerá en el prompt de tu terminal (e.g., `(mi_proyecto_env) C:\\ruta\\a\\tu\\proyecto>`).\n",
        "\n",
        "3.  **Instalar paquetes:**\n",
        "    Con el entorno activado, usa `pip`:\n",
        "    ```bash\n",
        "    pip install nombre_paquete\n",
        "    pip install nombre_paquete==version_especifica\n",
        "    pip install \"nombre_paquete>=version_minima\"\n",
        "    ```\n",
        "    Ejemplo:\n",
        "    ```bash\n",
        "    pip install requests\n",
        "    pip install pandas==2.0.3\n",
        "    ```\n",
        "\n",
        "4.  **Ver paquetes instalados en el entorno:**\n",
        "    ```bash\n",
        "    pip list\n",
        "    ```\n",
        "\n",
        "5.  **Guardar dependencias en `requirements.txt`:**\n",
        "    ```bash\n",
        "    pip freeze > requirements.txt\n",
        "    ```\n",
        "    Esto crea un archivo `requirements.txt` con todos los paquetes y sus versiones exactas instalados en el entorno activo.\n",
        "\n",
        "6.  **Instalar dependencias desde `requirements.txt`:**\n",
        "    Si tienes un archivo `requirements.txt` (por ejemplo, al clonar un proyecto), puedes instalar todas las dependencias con:\n",
        "    ```bash\n",
        "    pip install -r requirements.txt\n",
        "    ```\n",
        "\n",
        "7.  **Desactivar el entorno virtual:**\n",
        "    Simplemente escribe en la terminal:\n",
        "    ```bash\n",
        "    deactivate\n",
        "    ```\n",
        "    Volverás al entorno global de Python y el prefijo del entorno desaparecerá del prompt."
      ]
    },
    {
      "cell_type": "markdown",
      "metadata": {},
      "source": [
        "**Uso con Jupyter Notebooks:**\n",
        "Para que Jupyter Notebook (o JupyterLab) utilice tu entorno virtual, necesitas hacer ese entorno \"conocido\" para Jupyter. La forma más común es:\n",
        "1.  Activa tu entorno virtual en la terminal.\n",
        "2.  Instala el paquete `ipykernel` en ese entorno:\n",
        "    ```bash\n",
        "    pip install ipykernel\n",
        "    ```3.  Registra este entorno como un kernel para Jupyter:\n",
        "    ```bash\n",
        "    python -m ipykernel install --user --name=\"nombre-descriptivo-para-jupyter\" --display-name \"Python (nombre-descriptivo)\"\n",
        "    ```\n",
        "    Reemplaza `\"nombre-descriptivo-para-jupyter\"` con un identificador único (sin espacios) y `\"Python (nombre-descriptivo)\"` con el nombre que verás en el menú de kernels de Jupyter.\n",
        "\n",
        "Después de esto, cuando abras Jupyter Notebook o JupyterLab, podrás ir al menú `Kernel > Change kernel` y seleccionar el kernel que acabas de registrar. Las celdas de código en ese notebook se ejecutarán usando el intérprete y los paquetes de tu entorno virtual."
      ]
    },
    {
      "cell_type": "markdown",
      "metadata": {},
      "source": [
        "# 4.  **Documentación y Recursos Clave**\n"
      ]
    },
    {
      "cell_type": "markdown",
      "metadata": {},
      "source": [
        "*   **Documentación Oficial de Python sobre `venv`:**\n",
        "    *   [venv — Creation of virtual environments](https://docs.python.org/3/library/venv.html)\n",
        "*   **Tutorial de Python.org sobre Entornos Virtuales y Paquetes:**\n",
        "    *   [Virtual Environments and Packages](https://docs.python.org/3/tutorial/venv.html)\n",
        "*   **Recurso Externo de Alta Calidad:**\n",
        "    *   Real Python: [Python Virtual Environments: A Primer](https://realpython.com/python-virtual-environments-a-primer/) (Un tutorial muy completo y amigable)."
      ]
    },
    {
      "cell_type": "markdown",
      "metadata": {},
      "source": [
        "# 5.  **Ejemplos de Código Prácticos**\n"
      ]
    },
    {
      "cell_type": "markdown",
      "metadata": {},
      "source": [
        "**Nota Preliminar:** Como se mencionó, la *creación y activación* de entornos virtuales se hace en la terminal. Los siguientes ejemplos asumen que ya has creado un entorno, lo has activado, has instalado `ipykernel` y lo has registrado como un kernel, y has seleccionado ese kernel para tu notebook.\n"
      ]
    },
    {
      "cell_type": "markdown",
      "metadata": {},
      "source": [
        "**Ejemplo 1: Verificar paquetes y versiones en un entorno específico**"
      ]
    },
    {
      "cell_type": "markdown",
      "metadata": {},
      "source": [
        "*   **Pasos en la Terminal (antes de abrir Jupyter):**\n",
        "    1.  `python -m venv ejemplo1_env`\n",
        "    2.  `source ejemplo1_env/bin/activate` (o el comando de activación para Windows)\n",
        "    3.  `(ejemplo1_env) pip install numpy==1.26.0 pandas==2.2.0 ipykernel`\n",
        "    4.  `(ejemplo1_env) python -m ipykernel install --user --name=\"ejemplo1_env\" --display-name \"Python (Ejemplo1 NumPy & Pandas)\"`\n",
        "    5.  `(ejemplo1_env) deactivate` (opcional antes de abrir Jupyter, pero buena práctica)\n",
        "*   **En Jupyter Notebook (asegúrate de seleccionar el kernel \"Python (Ejemplo1 NumPy & Pandas)\"):**\n",
        "\n",
        "    ```python\n",
        "    # Celda 1: Importar paquetes y verificar versiones\n",
        "    import numpy\n",
        "    import pandas\n",
        "    import sys\n",
        "\n",
        "    print(f\"Versión de NumPy: {numpy.__version__}\")\n",
        "    print(f\"Versión de Pandas: {pandas.__version__}\")\n",
        "    print(f\"Ruta del intérprete de Python: {sys.executable}\")\n",
        "    # La ruta del intérprete debería apuntar a tu carpeta ejemplo1_env\n",
        "    ```\n",
        "\n",
        "    **Salida Esperada:**\n",
        "    ```\n",
        "    Versión de NumPy: 1.26.0\n",
        "    Versión de Pandas: 2.2.0\n",
        "    Ruta del intérprete de Python: /ruta/a/tu/proyecto/ejemplo1_env/bin/python\n",
        "    ```\n",
        "    (La ruta exacta variará según tu sistema y dónde creaste el entorno)."
      ]
    },
    {
      "cell_type": "markdown",
      "metadata": {},
      "source": [
        "**Ejemplo 2: Demostrar aislamiento entre dos entornos (kernels)**"
      ]
    },
    {
      "cell_type": "markdown",
      "metadata": {},
      "source": [
        "Este ejemplo requiere configurar dos entornos diferentes y poder cambiar entre ellos en Jupyter.\n",
        "\n",
        "*   **Entorno A (ya configurado como `ejemplo1_env` con `pandas==2.2.0`)**\n",
        "*   **Entorno B - Pasos en la Terminal:**\n",
        "    1.  `python -m venv ejemplo2_env`\n",
        "    2.  `source ejemplo2_env/bin/activate` (o el comando de activación para Windows)\n",
        "    3.  `(ejemplo2_env) pip install pandas==1.5.3 ipykernel` # Versión diferente de Pandas\n",
        "    4.  `(ejemplo2_env) python -m ipykernel install --user --name=\"ejemplo2_env\" --display-name \"Python (Ejemplo2 Pandas Antiguo)\"`\n",
        "    5.  `(ejemplo2_env) deactivate`\n",
        "\n",
        "*   **En Jupyter Notebook:**\n",
        "    *   **Primero, selecciona el kernel \"Python (Ejemplo1 NumPy & Pandas)\" y ejecuta:**\n",
        "        ```python\n",
        "        # Celda 1 (Kernel: Ejemplo1)\n",
        "        import pandas\n",
        "        print(f\"Con Kernel Ejemplo1 - Versión de Pandas: {pandas.__version__}\")\n",
        "        ```\n",
        "        **Salida Esperada:**\n",
        "        ```\n",
        "        Con Kernel Ejemplo1 - Versión de Pandas: 2.2.0\n",
        "        ```\n",
        "    *   **Luego, cambia el kernel a \"Python (Ejemplo2 Pandas Antiguo)\" (Kernel > Change kernel) y ejecuta la misma celda (o una nueva):**\n",
        "        ```python\n",
        "        # Celda 2 (Kernel: Ejemplo2)\n",
        "        import pandas\n",
        "        print(f\"Con Kernel Ejemplo2 - Versión de Pandas: {pandas.__version__}\")\n",
        "        ```\n",
        "        **Salida Esperada:**\n",
        "        ```\n",
        "        Con Kernel Ejemplo2 - Versión de Pandas: 1.5.3\n",
        "        ```\n",
        "    Este ejemplo ilustra que, al cambiar el kernel de Jupyter (que apunta a diferentes entornos virtuales), puedes acceder a diferentes versiones de los mismos paquetes."
      ]
    },
    {
      "cell_type": "markdown",
      "metadata": {},
      "source": [
        "\n",
        "**Ejemplo 3: Flujo de trabajo con `requirements.txt`**"
      ]
    },
    {
      "cell_type": "markdown",
      "metadata": {},
      "source": [
        "*   **Pasos en la Terminal (para un nuevo proyecto \"proyecto_reqs\"):**\n",
        "    1.  `mkdir proyecto_reqs`\n",
        "    2.  `cd proyecto_reqs`\n",
        "    3.  `python -m venv venv_reqs`\n",
        "    4.  `source venv_reqs/bin/activate` (o el comando de activación para Windows)\n",
        "    5.  `(venv_reqs) pip install requests beautifulsoup4 ipykernel`\n",
        "    6.  `(venv_reqs) pip freeze > requirements.txt`\n",
        "        *   Contenido de `requirements.txt` (versiones pueden variar ligeramente):\n",
        "            ```\n",
        "            beautifulsoup4==4.x.x\n",
        "            certifi==xxxx.xx.xx\n",
        "            charset-normalizer==x.x.x\n",
        "            idna==x.x\n",
        "            ipykernel==x.x.x\n",
        "            ... (otras dependencias de ipykernel)\n",
        "            requests==2.xx.x\n",
        "            soupsieve==2.x.x\n",
        "            ...\n",
        "            ```\n",
        "    7.  `(venv_reqs) python -m ipykernel install --user --name=\"proyecto_reqs_env\" --display-name \"Python (Proyecto Reqs)\"`\n",
        "\n",
        "*   **En Jupyter Notebook (selecciona el kernel \"Python (Proyecto Reqs)\"):**\n",
        "\n",
        "    ```python\n",
        "    # Celda 1: Usar los paquetes instalados\n",
        "    import requests\n",
        "    from bs4 import BeautifulSoup\n",
        "\n",
        "    print(f\"Requests version: {requests.__version__}\")\n",
        "    print(f\"BeautifulSoup4 (bs4) está instalado y listo.\")\n",
        "\n",
        "    # Pequeño ejemplo de uso\n",
        "    try:\n",
        "        response = requests.get(\"https://www.python.org\")\n",
        "        response.raise_for_status() # Lanza una excepción para respuestas erróneas (4XX, 5XX)\n",
        "        soup = BeautifulSoup(response.content, 'html.parser')\n",
        "        print(f\"\\nTítulo de la página python.org: {soup.title.string}\")\n",
        "    except requests.exceptions.RequestException as e:\n",
        "        print(f\"Error al obtener la página: {e}\")\n",
        "\n",
        "    ```\n",
        "    **Salida Esperada (las versiones pueden variar):**\n",
        "    ```\n",
        "    Requests version: 2.31.0\n",
        "    BeautifulSoup4 (bs4) está instalado y listo.\n",
        "\n",
        "    Título de la página python.org: Welcome to Python.org\n",
        "    ```\n",
        "    Este ejemplo muestra cómo se configura un proyecto, se guardan sus dependencias y luego se pueden usar esas bibliotecas en un notebook. Si compartieras `requirements.txt` (y tu código de notebook), otra persona podría recrear tu entorno e instalar los mismos paquetes con `pip install -r requirements.txt` en su propio entorno virtual.\n"
      ]
    },
    {
      "cell_type": "markdown",
      "metadata": {},
      "source": [
        "# 6.  **Ejercicio Práctico**\n"
      ]
    },
    {
      "cell_type": "markdown",
      "metadata": {},
      "source": [
        "N/A"
      ]
    },
    {
      "cell_type": "markdown",
      "metadata": {},
      "source": [
        "# 7.  **Conexión con Otros Temas**\n"
      ]
    },
    {
      "cell_type": "markdown",
      "metadata": {},
      "source": [
        "*   **Conceptos que Deberías Conocer Previamente:**\n",
        "    *   **Instalación de Python:** Debes tener Python instalado en tu sistema.\n",
        "    *   **Uso Básico de la Terminal/Línea de Comandos:** Para crear, activar entornos y usar `pip`.\n",
        "    *   **`pip`:** Conocimiento básico de cómo instalar paquetes con `pip`.\n",
        "*   **Temas Futuros para los que este Conocimiento Será Importante:**\n",
        "    *   **Gestión Avanzada de Dependencias:** Herramientas como `Poetry` o `Pipenv` construyen sobre la idea de entornos aislados, ofreciendo una gestión de dependencias más robusta y determinista.\n",
        "    *   **Empaquetado de Proyectos (`setuptools`, `wheel`):** Cuando quieras distribuir tus propios paquetes de Python, gestionarás sus dependencias de manera similar.\n",
        "    *   **Despliegue de Aplicaciones (Docker, Servidores Web):** Necesitarás definir y recrear entornos con dependencias específicas para producción.\n",
        "    *   **Integración Continua / Despliegue Continuo (CI/CD):** Los pipelines de CI/CD necesitan recrear entornos predecibles para construir y probar tu código."
      ]
    },
    {
      "cell_type": "markdown",
      "metadata": {},
      "source": [
        "# 8.  **Aplicaciones en el Mundo Real**\n"
      ]
    },
    {
      "cell_type": "markdown",
      "metadata": {},
      "source": [
        "1.  **Desarrollo Web con Django/Flask:** Cada proyecto Django o Flask se desarrolla en su propio entorno virtual. Esto es crucial porque diferentes proyectos pueden usar versiones distintas de Django, Flask, o sus plugins (por ejemplo, un proyecto antiguo con Django 2.2 y uno nuevo con Django 4.1).\n",
        "2.  **Proyectos de Ciencia de Datos y Machine Learning:** Un proyecto podría necesitar `TensorFlow 2.5` con una versión específica de `CUDA`, mientras que otro proyecto más reciente usa `PyTorch 2.0`. Los entornos virtuales permiten que estas configuraciones complejas coexistan sin conflictos en la misma máquina, asegurando que los modelos y análisis sean reproducibles.\n",
        "3.  **Colaboración en Equipos de Desarrollo:** Cuando varios desarrolladores trabajan en el mismo proyecto, el uso de entornos virtuales junto con un archivo `requirements.txt` (o `Pipfile` con Pipenv, `pyproject.toml` con Poetry) garantiza que todos tengan la misma configuración de bibliotecas y versiones, minimizando los problemas de \"funciona en mi máquina pero no en la tuya\"."
      ]
    }
  ],
  "metadata": {
    "kernelspec": {
      "display_name": "Python 3",
      "language": "python",
      "name": "python3"
    },
    "language_info": {
      "name": "python",
      "version": "3.13.3"
    }
  },
  "nbformat": 4,
  "nbformat_minor": 2
}
