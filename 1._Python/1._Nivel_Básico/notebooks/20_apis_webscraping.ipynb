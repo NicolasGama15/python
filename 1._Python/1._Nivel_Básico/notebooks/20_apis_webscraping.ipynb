{
  "cells": [
    {
      "cell_type": "markdown",
      "metadata": {},
      "source": [
        "# 1.  **Título del Tema**\n"
      ]
    },
    {
      "cell_type": "markdown",
      "metadata": {},
      "source": [
        "**Interacción con la Web: APIs y Web Scraping con Python**"
      ]
    },
    {
      "cell_type": "markdown",
      "metadata": {},
      "source": [
        "# 2.  **Explicación Conceptual Detallada**\n"
      ]
    },
    {
      "cell_type": "markdown",
      "metadata": {},
      "source": [
        "**1. Interacción con APIs (Interfaces de Programación de Aplicaciones)**\n",
        "\n",
        "*   **Definición y Propósito:** Una API es un conjunto de reglas y herramientas que permiten que diferentes aplicaciones de software se comuniquen entre sí. Una API web expone datos y funcionalidades de un servidor a través de internet. Es una puerta de entrada formal que un servicio (como Twitter, Google Maps o un servicio meteorológico) te ofrece para que accedas a sus datos de forma controlada y estructurada.\n",
        "*   **¿Cuándo y por qué se utiliza?** Cuando un proveedor de servicios *quiere* que uses sus datos. Es el método preferido siempre que esté disponible. Es rápido, fiable y los datos ya vienen en un formato limpio (normalmente JSON).\n",
        "*   **Conceptos Clave:**\n",
        "    *   **Endpoint:** Una URL específica a la que envías una solicitud para obtener un tipo de dato concreto (ej: `/users/123` podría ser el endpoint para obtener datos del usuario con ID 123).\n",
        "    *   **Request (Solicitud):** La petición que tu código envía al servidor. El método más común es `GET` (para obtener datos).\n",
        "    *   **Response (Respuesta):** Lo que el servidor te devuelve. Contiene un **código de estado** y los **datos**.\n",
        "    *   **Códigos de Estado:** Números que indican el resultado de tu solicitud. Los más importantes son:\n",
        "        *   `200 OK`: Todo salió bien.\n",
        "        *   `404 Not Found`: El recurso que pediste no existe.\n",
        "        *   `403 Forbidden` / `401 Unauthorized`: No tienes permiso para ver esto (quizás necesitas una clave de API).\n",
        "        *   `500 Internal Server Error`: El problema está en el servidor, no en tu código.\n",
        "    *   **JSON (JavaScript Object Notation):** El formato de texto estándar para intercambiar datos en la web. Se parece mucho a los diccionarios y listas de Python, lo que lo hace muy fácil de usar.\n",
        "    *   **Clave de API (API Key):** Una \"contraseña\" que te identifica y te da permiso para usar la API."
      ]
    },
    {
      "cell_type": "markdown",
      "metadata": {},
      "source": [
        "\n",
        "**2. Web Scraping (Raspado Web)**\n",
        "\n",
        "*   **Definición y Propósito:** Es el proceso de extraer información directamente del código HTML de una página web. Se usa cuando no existe una API para obtener los datos que necesitas.\n",
        "*   **¿Cuándo y por qué se utiliza?** Para extraer precios de productos de e-commerce, noticias de portales, listados de propiedades inmobiliarias, etc., cuando estos sitios no ofrecen una API pública.\n",
        "*   **Cómo funciona:**\n",
        "    1.  Tu programa (usando `requests`) descarga el contenido HTML completo de una URL, como lo haría un navegador.\n",
        "    2.  Luego, una librería de \"parsing\" (como `BeautifulSoup`) analiza esa \"sopa\" de código HTML.\n",
        "    3.  Tú le das instrucciones a la librería para que encuentre y extraiga las etiquetas específicas que contienen la información que buscas (ej: \"encuentra todas las etiquetas `<h2>` con la clase `post-title`\").\n",
        "*   **Ventajas y Limitaciones:**\n",
        "    *   **Ventaja:** Puedes obtener casi cualquier dato que sea visible en una página web.\n",
        "    *   **Limitación (¡MUY IMPORTANTE!):** Es frágil. Si el sitio web cambia su diseño (por ejemplo, cambia el nombre de una clase de `post-title` a `entry-title`), tu scraper dejará de funcionar. Requiere mantenimiento constante.\n",
        "*   **Buenas Prácticas y Ética:**\n",
        "    *   **Sé respetuoso:** No hagas miles de peticiones por segundo a un sitio web. Podrías sobrecargar su servidor y hacer que se caiga (esto podría considerarse un ataque de denegación de servicio). Introduce pausas (`time.sleep()`) entre tus peticiones.\n",
        "    *   **Revisa `robots.txt`:** Muchos sitios tienen un archivo en `www.sitio.com/robots.txt` que indica qué partes del sitio no quieren que sean rastreadas por bots. ¡Respétalo!\n",
        "    *   **Identifícate:** Envía una cabecera `User-Agent` en tus peticiones para que el servidor sepa quién eres (o al menos que eres un bot amigable).\n",
        "    *   **Sitios Dinámicos (un problema común):** Muchas webs modernas cargan su contenido usando JavaScript *después* de que la página inicial se haya cargado. `requests` solo obtiene el HTML inicial, por lo que no verá el contenido cargado dinámicamente. Para esto, necesitamos herramientas que actúen como un navegador real, como `Selenium`."
      ]
    },
    {
      "cell_type": "markdown",
      "metadata": {},
      "source": [
        "# 3.  **Sintaxis y Ejemplos Básicos**\n"
      ]
    },
    {
      "cell_type": "code",
      "execution_count": null,
      "metadata": {},
      "outputs": [],
      "source": [
        "# !pip install requests  \n",
        "# !pip install beautifulsoup4 \n",
        "# !pip install pandas\n",
        "# !pip install selenium webdriver-manager\n"
      ]
    },
    {
      "cell_type": "code",
      "execution_count": 3,
      "metadata": {},
      "outputs": [
        {
          "name": "stdout",
          "output_type": "stream",
          "text": [
            "{'userId': 1, 'id': 1, 'title': 'delectus aut autem', 'completed': False}\n"
          ]
        }
      ],
      "source": [
        "# --- API (requests) ---\n",
        "import requests\n",
        "\n",
        "# 1. Definir el endpoint de la API\n",
        "url = \"https://jsonplaceholder.typicode.com/todos/1\"\n",
        "\n",
        "# 2. Hacer la solicitud GET\n",
        "response = requests.get(url)\n",
        "\n",
        "# 3. Comprobar si la solicitud fue exitosa y ver los datos\n",
        "if response.status_code == 200:\n",
        "    data = response.json() # Convierte la respuesta JSON a un diccionario de Python\n",
        "    print(data)\n",
        "else:\n",
        "    print(f\"Error: {response.status_code}\")"
      ]
    },
    {
      "cell_type": "code",
      "execution_count": 4,
      "metadata": {},
      "outputs": [
        {
          "name": "stdout",
          "output_type": "stream",
          "text": [
            "El título de la página es: \n",
            "    All products | Books to Scrape - Sandbox\n",
            "\n"
          ]
        }
      ],
      "source": [
        "# --- Web Scraping (requests + BeautifulSoup) ---\n",
        "from bs4 import BeautifulSoup\n",
        "import requests\n",
        "\n",
        "# 1. Obtener el HTML de una página\n",
        "url = \"http://books.toscrape.com/\"\n",
        "response = requests.get(url)\n",
        "\n",
        "# 2. Crear un objeto BeautifulSoup para parsear el HTML\n",
        "soup = BeautifulSoup(response.text, 'html.parser')\n",
        "\n",
        "# 3. Encontrar un elemento. Por ejemplo, el título de la página.\n",
        "title = soup.find('title').text\n",
        "print(f\"El título de la página es: {title}\")"
      ]
    },
    {
      "cell_type": "markdown",
      "metadata": {},
      "source": [
        "# 4.  **Documentación y Recursos Clave**\n"
      ]
    },
    {
      "cell_type": "markdown",
      "metadata": {},
      "source": [
        "*   **Documentación Oficial:**\n",
        "    *   [Requests Documentation](https://requests.readthedocs.io/en/latest/)\n",
        "    *   [Beautiful Soup Documentation](https://www.crummy.com/software/BeautifulSoup/bs4/doc/)\n",
        "    *   [Selenium with Python Documentation](https://selenium-python.readthedocs.io/)\n",
        "*   **Recursos Externos de Alta Calidad:**\n",
        "    *   [books.toscrape.com](http://books.toscrape.com/) y [quotes.toscrape.com](http://quotes.toscrape.com/): Sitios web diseñados explícitamente para que practiques web scraping de forma legal y segura.\n",
        "    *   [JSONPlaceholder](https://jsonplaceholder.typicode.com/): Una API falsa gratuita, perfecta para practicar solicitudes GET, POST, etc."
      ]
    },
    {
      "cell_type": "markdown",
      "metadata": {},
      "source": [
        "# 5.  **Ejemplos de Código Prácticos**\n"
      ]
    },
    {
      "cell_type": "markdown",
      "metadata": {},
      "source": [
        "#### Ejemplo 1: Usando una API Real (Pokémon API)\n",
        "\n",
        "Vamos a obtener información sobre un Pokémon. Es divertido y la API es gratuita y no requiere clave."
      ]
    },
    {
      "cell_type": "code",
      "execution_count": 11,
      "metadata": {},
      "outputs": [
        {
          "name": "stdout",
          "output_type": "stream",
          "text": [
            "{'abilities': [{'ability': {'name': 'limber', 'url': 'https://pokeapi.co/api/v2/ability/7/'}, 'is_hidden': False, 'slot': 1}, {'ability': {'name': 'imposter', 'url': 'https://pokeapi.co/api/v2/ability/150/'}, 'is_hidden': True, 'slot': 3}], 'base_experience': 101, 'cries': {'latest': 'https://raw.githubusercontent.com/PokeAPI/cries/main/cries/pokemon/latest/132.ogg', 'legacy': 'https://raw.githubusercontent.com/PokeAPI/cries/main/cries/pokemon/legacy/132.ogg'}, 'forms': [{'name': 'ditto', 'url': 'https://pokeapi.co/api/v2/pokemon-form/132/'}], 'game_indices': [{'game_index': 76, 'version': {'name': 'red', 'url': 'https://pokeapi.co/api/v2/version/1/'}}, {'game_index': 76, 'version': {'name': 'blue', 'url': 'https://pokeapi.co/api/v2/version/2/'}}, {'game_index': 76, 'version': {'name': 'yellow', 'url': 'https://pokeapi.co/api/v2/version/3/'}}, {'game_index': 132, 'version': {'name': 'gold', 'url': 'https://pokeapi.co/api/v2/version/4/'}}, {'game_index': 132, 'version': {'name': 'silver', 'url': 'https://pokeapi.co/api/v2/version/5/'}}, {'game_index': 132, 'version': {'name': 'crystal', 'url': 'https://pokeapi.co/api/v2/version/6/'}}, {'game_index': 132, 'version': {'name': 'ruby', 'url': 'https://pokeapi.co/api/v2/version/7/'}}, {'game_index': 132, 'version': {'name': 'sapphire', 'url': 'https://pokeapi.co/api/v2/version/8/'}}, {'game_index': 132, 'version': {'name': 'emerald', 'url': 'https://pokeapi.co/api/v2/version/9/'}}, {'game_index': 132, 'version': {'name': 'firered', 'url': 'https://pokeapi.co/api/v2/version/10/'}}, {'game_index': 132, 'version': {'name': 'leafgreen', 'url': 'https://pokeapi.co/api/v2/version/11/'}}, {'game_index': 132, 'version': {'name': 'diamond', 'url': 'https://pokeapi.co/api/v2/version/12/'}}, {'game_index': 132, 'version': {'name': 'pearl', 'url': 'https://pokeapi.co/api/v2/version/13/'}}, {'game_index': 132, 'version': {'name': 'platinum', 'url': 'https://pokeapi.co/api/v2/version/14/'}}, {'game_index': 132, 'version': {'name': 'heartgold', 'url': 'https://pokeapi.co/api/v2/version/15/'}}, {'game_index': 132, 'version': {'name': 'soulsilver', 'url': 'https://pokeapi.co/api/v2/version/16/'}}, {'game_index': 132, 'version': {'name': 'black', 'url': 'https://pokeapi.co/api/v2/version/17/'}}, {'game_index': 132, 'version': {'name': 'white', 'url': 'https://pokeapi.co/api/v2/version/18/'}}, {'game_index': 132, 'version': {'name': 'black-2', 'url': 'https://pokeapi.co/api/v2/version/21/'}}, {'game_index': 132, 'version': {'name': 'white-2', 'url': 'https://pokeapi.co/api/v2/version/22/'}}], 'height': 3, 'held_items': [{'item': {'name': 'metal-powder', 'url': 'https://pokeapi.co/api/v2/item/234/'}, 'version_details': [{'rarity': 5, 'version': {'name': 'ruby', 'url': 'https://pokeapi.co/api/v2/version/7/'}}, {'rarity': 5, 'version': {'name': 'sapphire', 'url': 'https://pokeapi.co/api/v2/version/8/'}}, {'rarity': 5, 'version': {'name': 'emerald', 'url': 'https://pokeapi.co/api/v2/version/9/'}}, {'rarity': 5, 'version': {'name': 'firered', 'url': 'https://pokeapi.co/api/v2/version/10/'}}, {'rarity': 5, 'version': {'name': 'leafgreen', 'url': 'https://pokeapi.co/api/v2/version/11/'}}, {'rarity': 5, 'version': {'name': 'diamond', 'url': 'https://pokeapi.co/api/v2/version/12/'}}, {'rarity': 5, 'version': {'name': 'pearl', 'url': 'https://pokeapi.co/api/v2/version/13/'}}, {'rarity': 5, 'version': {'name': 'platinum', 'url': 'https://pokeapi.co/api/v2/version/14/'}}, {'rarity': 5, 'version': {'name': 'heartgold', 'url': 'https://pokeapi.co/api/v2/version/15/'}}, {'rarity': 5, 'version': {'name': 'soulsilver', 'url': 'https://pokeapi.co/api/v2/version/16/'}}, {'rarity': 5, 'version': {'name': 'black', 'url': 'https://pokeapi.co/api/v2/version/17/'}}, {'rarity': 5, 'version': {'name': 'white', 'url': 'https://pokeapi.co/api/v2/version/18/'}}, {'rarity': 5, 'version': {'name': 'black-2', 'url': 'https://pokeapi.co/api/v2/version/21/'}}, {'rarity': 5, 'version': {'name': 'white-2', 'url': 'https://pokeapi.co/api/v2/version/22/'}}, {'rarity': 5, 'version': {'name': 'x', 'url': 'https://pokeapi.co/api/v2/version/23/'}}, {'rarity': 5, 'version': {'name': 'y', 'url': 'https://pokeapi.co/api/v2/version/24/'}}, {'rarity': 5, 'version': {'name': 'omega-ruby', 'url': 'https://pokeapi.co/api/v2/version/25/'}}, {'rarity': 5, 'version': {'name': 'alpha-sapphire', 'url': 'https://pokeapi.co/api/v2/version/26/'}}, {'rarity': 5, 'version': {'name': 'sun', 'url': 'https://pokeapi.co/api/v2/version/27/'}}, {'rarity': 5, 'version': {'name': 'moon', 'url': 'https://pokeapi.co/api/v2/version/28/'}}, {'rarity': 5, 'version': {'name': 'ultra-sun', 'url': 'https://pokeapi.co/api/v2/version/29/'}}, {'rarity': 5, 'version': {'name': 'ultra-moon', 'url': 'https://pokeapi.co/api/v2/version/30/'}}]}, {'item': {'name': 'quick-powder', 'url': 'https://pokeapi.co/api/v2/item/251/'}, 'version_details': [{'rarity': 50, 'version': {'name': 'diamond', 'url': 'https://pokeapi.co/api/v2/version/12/'}}, {'rarity': 50, 'version': {'name': 'pearl', 'url': 'https://pokeapi.co/api/v2/version/13/'}}, {'rarity': 50, 'version': {'name': 'platinum', 'url': 'https://pokeapi.co/api/v2/version/14/'}}, {'rarity': 50, 'version': {'name': 'heartgold', 'url': 'https://pokeapi.co/api/v2/version/15/'}}, {'rarity': 50, 'version': {'name': 'soulsilver', 'url': 'https://pokeapi.co/api/v2/version/16/'}}, {'rarity': 50, 'version': {'name': 'black', 'url': 'https://pokeapi.co/api/v2/version/17/'}}, {'rarity': 50, 'version': {'name': 'white', 'url': 'https://pokeapi.co/api/v2/version/18/'}}, {'rarity': 50, 'version': {'name': 'black-2', 'url': 'https://pokeapi.co/api/v2/version/21/'}}, {'rarity': 50, 'version': {'name': 'white-2', 'url': 'https://pokeapi.co/api/v2/version/22/'}}, {'rarity': 50, 'version': {'name': 'x', 'url': 'https://pokeapi.co/api/v2/version/23/'}}, {'rarity': 50, 'version': {'name': 'y', 'url': 'https://pokeapi.co/api/v2/version/24/'}}, {'rarity': 50, 'version': {'name': 'omega-ruby', 'url': 'https://pokeapi.co/api/v2/version/25/'}}, {'rarity': 50, 'version': {'name': 'alpha-sapphire', 'url': 'https://pokeapi.co/api/v2/version/26/'}}, {'rarity': 50, 'version': {'name': 'sun', 'url': 'https://pokeapi.co/api/v2/version/27/'}}, {'rarity': 50, 'version': {'name': 'moon', 'url': 'https://pokeapi.co/api/v2/version/28/'}}, {'rarity': 50, 'version': {'name': 'ultra-sun', 'url': 'https://pokeapi.co/api/v2/version/29/'}}, {'rarity': 50, 'version': {'name': 'ultra-moon', 'url': 'https://pokeapi.co/api/v2/version/30/'}}]}], 'id': 132, 'is_default': True, 'location_area_encounters': 'https://pokeapi.co/api/v2/pokemon/132/encounters', 'moves': [{'move': {'name': 'transform', 'url': 'https://pokeapi.co/api/v2/move/144/'}, 'version_group_details': [{'level_learned_at': 1, 'move_learn_method': {'name': 'level-up', 'url': 'https://pokeapi.co/api/v2/move-learn-method/1/'}, 'order': None, 'version_group': {'name': 'red-blue', 'url': 'https://pokeapi.co/api/v2/version-group/1/'}}, {'level_learned_at': 1, 'move_learn_method': {'name': 'level-up', 'url': 'https://pokeapi.co/api/v2/move-learn-method/1/'}, 'order': None, 'version_group': {'name': 'yellow', 'url': 'https://pokeapi.co/api/v2/version-group/2/'}}, {'level_learned_at': 1, 'move_learn_method': {'name': 'level-up', 'url': 'https://pokeapi.co/api/v2/move-learn-method/1/'}, 'order': None, 'version_group': {'name': 'gold-silver', 'url': 'https://pokeapi.co/api/v2/version-group/3/'}}, {'level_learned_at': 1, 'move_learn_method': {'name': 'level-up', 'url': 'https://pokeapi.co/api/v2/move-learn-method/1/'}, 'order': None, 'version_group': {'name': 'crystal', 'url': 'https://pokeapi.co/api/v2/version-group/4/'}}, {'level_learned_at': 1, 'move_learn_method': {'name': 'level-up', 'url': 'https://pokeapi.co/api/v2/move-learn-method/1/'}, 'order': None, 'version_group': {'name': 'ruby-sapphire', 'url': 'https://pokeapi.co/api/v2/version-group/5/'}}, {'level_learned_at': 1, 'move_learn_method': {'name': 'level-up', 'url': 'https://pokeapi.co/api/v2/move-learn-method/1/'}, 'order': None, 'version_group': {'name': 'emerald', 'url': 'https://pokeapi.co/api/v2/version-group/6/'}}, {'level_learned_at': 1, 'move_learn_method': {'name': 'level-up', 'url': 'https://pokeapi.co/api/v2/move-learn-method/1/'}, 'order': None, 'version_group': {'name': 'firered-leafgreen', 'url': 'https://pokeapi.co/api/v2/version-group/7/'}}, {'level_learned_at': 1, 'move_learn_method': {'name': 'level-up', 'url': 'https://pokeapi.co/api/v2/move-learn-method/1/'}, 'order': None, 'version_group': {'name': 'diamond-pearl', 'url': 'https://pokeapi.co/api/v2/version-group/8/'}}, {'level_learned_at': 1, 'move_learn_method': {'name': 'level-up', 'url': 'https://pokeapi.co/api/v2/move-learn-method/1/'}, 'order': None, 'version_group': {'name': 'platinum', 'url': 'https://pokeapi.co/api/v2/version-group/9/'}}, {'level_learned_at': 1, 'move_learn_method': {'name': 'level-up', 'url': 'https://pokeapi.co/api/v2/move-learn-method/1/'}, 'order': None, 'version_group': {'name': 'heartgold-soulsilver', 'url': 'https://pokeapi.co/api/v2/version-group/10/'}}, {'level_learned_at': 1, 'move_learn_method': {'name': 'level-up', 'url': 'https://pokeapi.co/api/v2/move-learn-method/1/'}, 'order': None, 'version_group': {'name': 'black-white', 'url': 'https://pokeapi.co/api/v2/version-group/11/'}}, {'level_learned_at': 1, 'move_learn_method': {'name': 'level-up', 'url': 'https://pokeapi.co/api/v2/move-learn-method/1/'}, 'order': None, 'version_group': {'name': 'colosseum', 'url': 'https://pokeapi.co/api/v2/version-group/12/'}}, {'level_learned_at': 1, 'move_learn_method': {'name': 'level-up', 'url': 'https://pokeapi.co/api/v2/move-learn-method/1/'}, 'order': None, 'version_group': {'name': 'xd', 'url': 'https://pokeapi.co/api/v2/version-group/13/'}}, {'level_learned_at': 1, 'move_learn_method': {'name': 'level-up', 'url': 'https://pokeapi.co/api/v2/move-learn-method/1/'}, 'order': None, 'version_group': {'name': 'black-2-white-2', 'url': 'https://pokeapi.co/api/v2/version-group/14/'}}, {'level_learned_at': 1, 'move_learn_method': {'name': 'level-up', 'url': 'https://pokeapi.co/api/v2/move-learn-method/1/'}, 'order': None, 'version_group': {'name': 'x-y', 'url': 'https://pokeapi.co/api/v2/version-group/15/'}}, {'level_learned_at': 1, 'move_learn_method': {'name': 'level-up', 'url': 'https://pokeapi.co/api/v2/move-learn-method/1/'}, 'order': None, 'version_group': {'name': 'omega-ruby-alpha-sapphire', 'url': 'https://pokeapi.co/api/v2/version-group/16/'}}, {'level_learned_at': 1, 'move_learn_method': {'name': 'level-up', 'url': 'https://pokeapi.co/api/v2/move-learn-method/1/'}, 'order': None, 'version_group': {'name': 'sun-moon', 'url': 'https://pokeapi.co/api/v2/version-group/17/'}}, {'level_learned_at': 1, 'move_learn_method': {'name': 'level-up', 'url': 'https://pokeapi.co/api/v2/move-learn-method/1/'}, 'order': None, 'version_group': {'name': 'ultra-sun-ultra-moon', 'url': 'https://pokeapi.co/api/v2/version-group/18/'}}, {'level_learned_at': 1, 'move_learn_method': {'name': 'level-up', 'url': 'https://pokeapi.co/api/v2/move-learn-method/1/'}, 'order': None, 'version_group': {'name': 'lets-go-pikachu-lets-go-eevee', 'url': 'https://pokeapi.co/api/v2/version-group/19/'}}, {'level_learned_at': 1, 'move_learn_method': {'name': 'level-up', 'url': 'https://pokeapi.co/api/v2/move-learn-method/1/'}, 'order': None, 'version_group': {'name': 'sword-shield', 'url': 'https://pokeapi.co/api/v2/version-group/20/'}}, {'level_learned_at': 1, 'move_learn_method': {'name': 'level-up', 'url': 'https://pokeapi.co/api/v2/move-learn-method/1/'}, 'order': None, 'version_group': {'name': 'brilliant-diamond-and-shining-pearl', 'url': 'https://pokeapi.co/api/v2/version-group/23/'}}, {'level_learned_at': 1, 'move_learn_method': {'name': 'level-up', 'url': 'https://pokeapi.co/api/v2/move-learn-method/1/'}, 'order': None, 'version_group': {'name': 'scarlet-violet', 'url': 'https://pokeapi.co/api/v2/version-group/25/'}}]}], 'name': 'ditto', 'order': 214, 'past_abilities': [{'abilities': [{'ability': None, 'is_hidden': True, 'slot': 3}], 'generation': {'name': 'generation-iv', 'url': 'https://pokeapi.co/api/v2/generation/4/'}}], 'past_types': [], 'species': {'name': 'ditto', 'url': 'https://pokeapi.co/api/v2/pokemon-species/132/'}, 'sprites': {'back_default': 'https://raw.githubusercontent.com/PokeAPI/sprites/master/sprites/pokemon/back/132.png', 'back_female': None, 'back_shiny': 'https://raw.githubusercontent.com/PokeAPI/sprites/master/sprites/pokemon/back/shiny/132.png', 'back_shiny_female': None, 'front_default': 'https://raw.githubusercontent.com/PokeAPI/sprites/master/sprites/pokemon/132.png', 'front_female': None, 'front_shiny': 'https://raw.githubusercontent.com/PokeAPI/sprites/master/sprites/pokemon/shiny/132.png', 'front_shiny_female': None, 'other': {'dream_world': {'front_default': 'https://raw.githubusercontent.com/PokeAPI/sprites/master/sprites/pokemon/other/dream-world/132.svg', 'front_female': None}, 'home': {'front_default': 'https://raw.githubusercontent.com/PokeAPI/sprites/master/sprites/pokemon/other/home/132.png', 'front_female': None, 'front_shiny': 'https://raw.githubusercontent.com/PokeAPI/sprites/master/sprites/pokemon/other/home/shiny/132.png', 'front_shiny_female': None}, 'official-artwork': {'front_default': 'https://raw.githubusercontent.com/PokeAPI/sprites/master/sprites/pokemon/other/official-artwork/132.png', 'front_shiny': 'https://raw.githubusercontent.com/PokeAPI/sprites/master/sprites/pokemon/other/official-artwork/shiny/132.png'}, 'showdown': {'back_default': 'https://raw.githubusercontent.com/PokeAPI/sprites/master/sprites/pokemon/other/showdown/back/132.gif', 'back_female': None, 'back_shiny': 'https://raw.githubusercontent.com/PokeAPI/sprites/master/sprites/pokemon/other/showdown/back/shiny/132.gif', 'back_shiny_female': None, 'front_default': 'https://raw.githubusercontent.com/PokeAPI/sprites/master/sprites/pokemon/other/showdown/132.gif', 'front_female': None, 'front_shiny': 'https://raw.githubusercontent.com/PokeAPI/sprites/master/sprites/pokemon/other/showdown/shiny/132.gif', 'front_shiny_female': None}}, 'versions': {'generation-i': {'red-blue': {'back_default': 'https://raw.githubusercontent.com/PokeAPI/sprites/master/sprites/pokemon/versions/generation-i/red-blue/back/132.png', 'back_gray': 'https://raw.githubusercontent.com/PokeAPI/sprites/master/sprites/pokemon/versions/generation-i/red-blue/back/gray/132.png', 'back_transparent': 'https://raw.githubusercontent.com/PokeAPI/sprites/master/sprites/pokemon/versions/generation-i/red-blue/transparent/back/132.png', 'front_default': 'https://raw.githubusercontent.com/PokeAPI/sprites/master/sprites/pokemon/versions/generation-i/red-blue/132.png', 'front_gray': 'https://raw.githubusercontent.com/PokeAPI/sprites/master/sprites/pokemon/versions/generation-i/red-blue/gray/132.png', 'front_transparent': 'https://raw.githubusercontent.com/PokeAPI/sprites/master/sprites/pokemon/versions/generation-i/red-blue/transparent/132.png'}, 'yellow': {'back_default': 'https://raw.githubusercontent.com/PokeAPI/sprites/master/sprites/pokemon/versions/generation-i/yellow/back/132.png', 'back_gray': 'https://raw.githubusercontent.com/PokeAPI/sprites/master/sprites/pokemon/versions/generation-i/yellow/back/gray/132.png', 'back_transparent': 'https://raw.githubusercontent.com/PokeAPI/sprites/master/sprites/pokemon/versions/generation-i/yellow/transparent/back/132.png', 'front_default': 'https://raw.githubusercontent.com/PokeAPI/sprites/master/sprites/pokemon/versions/generation-i/yellow/132.png', 'front_gray': 'https://raw.githubusercontent.com/PokeAPI/sprites/master/sprites/pokemon/versions/generation-i/yellow/gray/132.png', 'front_transparent': 'https://raw.githubusercontent.com/PokeAPI/sprites/master/sprites/pokemon/versions/generation-i/yellow/transparent/132.png'}}, 'generation-ii': {'crystal': {'back_default': 'https://raw.githubusercontent.com/PokeAPI/sprites/master/sprites/pokemon/versions/generation-ii/crystal/back/132.png', 'back_shiny': 'https://raw.githubusercontent.com/PokeAPI/sprites/master/sprites/pokemon/versions/generation-ii/crystal/back/shiny/132.png', 'back_shiny_transparent': 'https://raw.githubusercontent.com/PokeAPI/sprites/master/sprites/pokemon/versions/generation-ii/crystal/transparent/back/shiny/132.png', 'back_transparent': 'https://raw.githubusercontent.com/PokeAPI/sprites/master/sprites/pokemon/versions/generation-ii/crystal/transparent/back/132.png', 'front_default': 'https://raw.githubusercontent.com/PokeAPI/sprites/master/sprites/pokemon/versions/generation-ii/crystal/132.png', 'front_shiny': 'https://raw.githubusercontent.com/PokeAPI/sprites/master/sprites/pokemon/versions/generation-ii/crystal/shiny/132.png', 'front_shiny_transparent': 'https://raw.githubusercontent.com/PokeAPI/sprites/master/sprites/pokemon/versions/generation-ii/crystal/transparent/shiny/132.png', 'front_transparent': 'https://raw.githubusercontent.com/PokeAPI/sprites/master/sprites/pokemon/versions/generation-ii/crystal/transparent/132.png'}, 'gold': {'back_default': 'https://raw.githubusercontent.com/PokeAPI/sprites/master/sprites/pokemon/versions/generation-ii/gold/back/132.png', 'back_shiny': 'https://raw.githubusercontent.com/PokeAPI/sprites/master/sprites/pokemon/versions/generation-ii/gold/back/shiny/132.png', 'front_default': 'https://raw.githubusercontent.com/PokeAPI/sprites/master/sprites/pokemon/versions/generation-ii/gold/132.png', 'front_shiny': 'https://raw.githubusercontent.com/PokeAPI/sprites/master/sprites/pokemon/versions/generation-ii/gold/shiny/132.png', 'front_transparent': 'https://raw.githubusercontent.com/PokeAPI/sprites/master/sprites/pokemon/versions/generation-ii/gold/transparent/132.png'}, 'silver': {'back_default': 'https://raw.githubusercontent.com/PokeAPI/sprites/master/sprites/pokemon/versions/generation-ii/silver/back/132.png', 'back_shiny': 'https://raw.githubusercontent.com/PokeAPI/sprites/master/sprites/pokemon/versions/generation-ii/silver/back/shiny/132.png', 'front_default': 'https://raw.githubusercontent.com/PokeAPI/sprites/master/sprites/pokemon/versions/generation-ii/silver/132.png', 'front_shiny': 'https://raw.githubusercontent.com/PokeAPI/sprites/master/sprites/pokemon/versions/generation-ii/silver/shiny/132.png', 'front_transparent': 'https://raw.githubusercontent.com/PokeAPI/sprites/master/sprites/pokemon/versions/generation-ii/silver/transparent/132.png'}}, 'generation-iii': {'emerald': {'front_default': 'https://raw.githubusercontent.com/PokeAPI/sprites/master/sprites/pokemon/versions/generation-iii/emerald/132.png', 'front_shiny': 'https://raw.githubusercontent.com/PokeAPI/sprites/master/sprites/pokemon/versions/generation-iii/emerald/shiny/132.png'}, 'firered-leafgreen': {'back_default': 'https://raw.githubusercontent.com/PokeAPI/sprites/master/sprites/pokemon/versions/generation-iii/firered-leafgreen/back/132.png', 'back_shiny': 'https://raw.githubusercontent.com/PokeAPI/sprites/master/sprites/pokemon/versions/generation-iii/firered-leafgreen/back/shiny/132.png', 'front_default': 'https://raw.githubusercontent.com/PokeAPI/sprites/master/sprites/pokemon/versions/generation-iii/firered-leafgreen/132.png', 'front_shiny': 'https://raw.githubusercontent.com/PokeAPI/sprites/master/sprites/pokemon/versions/generation-iii/firered-leafgreen/shiny/132.png'}, 'ruby-sapphire': {'back_default': 'https://raw.githubusercontent.com/PokeAPI/sprites/master/sprites/pokemon/versions/generation-iii/ruby-sapphire/back/132.png', 'back_shiny': 'https://raw.githubusercontent.com/PokeAPI/sprites/master/sprites/pokemon/versions/generation-iii/ruby-sapphire/back/shiny/132.png', 'front_default': 'https://raw.githubusercontent.com/PokeAPI/sprites/master/sprites/pokemon/versions/generation-iii/ruby-sapphire/132.png', 'front_shiny': 'https://raw.githubusercontent.com/PokeAPI/sprites/master/sprites/pokemon/versions/generation-iii/ruby-sapphire/shiny/132.png'}}, 'generation-iv': {'diamond-pearl': {'back_default': 'https://raw.githubusercontent.com/PokeAPI/sprites/master/sprites/pokemon/versions/generation-iv/diamond-pearl/back/132.png', 'back_female': None, 'back_shiny': 'https://raw.githubusercontent.com/PokeAPI/sprites/master/sprites/pokemon/versions/generation-iv/diamond-pearl/back/shiny/132.png', 'back_shiny_female': None, 'front_default': 'https://raw.githubusercontent.com/PokeAPI/sprites/master/sprites/pokemon/versions/generation-iv/diamond-pearl/132.png', 'front_female': None, 'front_shiny': 'https://raw.githubusercontent.com/PokeAPI/sprites/master/sprites/pokemon/versions/generation-iv/diamond-pearl/shiny/132.png', 'front_shiny_female': None}, 'heartgold-soulsilver': {'back_default': 'https://raw.githubusercontent.com/PokeAPI/sprites/master/sprites/pokemon/versions/generation-iv/heartgold-soulsilver/back/132.png', 'back_female': None, 'back_shiny': 'https://raw.githubusercontent.com/PokeAPI/sprites/master/sprites/pokemon/versions/generation-iv/heartgold-soulsilver/back/shiny/132.png', 'back_shiny_female': None, 'front_default': 'https://raw.githubusercontent.com/PokeAPI/sprites/master/sprites/pokemon/versions/generation-iv/heartgold-soulsilver/132.png', 'front_female': None, 'front_shiny': 'https://raw.githubusercontent.com/PokeAPI/sprites/master/sprites/pokemon/versions/generation-iv/heartgold-soulsilver/shiny/132.png', 'front_shiny_female': None}, 'platinum': {'back_default': 'https://raw.githubusercontent.com/PokeAPI/sprites/master/sprites/pokemon/versions/generation-iv/platinum/back/132.png', 'back_female': None, 'back_shiny': 'https://raw.githubusercontent.com/PokeAPI/sprites/master/sprites/pokemon/versions/generation-iv/platinum/back/shiny/132.png', 'back_shiny_female': None, 'front_default': 'https://raw.githubusercontent.com/PokeAPI/sprites/master/sprites/pokemon/versions/generation-iv/platinum/132.png', 'front_female': None, 'front_shiny': 'https://raw.githubusercontent.com/PokeAPI/sprites/master/sprites/pokemon/versions/generation-iv/platinum/shiny/132.png', 'front_shiny_female': None}}, 'generation-v': {'black-white': {'animated': {'back_default': 'https://raw.githubusercontent.com/PokeAPI/sprites/master/sprites/pokemon/versions/generation-v/black-white/animated/back/132.gif', 'back_female': None, 'back_shiny': 'https://raw.githubusercontent.com/PokeAPI/sprites/master/sprites/pokemon/versions/generation-v/black-white/animated/back/shiny/132.gif', 'back_shiny_female': None, 'front_default': 'https://raw.githubusercontent.com/PokeAPI/sprites/master/sprites/pokemon/versions/generation-v/black-white/animated/132.gif', 'front_female': None, 'front_shiny': 'https://raw.githubusercontent.com/PokeAPI/sprites/master/sprites/pokemon/versions/generation-v/black-white/animated/shiny/132.gif', 'front_shiny_female': None}, 'back_default': 'https://raw.githubusercontent.com/PokeAPI/sprites/master/sprites/pokemon/versions/generation-v/black-white/back/132.png', 'back_female': None, 'back_shiny': 'https://raw.githubusercontent.com/PokeAPI/sprites/master/sprites/pokemon/versions/generation-v/black-white/back/shiny/132.png', 'back_shiny_female': None, 'front_default': 'https://raw.githubusercontent.com/PokeAPI/sprites/master/sprites/pokemon/versions/generation-v/black-white/132.png', 'front_female': None, 'front_shiny': 'https://raw.githubusercontent.com/PokeAPI/sprites/master/sprites/pokemon/versions/generation-v/black-white/shiny/132.png', 'front_shiny_female': None}}, 'generation-vi': {'omegaruby-alphasapphire': {'front_default': 'https://raw.githubusercontent.com/PokeAPI/sprites/master/sprites/pokemon/versions/generation-vi/omegaruby-alphasapphire/132.png', 'front_female': None, 'front_shiny': 'https://raw.githubusercontent.com/PokeAPI/sprites/master/sprites/pokemon/versions/generation-vi/omegaruby-alphasapphire/shiny/132.png', 'front_shiny_female': None}, 'x-y': {'front_default': 'https://raw.githubusercontent.com/PokeAPI/sprites/master/sprites/pokemon/versions/generation-vi/x-y/132.png', 'front_female': None, 'front_shiny': 'https://raw.githubusercontent.com/PokeAPI/sprites/master/sprites/pokemon/versions/generation-vi/x-y/shiny/132.png', 'front_shiny_female': None}}, 'generation-vii': {'icons': {'front_default': 'https://raw.githubusercontent.com/PokeAPI/sprites/master/sprites/pokemon/versions/generation-vii/icons/132.png', 'front_female': None}, 'ultra-sun-ultra-moon': {'front_default': 'https://raw.githubusercontent.com/PokeAPI/sprites/master/sprites/pokemon/versions/generation-vii/ultra-sun-ultra-moon/132.png', 'front_female': None, 'front_shiny': 'https://raw.githubusercontent.com/PokeAPI/sprites/master/sprites/pokemon/versions/generation-vii/ultra-sun-ultra-moon/shiny/132.png', 'front_shiny_female': None}}, 'generation-viii': {'icons': {'front_default': 'https://raw.githubusercontent.com/PokeAPI/sprites/master/sprites/pokemon/versions/generation-viii/icons/132.png', 'front_female': None}}}}, 'stats': [{'base_stat': 48, 'effort': 1, 'stat': {'name': 'hp', 'url': 'https://pokeapi.co/api/v2/stat/1/'}}, {'base_stat': 48, 'effort': 0, 'stat': {'name': 'attack', 'url': 'https://pokeapi.co/api/v2/stat/2/'}}, {'base_stat': 48, 'effort': 0, 'stat': {'name': 'defense', 'url': 'https://pokeapi.co/api/v2/stat/3/'}}, {'base_stat': 48, 'effort': 0, 'stat': {'name': 'special-attack', 'url': 'https://pokeapi.co/api/v2/stat/4/'}}, {'base_stat': 48, 'effort': 0, 'stat': {'name': 'special-defense', 'url': 'https://pokeapi.co/api/v2/stat/5/'}}, {'base_stat': 48, 'effort': 0, 'stat': {'name': 'speed', 'url': 'https://pokeapi.co/api/v2/stat/6/'}}], 'types': [{'slot': 1, 'type': {'name': 'normal', 'url': 'https://pokeapi.co/api/v2/type/1/'}}], 'weight': 40}\n",
            "Nombre: Ditto\n",
            "Altura: 0.3 m\n",
            "Peso: 4.0 kg\n",
            "Tipos: normal\n"
          ]
        },
        {
          "data": {
            "text/html": [
              "<img src=\"https://raw.githubusercontent.com/PokeAPI/sprites/master/sprites/pokemon/132.png\"/>"
            ],
            "text/plain": [
              "<IPython.core.display.Image object>"
            ]
          },
          "metadata": {},
          "output_type": "display_data"
        },
        {
          "data": {
            "text/html": [
              "<img src=\"https://raw.githubusercontent.com/PokeAPI/sprites/master/sprites/pokemon/shiny/132.png\"/>"
            ],
            "text/plain": [
              "<IPython.core.display.Image object>"
            ]
          },
          "metadata": {},
          "output_type": "display_data"
        }
      ],
      "source": [
        "# Celda 1: Obtener datos de un Pokémon\n",
        "import requests\n",
        "import pandas as pd\n",
        "from IPython.display import Image, display\n",
        "\n",
        "pokemon_nombre = \"ditto\" # Puedes cambiar esto por tu Pokémon favorito\n",
        "url = f\"https://pokeapi.co/api/v2/pokemon/{pokemon_nombre}\"\n",
        "\n",
        "response = requests.get(url)\n",
        "\n",
        "if response.status_code == 200:\n",
        "    data = response.json()\n",
        "    print(data)\n",
        "    \n",
        "    # Extraemos la información que nos interesa\n",
        "    nombre = data['name'].capitalize()\n",
        "    altura = data['height'] / 10  # La altura viene en decímetros\n",
        "    peso = data['weight'] / 10    # El peso viene en hectogramos\n",
        "    tipos = [t['type']['name'] for t in data['types']]\n",
        "    sprite_url = data['sprites']['front_default']\n",
        "    sprite_url2 = data['sprites']['front_shiny']\n",
        "    \n",
        "    print(f\"Nombre: {nombre}\")\n",
        "    print(f\"Altura: {altura} m\")\n",
        "    print(f\"Peso: {peso} kg\")\n",
        "    print(f\"Tipos: {', '.join(tipos)}\")\n",
        "    \n",
        "    # Mostramos la imagen del Pokémon en Jupyter Notebook\n",
        "    display(Image(url=sprite_url))\n",
        "    display(Image(url=sprite_url2))\n",
        "    \n",
        "else:\n",
        "    print(f\"No se pudo encontrar el Pokémon. Código de error: {response.status_code}\")"
      ]
    },
    {
      "cell_type": "markdown",
      "metadata": {},
      "source": [
        "#### Ejemplo 2: Scrapeando los Títulos de los Libros de una Página\n",
        "\n",
        "Usaremos `books.toscrape.com` para extraer los títulos de todos los libros de la primera página."
      ]
    },
    {
      "cell_type": "code",
      "execution_count": 14,
      "metadata": {},
      "outputs": [
        {
          "name": "stdout",
          "output_type": "stream",
          "text": [
            "Se encontraron 20 libros en la página:\n",
            "- A Light in the Attic\n",
            "- Tipping the Velvet\n",
            "- Soumission\n",
            "- Sharp Objects\n",
            "- Sapiens: A Brief History of Humankind\n",
            "- The Requiem Red\n",
            "- The Dirty Little Secrets of Getting Your Dream Job\n",
            "- The Coming Woman: A Novel Based on the Life of the Infamous Feminist, Victoria Woodhull\n",
            "- The Boys in the Boat: Nine Americans and Their Epic Quest for Gold at the 1936 Berlin Olympics\n",
            "- The Black Maria\n",
            "- Starving Hearts (Triangular Trade Trilogy, #1)\n",
            "- Shakespeare's Sonnets\n",
            "- Set Me Free\n",
            "- Scott Pilgrim's Precious Little Life (Scott Pilgrim #1)\n",
            "- Rip it Up and Start Again\n",
            "- Our Band Could Be Your Life: Scenes from the American Indie Underground, 1981-1991\n",
            "- Olio\n",
            "- Mesaerion: The Best Science Fiction Stories 1800-1849\n",
            "- Libertarianism for Beginners\n",
            "- It's Only the Himalayas\n"
          ]
        }
      ],
      "source": [
        "# Celda 2: Scrapeo básico de títulos\n",
        "import requests\n",
        "from bs4 import BeautifulSoup\n",
        "\n",
        "url = \"http://books.toscrape.com/\"\n",
        "response = requests.get(url)\n",
        "soup = BeautifulSoup(response.text, 'html.parser')\n",
        "\n",
        "# Para encontrar los títulos, usamos \"Inspeccionar Elemento\" en el navegador.\n",
        "# Vemos que cada libro está en un <article class=\"product_pod\">\n",
        "# y su título está en una etiqueta <h3> dentro de un <a>.\n",
        "book_articles = soup.find_all('article', class_='product_pod')\n",
        "\n",
        "titulos = []\n",
        "for article in book_articles:\n",
        "    # Navegamos dentro de cada 'article' para encontrar el título\n",
        "    # El título está en el atributo 'title' de la etiqueta <a> dentro de <h3>\n",
        "    titulo = article.h3.a['title']\n",
        "    titulos.append(titulo)\n",
        "\n",
        "print(f\"Se encontraron {len(titulos)} libros en la página:\")\n",
        "for t in titulos:\n",
        "    print(f\"- {t}\")"
      ]
    },
    {
      "cell_type": "markdown",
      "metadata": {},
      "source": [
        "#### Ejemplo 3: Scrapeo Avanzado (Título, Precio y Rating) en un DataFrame\n",
        "\n",
        "Ahora, para cada libro, extraeremos más datos y los guardaremos en un DataFrame de Pandas."
      ]
    },
    {
      "cell_type": "code",
      "execution_count": 15,
      "metadata": {},
      "outputs": [
        {
          "data": {
            "text/html": [
              "<div>\n",
              "<style scoped>\n",
              "    .dataframe tbody tr th:only-of-type {\n",
              "        vertical-align: middle;\n",
              "    }\n",
              "\n",
              "    .dataframe tbody tr th {\n",
              "        vertical-align: top;\n",
              "    }\n",
              "\n",
              "    .dataframe thead th {\n",
              "        text-align: right;\n",
              "    }\n",
              "</style>\n",
              "<table border=\"1\" class=\"dataframe\">\n",
              "  <thead>\n",
              "    <tr style=\"text-align: right;\">\n",
              "      <th></th>\n",
              "      <th>Titulo</th>\n",
              "      <th>Precio</th>\n",
              "      <th>Rating</th>\n",
              "    </tr>\n",
              "  </thead>\n",
              "  <tbody>\n",
              "    <tr>\n",
              "      <th>0</th>\n",
              "      <td>A Light in the Attic</td>\n",
              "      <td>Â£51.77</td>\n",
              "      <td>Three</td>\n",
              "    </tr>\n",
              "    <tr>\n",
              "      <th>1</th>\n",
              "      <td>Tipping the Velvet</td>\n",
              "      <td>Â£53.74</td>\n",
              "      <td>One</td>\n",
              "    </tr>\n",
              "    <tr>\n",
              "      <th>2</th>\n",
              "      <td>Soumission</td>\n",
              "      <td>Â£50.10</td>\n",
              "      <td>One</td>\n",
              "    </tr>\n",
              "    <tr>\n",
              "      <th>3</th>\n",
              "      <td>Sharp Objects</td>\n",
              "      <td>Â£47.82</td>\n",
              "      <td>Four</td>\n",
              "    </tr>\n",
              "    <tr>\n",
              "      <th>4</th>\n",
              "      <td>Sapiens: A Brief History of Humankind</td>\n",
              "      <td>Â£54.23</td>\n",
              "      <td>Five</td>\n",
              "    </tr>\n",
              "    <tr>\n",
              "      <th>5</th>\n",
              "      <td>The Requiem Red</td>\n",
              "      <td>Â£22.65</td>\n",
              "      <td>One</td>\n",
              "    </tr>\n",
              "    <tr>\n",
              "      <th>6</th>\n",
              "      <td>The Dirty Little Secrets of Getting Your Dream...</td>\n",
              "      <td>Â£33.34</td>\n",
              "      <td>Four</td>\n",
              "    </tr>\n",
              "    <tr>\n",
              "      <th>7</th>\n",
              "      <td>The Coming Woman: A Novel Based on the Life of...</td>\n",
              "      <td>Â£17.93</td>\n",
              "      <td>Three</td>\n",
              "    </tr>\n",
              "    <tr>\n",
              "      <th>8</th>\n",
              "      <td>The Boys in the Boat: Nine Americans and Their...</td>\n",
              "      <td>Â£22.60</td>\n",
              "      <td>Four</td>\n",
              "    </tr>\n",
              "    <tr>\n",
              "      <th>9</th>\n",
              "      <td>The Black Maria</td>\n",
              "      <td>Â£52.15</td>\n",
              "      <td>One</td>\n",
              "    </tr>\n",
              "    <tr>\n",
              "      <th>10</th>\n",
              "      <td>Starving Hearts (Triangular Trade Trilogy, #1)</td>\n",
              "      <td>Â£13.99</td>\n",
              "      <td>Two</td>\n",
              "    </tr>\n",
              "    <tr>\n",
              "      <th>11</th>\n",
              "      <td>Shakespeare's Sonnets</td>\n",
              "      <td>Â£20.66</td>\n",
              "      <td>Four</td>\n",
              "    </tr>\n",
              "    <tr>\n",
              "      <th>12</th>\n",
              "      <td>Set Me Free</td>\n",
              "      <td>Â£17.46</td>\n",
              "      <td>Five</td>\n",
              "    </tr>\n",
              "    <tr>\n",
              "      <th>13</th>\n",
              "      <td>Scott Pilgrim's Precious Little Life (Scott Pi...</td>\n",
              "      <td>Â£52.29</td>\n",
              "      <td>Five</td>\n",
              "    </tr>\n",
              "    <tr>\n",
              "      <th>14</th>\n",
              "      <td>Rip it Up and Start Again</td>\n",
              "      <td>Â£35.02</td>\n",
              "      <td>Five</td>\n",
              "    </tr>\n",
              "    <tr>\n",
              "      <th>15</th>\n",
              "      <td>Our Band Could Be Your Life: Scenes from the A...</td>\n",
              "      <td>Â£57.25</td>\n",
              "      <td>Three</td>\n",
              "    </tr>\n",
              "    <tr>\n",
              "      <th>16</th>\n",
              "      <td>Olio</td>\n",
              "      <td>Â£23.88</td>\n",
              "      <td>One</td>\n",
              "    </tr>\n",
              "    <tr>\n",
              "      <th>17</th>\n",
              "      <td>Mesaerion: The Best Science Fiction Stories 18...</td>\n",
              "      <td>Â£37.59</td>\n",
              "      <td>One</td>\n",
              "    </tr>\n",
              "    <tr>\n",
              "      <th>18</th>\n",
              "      <td>Libertarianism for Beginners</td>\n",
              "      <td>Â£51.33</td>\n",
              "      <td>Two</td>\n",
              "    </tr>\n",
              "    <tr>\n",
              "      <th>19</th>\n",
              "      <td>It's Only the Himalayas</td>\n",
              "      <td>Â£45.17</td>\n",
              "      <td>Two</td>\n",
              "    </tr>\n",
              "  </tbody>\n",
              "</table>\n",
              "</div>"
            ],
            "text/plain": [
              "                                               Titulo   Precio Rating\n",
              "0                                A Light in the Attic  Â£51.77  Three\n",
              "1                                  Tipping the Velvet  Â£53.74    One\n",
              "2                                          Soumission  Â£50.10    One\n",
              "3                                       Sharp Objects  Â£47.82   Four\n",
              "4               Sapiens: A Brief History of Humankind  Â£54.23   Five\n",
              "5                                     The Requiem Red  Â£22.65    One\n",
              "6   The Dirty Little Secrets of Getting Your Dream...  Â£33.34   Four\n",
              "7   The Coming Woman: A Novel Based on the Life of...  Â£17.93  Three\n",
              "8   The Boys in the Boat: Nine Americans and Their...  Â£22.60   Four\n",
              "9                                     The Black Maria  Â£52.15    One\n",
              "10     Starving Hearts (Triangular Trade Trilogy, #1)  Â£13.99    Two\n",
              "11                              Shakespeare's Sonnets  Â£20.66   Four\n",
              "12                                        Set Me Free  Â£17.46   Five\n",
              "13  Scott Pilgrim's Precious Little Life (Scott Pi...  Â£52.29   Five\n",
              "14                          Rip it Up and Start Again  Â£35.02   Five\n",
              "15  Our Band Could Be Your Life: Scenes from the A...  Â£57.25  Three\n",
              "16                                               Olio  Â£23.88    One\n",
              "17  Mesaerion: The Best Science Fiction Stories 18...  Â£37.59    One\n",
              "18                       Libertarianism for Beginners  Â£51.33    Two\n",
              "19                            It's Only the Himalayas  Â£45.17    Two"
            ]
          },
          "metadata": {},
          "output_type": "display_data"
        }
      ],
      "source": [
        "# Celda 3: Scrapeo avanzado a un DataFrame\n",
        "import requests\n",
        "from bs4 import BeautifulSoup\n",
        "import pandas as pd\n",
        "\n",
        "url = \"http://books.toscrape.com/\"\n",
        "response = requests.get(url)\n",
        "soup = BeautifulSoup(response.text, 'html.parser')\n",
        "\n",
        "book_articles = soup.find_all('article', class_='product_pod')\n",
        "\n",
        "libros_data = []\n",
        "for article in book_articles:\n",
        "    titulo = article.h3.a['title']\n",
        "    precio = article.find('p', class_='price_color').text\n",
        "    # El rating está en la clase del <p> (ej: <p class=\"star-rating Three\">)\n",
        "    rating_clase = article.find('p', class_='star-rating')['class'] # ['star-rating', 'Three']\n",
        "    rating = rating_clase[1] # Nos quedamos con 'Three'\n",
        "    \n",
        "    libros_data.append({'Titulo': titulo, 'Precio': precio, 'Rating': rating})\n",
        "\n",
        "df_libros = pd.DataFrame(libros_data)\n",
        "display(df_libros)"
      ]
    },
    {
      "cell_type": "markdown",
      "metadata": {},
      "source": [
        "#### Ejemplo 4: El Problema de las Webs Dinámicas\n",
        "\n",
        "Vamos a intentar scrapear una web que carga su contenido con JavaScript. Usaremos `quotes.toscrape.com/js/`. `requests` no podrá ver las citas."
      ]
    },
    {
      "cell_type": "code",
      "execution_count": 16,
      "metadata": {},
      "outputs": [
        {
          "name": "stdout",
          "output_type": "stream",
          "text": [
            "Número de citas encontradas con requests y BeautifulSoup: 0\n"
          ]
        }
      ],
      "source": [
        "# Celda 4: Intentando scrapear una web con JS\n",
        "import requests\n",
        "from bs4 import BeautifulSoup\n",
        "\n",
        "url = \"http://quotes.toscrape.com/js/\"\n",
        "response = requests.get(url)\n",
        "soup = BeautifulSoup(response.text, 'html.parser')\n",
        "\n",
        "# Buscamos las citas. La clase es 'quote'.\n",
        "citas = soup.find_all('div', class_='quote')\n",
        "\n",
        "print(f\"Número de citas encontradas con requests y BeautifulSoup: {len(citas)}\")\n",
        "# El resultado será 0, porque las citas se cargan con JS y requests no lo ejecuta."
      ]
    },
    {
      "cell_type": "markdown",
      "metadata": {},
      "source": [
        "#### Ejemplo 5: La Solución con Selenium\n",
        "\n",
        "Ahora resolveremos el problema anterior usando `Selenium` para controlar un navegador real que sí ejecuta JavaScript."
      ]
    },
    {
      "cell_type": "code",
      "execution_count": 17,
      "metadata": {},
      "outputs": [
        {
          "name": "stdout",
          "output_type": "stream",
          "text": [
            "Número de citas encontradas con Selenium y BeautifulSoup: 10\n",
            "\n",
            "Primera cita encontrada: “The world as we have created it is a process of our thinking. It cannot be changed without changing our thinking.”\n"
          ]
        }
      ],
      "source": [
        "# Celda 5: Usando Selenium para una web con JS\n",
        "from selenium import webdriver\n",
        "from selenium.webdriver.common.by import By\n",
        "from selenium.webdriver.chrome.service import Service\n",
        "from webdriver_manager.chrome import ChromeDriverManager\n",
        "from bs4 import BeautifulSoup\n",
        "import time\n",
        "\n",
        "# --- Configuración de Selenium ---\n",
        "# webdriver-manager se encarga de descargar el driver correcto para tu versión de Chrome\n",
        "service = Service(ChromeDriverManager().install())\n",
        "driver = webdriver.Chrome(service=service)\n",
        "\n",
        "url = \"http://quotes.toscrape.com/js/\"\n",
        "driver.get(url) # Selenium abre la página en una ventana de Chrome\n",
        "\n",
        "# Esperamos un poco para que el JavaScript tenga tiempo de cargar el contenido\n",
        "time.sleep(3) \n",
        "\n",
        "# --- Extracción con BeautifulSoup ---\n",
        "# Ahora obtenemos el HTML *después* de que Selenium haya dejado que JS se ejecute\n",
        "page_source = driver.page_source\n",
        "soup = BeautifulSoup(page_source, 'html.parser')\n",
        "\n",
        "# Cerramos el navegador para liberar recursos\n",
        "driver.quit()\n",
        "\n",
        "# Ahora la búsqueda sí funciona\n",
        "citas = soup.find_all('div', class_='quote')\n",
        "print(f\"Número de citas encontradas con Selenium y BeautifulSoup: {len(citas)}\")\n",
        "\n",
        "# Imprimimos la primera cita para verificar\n",
        "if citas:\n",
        "    primera_cita_texto = citas[0].find('span', class_='text').text\n",
        "    print(f\"\\nPrimera cita encontrada: {primera_cita_texto}\")"
      ]
    },
    {
      "cell_type": "markdown",
      "metadata": {},
      "source": [
        "# 6.  **Ejercicio Práctico**\n"
      ]
    },
    {
      "cell_type": "markdown",
      "metadata": {},
      "source": [
        "Tu misión es convertirte en un coleccionista de sabiduría. Vas a scrapear el sitio `quotes.toscrape.com` (la versión estática, no la `/js/`).\n",
        "\n",
        "**Tu Tarea:**\n",
        "1.  Escribe un script que extraiga **todas** las citas de la **primera página**. Para cada cita, debes obtener:\n",
        "    *   El texto de la cita.\n",
        "    *   El nombre del autor.\n",
        "    *   Una lista de las \"etiquetas\" (tags) asociadas a la cita.\n",
        "2.  Almacena toda esta información en una lista de diccionarios. Cada diccionario debe representar una cita.\n",
        "3.  **Desafío Adicional:** Modifica tu script para que no solo scrapee la primera página, sino que navegue automáticamente a la página siguiente y continúe scrapeando hasta que no haya más páginas.\n",
        "\n",
        "**Pista:** Para el desafío, inspecciona el botón \"Next\" en la parte inferior de la página. ¿Cómo puedes obtener la URL de la página siguiente? Un bucle `while` podría ser muy útil aquí."
      ]
    },
    {
      "cell_type": "code",
      "execution_count": 91,
      "metadata": {},
      "outputs": [
        {
          "name": "stdout",
          "output_type": "stream",
          "text": [
            "Accediendo a la pagina 1\n",
            "Hay 10 en la pagina 1\n",
            "Accediendo a la pagina 2\n",
            "Hay 10 en la pagina 2\n",
            "Accediendo a la pagina 3\n",
            "Hay 10 en la pagina 3\n",
            "Accediendo a la pagina 4\n",
            "Hay 10 en la pagina 4\n",
            "Accediendo a la pagina 5\n",
            "Hay 10 en la pagina 5\n",
            "Accediendo a la pagina 6\n",
            "Hay 10 en la pagina 6\n",
            "Accediendo a la pagina 7\n",
            "Hay 10 en la pagina 7\n",
            "Accediendo a la pagina 8\n",
            "Hay 10 en la pagina 8\n",
            "Accediendo a la pagina 9\n",
            "Hay 10 en la pagina 9\n",
            "Accediendo a la pagina 10\n",
            "Hay 10 en la pagina 10\n",
            "Accediendo a la pagina 11\n",
            "Hay 0 en la pagina 11\n",
            "Total de notas: 100\n",
            "Nota 1: {'texto': '“The world as we have created it is a process of our thinking. It cannot be changed without changing our thinking.”', 'autor': 'Albert Einstein', 'tags': ['change', 'deep-thoughts', 'thinking', 'world']}\n",
            "Nota 2: {'texto': '“It is our choices, Harry, that show what we truly are, far more than our abilities.”', 'autor': 'J.K. Rowling', 'tags': ['abilities', 'choices']}\n",
            "Nota 3: {'texto': '“There are only two ways to live your life. One is as though nothing is a miracle. The other is as though everything is a miracle.”', 'autor': 'Albert Einstein', 'tags': ['inspirational', 'life', 'live', 'miracle', 'miracles']}\n",
            "Nota 4: {'texto': '“The person, be it gentleman or lady, who has not pleasure in a good novel, must be intolerably stupid.”', 'autor': 'Jane Austen', 'tags': ['aliteracy', 'books', 'classic', 'humor']}\n",
            "Nota 5: {'texto': \"“Imperfection is beauty, madness is genius and it's better to be absolutely ridiculous than absolutely boring.”\", 'autor': 'Marilyn Monroe', 'tags': ['be-yourself', 'inspirational']}\n"
          ]
        }
      ],
      "source": [
        "import requests\n",
        "from bs4 import BeautifulSoup\n",
        "\n",
        "quotes = []\n",
        "page = 1\n",
        "\n",
        "while True:\n",
        "    url = f\"https://quotes.toscrape.com/page/{page}/\"\n",
        "    response = requests.get(url)\n",
        "    # print(response)\n",
        "    print(f\"Accediendo a la pagina {page}\")\n",
        "\n",
        "    soup = BeautifulSoup(response.text, \"html.parser\") \n",
        "    quotes_articles = soup.find_all(class_ = 'quote')\n",
        "    # print(quotes_articles)\n",
        "    print(f\"Hay {len(quotes_articles)} en la pagina {page}\")\n",
        "\n",
        "    if not quotes_articles:\n",
        "        print(f\"Total de notas: {len(quotes)}\")\n",
        "        break\n",
        "    for quote in quotes_articles:\n",
        "        texto = quote.find(class_ = \"text\").text\n",
        "        # print(texto)\n",
        "        autor = quote.find(class_ = \"author\").text\n",
        "        # print(autor)\n",
        "        tags = quote.find(class_ = \"keywords\")[\"content\"].split(\",\")\n",
        "        # print(tags)\n",
        "        quotes.append({'texto': texto, 'autor':autor, 'tags':tags})\n",
        "    page += 1\n",
        "\n",
        "for i in range(5):\n",
        "    print(f\"Nota {i+1}: {quotes[i]}\")"
      ]
    },
    {
      "cell_type": "code",
      "execution_count": null,
      "metadata": {},
      "outputs": [
        {
          "name": "stdout",
          "output_type": "stream",
          "text": [
            "Scrapeando: https://quotes.toscrape.com/page/1/\n",
            "Scrapeando: https://quotes.toscrape.com/page/2/\n",
            "Scrapeando: https://quotes.toscrape.com/page/3/\n",
            "Scrapeando: https://quotes.toscrape.com/page/4/\n",
            "Scrapeando: https://quotes.toscrape.com/page/5/\n",
            "Scrapeando: https://quotes.toscrape.com/page/6/\n",
            "Scrapeando: https://quotes.toscrape.com/page/7/\n",
            "Scrapeando: https://quotes.toscrape.com/page/8/\n",
            "Scrapeando: https://quotes.toscrape.com/page/9/\n",
            "Scrapeando: https://quotes.toscrape.com/page/10/\n",
            "Scrapeando: https://quotes.toscrape.com/page/11/\n",
            "No se encontraron más citas. Fin del scraping.\n",
            "\n",
            "Scraping completado. Total de citas extraídas: 100\n",
            "\n",
            "Primeras 5 citas extraídas:\n"
          ]
        },
        {
          "data": {
            "text/html": [
              "<div>\n",
              "<style scoped>\n",
              "    .dataframe tbody tr th:only-of-type {\n",
              "        vertical-align: middle;\n",
              "    }\n",
              "\n",
              "    .dataframe tbody tr th {\n",
              "        vertical-align: top;\n",
              "    }\n",
              "\n",
              "    .dataframe thead th {\n",
              "        text-align: right;\n",
              "    }\n",
              "</style>\n",
              "<table border=\"1\" class=\"dataframe\">\n",
              "  <thead>\n",
              "    <tr style=\"text-align: right;\">\n",
              "      <th></th>\n",
              "      <th>texto</th>\n",
              "      <th>autor</th>\n",
              "      <th>tags</th>\n",
              "    </tr>\n",
              "  </thead>\n",
              "  <tbody>\n",
              "    <tr>\n",
              "      <th>0</th>\n",
              "      <td>“The world as we have created it is a process ...</td>\n",
              "      <td>Albert Einstein</td>\n",
              "      <td>[change, deep-thoughts, thinking, world]</td>\n",
              "    </tr>\n",
              "    <tr>\n",
              "      <th>1</th>\n",
              "      <td>“It is our choices, Harry, that show what we t...</td>\n",
              "      <td>J.K. Rowling</td>\n",
              "      <td>[abilities, choices]</td>\n",
              "    </tr>\n",
              "    <tr>\n",
              "      <th>2</th>\n",
              "      <td>“There are only two ways to live your life. On...</td>\n",
              "      <td>Albert Einstein</td>\n",
              "      <td>[inspirational, life, live, miracle, miracles]</td>\n",
              "    </tr>\n",
              "    <tr>\n",
              "      <th>3</th>\n",
              "      <td>“The person, be it gentleman or lady, who has ...</td>\n",
              "      <td>Jane Austen</td>\n",
              "      <td>[aliteracy, books, classic, humor]</td>\n",
              "    </tr>\n",
              "    <tr>\n",
              "      <th>4</th>\n",
              "      <td>“Imperfection is beauty, madness is genius and...</td>\n",
              "      <td>Marilyn Monroe</td>\n",
              "      <td>[be-yourself, inspirational]</td>\n",
              "    </tr>\n",
              "  </tbody>\n",
              "</table>\n",
              "</div>"
            ],
            "text/plain": [
              "                                               texto            autor  \\\n",
              "0  “The world as we have created it is a process ...  Albert Einstein   \n",
              "1  “It is our choices, Harry, that show what we t...     J.K. Rowling   \n",
              "2  “There are only two ways to live your life. On...  Albert Einstein   \n",
              "3  “The person, be it gentleman or lady, who has ...      Jane Austen   \n",
              "4  “Imperfection is beauty, madness is genius and...   Marilyn Monroe   \n",
              "\n",
              "                                             tags  \n",
              "0        [change, deep-thoughts, thinking, world]  \n",
              "1                            [abilities, choices]  \n",
              "2  [inspirational, life, live, miracle, miracles]  \n",
              "3              [aliteracy, books, classic, humor]  \n",
              "4                    [be-yourself, inspirational]  "
            ]
          },
          "metadata": {},
          "output_type": "display_data"
        },
        {
          "name": "stdout",
          "output_type": "stream",
          "text": [
            "\n",
            "Últimas 5 citas extraídas:\n"
          ]
        },
        {
          "data": {
            "text/html": [
              "<div>\n",
              "<style scoped>\n",
              "    .dataframe tbody tr th:only-of-type {\n",
              "        vertical-align: middle;\n",
              "    }\n",
              "\n",
              "    .dataframe tbody tr th {\n",
              "        vertical-align: top;\n",
              "    }\n",
              "\n",
              "    .dataframe thead th {\n",
              "        text-align: right;\n",
              "    }\n",
              "</style>\n",
              "<table border=\"1\" class=\"dataframe\">\n",
              "  <thead>\n",
              "    <tr style=\"text-align: right;\">\n",
              "      <th></th>\n",
              "      <th>texto</th>\n",
              "      <th>autor</th>\n",
              "      <th>tags</th>\n",
              "    </tr>\n",
              "  </thead>\n",
              "  <tbody>\n",
              "    <tr>\n",
              "      <th>95</th>\n",
              "      <td>“You never really understand a person until yo...</td>\n",
              "      <td>Harper Lee</td>\n",
              "      <td>[better-life-empathy]</td>\n",
              "    </tr>\n",
              "    <tr>\n",
              "      <th>96</th>\n",
              "      <td>“You have to write the book that wants to be w...</td>\n",
              "      <td>Madeleine L'Engle</td>\n",
              "      <td>[books, children, difficult, grown-ups, write,...</td>\n",
              "    </tr>\n",
              "    <tr>\n",
              "      <th>97</th>\n",
              "      <td>“Never tell the truth to people who are not wo...</td>\n",
              "      <td>Mark Twain</td>\n",
              "      <td>[truth]</td>\n",
              "    </tr>\n",
              "    <tr>\n",
              "      <th>98</th>\n",
              "      <td>“A person's a person, no matter how small.”</td>\n",
              "      <td>Dr. Seuss</td>\n",
              "      <td>[inspirational]</td>\n",
              "    </tr>\n",
              "    <tr>\n",
              "      <th>99</th>\n",
              "      <td>“... a mind needs books as a sword needs a whe...</td>\n",
              "      <td>George R.R. Martin</td>\n",
              "      <td>[books, mind]</td>\n",
              "    </tr>\n",
              "  </tbody>\n",
              "</table>\n",
              "</div>"
            ],
            "text/plain": [
              "                                                texto               autor  \\\n",
              "95  “You never really understand a person until yo...          Harper Lee   \n",
              "96  “You have to write the book that wants to be w...   Madeleine L'Engle   \n",
              "97  “Never tell the truth to people who are not wo...          Mark Twain   \n",
              "98        “A person's a person, no matter how small.”           Dr. Seuss   \n",
              "99  “... a mind needs books as a sword needs a whe...  George R.R. Martin   \n",
              "\n",
              "                                                 tags  \n",
              "95                              [better-life-empathy]  \n",
              "96  [books, children, difficult, grown-ups, write,...  \n",
              "97                                            [truth]  \n",
              "98                                    [inspirational]  \n",
              "99                                      [books, mind]  "
            ]
          },
          "metadata": {},
          "output_type": "display_data"
        }
      ],
      "source": [
        "# Corrección por IA\n",
        "import requests\n",
        "from bs4 import BeautifulSoup\n",
        "import time\n",
        "import pandas as pd\n",
        "\n",
        "# --- Configuración ---\n",
        "BASE_URL = \"https://quotes.toscrape.com\"\n",
        "page = 1\n",
        "quotes_data = [] # Cambié el nombre para mayor claridad\n",
        "headers = {\n",
        "    'User-Agent': 'Mozilla/5.0 (Windows NT 10.0; Win64; x64) AppleWebKit/537.36 (KHTML, like Gecko) Chrome/91.0.4472.124 Safari/537.36'\n",
        "}\n",
        "\n",
        "# --- Bucle de Scraping ---\n",
        "while True:\n",
        "    # Construcción de la URL de la página actual\n",
        "    current_url = f\"{BASE_URL}/page/{page}/\"\n",
        "    print(f\"Scrapeando: {current_url}\")\n",
        "\n",
        "    # Petición GET con manejo de errores y cabeceras\n",
        "    try:\n",
        "        response = requests.get(current_url, headers=headers)\n",
        "        response.raise_for_status() # Lanza una excepción para errores 4xx/5xx\n",
        "    except requests.exceptions.RequestException as e:\n",
        "        print(f\"Error en la petición: {e}\")\n",
        "        break\n",
        "\n",
        "    # Parseo del HTML\n",
        "    soup = BeautifulSoup(response.text, \"html.parser\")\n",
        "    \n",
        "    # Encontrar todos los contenedores de citas\n",
        "    quote_containers = soup.find_all('div', class_='quote')\n",
        "\n",
        "    # Condición de salida: si no se encuentran citas, es la última página\n",
        "    if not quote_containers:\n",
        "        print(\"No se encontraron más citas. Fin del scraping.\")\n",
        "        break\n",
        "    \n",
        "    # Iterar sobre las citas encontradas en la página\n",
        "    for container in quote_containers:\n",
        "        text = container.find('span', class_='text').text\n",
        "        author = container.find('small', class_='author').text\n",
        "        \n",
        "        # Un enfoque alternativo y más explícito para las etiquetas\n",
        "        tags_elements = container.find_all('a', class_='tag')\n",
        "        tags = [tag.text for tag in tags_elements]\n",
        "        \n",
        "        quotes_data.append({\n",
        "            'texto': text,\n",
        "            'autor': author,\n",
        "            'tags': tags\n",
        "        })\n",
        "    \n",
        "    # Incrementar el número de página y esperar\n",
        "    page += 1\n",
        "    time.sleep(1) # Pausa de 1 segundo para ser respetuosos\n",
        "\n",
        "# --- Resultados ---\n",
        "print(f\"\\nScraping completado. Total de citas extraídas: {len(quotes_data)}\")\n",
        "\n",
        "# Convertimos el resultado a un DataFrame de Pandas para una mejor visualización\n",
        "df_quotes = pd.DataFrame(quotes_data)\n",
        "\n",
        "print(\"\\nPrimeras 5 citas extraídas:\")\n",
        "display(df_quotes.head())\n",
        "\n",
        "print(\"\\nÚltimas 5 citas extraídas:\")\n",
        "display(df_quotes.tail())"
      ]
    },
    {
      "cell_type": "markdown",
      "metadata": {},
      "source": [
        "# 7.  **Conexión con Otros Temas**\n"
      ]
    },
    {
      "cell_type": "markdown",
      "metadata": {},
      "source": [
        "*   **Conceptos Previos Necesarios:**\n",
        "    *   **Pandas:** Es el destino natural de tus datos scrapeados. Una vez que tienes una lista de diccionarios, `pd.DataFrame(mi_lista)` la convierte en una tabla perfecta para analizar.\n",
        "    *   **Diccionarios y Listas de Python:** El formato JSON de las APIs se traduce directamente a diccionarios y listas, y son la estructura ideal para almacenar temporalmente tus datos scrapeados antes de pasarlos a un DataFrame.\n",
        "    *   **Bucles y Condicionales:** Indispensables para iterar sobre los resultados (ej: `for article in articles: ...`) y para manejar errores o la paginación (`while next_page_url: ...`)."
      ]
    },
    {
      "cell_type": "markdown",
      "metadata": {},
      "source": [
        "*   **Temas Futuros Relacionados:**\n",
        "    *   **Bases de Datos (SQL/NoSQL):** En proyectos grandes, no guardarás los datos en un CSV, los insertarás directamente en una base de datos para un almacenamiento persistente y eficiente.\n",
        "    *   **Data Engineering:** La extracción de datos (vía API o scraping) es el primer paso (\"Extract\") en cualquier pipeline de ETL (Extract, Transform, Load).\n",
        "    *   **Automatización y Tareas Programadas:** Puedes programar tus scripts de scraping para que se ejecuten automáticamente todos los días (usando `cron` en Linux/Mac o el Programador de Tareas en Windows) y así monitorizar cambios de precios, nuevas noticias, etc."
      ]
    },
    {
      "cell_type": "markdown",
      "metadata": {},
      "source": [
        "# 8.  **Aplicaciones en el Mundo Real**\n"
      ]
    },
    {
      "cell_type": "markdown",
      "metadata": {},
      "source": [
        "1.  **Agregadores de Precios:** Sitios como Google Shopping, Kayak o Skyscanner scrapean docenas de webs de aerolíneas, hoteles y tiendas para encontrar el mejor precio y mostrártelo en un solo lugar.\n",
        "2.  **Análisis de Sentimiento y Monitoreo de Marca:** Las empresas usan las APIs de redes sociales (como Twitter o Reddit) para obtener menciones de su marca en tiempo real y analizar si los comentarios son positivos, negativos o neutros, permitiéndoles reaccionar rápidamente a crisis o a oportunidades."
      ]
    },
    {
      "cell_type": "markdown",
      "metadata": {},
      "source": [
        "# 9.  **Cheat Sheet**\n"
      ]
    },
    {
      "cell_type": "markdown",
      "metadata": {},
      "source": [
        "#### **Requests (`requests`) - El Mensajero**"
      ]
    },
    {
      "cell_type": "code",
      "execution_count": null,
      "metadata": {},
      "outputs": [],
      "source": [
        "import requests\n",
        "\n",
        "# Hacer una solicitud GET\n",
        "response = requests.get('https://api.example.com/data', params={'key': 'value'}, headers={'User-Agent': 'My-Cool-App/1.0'})\n",
        "\n",
        "# Hacer una solicitud POST (enviar datos)\n",
        "payload = {'user': 'leo', 'action': 'login'}\n",
        "response = requests.post('https://example.com/login', data=payload)\n",
        "\n",
        "# Atributos de la Respuesta (response)\n",
        "response.status_code  # Código de estado (200, 404, etc.)\n",
        "response.text         # Contenido de la respuesta como texto (HTML, XML, texto plano)\n",
        "response.json()       # Decodifica la respuesta JSON en un diccionario/lista de Python\n",
        "response.content      # Contenido de la respuesta en bytes (para imágenes, archivos)\n",
        "response.headers      # Diccionario con las cabeceras de la respuesta\n",
        "response.url          # URL final después de posibles redirecciones\n",
        "response.raise_for_status() # Lanza una excepción si el status_code indica un error (4xx o 5xx)"
      ]
    },
    {
      "cell_type": "markdown",
      "metadata": {},
      "source": [
        "#### **Beautiful Soup (`bs4`) - El Intérprete de HTML**"
      ]
    },
    {
      "cell_type": "code",
      "execution_count": null,
      "metadata": {},
      "outputs": [],
      "source": [
        "from bs4 import BeautifulSoup\n",
        "soup = BeautifulSoup(html_string, 'html.parser')\n",
        "\n",
        "# --- Encontrar un solo elemento ---\n",
        "# Por etiqueta\n",
        "first_p = soup.find('p')\n",
        "# Por etiqueta y clase CSS\n",
        "header = soup.find('div', class_='header-class')\n",
        "# Por etiqueta y ID\n",
        "main_content = soup.find('div', id='main-content')\n",
        "# Por etiqueta y atributos\n",
        "link = soup.find('a', attrs={'data-id': '123'})\n",
        "\n",
        "# --- Encontrar múltiples elementos (devuelve una lista) ---\n",
        "all_paragraphs = soup.find_all('p')\n",
        "all_list_items = soup.find_all('li', class_='item')\n",
        "\n",
        "# --- Navegar por el árbol ---\n",
        "element.parent       # El elemento padre directo\n",
        "element.find_parent('div') # El primer padre que es un <div>\n",
        "element.find_next_sibling('p') # El siguiente hermano que es un <p>\n",
        "\n",
        "# --- Extraer información de un elemento encontrado ---\n",
        "element.text         # Obtiene el texto visible del elemento y sus hijos\n",
        "element.get('href')  # Obtiene el valor de un atributo (ej: el link de una etiqueta <a>)\n",
        "element['href']      # Forma alternativa de hacer lo mismo"
      ]
    },
    {
      "cell_type": "markdown",
      "metadata": {},
      "source": [
        "#### **Selenium (`selenium`) - El Navegador Robot**"
      ]
    },
    {
      "cell_type": "code",
      "execution_count": null,
      "metadata": {},
      "outputs": [],
      "source": [
        "from selenium import webdriver\n",
        "from selenium.webdriver.common.by import By\n",
        "from selenium.webdriver.support.ui import WebDriverWait\n",
        "from selenium.webdriver.support import expected_conditions as EC\n",
        "from selenium.webdriver.chrome.service import Service\n",
        "from webdriver_manager.chrome import ChromeDriverManager\n",
        "\n",
        "# --- Configuración e Inicio ---\n",
        "service = Service(ChromeDriverManager().install())\n",
        "driver = webdriver.Chrome(service=service)\n",
        "\n",
        "# --- Acciones Básicas ---\n",
        "driver.get(\"https://example.com\") # Abrir una URL\n",
        "driver.quit()                     # Cerrar el navegador y el proceso\n",
        "driver.refresh()                  # Refrescar la página\n",
        "driver.save_screenshot('screenshot.png')\n",
        "page_source = driver.page_source  # Obtener el HTML de la página (para BeautifulSoup)\n",
        "\n",
        "# --- Encontrar Elementos (método moderno y preferido) ---\n",
        "# Devuelve el primer elemento que coincida, o lanza una excepción si no lo encuentra.\n",
        "element = driver.find_element(By.ID, 'element-id')\n",
        "element = driver.find_element(By.CLASS_NAME, 'element-class')\n",
        "element = driver.find_element(By.CSS_SELECTOR, '#main > div.content')\n",
        "element = driver.find_element(By.XPATH, '//div[@id=\"main\"]/a')\n",
        "element = driver.find_element(By.LINK_TEXT, 'Click Here')\n",
        "\n",
        "# Para encontrar múltiples elementos (devuelve una lista)\n",
        "elements = driver.find_elements(By.CLASS_NAME, 'item')\n",
        "\n",
        "# --- Interactuar con Elementos ---\n",
        "element.click()                   # Hacer clic en un elemento\n",
        "element.send_keys(\"texto a escribir\") # Escribir en un input\n",
        "element.clear()                   # Borrar el texto de un input\n",
        "element.text                      # Obtener el texto visible del elemento\n",
        "element.get_attribute('href')     # Obtener el valor de un atributo\n",
        "\n",
        "# --- Esperas Explícitas (¡MUY IMPORTANTE para webs dinámicas!) ---\n",
        "# Es la mejor práctica. Espera hasta 10 segundos a que una condición se cumpla.\n",
        "wait = WebDriverWait(driver, 10)\n",
        "# Esperar a que un elemento sea visible\n",
        "element = wait.until(EC.visibility_of_element_located((By.ID, 'dynamic-content')))\n",
        "# Esperar a que un elemento sea clickeable\n",
        "button = wait.until(EC.element_to_be_clickable((By.CSS_SELECTOR, 'button.submit')))"
      ]
    }
  ],
  "metadata": {
    "kernelspec": {
      "display_name": ".venv",
      "language": "python",
      "name": "python3"
    },
    "language_info": {
      "codemirror_mode": {
        "name": "ipython",
        "version": 3
      },
      "file_extension": ".py",
      "mimetype": "text/x-python",
      "name": "python",
      "nbconvert_exporter": "python",
      "pygments_lexer": "ipython3",
      "version": "3.13.3"
    }
  },
  "nbformat": 4,
  "nbformat_minor": 2
}
