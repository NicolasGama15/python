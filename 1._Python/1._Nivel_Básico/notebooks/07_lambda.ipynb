{
  "cells": [
    {
      "cell_type": "markdown",
      "metadata": {},
      "source": [
        "# 1.  **Título del Tema**\n"
      ]
    },
    {
      "cell_type": "markdown",
      "metadata": {
        "notebookRunGroups": {
          "groupValue": "2"
        }
      },
      "source": [
        "**Funciones Lambda en Python: Creando Pequeñas Funciones Anónimas**"
      ]
    },
    {
      "cell_type": "markdown",
      "metadata": {},
      "source": [
        "# 2.  **Explicación Conceptual Detallada**\n"
      ]
    },
    {
      "cell_type": "markdown",
      "metadata": {},
      "source": [
        "*   **Definición y Propósito:**\n",
        "    Una función lambda en Python es una **función anónima** pequeña y restringida. \"Anónima\" significa que no tiene un nombre definido con la palabra clave `def` (aunque puedes asignarla a una variable, pero esto generalmente va en contra de su propósito principal). Su principal propósito es permitir la creación rápida de funciones que realizan una **única expresión** y devuelven su resultado."
      ]
    },
    {
      "cell_type": "markdown",
      "metadata": {},
      "source": [
        "*   **¿Qué es y para qué se utiliza?**\n",
        "    Las lambdas son funciones como cualquier otra, pero con dos diferencias clave:\n",
        "    1.  **Anónimas:** No se declaran con `def nombre_funcion():`.\n",
        "    2.  **Una sola expresión:** El cuerpo de una lambda solo puede contener una única expresión, no múltiples sentencias ni un bloque de código complejo. El resultado de esta expresión es lo que la función lambda devuelve automáticamente.\n",
        "\n",
        "    Se utilizan principalmente en situaciones donde necesitas una función pequeña y simple por un corto período, especialmente como argumento para funciones de orden superior (funciones que toman otras funciones como parámetros). Los ejemplos más comunes son `map()`, `filter()`, y `sorted()`, o al definir callbacks en interfaces gráficas o frameworks."
      ]
    },
    {
      "cell_type": "markdown",
      "metadata": {},
      "source": [
        "*   **Importancia en Python:**\n",
        "    Aportan concisión y legibilidad en contextos específicos. Permiten escribir código más funcional y expresivo, evitando la necesidad de definir muchas funciones pequeñas con `def` que solo se usan una vez."
      ]
    },
    {
      "cell_type": "markdown",
      "metadata": {},
      "source": [
        "*   **Conceptos Clave Asociados:**\n",
        "    *   **Anónima:** Sin nombre formal.\n",
        "    *   **Expresión única:** El cuerpo de la lambda es una sola expresión, cuyo resultado se devuelve.\n",
        "    *   **Funciones de orden superior:** Funciones como `map()`, `filter()`, `sorted()` que aceptan otras funciones (incluyendo lambdas) como argumentos.\n",
        "    *   **Closures:** Las lambdas pueden \"capturar\" variables del ámbito (scope) en el que se definen, al igual que las funciones regulares."
      ]
    },
    {
      "cell_type": "markdown",
      "metadata": {},
      "source": [
        "*   **Sintaxis Fundamental:**\n",
        "    `lambda argumentos: expresion`\n",
        "    *   `lambda`: Palabra clave que introduce la función lambda.\n",
        "    *   `argumentos`: Una lista de uno o más argumentos, separados por comas (similar a los argumentos de una función `def`).\n",
        "    *   `:`: Separa los argumentos de la expresión.\n",
        "    *   `expresion`: Una única expresión que se evalúa y cuyo resultado es devuelto por la función."
      ]
    },
    {
      "cell_type": "markdown",
      "metadata": {},
      "source": [
        "*   **Errores Comunes a Tener en Cuenta:**\n",
        "    *   **Intentar hacer demasiado:** Las lambdas no están diseñadas para lógica compleja. Si tu lambda se vuelve difícil de leer, es mejor usar una función `def` normal.\n",
        "    *   **Múltiples sentencias:** No puedes tener `if/else` como sentencias separadas, bucles, `print()` (a menos que sea parte de una expresión que devuelva algo), o asignaciones directas (`=`) dentro de la expresión de una lambda. (Nota: Puedes usar expresiones condicionales `x if C else y`).\n",
        "    *   **Asignar lambdas a variables para uso repetido:** Aunque es posible (`mi_lambda = lambda x: x * 2`), si vas a usar la función en múltiples lugares o si es más que trivial, generalmente es mejor definirla con `def` por claridad, legibilidad y la capacidad de tener un docstring."
      ]
    },
    {
      "cell_type": "markdown",
      "metadata": {},
      "source": [
        "*   **Cómo funciona internamente (si aplica):**\n",
        "    Cuando Python encuentra una expresión `lambda`, crea un objeto función en memoria, igual que lo hace con una función `def`. La diferencia principal es que no se le asigna un nombre en el espacio de nombres actual (a menos que la asignes explícitamente a una variable). La expresión se compila y el objeto función resultante puede ser llamado o pasado como argumento."
      ]
    },
    {
      "cell_type": "markdown",
      "metadata": {},
      "source": [
        "*   **Ventajas:**\n",
        "    1.  **Concisión:** Permiten escribir funciones cortas en una sola línea.\n",
        "    2.  **Comodidad:** Ideales para funciones de un solo uso, especialmente como argumentos para `map()`, `filter()`, `sorted()`.\n",
        "    3.  **Legibilidad (en contexto):** Cuando se usan apropiadamente para operaciones simples, pueden hacer el código más legible al mantener la lógica cerca de donde se usa."
      ]
    },
    {
      "cell_type": "markdown",
      "metadata": {},
      "source": [
        "*   **Posibles Limitaciones:**\n",
        "    1.  **Solo una expresión:** No pueden contener múltiples sentencias o un bloque de código.\n",
        "    2.  **Sin docstrings:** No pueden tener docstrings de la manera tradicional (aunque puedes asignar una lambda a una variable y luego asignar un `__doc__` a esa variable, no es común ni idiomático).\n",
        "    3.  **Menor legibilidad si son complejas:** Si la expresión es muy larga o complicada, una función `def` con un nombre descriptivo es preferible."
      ]
    },
    {
      "cell_type": "markdown",
      "metadata": {},
      "source": [
        "*   **Buenas Prácticas Relacionadas:**\n",
        "    1.  **Mantenlas simples:** Úsalas para operaciones pequeñas y directas.\n",
        "    2.  **Prioriza la legibilidad:** Si una lambda hace el código más difícil de entender, usa una función `def`.\n",
        "    3.  **Evita asignarlas a nombres si vas a reutilizarlas mucho:** Una `def` es más explícita, permite docstrings y es más fácil de depurar por su nombre.\n",
        "    4.  Son excelentes para argumentos de `key` en `sorted()`, `min()`, `max()`, y para `map()` y `filter()`."
      ]
    },
    {
      "cell_type": "markdown",
      "metadata": {},
      "source": [
        "# 3.  **Sintaxis y Ejemplos Básicos**\n"
      ]
    },
    {
      "cell_type": "markdown",
      "metadata": {},
      "source": [
        "La sintaxis general de una función lambda es:\n",
        "\n",
        "```python\n",
        "lambda argumentos: expresion\n",
        "```"
      ]
    },
    {
      "cell_type": "markdown",
      "metadata": {},
      "source": [
        "*   **`lambda`**: Palabra clave que indica que estamos creando una función anónima.\n",
        "*   **`argumentos`**: Uno o más argumentos que la función aceptará, separados por comas (opcional si no necesita argumentos).\n",
        "*   **`:`**: Separador entre los argumentos y la expresión.\n",
        "*   **`expresion`**: Una única expresión que se evalúa. El resultado de esta expresión es lo que la función lambda devuelve automáticamente."
      ]
    },
    {
      "cell_type": "markdown",
      "metadata": {},
      "source": [
        "**Lambda que suma 2 a un número:**"
      ]
    },
    {
      "cell_type": "code",
      "execution_count": 3,
      "metadata": {},
      "outputs": [
        {
          "name": "stdout",
          "output_type": "stream",
          "text": [
            "7\n"
          ]
        }
      ],
      "source": [
        "suma_dos = lambda x: x + 2\n",
        "print(suma_dos(5))  # Salida: 7"
      ]
    },
    {
      "cell_type": "markdown",
      "metadata": {},
      "source": [
        "**Lambda que multiplica dos números:**"
      ]
    },
    {
      "cell_type": "code",
      "execution_count": null,
      "metadata": {},
      "outputs": [
        {
          "name": "stdout",
          "output_type": "stream",
          "text": [
            "12\n"
          ]
        }
      ],
      "source": [
        "multiplicar = lambda x, y: x * y\n",
        "print(multiplicar(3, 4))  # Salida: 12"
      ]
    },
    {
      "cell_type": "markdown",
      "metadata": {},
      "source": [
        "**Lambda sin argumentos (menos común, pero posible):**"
      ]
    },
    {
      "cell_type": "code",
      "execution_count": 4,
      "metadata": {},
      "outputs": [
        {
          "name": "stdout",
          "output_type": "stream",
          "text": [
            "Hola Mundo!\n"
          ]
        }
      ],
      "source": [
        "saludo = lambda: \"Hola Mundo!\"\n",
        "print(saludo())  # Salida: Hola Mundo!"
      ]
    },
    {
      "cell_type": "markdown",
      "metadata": {},
      "source": [
        "**Lambda con una expresión condicional (ternaria):**"
      ]
    },
    {
      "cell_type": "code",
      "execution_count": 5,
      "metadata": {},
      "outputs": [
        {
          "name": "stdout",
          "output_type": "stream",
          "text": [
            "Par\n",
            "Impar\n"
          ]
        }
      ],
      "source": [
        "es_par = lambda num: \"Par\" if num % 2 == 0 else \"Impar\"\n",
        "print(es_par(4)) # Salida: Par\n",
        "print(es_par(7)) # Salida: Impar"
      ]
    },
    {
      "cell_type": "markdown",
      "metadata": {},
      "source": [
        "# 4.  **Documentación y Recursos Clave**\n"
      ]
    },
    {
      "cell_type": "markdown",
      "metadata": {},
      "source": [
        "*   **Documentación Oficial de Python:**\n",
        "    *   Expresiones Lambda (sección 5.12 en la referencia del lenguaje para Python 3.x): [https://docs.python.org/3/reference/expressions.html#lambda](https://docs.python.org/3/reference/expressions.html#lambda)\n",
        "    *   Tutorial sobre lambdas (parte del tutorial general): [https://docs.python.org/3/tutorial/controlflow.html#lambda-expressions](https://docs.python.org/3/tutorial/controlflow.html#lambda-expressions)\n",
        "\n",
        "*   **Recursos Externos de Alta Calidad:**\n",
        "    *   Real Python - Python Lambda Functions: [https://realpython.com/python-lambda/](https://realpython.com/python-lambda/) (Un excelente artículo que cubre lambdas en detalle con buenos ejemplos)."
      ]
    },
    {
      "cell_type": "markdown",
      "metadata": {},
      "source": [
        "# 5.  **Ejemplos de Código Prácticos**\n"
      ]
    },
    {
      "cell_type": "markdown",
      "metadata": {},
      "source": [
        "**Ejemplo 1: Usando `lambda` con `map()`**"
      ]
    },
    {
      "cell_type": "markdown",
      "metadata": {},
      "source": [
        "`map()` aplica una función a todos los ítems en una secuencia (como una lista) y devuelve un iterador con los resultados."
      ]
    },
    {
      "cell_type": "code",
      "execution_count": 6,
      "metadata": {},
      "outputs": [
        {
          "name": "stdout",
          "output_type": "stream",
          "text": [
            "Lista original: [1, 2, 3, 4, 5]\n",
            "Cuadrados (usando map y lambda): [1, 4, 9, 16, 25]\n"
          ]
        }
      ],
      "source": [
        "# Lista de números\n",
        "numeros = [1, 2, 3, 4, 5]\n",
        "\n",
        "# Usar map() con una función lambda para elevar al cuadrado cada número\n",
        "# La lambda 'lambda x: x**2' toma un argumento x y devuelve x al cuadrado.\n",
        "# map() aplica esta lambda a cada elemento de la lista 'numeros'.\n",
        "cuadrados = map(lambda x: x**2, numeros)\n",
        "\n",
        "# Convertir el iterador map a una lista para ver los resultados\n",
        "lista_cuadrados = list(cuadrados)\n",
        "print(f\"Lista original: {numeros}\")\n",
        "print(f\"Cuadrados (usando map y lambda): {lista_cuadrados}\")\n",
        "\n",
        "# Salida esperada:\n",
        "# Lista original: [1, 2, 3, 4, 5]\n",
        "# Cuadrados (usando map y lambda): [1, 4, 9, 16, 25]"
      ]
    },
    {
      "cell_type": "markdown",
      "metadata": {},
      "source": [
        "**Ejemplo 2: Usando `lambda` con `filter()`**"
      ]
    },
    {
      "cell_type": "markdown",
      "metadata": {},
      "source": [
        "`filter()` construye un iterador a partir de elementos de un iterable para los cuales una función devuelve verdadero."
      ]
    },
    {
      "cell_type": "code",
      "execution_count": 7,
      "metadata": {},
      "outputs": [
        {
          "name": "stdout",
          "output_type": "stream",
          "text": [
            "Lista original: [1, 2, 3, 4, 5, 6, 7, 8, 9, 10]\n",
            "Números pares (usando filter y lambda): [2, 4, 6, 8, 10]\n"
          ]
        }
      ],
      "source": [
        "# Lista de números\n",
        "numeros = [1, 2, 3, 4, 5, 6, 7, 8, 9, 10]\n",
        "\n",
        "# Usar filter() con una función lambda para obtener solo los números pares\n",
        "# La lambda 'lambda x: x % 2 == 0' toma un argumento x y devuelve True si x es par, False en caso contrario.\n",
        "# filter() aplica esta lambda a cada elemento y solo conserva aquellos para los que la lambda devuelve True.\n",
        "numeros_pares = filter(lambda x: x % 2 == 0, numeros)\n",
        "\n",
        "# Convertir el iterador filter a una lista para ver los resultados\n",
        "lista_numeros_pares = list(numeros_pares)\n",
        "print(f\"Lista original: {numeros}\")\n",
        "print(f\"Números pares (usando filter y lambda): {lista_numeros_pares}\")\n",
        "\n",
        "# Salida esperada:\n",
        "# Lista original: [1, 2, 3, 4, 5, 6, 7, 8, 9, 10]"
      ]
    },
    {
      "cell_type": "markdown",
      "metadata": {},
      "source": [
        "**Ejemplo 3: Usando `lambda` con `sorted()` para claves de ordenación personalizadas**"
      ]
    },
    {
      "cell_type": "markdown",
      "metadata": {},
      "source": [
        "`sorted()` puede tomar un argumento `key` que especifica una función a ser llamada en cada elemento de la lista antes de hacer comparaciones."
      ]
    },
    {
      "cell_type": "code",
      "execution_count": 8,
      "metadata": {},
      "outputs": [
        {
          "name": "stdout",
          "output_type": "stream",
          "text": [
            "Jugadores originales: [('Alice', 25, 120), ('Bob', 30, 150), ('Charlie', 22, 100), ('David', 28, 150)]\n",
            "Jugadores ordenados por edad: [('Charlie', 22, 100), ('Alice', 25, 120), ('David', 28, 150), ('Bob', 30, 150)]\n",
            "Jugadores ordenados por puntuación (desc) y nombre (asc): [('Bob', 30, 150), ('David', 28, 150), ('Alice', 25, 120), ('Charlie', 22, 100)]\n"
          ]
        }
      ],
      "source": [
        "# Lista de tuplas (nombre, edad, puntuacion)\n",
        "jugadores = [('Alice', 25, 120), ('Bob', 30, 150), ('Charlie', 22, 100), ('David', 28, 150)]\n",
        "\n",
        "# Ordenar por edad (el segundo elemento de la tupla, índice 1)\n",
        "# La lambda 'lambda jugador: jugador[1]' toma una tupla 'jugador' y devuelve su segundo elemento.\n",
        "jugadores_ordenados_por_edad = sorted(jugadores, key=lambda jugador: jugador[1])\n",
        "print(f\"Jugadores originales: {jugadores}\")\n",
        "print(f\"Jugadores ordenados por edad: {jugadores_ordenados_por_edad}\")\n",
        "\n",
        "# Ordenar primero por puntuación (descendente) y luego por nombre (ascendente)\n",
        "# Usamos una tupla en la lambda para múltiples criterios de ordenación.\n",
        "# Para orden descendente de puntuación, multiplicamos por -1.\n",
        "jugadores_ordenados_compuesto = sorted(jugadores, key=lambda jugador: (-jugador[2], jugador[0]))\n",
        "print(f\"Jugadores ordenados por puntuación (desc) y nombre (asc): {jugadores_ordenados_compuesto}\")\n",
        "\n",
        "\n",
        "# Salida esperada:\n",
        "# Jugadores originales: [('Alice', 25, 120), ('Bob', 30, 150), ('Charlie', 22, 100), ('David', 28, 150)]\n",
        "# Jugadores ordenados por edad: [('Charlie', 22, 100), ('Alice', 25, 120), ('David', 28, 150), ('Bob', 30, 150)]\n",
        "# Jugadores ordenados por puntuación (desc) y nombre (asc): [('Bob', 30, 150), ('David', 28, 150), ('Alice', 25, 120), ('Charlie', 22, 100)]"
      ]
    },
    {
      "cell_type": "markdown",
      "metadata": {},
      "source": [
        "# 6.  **Ejercicio Práctico**\n"
      ]
    },
    {
      "cell_type": "markdown",
      "metadata": {},
      "source": [
        "Dada la siguiente lista de diccionarios, donde cada diccionario representa un producto con su nombre, precio y cantidad en stock:\n",
        "\n",
        "```python\n",
        "productos = [\n",
        "    {'nombre': 'Manzana', 'precio': 0.5, 'cantidad': 40},\n",
        "    {'nombre': 'Banana', 'precio': 0.25, 'cantidad': 0}, # Agotado\n",
        "    {'nombre': 'Naranja', 'precio': 0.75, 'cantidad': 25},\n",
        "    {'nombre': 'Uva', 'precio': 1.2, 'cantidad': 0}, # Agotado\n",
        "    {'nombre': 'Pera', 'precio': 0.6, 'cantidad': 30}\n",
        "]\n",
        "```\n",
        "\n",
        "**Tu tarea es:**\n",
        "\n",
        "1.  **Filtrar Productos Agotados:** Utiliza `filter()` y una función `lambda` para crear una nueva lista llamada `productos_disponibles` que solo contenga los productos cuya cantidad sea mayor que 0.\n",
        "2.  **Calcular el Valor Total del Inventario Disponible:** Utiliza `map()` y una función `lambda` sobre la lista `productos_disponibles` para calcular el valor total de cada producto en stock (precio * cantidad). Luego, suma estos valores para obtener el valor total del inventario disponible. Almacena el resultado en una variable llamada `valor_total_inventario`.\n",
        "3.  **Imprimir los resultados:** Muestra la lista `productos_disponibles` y el `valor_total_inventario`.\n",
        "\n",
        "**Pista:** Para el paso 2, `map()` te dará un iterador de los valores individuales. Necesitarás usar la función `sum()` para obtener el total."
      ]
    },
    {
      "cell_type": "code",
      "execution_count": 52,
      "metadata": {},
      "outputs": [
        {
          "name": "stdout",
          "output_type": "stream",
          "text": [
            "lista_productos_disponibles: [{'nombre': 'Manzana', 'precio': 0.5, 'cantidad': 40}, {'nombre': 'Naranja', 'precio': 0.75, 'cantidad': 25}, {'nombre': 'Pera', 'precio': 0.6, 'cantidad': 30}]\n",
            "valor_total_inventario: 56.75\n"
          ]
        }
      ],
      "source": [
        "productos = [\n",
        "    {'nombre': 'Manzana', 'precio': 0.5, 'cantidad': 40},\n",
        "    {'nombre': 'Banana', 'precio': 0.25, 'cantidad': 0}, # Agotado\n",
        "    {'nombre': 'Naranja', 'precio': 0.75, 'cantidad': 25},\n",
        "    {'nombre': 'Uva', 'precio': 1.2, 'cantidad': 0}, # Agotado\n",
        "    {'nombre': 'Pera', 'precio': 0.6, 'cantidad': 30}\n",
        "]\n",
        "\n",
        "productos_disponibles = filter(lambda producto : producto['cantidad'] > 0, productos)\n",
        "lista_productos_disponibles = list(productos_disponibles)\n",
        "print(f\"lista_productos_disponibles: {lista_productos_disponibles}\")\n",
        "\n",
        "valor_total_inventario = sum(map(lambda producto : producto['precio']*producto['cantidad'] , lista_productos_disponibles))\n",
        "print(f\"valor_total_inventario: {valor_total_inventario}\")\n",
        "\n"
      ]
    },
    {
      "cell_type": "markdown",
      "metadata": {},
      "source": [
        "# 7.  **Conexión con Otros Temas**\n"
      ]
    },
    {
      "cell_type": "markdown",
      "metadata": {},
      "source": [
        "*   **Conceptos que Deberías Conocer Previamente:**\n",
        "    *   **Funciones en Python:** Entender qué son las funciones, cómo definirlas (`def`), cómo llamarlas, y qué son los argumentos y los valores de retorno.\n",
        "    *   **Tipos de Datos:** Listas, tuplas, diccionarios.\n",
        "    *   **Expresiones:** Comprender qué es una expresión y cómo se evalúa a un valor.\n",
        "    *   **Iterables e Iteradores:** Conceptos básicos sobre secuencias que se pueden recorrer."
      ]
    },
    {
      "cell_type": "markdown",
      "metadata": {},
      "source": [
        "*   **Temas Futuros para los que este Conocimiento Será Importante:**\n",
        "    *   **Programación Funcional:** Las lambdas son un pilar del estilo de programación funcional en Python. Conceptos como `map`, `filter`, y `reduce` (aunque `reduce` está en `functools`) se usan frecuentemente con lambdas.\n",
        "    *   **Comprensión de Listas/Diccionarios/Conjuntos (List Comprehensions):** A menudo, una lambda simple con `map` o `filter` puede ser reemplazada por una comprensión de listas, que puede ser más legible o eficiente. Entender lambdas te ayudará a ver cuándo una comprensión es una alternativa.\n",
        "    *   **Decoradores:** Aunque no directamente, entender funciones como objetos de primera clase (que es lo que son las lambdas) es fundamental para comprender los decoradores.\n",
        "    *   **Callbacks:** En desarrollo de interfaces gráficas (GUI con Tkinter, PyQt, Kivy), desarrollo web (frameworks como Flask o Django), o programación asíncrona, las lambdas se usan a menudo para definir pequeñas funciones de callback (funciones que se ejecutan en respuesta a un evento).\n",
        "    *   **APIs y Bibliotecas:** Muchas bibliotecas (ej. Pandas, NumPy) tienen métodos que aceptan funciones como argumentos para operaciones personalizadas, y las lambdas son perfectas para esto."
      ]
    },
    {
      "cell_type": "markdown",
      "metadata": {},
      "source": [
        "# 8.  **Aplicaciones en el Mundo Real**\n"
      ]
    },
    {
      "cell_type": "markdown",
      "metadata": {},
      "source": [
        "1.  **Procesamiento de Datos con Pandas:**\n",
        "    En la biblioteca Pandas, muy usada para análisis de datos, las funciones lambda son extremadamente comunes con métodos como `apply()`, `applymap()`, y para crear columnas derivadas o filtrar DataFrames de manera concisa.\n",
        "    *Ejemplo (conceptual):* `df['columna_nueva'] = df['columna_existente'].apply(lambda x: x * 100 if x > 0 else x)`\n",
        "\n",
        "2.  **Interfaces Gráficas de Usuario (GUI):**\n",
        "    Al crear aplicaciones de escritorio, es común asignar pequeñas acciones a eventos de botones u otros widgets. Las lambdas son perfectas para esto si la acción es simple.\n",
        "    *Ejemplo (conceptual con Tkinter):* `button = tk.Button(text=\"Haz clic\", command=lambda: print(\"¡Botón presionado!\"))`\n",
        "\n",
        "3.  **Claves de Ordenación y Filtrado Personalizadas:**\n",
        "    Como vimos en los ejemplos, al trabajar con estructuras de datos complejas, las lambdas proporcionan una forma muy directa de especificar cómo ordenar o filtrar elementos basándose en atributos específicos."
      ]
    }
  ],
  "metadata": {
    "kernelspec": {
      "display_name": "Python 3",
      "language": "python",
      "name": "python3"
    },
    "language_info": {
      "codemirror_mode": {
        "name": "ipython",
        "version": 3
      },
      "file_extension": ".py",
      "mimetype": "text/x-python",
      "name": "python",
      "nbconvert_exporter": "python",
      "pygments_lexer": "ipython3",
      "version": "3.13.3"
    }
  },
  "nbformat": 4,
  "nbformat_minor": 2
}
