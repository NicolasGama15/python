{
  "cells": [
    {
      "cell_type": "markdown",
      "metadata": {},
      "source": [
        "# 1.  **Título del Tema**\n"
      ]
    },
    {
      "cell_type": "markdown",
      "metadata": {},
      "source": [
        "**Testing de Integración Ligera con `pytest` y `requests-mock`**"
      ]
    },
    {
      "cell_type": "markdown",
      "metadata": {},
      "source": [
        "# 2.  **Explicación Conceptual Detallada**\n"
      ]
    },
    {
      "cell_type": "markdown",
      "metadata": {},
      "source": [
        "*   **Definición y Propósito:** Las pruebas de integración ligera verifican que dos o más componentes de software (módulos, funciones, clases) colaboran correctamente. El objetivo no es probar la lógica interna de cada componente (eso es para las pruebas unitarias), sino probar el \"contrato\" o la \"interfaz\" entre ellos. ¿La función A le pasa los datos a la función B en el formato que B espera? ¿Qué pasa si la función A falla? ¿La función B maneja ese error correctamente?"
      ]
    },
    {
      "cell_type": "markdown",
      "metadata": {},
      "source": [
        "*   **¿Cuándo y por qué se utiliza?:**\n",
        "    *   **Cuando una función depende de otra:** Si `funcion_A()` llama a `funcion_B()`, una prueba de integración puede verificar esta interacción.\n",
        "    *   **Cuando tu código interactúa con servicios externos:** Bases de datos, APIs web, sistemas de archivos, etc. En lugar de conectar con el servicio real (que puede ser lento, inestable o tener costos), \"simulamos\" su comportamiento con un **mock**.\n",
        "    *   **Importancia:** Estas pruebas son cruciales porque muchos errores no ocurren dentro de una función aislada, sino en la comunicación entre ellas."
      ]
    },
    {
      "cell_type": "markdown",
      "metadata": {},
      "source": [
        "*   **Conceptos Clave y Herramientas:**\n",
        "    *   **`pytest`:** Es nuestro marco de pruebas. Nos proporciona la estructura para escribir y ejecutar las pruebas de forma sencilla y potente (con `assert`, fixtures, etc.).\n",
        "    *   **Mock (o Doble de Prueba):** Un \"mock\" es un objeto falso que simula el comportamiento de un objeto real de forma controlada. Para las pruebas de integración con servicios web, en lugar de hacer una llamada HTTP real, usamos un mock que finge ser el servidor y nos devuelve una respuesta predefinida (un éxito, un error 404, etc.).\n",
        "    *   **`requests-mock`:** Es una biblioteca especializada en *mockear* (simular) las respuestas de la biblioteca `requests`. Es perfecta para probar cómo tu código maneja las respuestas de una API externa sin tener que conectarte realmente a ella."
      ]
    },
    {
      "cell_type": "markdown",
      "metadata": {},
      "source": [
        "*   **Ventajas:**\n",
        "    1.  **Rapidez:** No dependen de la red ni de servicios externos, por lo que se ejecutan casi instantáneamente.\n",
        "    2.  **Fiabilidad:** Los tests no fallarán porque la API externa esté caída o tu conexión a internet falle.\n",
        "    3.  **Control Total:** Puedes simular cualquier escenario, incluyendo errores difíciles de replicar (ej: un error 503 del servidor) para asegurar que tu código es robusto.\n",
        "    4.  **Aislamiento:** Si la prueba falla, sabes que el problema está en la interacción entre los componentes que estás probando, no en un sistema externo."
      ]
    },
    {
      "cell_type": "markdown",
      "metadata": {},
      "source": [
        "*   **Buenas Prácticas:**\n",
        "    *   **Prueba el \"contrato\":** Enfócate en la comunicación. ¿Se llamó a la función correcta? ¿Con los argumentos correctos? ¿Se manejó bien la respuesta?\n",
        "    *   **Nombres de prueba descriptivos:** `test_funcion_principal_cuando_api_devuelve_error_404()`.\n",
        "    *   **No mockees lo que no es tuyo (si no es necesario):** No necesitas probar que la biblioteca `requests` funciona. Mockea la *respuesta* que `requests` te daría.\n"
      ]
    },
    {
      "cell_type": "markdown",
      "metadata": {},
      "source": [
        "# 3.  **Sintaxis y Ejemplos Básicos**\n"
      ]
    },
    {
      "cell_type": "markdown",
      "metadata": {},
      "source": [
        "**Sintaxis básica de `pytest`:**"
      ]
    },
    {
      "cell_type": "markdown",
      "metadata": {},
      "source": [
        "Una prueba es simplemente una función que empieza con `test_`. Usamos `assert` para verificar que una condición es verdadera."
      ]
    },
    {
      "cell_type": "code",
      "execution_count": 1,
      "metadata": {},
      "outputs": [],
      "source": [
        "def test_suma_simple():\n",
        "    assert 1 + 1 == 2"
      ]
    },
    {
      "cell_type": "markdown",
      "metadata": {},
      "source": [
        "**Sintaxis básica de `requests-mock`:**"
      ]
    },
    {
      "cell_type": "markdown",
      "metadata": {},
      "source": [
        "`requests-mock` se integra con `pytest` a través de una \"fixture\". Una fixture es como un asistente que prepara algo para tu prueba. La fixture se llama `requests_mock`."
      ]
    },
    {
      "cell_type": "code",
      "execution_count": 4,
      "metadata": {},
      "outputs": [],
      "source": [
        "import requests\n",
        "\n",
        "# Imagina que esta es una función en tu código\n",
        "def obtener_info_sitio_web():\n",
        "    response = requests.get(\"http://ejemplo.com/api\")\n",
        "    return response.json()\n",
        "\n",
        "# Así se vería una prueba básica con el mock\n",
        "def test_obtener_info_con_mock(requests_mock):\n",
        "    # 1. Configurar el mock:\n",
        "    # Cuando se haga un GET a esta URL...\n",
        "    requests_mock.get(\"http://ejemplo.com/api\",\n",
        "                      # ...devuelve este JSON con un status 200 (OK).\n",
        "                      json={\"mensaje\": \"Hola desde el mock\"},\n",
        "                      status_code=200)\n",
        "\n",
        "    # 2. Ejecutar la función que queremos probar\n",
        "    resultado = obtener_info_sitio_web()\n",
        "\n",
        "    # 3. Verificar (Assert)\n",
        "    # ¿La función procesó correctamente la respuesta del mock?\n",
        "    assert resultado[\"mensaje\"] == \"Hola desde el mock\""
      ]
    },
    {
      "cell_type": "markdown",
      "metadata": {},
      "source": [
        "# 4.  **Documentación y Recursos Clave**\n"
      ]
    },
    {
      "cell_type": "markdown",
      "metadata": {},
      "source": [
        "*   **Documentación Oficial:**\n",
        "    *   **pytest:** [https://docs.pytest.org/en/stable/](https://docs.pytest.org/en/stable/)\n",
        "    *   **requests-mock:** [https://requests-mock.readthedocs.io/](https://requests-mock.readthedocs.io/)\n",
        "\n",
        "*   **Recurso Adicional de Alta Calidad:**\n",
        "    *   **Real Python - Mocking External APIs in Python:** [https://realpython.com/testing-third-party-apis-with-mock-servers/](https://realpython.com/testing-third-party-apis-with-mock-servers/) (Un excelente artículo que cubre conceptos similares con otras herramientas, muy enriquecedor)."
      ]
    },
    {
      "cell_type": "markdown",
      "metadata": {},
      "source": [
        "# 5.  **Ejemplos de Código Prácticos**\n"
      ]
    },
    {
      "cell_type": "markdown",
      "metadata": {},
      "source": [
        "**Paso 1: Crear nuestros módulos de código**\n",
        "\n",
        "Vamos a crear dos módulos:\n",
        "1.  `api_client.py`: Responsable de hablar con una API externa para obtener datos de un usuario.\n",
        "2.  `user_service.py`: Usa el `api_client` para obtener datos y luego formatea un saludo para el usuario.\n"
      ]
    },
    {
      "cell_type": "code",
      "execution_count": 5,
      "metadata": {},
      "outputs": [
        {
          "name": "stdout",
          "output_type": "stream",
          "text": [
            "Writing api_client.py\n"
          ]
        }
      ],
      "source": [
        "%%writefile api_client.py\n",
        "# Este módulo simula la capa que interactúa directamente con una API externa.\n",
        "\n",
        "import requests\n",
        "\n",
        "def get_user_data(user_id):\n",
        "    \"\"\"\n",
        "    Obtiene los datos de un usuario desde una API externa.\n",
        "    Lanza una excepción si el usuario no se encuentra.\n",
        "    \"\"\"\n",
        "    api_url = f\"https://api.ejemplo.com/users/{user_id}\"\n",
        "    response = requests.get(api_url)\n",
        "\n",
        "    # Si la respuesta es 404 (Not Found), lanzamos un error claro.\n",
        "    if response.status_code == 404:\n",
        "        raise ValueError(f\"Usuario con ID {user_id} no encontrado.\")\n",
        "\n",
        "    # Si hubo otro tipo de error HTTP, requests lo lanzará aquí.\n",
        "    response.raise_for_status()\n",
        "\n",
        "    return response.json()"
      ]
    },
    {
      "cell_type": "code",
      "execution_count": 6,
      "metadata": {},
      "outputs": [
        {
          "name": "stdout",
          "output_type": "stream",
          "text": [
            "Writing user_service.py\n"
          ]
        }
      ],
      "source": [
        "%%writefile user_service.py\n",
        "# Este módulo contiene la lógica de negocio.\n",
        "# Depende de 'api_client' para obtener los datos.\n",
        "\n",
        "from api_client import get_user_data\n",
        "\n",
        "def generate_user_greeting(user_id):\n",
        "    \"\"\"\n",
        "    Genera un saludo personalizado para un usuario.\n",
        "    Integra la llamada a la API con la lógica de formato.\n",
        "    \"\"\"\n",
        "    try:\n",
        "        # Aquí está la integración: este módulo llama al otro.\n",
        "        user_data = get_user_data(user_id)\n",
        "        name = user_data.get(\"name\")\n",
        "\n",
        "        if not name:\n",
        "            return \"Hola, usuario anónimo.\"\n",
        "\n",
        "        return f\"¡Bienvenido, {name}!\"\n",
        "    except ValueError as e:\n",
        "        # Captura el error específico de usuario no encontrado y lo maneja.\n",
        "        return str(e)\n",
        "    except Exception:\n",
        "        # Captura cualquier otro error de la API (ej. 500 Internal Server Error)\n",
        "        return \"No se pudo contactar el servicio de usuarios en este momento.\"\n"
      ]
    },
    {
      "cell_type": "markdown",
      "metadata": {},
      "source": [
        "**Paso 2: Crear nuestro archivo de pruebas de integración**\n",
        "\n",
        "Ahora, creamos la prueba que verifica que `user_service` y `api_client` funcionan bien juntos."
      ]
    },
    {
      "cell_type": "code",
      "execution_count": 9,
      "metadata": {},
      "outputs": [
        {
          "name": "stdout",
          "output_type": "stream",
          "text": [
            "Overwriting test_integration_user_service.py\n"
          ]
        }
      ],
      "source": [
        "%%writefile test_integration_user_service.py\n",
        "\n",
        "import pytest\n",
        "from user_service import generate_user_greeting # La función que queremos probar\n",
        "\n",
        "# Ejemplo 1: Prueba del \"camino feliz\" (todo funciona)\n",
        "def test_greeting_for_existing_user(requests_mock):\n",
        "    \"\"\"\n",
        "    Prueba la integración cuando la API devuelve un usuario válido.\n",
        "    \"\"\"\n",
        "    user_id = 1\n",
        "    # Mockeamos la respuesta que esperamos de la API\n",
        "    requests_mock.get(\n",
        "        f\"https://api.ejemplo.com/users/{user_id}\",\n",
        "        json={\"id\": user_id, \"name\": \"Ana\", \"email\": \"ana@ejemplo.com\"},\n",
        "        status_code=200\n",
        "    )\n",
        "\n",
        "    # Llamamos a la función de alto nivel\n",
        "    greeting = generate_user_greeting(user_id)\n",
        "\n",
        "    # Verificamos que el resultado final es el esperado\n",
        "    assert greeting == \"¡Bienvenido, Ana!\"\n",
        "    print(\"\\n[ÉXITO] test_greeting_for_existing_user pasó.\")\n",
        "\n",
        "\n",
        "# Ejemplo 2: Prueba de un caso de error (usuario no encontrado)\n",
        "def test_greeting_for_nonexistent_user(requests_mock):\n",
        "    \"\"\"\n",
        "    Prueba la integración cuando la API devuelve un error 404.\n",
        "    \"\"\"\n",
        "    user_id = 999\n",
        "    # Mockeamos una respuesta de error 404 Not Found\n",
        "    requests_mock.get(\n",
        "        f\"https://api.ejemplo.com/users/{user_id}\",\n",
        "        status_code=404\n",
        "    )\n",
        "\n",
        "    # Llamamos a la función de alto nivel\n",
        "    greeting = generate_user_greeting(user_id)\n",
        "\n",
        "    # Verificamos que nuestra función maneja el error correctamente\n",
        "    assert greeting == f\"Usuario con ID {user_id} no encontrado.\"\n",
        "    print(\"[ÉXITO] test_greeting_for_nonexistent_user pasó.\")\n",
        "\n",
        "\n",
        "# Ejemplo 3: Prueba de un fallo genérico del servidor\n",
        "def test_greeting_when_api_server_fails(requests_mock):\n",
        "    \"\"\"\n",
        "    Prueba la integración cuando la API devuelve un error 500.\n",
        "    \"\"\"\n",
        "    user_id = 2\n",
        "    # Mockeamos una respuesta de error 500 Internal Server Error\n",
        "    requests_mock.get(\n",
        "        f\"https://api.ejemplo.com/users/{user_id}\",\n",
        "        status_code=500\n",
        "    )\n",
        "\n",
        "    # Llamamos a la función de alto nivel\n",
        "    greeting = generate_user_greeting(user_id)\n",
        "\n",
        "    # Verificamos que se muestra el mensaje de error genérico\n",
        "    assert greeting == \"No se pudo contactar el servicio de usuarios en este momento.\"\n",
        "    print(\"[ÉXITO] test_greeting_when_api_server_fails pasó.\")"
      ]
    },
    {
      "cell_type": "markdown",
      "metadata": {},
      "source": [
        "**Paso 3: Ejecutar las pruebas con `pytest`**\n",
        "\n",
        "Ahora, le pedimos a `pytest` que ejecute las pruebas que acabamos de escribir en el archivo."
      ]
    },
    {
      "cell_type": "code",
      "execution_count": 1,
      "metadata": {},
      "outputs": [
        {
          "name": "stderr",
          "output_type": "stream",
          "text": [
            "\"pytest\" no se reconoce como un comando interno o externo,\n",
            "programa o archivo por lotes ejecutable.\n"
          ]
        }
      ],
      "source": [
        "# -q es para modo \"quiet\" (menos verboso)\n",
        "# El nombre del archivo le dice a pytest qué probar.\n",
        "!pytest -q test_integration_user_service.py\n",
        "\n",
        "# Salida esperada:\n",
        "# [ÉXITO] test_greeting_for_existing_user pasó.\n",
        "# [ÉXITO] test_greeting_for_nonexistent_user pasó.\n",
        "# [ÉXITO] test_greeting_when_api_server_fails pasó.\n",
        "# ...\n",
        "# 3 passed in ...s"
      ]
    },
    {
      "cell_type": "markdown",
      "metadata": {},
      "source": [
        "# 6.  **Ejercicio Práctico**\n"
      ]
    },
    {
      "cell_type": "markdown",
      "metadata": {},
      "source": [
        "# 7.  **Conexión con Otros Temas**\n"
      ]
    },
    {
      "cell_type": "markdown",
      "metadata": {},
      "source": [
        "*   **Conceptos Previos:**\n",
        "    *   **Pruebas Unitarias:** Deberías sentirte cómodo probando una función de forma aislada. La integración es el siguiente nivel.\n",
        "    *   **Manejo de Excepciones (`try...except`):** Es fundamental para poder manejar los errores que pueden ocurrir en la comunicación entre componentes (como vimos en el ejemplo del 404).\n",
        "    *   **APIs y HTTP:** Entender qué son las peticiones `GET` y los códigos de estado (200, 404, 500) es clave para saber qué simular.\n",
        "\n",
        "*   **Temas Futuros:**\n",
        "    *   **Pruebas End-to-End (E2E):** Después de las pruebas de integración, el siguiente paso es probar la aplicación completa, con una base de datos real y, a veces, incluso APIs reales (en un entorno de staging).\n",
        "    *   **Integración Continua (CI):** Estas pruebas de integración son perfectas para ejecutarse automáticamente en un pipeline de CI/CD (como GitHub Actions) cada vez que subes nuevo código, asegurando que no has roto ninguna integración existente.\n",
        "    *   **Mocking Avanzado (`unittest.mock`):** `requests-mock` es específico para `requests`. Para simular cualquier objeto o función en Python (no solo llamadas HTTP), usarás la biblioteca estándar `unittest.mock`.\n"
      ]
    },
    {
      "cell_type": "markdown",
      "metadata": {},
      "source": [
        "# 8.  **Aplicaciones en el Mundo Real**\n"
      ]
    },
    {
      "cell_type": "markdown",
      "metadata": {},
      "source": [
        "1.  **Microservicios:** En una arquitectura de microservicios, un servicio A a menudo necesita llamar a la API de un servicio B. Las pruebas de integración ligera son perfectas para probar que el servicio A maneja correctamente las respuestas (tanto de éxito como de error) del servicio B, sin necesidad de levantar toda la infraestructura de microservicios para la prueba.\n",
        "\n",
        "2.  **Integración con Pasarelas de Pago (Stripe, PayPal):** Cuando desarrollas un e-commerce, necesitas probar tu lógica de \"crear pago\", \"confirmar pago\" y \"manejar pago fallido\". En lugar de hacer transacciones reales con tu tarjeta de crédito para cada prueba, mockeas la API de Stripe para que devuelva las respuestas que necesitas y así probar que tu sistema actualiza el estado del pedido correctamente en cada caso."
      ]
    }
  ],
  "metadata": {
    "kernelspec": {
      "display_name": ".venv",
      "language": "python",
      "name": "python3"
    },
    "language_info": {
      "codemirror_mode": {
        "name": "ipython",
        "version": 3
      },
      "file_extension": ".py",
      "mimetype": "text/x-python",
      "name": "python",
      "nbconvert_exporter": "python",
      "pygments_lexer": "ipython3",
      "version": "3.13.3"
    }
  },
  "nbformat": 4,
  "nbformat_minor": 2
}
