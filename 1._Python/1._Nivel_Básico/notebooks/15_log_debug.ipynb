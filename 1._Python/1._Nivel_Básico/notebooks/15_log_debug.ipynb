{
  "cells": [
    {
      "cell_type": "markdown",
      "metadata": {},
      "source": [
        "# 1.  **Título del Tema**\n"
      ]
    },
    {
      "cell_type": "markdown",
      "metadata": {},
      "source": [
        "**Registro y Depuración en Python: Dominando `logging` y `pdb`**"
      ]
    },
    {
      "cell_type": "markdown",
      "metadata": {},
      "source": [
        "# 2.  **Explicación Conceptual Detallada**\n"
      ]
    },
    {
      "cell_type": "markdown",
      "metadata": {},
      "source": [
        "##### **`logging`: El Registro de Eventos Profesional**\n",
        "\n",
        "*   **Definición y Propósito:** La librería `logging` es el módulo estándar de Python para emitir mensajes de registro desde tus aplicaciones. Su propósito es permitirte rastrear eventos que ocurren mientras se ejecuta tu programa."
      ]
    },
    {
      "cell_type": "markdown",
      "metadata": {},
      "source": [
        "*   **¿Por qué no usar `print()`?**\n",
        "    *   **Control de Nivel:** `print()` siempre imprime. Con `logging`, puedes establecer \"niveles de severidad\" (DEBUG, INFO, WARNING, ERROR, CRITICAL). En producción, quizás solo quieras ver los `ERROR`, pero durante el desarrollo, querrás ver los `DEBUG`.\n",
        "    *   **Flexibilidad de Salida:** Puedes configurar `logging` para que envíe los mensajes a la consola, a un archivo, a través de la red, por email, etc., ¡todo sin cambiar el código de tu aplicación!\n",
        "    *   **Formato Consistente:** Puedes definir un formato para todos tus mensajes (ej: `[Timestamp] - [Nivel] - [Mensaje]`), lo que hace que los registros sean mucho más fáciles de leer y analizar."
      ]
    },
    {
      "cell_type": "markdown",
      "metadata": {},
      "source": [
        "*   **Conceptos Clave:**\n",
        "    *   **Levels (Niveles):** Indican la gravedad del evento. De menor a mayor:\n",
        "        1.  `DEBUG`: Información detallada, útil solo para diagnosticar problemas.\n",
        "        2.  `INFO`: Confirmación de que las cosas funcionan como se esperaba.\n",
        "        3.  `WARNING` (Predeterminado): Algo inesperado ocurrió, pero el software sigue funcionando.\n",
        "        4.  `ERROR`: Un problema más serio, el software no pudo realizar alguna función.\n",
        "        5.  `CRITICAL`: Un error grave, el programa podría ser incapaz de continuar ejecutándose.\n",
        "    *   **Logger:** El objeto a través del cual tu código emite mensajes.\n",
        "    *   **Handler:** El componente que envía los registros al destino apropiado (consola, archivo, etc.).\n",
        "    *   **Formatter:** Especifica el formato de tus mensajes de registro."
      ]
    },
    {
      "cell_type": "markdown",
      "metadata": {},
      "source": [
        "*   **Buenas Prácticas:**\n",
        "    *   Usa `logging.info()` para eventos de rutina.\n",
        "    *   Usa `logging.warning()` para problemas que no son errores pero que deberían ser revisados.\n",
        "    *   Usa `logging.error()` o `logging.exception()` dentro de los bloques `except` para registrar errores que has capturado.\n"
      ]
    },
    {
      "cell_type": "markdown",
      "metadata": {},
      "source": [
        "##### **`pdb`: El Depurador Interactivo de Python**"
      ]
    },
    {
      "cell_type": "markdown",
      "metadata": {},
      "source": [
        "*   **Definición y Propósito:** `pdb` (Python DeBugger) es una herramienta que te permite detener la ejecución de tu código en un punto específico e inspeccionar el estado del programa de forma interactiva."
      ]
    },
    {
      "cell_type": "markdown",
      "metadata": {},
      "source": [
        "*   **¿Cuándo y por qué se utiliza?** Se usa cuando un error es difícil de rastrear. Por ejemplo, una variable tiene un valor incorrecto en medio de un bucle complejo, o no entiendes por qué una condición `if` se evalúa como `True`. En lugar de llenar tu código de `print()` para ver los valores, puedes pausarlo y explorarlo libremente."
      ]
    },
    {
      "cell_type": "markdown",
      "metadata": {},
      "source": [
        "*   **¿Cómo funciona?**\n",
        "    1.  Colocas un \"punto de ruptura\" (breakpoint) en tu código con `pdb.set_trace()`.\n",
        "    2.  Cuando el intérprete de Python llega a esa línea, la ejecución se detiene.\n",
        "    3.  Se te presenta un prompt `(Pdb)` en la consola (o en la salida de la celda de Jupyter).\n",
        "    4.  Desde este prompt, puedes ejecutar comandos para examinar y controlar el flujo del programa."
      ]
    },
    {
      "cell_type": "markdown",
      "metadata": {},
      "source": [
        "*   **Comandos `pdb` más comunes:**\n",
        "    *   `l(ist)`: Muestra el código alrededor de la línea actual.\n",
        "    *   `n(ext)`: Ejecuta la línea actual y pasa a la siguiente.\n",
        "    *   `s(tep)`: Ejecuta la línea actual y, si es una llamada a una función, *entra* en esa función para depurarla.\n",
        "    *   `c(ontinue)`: Continúa la ejecución normal hasta que se encuentre otro punto de ruptura o el programa termine.\n",
        "    *   `p <variable>`: Imprime el valor de la variable. (Ej: `p mi_lista`).\n",
        "    *   `q(uit)`: Detiene la depuración y finaliza el programa."
      ]
    },
    {
      "cell_type": "markdown",
      "metadata": {},
      "source": [
        "*   **Buenas Prácticas:**\n",
        "    *   Usa `pdb` para entender flujos complejos o errores difíciles de replicar.\n",
        "    *   ¡Recuerda quitar los `pdb.set_trace()` de tu código antes de enviarlo a producción! Dejarlo es un error de seguridad y funcionalidad."
      ]
    },
    {
      "cell_type": "markdown",
      "metadata": {},
      "source": [
        "# 3.  **Sintaxis y Ejemplos Básicos**\n"
      ]
    },
    {
      "cell_type": "markdown",
      "metadata": {},
      "source": [
        "#### `logging` Básico"
      ]
    },
    {
      "cell_type": "code",
      "execution_count": 2,
      "metadata": {},
      "outputs": [
        {
          "name": "stderr",
          "output_type": "stream",
          "text": [
            "INFO: El programa ha comenzado.\n",
            "WARNING: La configuración externa no se encontró, usando valores por defecto.\n",
            "ERROR: No se pudo conectar a la base de datos.\n",
            "CRITICAL: Fallo catastrófico. El sistema se detendrá.\n"
          ]
        }
      ],
      "source": [
        "import logging\n",
        "\n",
        "# Configuración básica y muy simple.\n",
        "# level=logging.INFO significa que se mostrarán los mensajes INFO y los de mayor nivel (WARNING, ERROR, CRITICAL).\n",
        "# Los mensajes DEBUG serán ignorados.\n",
        "logging.basicConfig(level=logging.INFO, format='%(levelname)s: %(message)s')\n",
        "\n",
        "logging.debug(\"Este mensaje no se mostrará.\")\n",
        "logging.info(\"El programa ha comenzado.\")\n",
        "logging.warning(\"La configuración externa no se encontró, usando valores por defecto.\")\n",
        "logging.error(\"No se pudo conectar a la base de datos.\")\n",
        "logging.critical(\"Fallo catastrófico. El sistema se detendrá.\")"
      ]
    },
    {
      "cell_type": "markdown",
      "metadata": {},
      "source": [
        "#### `pdb` Básico"
      ]
    },
    {
      "cell_type": "code",
      "execution_count": 5,
      "metadata": {},
      "outputs": [
        {
          "name": "stdout",
          "output_type": "stream",
          "text": [
            "Punto de interrupción antes de la comprobación.\n",
            "> \u001b[32mc:\\users\\nicolás\\appdata\\local\\temp\\ipykernel_40400\\3241881271.py\u001b[39m(\u001b[92m7\u001b[39m)\u001b[36mcalcular_suma_con_error\u001b[39m\u001b[34m()\u001b[39m\n",
            "\n",
            "2\n",
            "2\n",
            "4\n",
            "6\n",
            "El resultado es mayor que 5.\n",
            "La suma final es: 6\n"
          ]
        }
      ],
      "source": [
        "import pdb\n",
        "\n",
        "def calcular_suma_con_error(a, b):\n",
        "    resultado = a + b\n",
        "    print(\"Punto de interrupción antes de la comprobación.\")\n",
        "    # Aquí es donde el código se detendrá.\n",
        "    pdb.set_trace() \n",
        "    if resultado > 5:\n",
        "        print(\"El resultado es mayor que 5.\")\n",
        "    return resultado\n",
        "\n",
        "# Al ejecutar esta celda, la ejecución se pausará.\n",
        "# En la salida de la celda, aparecerá un prompt (Pdb).\n",
        "# Prueba a escribir 'p a', luego 'p b', luego 'p resultado' y pulsa Enter.\n",
        "# Finalmente, escribe 'c' y pulsa Enter para continuar.\n",
        "suma_final = calcular_suma_con_error(2, 4)\n",
        "print(f\"La suma final es: {suma_final}\")"
      ]
    },
    {
      "cell_type": "markdown",
      "metadata": {},
      "source": [
        "# 4.  **Documentación y Recursos Clave**\n"
      ]
    },
    {
      "cell_type": "markdown",
      "metadata": {},
      "source": [
        "*   **Documentación Oficial:**\n",
        "    *   [Módulo `logging` - Documentación de Python](https://docs.python.org/es/3/library/logging.html)\n",
        "    *   [Módulo `pdb` - Documentación de Python](https://docs.python.org/es/3/library/pdb.html)\n",
        "*   **Recurso Externo de Alta Calidad:**\n",
        "    *   [Logging in Python (Real Python)](https://realpython.com/python-logging/): Un tutorial muy completo y práctico sobre `logging`."
      ]
    },
    {
      "cell_type": "markdown",
      "metadata": {},
      "source": [
        "# 5.  **Ejemplos de Código Prácticos**\n"
      ]
    },
    {
      "cell_type": "markdown",
      "metadata": {},
      "source": [
        "#### Ejemplo 1: Logging a un Archivo con Formato Personalizado"
      ]
    },
    {
      "cell_type": "markdown",
      "metadata": {},
      "source": [
        "Este es un caso de uso muy común: quieres guardar un registro persistente de lo que hizo tu script."
      ]
    },
    {
      "cell_type": "code",
      "execution_count": 13,
      "metadata": {},
      "outputs": [
        {
          "name": "stdout",
          "output_type": "stream",
          "text": [
            "--- Contenido del archivo 'app_activity.log' ---\n",
            "2025-06-24 22:46:56 - __main__ - INFO - Iniciando el procesamiento de 6 elementos.\n",
            "2025-06-24 22:46:56 - __main__ - WARNING - Elemento en el índice 2 es negativo (-5). Se ignorará.\n",
            "2025-06-24 22:46:56 - __main__ - WARNING - Elemento en el índice 4 es negativo (-15). Se ignorará.\n",
            "2025-06-24 22:46:56 - __main__ - INFO - Procesamiento completado. Total: 100\n",
            "\n"
          ]
        }
      ],
      "source": [
        "import logging\n",
        "import os\n",
        "\n",
        "# Nombre del archivo de log\n",
        "LOG_FILE = \"app_activity.log\"\n",
        "\n",
        "# Si el archivo ya existe, lo eliminamos para tener un log limpio en cada ejecución\n",
        "# if os.path.exists(LOG_FILE):\n",
        "#     os.remove(LOG_FILE)\n",
        "\n",
        "# 1. Configurar el logging para que escriba en un archivo\n",
        "# filemode='w' significa que el archivo se abre en modo escritura (se sobrescribe cada vez)\n",
        "# format=... define cómo se verá cada línea del log\n",
        "logging.basicConfig(\n",
        "    level=logging.INFO,\n",
        "    format='%(asctime)s - %(name)s - %(levelname)s - %(message)s',\n",
        "    datefmt='%Y-%m-%d %H:%M:%S',\n",
        "    filename=\"app_activity.log\",\n",
        "    filemode='w',\n",
        "    force=True \n",
        ")\n",
        "\n",
        "# 2. Crear un logger específico para nuestro módulo (buena práctica)\n",
        "logger = logging.getLogger(__name__)\n",
        "\n",
        "def procesar_datos(data):\n",
        "    \"\"\"Procesa una lista de números.\"\"\"\n",
        "    logger.info(f\"Iniciando el procesamiento de {len(data)} elementos.\")\n",
        "    total = 0\n",
        "    for i, item in enumerate(data):\n",
        "        if item < 0:\n",
        "            logger.warning(f\"Elemento en el índice {i} es negativo ({item}). Se ignorará.\")\n",
        "            continue\n",
        "        total += item\n",
        "    logger.info(f\"Procesamiento completado. Total: {total}\")\n",
        "    return total\n",
        "\n",
        "# Ejecutamos la función\n",
        "datos = [10, 20, -5, 30, -15, 40]\n",
        "procesar_datos(datos)\n",
        "\n",
        "# 3. Leemos y mostramos el contenido del archivo de log para verificar\n",
        "print(f\"--- Contenido del archivo 'app_activity.log' ---\")\n",
        "with open(\"app_activity.log\", 'r') as f:\n",
        "    print(f.read())"
      ]
    },
    {
      "cell_type": "markdown",
      "metadata": {},
      "source": [
        "#### Ejemplo 2: Depurando un Bucle con `pdb`"
      ]
    },
    {
      "cell_type": "markdown",
      "metadata": {},
      "source": [
        "Imagina que una función no devuelve el resultado esperado y no sabes por qué."
      ]
    },
    {
      "cell_type": "code",
      "execution_count": 16,
      "metadata": {},
      "outputs": [
        {
          "name": "stdout",
          "output_type": "stream",
          "text": [
            "> \u001b[32mc:\\users\\nicolás\\appdata\\local\\temp\\ipykernel_40400\\584187397.py\u001b[39m(\u001b[92m13\u001b[39m)\u001b[36mencontrar_producto_problematico\u001b[39m\u001b[34m()\u001b[39m\n",
            "\n",
            "> \u001b[32mc:\\users\\nicolás\\appdata\\local\\temp\\ipykernel_40400\\584187397.py\u001b[39m(\u001b[92m13\u001b[39m)\u001b[36mencontrar_producto_problematico\u001b[39m\u001b[34m()\u001b[39m\n",
            "\n",
            "> \u001b[32mc:\\users\\nicolás\\appdata\\local\\temp\\ipykernel_40400\\584187397.py\u001b[39m(\u001b[92m13\u001b[39m)\u001b[36mencontrar_producto_problematico\u001b[39m\u001b[34m()\u001b[39m\n",
            "\n",
            "> \u001b[32mc:\\users\\nicolás\\appdata\\local\\temp\\ipykernel_40400\\584187397.py\u001b[39m(\u001b[92m13\u001b[39m)\u001b[36mencontrar_producto_problematico\u001b[39m\u001b[34m()\u001b[39m\n",
            "\n",
            "El resultado final es: 6666666666666666666666666666666666666666666666666666666666666666\n"
          ]
        }
      ],
      "source": [
        "import pdb\n",
        "\n",
        "def encontrar_producto_problematico(items):\n",
        "    \"\"\"\n",
        "    Esta función debería multiplicar todos los números de una lista,\n",
        "    pero tiene un error sutil.\n",
        "    \"\"\"\n",
        "    producto_acumulado = 1 # El error está aquí, ¿qué pasa si la lista está vacía?\n",
        "                           # Pero vamos a depurar un error de ejecución.\n",
        "    \n",
        "    for item in items:\n",
        "        # ¡Queremos inspeccionar qué pasa justo antes de la multiplicación!\n",
        "        pdb.set_trace()\n",
        "        \n",
        "        # El programa se detendrá aquí en cada iteración.\n",
        "        # En el prompt (Pdb) puedes escribir:\n",
        "        # 'p item' -> para ver el valor actual del item\n",
        "        # 'p producto_acumulado' -> para ver el valor del acumulador\n",
        "        # 'n' -> para pasar a la siguiente línea\n",
        "        # 'c' -> para continuar hasta la siguiente iteración (o el final)\n",
        "        \n",
        "        producto_acumulado *= item\n",
        "        \n",
        "    return producto_acumulado\n",
        "\n",
        "# Lista de prueba con un tipo de dato incorrecto\n",
        "lista_items = [2, 4, '6', 8]\n",
        "\n",
        "try:\n",
        "    resultado = encontrar_producto_problematico(lista_items)\n",
        "    print(f\"El resultado final es: {resultado}\")\n",
        "except TypeError as e:\n",
        "    print(f\"\\nOcurrió un error: {e}\")\n",
        "    print(\"La depuración debería haberte ayudado a ver qué 'item' causó el problema.\")"
      ]
    },
    {
      "cell_type": "markdown",
      "metadata": {},
      "source": [
        "Al ejecutar esta celda, en la tercera iteración del bucle, `pdb` te permitirá ver que `item` es la cadena `'6'` y `producto_acumulado` es un entero `8`. La siguiente línea (`n`) intentará ejecutar `8 * '6'`, lo cual causa un `TypeError`. ¡El depurador te permite \"ver\" el problema justo antes de que ocurra!"
      ]
    },
    {
      "cell_type": "markdown",
      "metadata": {},
      "source": [
        "#### Ejemplo 3: Depuración post-mortem con `%debug` en Jupyter"
      ]
    },
    {
      "cell_type": "markdown",
      "metadata": {},
      "source": [
        "A veces un error ocurre y no tenías un punto de ruptura. Jupyter tiene una \"magic command\" para esto."
      ]
    },
    {
      "cell_type": "code",
      "execution_count": 17,
      "metadata": {},
      "outputs": [
        {
          "ename": "ZeroDivisionError",
          "evalue": "division by zero",
          "output_type": "error",
          "traceback": [
            "\u001b[31m---------------------------------------------------------------------------\u001b[39m",
            "\u001b[31mZeroDivisionError\u001b[39m                         Traceback (most recent call last)",
            "\u001b[36mCell\u001b[39m\u001b[36m \u001b[39m\u001b[32mIn[17]\u001b[39m\u001b[32m, line 7\u001b[39m\n\u001b[32m      4\u001b[39m     \u001b[38;5;28;01mreturn\u001b[39;00m resultado\n\u001b[32m      6\u001b[39m \u001b[38;5;66;03m# Llamamos a la función con un valor que causará un error\u001b[39;00m\n\u001b[32m----> \u001b[39m\u001b[32m7\u001b[39m \u001b[43mdivision_peligrosa\u001b[49m\u001b[43m(\u001b[49m\u001b[32;43m10\u001b[39;49m\u001b[43m,\u001b[49m\u001b[43m \u001b[49m\u001b[32;43m0\u001b[39;49m\u001b[43m)\u001b[49m\n",
            "\u001b[36mCell\u001b[39m\u001b[36m \u001b[39m\u001b[32mIn[17]\u001b[39m\u001b[32m, line 3\u001b[39m, in \u001b[36mdivision_peligrosa\u001b[39m\u001b[34m(a, b)\u001b[39m\n\u001b[32m      1\u001b[39m \u001b[38;5;28;01mdef\u001b[39;00m\u001b[38;5;250m \u001b[39m\u001b[34mdivision_peligrosa\u001b[39m(a, b):\n\u001b[32m      2\u001b[39m     \u001b[38;5;66;03m# Esta función fallará si b es cero\u001b[39;00m\n\u001b[32m----> \u001b[39m\u001b[32m3\u001b[39m     resultado = \u001b[43ma\u001b[49m\u001b[43m \u001b[49m\u001b[43m/\u001b[49m\u001b[43m \u001b[49m\u001b[43mb\u001b[49m\n\u001b[32m      4\u001b[39m     \u001b[38;5;28;01mreturn\u001b[39;00m resultado\n",
            "\u001b[31mZeroDivisionError\u001b[39m: division by zero"
          ]
        }
      ],
      "source": [
        "def division_peligrosa(a, b):\n",
        "    # Esta función fallará si b es cero\n",
        "    resultado = a / b\n",
        "    return resultado\n",
        "\n",
        "# Llamamos a la función con un valor que causará un error\n",
        "division_peligrosa(10, 0)"
      ]
    },
    {
      "cell_type": "code",
      "execution_count": 18,
      "metadata": {},
      "outputs": [
        {
          "name": "stdout",
          "output_type": "stream",
          "text": [
            "> \u001b[32mc:\\users\\nicolás\\appdata\\local\\temp\\ipykernel_40400\\561675530.py\u001b[39m(\u001b[92m3\u001b[39m)\u001b[36mdivision_peligrosa\u001b[39m\u001b[34m()\u001b[39m\n",
            "\n",
            "10\n",
            "10\n",
            "10\n",
            "0\n"
          ]
        }
      ],
      "source": [
        "%debug"
      ]
    },
    {
      "cell_type": "markdown",
      "metadata": {},
      "source": [
        "# 6.  **Ejercicio Práctico**\n"
      ]
    },
    {
      "cell_type": "markdown",
      "metadata": {},
      "source": [
        "Tienes una función que procesa los registros de ventas de una pequeña tienda. Cada registro es un diccionario. La función debe calcular el ingreso total, pero también debe registrar advertencias si encuentra datos inválidos y omitirlos del cálculo.\n",
        "\n",
        "Tu función actual tiene un bug: el total calculado es incorrecto.\n",
        "\n",
        "**Tu Tarea:**\n",
        "1.  **Añade `logging`** a la función `calcular_ingresos` para:\n",
        "    *   Registrar un mensaje `INFO` al inicio y al final del procesamiento.\n",
        "    *   Registrar un mensaje `WARNING` cada vez que se encuentre un producto sin la clave `'precio'` o con un precio no numérico.\n",
        "    *   Registrar un mensaje `ERROR` si un precio es negativo, ya que esto indica un problema de datos grave.\n",
        "2.  **Usa `pdb.set_trace()`** dentro del bucle para descubrir por qué el cálculo del `total` es incorrecto.\n",
        "\n",
        "Aquí está el código base:\n",
        "\n",
        "```python\n",
        "# Código para el ejercicio\n",
        "import logging\n",
        "\n",
        "# Configura el logging como prefieras (a la consola o a un archivo)\n",
        "\n",
        "ventas = [\n",
        "    {'producto': 'manzana', 'precio': 0.5, 'cantidad': 10},\n",
        "    {'producto': 'naranja', 'precio': 0.7, 'cantidad': 8},\n",
        "    {'producto': 'leche', 'cantidad': 2}, # Falta el precio\n",
        "    {'producto': 'pan', 'precio': '2.0', 'cantidad': 1}, # El precio es un string\n",
        "    {'producto': 'error_datos', 'precio': -5, 'cantidad': 1}, # Precio negativo\n",
        "]\n",
        "\n",
        "def calcular_ingresos(lista_ventas):\n",
        "    total = 0\n",
        "    # logging.info(\"Iniciando cálculo de ingresos...\")\n",
        "    \n",
        "    for venta in lista_ventas:\n",
        "        # --- PISTA: El problema está en la lógica de esta sección ---\n",
        "        # Coloca aquí tu pdb.set_trace() para inspeccionar\n",
        "        if 'precio' in venta and isinstance(venta['precio'], (int, float)):\n",
        "             # ¿Qué pasa con los precios negativos? ¿Y los strings?\n",
        "             # ¿Cómo se actualiza el 'total'?\n",
        "            ingreso_item = venta['precio'] * venta['cantidad']\n",
        "            total = ingreso_item # ¡Esto parece sospechoso!\n",
        "        else:\n",
        "            # Aquí iría el logging de advertencia\n",
        "            pass\n",
        "            \n",
        "    # logging.info(f\"Cálculo finalizado. Ingreso total: {total}\")\n",
        "    return total\n",
        "\n",
        "ingreso_final = calcular_ingresos(ventas)\n",
        "print(f\"El ingreso total calculado es: {ingreso_final}\")\n",
        "# El resultado debería ser 12.6 (5.0 + 5.6 + 2.0). Los registros con errores se ignoran.\n",
        "# ¿Por qué el código actual da un resultado diferente?\n",
        "```\n",
        "**Pista sutil:** Observa con atención cómo se actualiza la variable `total` en cada iteración del bucle. ¿Acumula los valores o los reemplaza?"
      ]
    },
    {
      "cell_type": "code",
      "execution_count": 2,
      "metadata": {},
      "outputs": [
        {
          "name": "stdout",
          "output_type": "stream",
          "text": [
            "El ingreso total calculado es: 10.6\n",
            "--- Contenido del archivo 'app_activity.log' ---\n",
            "\u0000\u0000\u0000\u0000\u0000\u0000\u0000\u0000\u0000\u0000\u0000\u0000\u0000\u0000\u0000\u0000\u0000\u0000\u0000\u0000\u0000\u0000\u0000\u0000\u0000\u0000\u0000\u0000\u0000\u0000\u0000\u0000\u0000\u0000\u0000\u0000\u0000\u0000\u0000\u0000\u0000\u0000\u0000\u0000\u0000\u0000\u0000\u0000\u0000\u0000\u0000\u0000\u0000\u0000\u0000\u0000\u0000\u0000\u0000\u0000\u0000\u0000\u0000\u0000\u0000\u0000\u0000\u0000\u0000\u0000\u0000\u0000\u0000\u0000\u0000\u0000\u0000\u0000\u0000\u0000\u0000\u0000\u0000\u0000\u0000\u0000\u0000\u0000\u0000\u0000\u0000\u0000\u0000\u0000\u0000\u0000\u0000\u0000\u0000\u0000\u0000\u0000\u0000\u0000\u0000\u0000\u0000\u0000\u0000\u0000\u0000\u0000\u0000\u0000\u0000\u0000\u0000\u0000\u0000\u0000\u0000\u0000\u0000\u0000\u0000\u0000\u0000\u0000\u0000\u0000\u0000\u0000\u0000\u0000\u0000\u0000\u0000\u0000\u0000\u0000\u0000\u0000\u0000\u0000\u0000\u0000\u0000\u0000\u0000\u0000\u0000\u0000\u0000\u0000\u0000\u0000\u0000\u0000\u0000\u0000\u0000\u0000\u0000\u0000\u0000\u0000\u0000\u0000\u0000\u0000\u0000\u0000\u0000\u0000\u0000\u0000\u0000\u0000\u0000\u0000\u0000\u0000\u0000\u0000\u0000\u0000\u0000\u0000\u0000\u0000\u0000\u0000\u0000\u0000\u0000\u0000\u0000\u0000\u0000\u0000\u0000\u0000\u0000\u0000\u0000\u0000\u0000\u0000\u0000\u0000\u0000\u0000\u0000\u0000\u0000\u0000\u0000\u0000\u0000\u0000\u0000\u0000\u0000\u0000\u0000\u0000\u0000\u0000\u0000\u0000\u0000\u0000\u0000\u0000\u0000\u0000\u0000\u0000\u0000\u0000\u0000\u0000\u0000\u0000\u0000\u0000\u0000\u0000\u0000\u0000\u0000\u0000\u0000\u0000\u0000\u0000\u0000\u0000\u0000\u0000\u0000\u0000\u0000\u0000\u0000\u0000\u0000\u0000\u0000\u0000\u0000\u0000\u0000\u0000\u0000\u0000\u0000\u0000\u0000\u0000\u0000\u0000\u0000\u0000\u0000\u0000\u0000\u0000\u0000\u0000\u0000\u0000\u0000\u0000\u0000\u0000\u0000\u0000\u0000\u0000\u0000\u0000\u0000\u0000\u0000\u0000\u0000\u0000\u0000\u0000\u0000\u0000\u0000\u0000\u0000\u0000\u0000\u0000\u0000\u0000\u0000\u0000\u0000\u0000\u0000\u0000\u0000\u0000\u0000\u0000\u0000\u0000\u0000\u0000\u0000\u0000\u0000\u0000\u0000\u0000\u0000\u0000\u0000\u0000\u0000\u0000\u0000\u0000\u0000\u0000\u0000\u0000\u0000\u0000\u0000\u0000\u0000\u0000\u0000\u0000\u0000\u0000\u0000\u0000\u0000\u0000\u0000\u0000\u0000\u0000\u0000\u0000\u0000\u0000\u0000\u0000\u0000\u0000\u0000\u0000\u0000\u0000\u0000\u0000\u0000\u0000\u0000\u0000\u0000\u0000\u0000\u0000\u0000\u0000\u0000\u0000\u0000\u0000\u0000\u0000\u0000\u0000\u0000\u0000\u0000\u0000\u0000\u0000\u0000\u0000\u0000\u0000\u0000\u0000\u0000\u0000\u0000\u0000\u0000\u0000\u0000\u0000\u0000\u0000\u0000\u0000\u0000\u0000\u0000\u0000\u0000\u0000\u0000\u0000\u0000\u0000\u0000\u0000\u00002025-06-25 00:18:36 - __main__ - INFO - Iniciando el cálculo de ingresos de ventas\n",
            "2025-06-25 00:18:36 - __main__ - WARNING - Producto: leche no tiene un precio!\n",
            "2025-06-25 00:18:36 - __main__ - WARNING - Producto: pan tiene un tipo de precio incorrecto, precio: 2.0, <class 'str'>\n",
            "2025-06-25 00:18:36 - __main__ - ERROR - Producto: error_datos tiene precio negativo!\n",
            "2025-06-25 00:18:36 - __main__ - INFO - Cálculo finalizado. Ingreso total: 10.6\n",
            "\n"
          ]
        }
      ],
      "source": [
        "import logging\n",
        "\n",
        "LOG_FILE = \"app_activity.log\"\n",
        "\n",
        "# Configura el logging como prefieras (a la consola o a un archivo)\n",
        "logging.basicConfig(\n",
        "    level=logging.INFO,\n",
        "    format='%(asctime)s - %(name)s - %(levelname)s - %(message)s',\n",
        "    datefmt='%Y-%m-%d %H:%M:%S',\n",
        "    filename=LOG_FILE,\n",
        "    filemode='w',\n",
        "    encoding='utf-8'\n",
        ")\n",
        "logger = logging.getLogger(__name__)\n",
        "\n",
        "ventas = [\n",
        "    {'producto': 'manzana', 'precio': 0.5, 'cantidad': 10},\n",
        "    {'producto': 'naranja', 'precio': 0.7, 'cantidad': 8},\n",
        "    {'producto': 'leche', 'cantidad': 2}, # Falta el precio\n",
        "    {'producto': 'pan', 'precio': '2.0', 'cantidad': 1}, # El precio es un string\n",
        "    {'producto': 'error_datos', 'precio': -5, 'cantidad': 1}, # Precio negativo\n",
        "]\n",
        "\n",
        "def calcular_ingresos(lista_ventas):\n",
        "    total = 0\n",
        "    logger.info(\"Iniciando el cálculo de ingresos de ventas\")\n",
        "    \n",
        "    for venta in lista_ventas:\n",
        "        try:\n",
        "            # --- PISTA: El problema está en la lógica de esta sección ---\n",
        "            \n",
        "            if isinstance(venta['precio'], (int, float)) and venta['precio'] > 0:\n",
        "                # ¿Qué pasa con los precios negativos? ¿Y los strings?\n",
        "                # ¿Cómo se actualiza el 'total'?\n",
        "                ingreso_item = venta['precio'] * venta['cantidad']\n",
        "                # pdb.set_trace()\n",
        "                total += ingreso_item # ¡Esto parece sospechoso!\n",
        "                \n",
        "            elif isinstance(venta['precio'], (int, float)) and venta['precio'] < 0:\n",
        "                logger.error(f\"Producto: {venta[\"producto\"]} tiene precio negativo!\")\n",
        "                \n",
        "            else:\n",
        "                logger.warning(f\"Producto: {venta[\"producto\"]} tiene un tipo de precio incorrecto, precio: {venta['precio']}, {type(venta['precio'])}\")\n",
        "                pass\n",
        "        except KeyError:\n",
        "            logger.warning(f\"Producto: {venta[\"producto\"]} no tiene un precio!\")\n",
        "\n",
        "    logger.info(f\"Cálculo finalizado. Ingreso total: {total}\")\n",
        "    return total\n",
        "\n",
        "ingreso_final = calcular_ingresos(ventas)\n",
        "print(f\"El ingreso total calculado es: {ingreso_final}\")\n",
        "# El resultado debería ser 12.6 (5.0 + 5.6 + 2.0). Los registros con errores se ignoran.\n",
        "# ¿Por qué el código actual da un resultado diferente?\n",
        "\n",
        "print(f\"--- Contenido del archivo '{LOG_FILE}' ---\")\n",
        "with open(LOG_FILE, 'r', encoding='utf-8') as f:\n",
        "    print(f.read())"
      ]
    },
    {
      "cell_type": "markdown",
      "metadata": {},
      "source": [
        "# 7.  **Conexión con Otros Temas**\n"
      ]
    },
    {
      "cell_type": "markdown",
      "metadata": {},
      "source": [
        "# 8.  **Aplicaciones en el Mundo Real**\n"
      ]
    }
  ],
  "metadata": {
    "kernelspec": {
      "display_name": "Python 3",
      "language": "python",
      "name": "python3"
    },
    "language_info": {
      "codemirror_mode": {
        "name": "ipython",
        "version": 3
      },
      "file_extension": ".py",
      "mimetype": "text/x-python",
      "name": "python",
      "nbconvert_exporter": "python",
      "pygments_lexer": "ipython3",
      "version": "3.13.3"
    }
  },
  "nbformat": 4,
  "nbformat_minor": 2
}
