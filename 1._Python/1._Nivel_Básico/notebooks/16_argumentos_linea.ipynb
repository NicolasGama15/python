{
  "cells": [
    {
      "cell_type": "markdown",
      "metadata": {},
      "source": [
        "# 1.  **Título del Tema**\n"
      ]
    },
    {
      "cell_type": "markdown",
      "metadata": {},
      "source": [
        "**Argumentos de Línea de Comandos en Python con `argparse` y `click`**"
      ]
    },
    {
      "cell_type": "markdown",
      "metadata": {},
      "source": [
        "# 2.  **Explicación Conceptual Detallada**\n"
      ]
    },
    {
      "cell_type": "markdown",
      "metadata": {},
      "source": [
        "*   **¿Qué es?** Es el mecanismo para pasar datos a un script de Python desde la terminal (la \"línea de comandos\") en el momento de su ejecución. Estos datos controlan el comportamiento del script."
      ]
    },
    {
      "cell_type": "markdown",
      "metadata": {},
      "source": [
        "*   **¿Para qué se utiliza?** Para crear herramientas de software (conocidas como CLI - Command-Line Interfaces) que son:\n",
        "    *   **Automatizables:** Se pueden ejecutar desde otros scripts, en tareas programadas (cron jobs) o en pipelines de integración continua.\n",
        "    *   **Configurables:** Permiten cambiar parámetros clave (como rutas de archivos, umbrales numéricos, modos de operación) sin modificar el código fuente.\n",
        "    *   **Reutilizables:** Un mismo script puede realizar tareas ligeramente diferentes según los argumentos que reciba."
      ]
    },
    {
      "cell_type": "markdown",
      "metadata": {},
      "source": [
        "*   **Conceptos Clave:**\n",
        "    *   **Argumento Posicional:** Un valor que el script espera en un orden específico. Su significado está determinado por su posición. Ejemplo: `cp origen.txt destino.txt` (`origen.txt` es el primer argumento, `destino.txt` es el segundo).\n",
        "    *   **Argumento Opcional (o \"Flag\"):** Un valor que va precedido por un identificador, como `-o` o `--output`. El orden no suele importar. Pueden actuar como un interruptor (p. ej., `--verbose` para imprimir más información) o requerir un valor asociado (p. ej., `--output mi_archivo.csv`).\n"
      ]
    },
    {
      "cell_type": "markdown",
      "metadata": {},
      "source": [
        "*   **Librerías: `argparse` vs. `click`**\n",
        "    *   **`argparse`**: Es la librería estándar de Python. No necesitas instalar nada. Es muy potente y configurable, aunque puede ser un poco \"verbosa\" (requiere más código para configuraciones sencillas). Es fundamental conocerla.\n",
        "    *   **`click`**: Es una librería de terceros (`pip install click`). Es muy popular porque utiliza decoradores de Python para definir los comandos y opciones, lo que resulta en un código más limpio, legible y \"Pythónico\". A menudo es la preferida para crear CLIs complejas y agradables de usar."
      ]
    },
    {
      "cell_type": "markdown",
      "metadata": {},
      "source": [
        "*   **Ventajas y Limitaciones:**\n",
        "    *   **Ventajas:** Enorme flexibilidad, automatización, separación de la configuración y la lógica, generación automática de mensajes de ayuda (`--help`).\n",
        "    *   **Limitaciones:** Requiere que el usuario trabaje desde una terminal. No es una interfaz gráfica (GUI), por lo que puede ser menos intuitivo para usuarios no técnicos."
      ]
    },
    {
      "cell_type": "markdown",
      "metadata": {},
      "source": [
        "*   **Buenas Prácticas:**\n",
        "    *   Siempre proporciona mensajes de ayuda claros para tus argumentos.\n",
        "    *   Utiliza nombres descriptivos para tus argumentos (p. ej., `--input-file` en lugar de `-i`).\n",
        "    *   Establece valores por defecto (defaults) sensatos cuando sea posible.\n",
        "    *   Valida los tipos de datos de entrada (p. ej., asegúrate de que un número sea realmente un número)."
      ]
    },
    {
      "cell_type": "markdown",
      "metadata": {},
      "source": [
        "# 3.  **Sintaxis y Ejemplos Básicos**\n"
      ]
    },
    {
      "cell_type": "markdown",
      "metadata": {},
      "source": [
        "#### `argparse` (Librería Estándar)\n",
        "La estructura básica es:\n",
        "1.  Importar la librería.\n",
        "2.  Crear un `ArgumentParser`.\n",
        "3.  Añadir los argumentos que esperas con `add_argument()`.\n",
        "4.  Parsear los argumentos de la línea de comandos con `parse_args()`."
      ]
    },
    {
      "cell_type": "code",
      "execution_count": null,
      "metadata": {},
      "outputs": [],
      "source": [
        "# No ejecutes esto directamente en el notebook, es solo para mostrar la sintaxis.\n",
        "# El código para ejecutar estará en la sección 5.\n",
        "\n",
        "import argparse\n",
        "\n",
        "# 2. Crear el parser\n",
        "parser = argparse.ArgumentParser(description=\"Un script de ejemplo.\")\n",
        "\n",
        "# 3. Añadir argumentos\n",
        "# Argumento posicional\n",
        "parser.add_argument(\"nombre\", help=\"El nombre a saludar.\")\n",
        "# Argumento opcional\n",
        "parser.add_argument(\"-r\", \"--repeticiones\", type=int, default=1, help=\"Número de veces a saludar.\")\n",
        "\n",
        "# 4. Parsear los argumentos\n",
        "args = parser.parse_args()\n",
        "\n",
        "# Ahora puedes usar los argumentos en tu código\n",
        "# print(f\"Hola, {args.nombre}!\")\n",
        "# print(\"Repitiendo...\" * args.repeticiones)"
      ]
    },
    {
      "cell_type": "markdown",
      "metadata": {},
      "source": [
        "#### `click` (Librería de Terceros)\n",
        "La estructura se basa en decoradores sobre una función:\n",
        "1.  Importar la librería.\n",
        "2.  Usar los decoradores `@click.command()` y `@click.option()` o `@click.argument()` sobre la función principal.\n",
        "3.  Los argumentos de la línea de comandos se pasan como parámetros a la función."
      ]
    },
    {
      "cell_type": "code",
      "execution_count": null,
      "metadata": {},
      "outputs": [],
      "source": [
        "import click\n",
        "\n",
        "@click.command()\n",
        "@click.argument(\"nombre\")\n",
        "@click.option(\"--repeticiones\", \"-r\", default=1, help=\"Número de veces a saludar.\")\n",
        "def saludar(nombre, repeticiones):\n",
        "    \"\"\"Un script que saluda a alguien, hecho con Click.\"\"\"\n",
        "    click.echo(f\"Hola, {nombre}!\")\n",
        "    click.echo(\"Repitiendo...\" * repeticiones)\n",
        "\n",
        "# if __name__ == '__main__':\n",
        "#     saludar()"
      ]
    },
    {
      "cell_type": "markdown",
      "metadata": {},
      "source": [
        "# 4.  **Documentación y Recursos Clave**\n"
      ]
    },
    {
      "cell_type": "markdown",
      "metadata": {},
      "source": [
        "### 4. Documentación y Recursos Clave\n",
        "*   **Documentación Oficial `argparse`:** [https://docs.python.org/es/3/library/argparse.html](https://docs.python.org/es/3/library/argparse.html)\n",
        "*   **Documentación Oficial `click`:** [https://click.palletsprojects.com/](https://click.palletsprojects.com/)\n",
        "*   **Recurso Externo:** [Real Python: Python Command-Line Arguments](https://realpython.com/python-command-line-arguments/) (Un excelente tutorial que cubre `sys.argv`, `getopt` y `argparse`)."
      ]
    },
    {
      "cell_type": "markdown",
      "metadata": {},
      "source": [
        "# 5.  **Ejemplos de Código Prácticos**\n"
      ]
    },
    {
      "cell_type": "markdown",
      "metadata": {},
      "source": [
        "Para simular la ejecución desde la línea de comandos en Jupyter, usaremos un \"comando mágico\": `%%writefile`. Este comando escribe el contenido de una celda a un archivo. Luego, usaremos `!python nombre_del_archivo.py ...` para ejecutarlo como si estuviéramos en una terminal."
      ]
    },
    {
      "cell_type": "markdown",
      "metadata": {},
      "source": [
        "#### Ejemplo 1: `argparse` - Saludo Personalizado"
      ]
    },
    {
      "cell_type": "markdown",
      "metadata": {},
      "source": [
        "1.  **Escribir el script en un archivo `saludador.py`:**"
      ]
    },
    {
      "cell_type": "code",
      "execution_count": null,
      "metadata": {},
      "outputs": [
        {
          "name": "stdout",
          "output_type": "stream",
          "text": [
            "Overwriting saludador.py\n"
          ]
        }
      ],
      "source": [
        "%%writefile saludador.py\n",
        "\n",
        "import argparse\n",
        "import sys\n",
        "\n",
        "# 1. Creamos el parser con una descripción de lo que hace el script.\n",
        "# Esta descripción aparecerá en el mensaje de ayuda.\n",
        "parser = argparse.ArgumentParser(description=\"Un script que saluda a alguien de forma personalizada.\")\n",
        "\n",
        "# 2. Añadimos un argumento POSICIONAL.\n",
        "# Es obligatorio porque no empieza con '-' o '--'.\n",
        "parser.add_argument(\"nombre\", type=str, help=\"El nombre de la persona a saludar.\")\n",
        "\n",
        "# 3. Añadimos un argumento OPCIONAL.\n",
        "# Tiene un nombre corto (-v) y uno largo (--verbose).\n",
        "# 'action=\"store_true\"' significa que si la bandera está presente, el valor es True. No espera un valor adicional.\n",
        "parser.add_argument(\"-v\", \"-o-verbse\", action=\"store_true\", help=\"Activa el modo verboso para más detalles.\")\n",
        "\n",
        "# 4. Añadimos otro argumento OPCIONAL que espera un valor.\n",
        "# 'type=int' convierte automáticamente la entrada a un entero.\n",
        "# 'default=1' establece un valor por defecto si no se proporciona.\n",
        "parser.add_argument(\"-r\", \"--repeticiones\", type=int, default=1, help=\"Número de veces que se repite el saludo.\")\n",
        "\n",
        "\n",
        "# Si no se pasan argumentos, muestra la ayuda y sale.\n",
        "# Esto es útil para que el script no falle si se ejecuta sin nada.\n",
        "if len(sys.argv) == 1:\n",
        "    parser.print_help(sys.stderr)\n",
        "    sys.exit(1)\n",
        "    \n",
        "# 5. Parseamos los argumentos que llegaron desde la línea de comandos.\n",
        "args = parser.parse_args()\n",
        "\n",
        "# 6. Usamos los argumentos en nuestra lógica.\n",
        "if args.verbose:\n",
        "    print(\"Modo verboso activado.\")\n",
        "    print(f\"Argumentos recibidos: nombre={args.nombre}, repeticiones={args.repeticiones}\")\n",
        "\n",
        "for i in range(args.repeticiones):\n",
        "    print(f\"¡Hola, {args.nombre}!\")"
      ]
    },
    {
      "cell_type": "markdown",
      "metadata": {},
      "source": [
        "2.  **Ejecutar el script desde la \"terminal\" de Jupyter:**\n",
        "\n",
        "Primero, veamos la ayuda autogenerada, que es una de las grandes ventajas de `argparse`.\n"
      ]
    },
    {
      "cell_type": "code",
      "execution_count": 3,
      "metadata": {},
      "outputs": [
        {
          "name": "stdout",
          "output_type": "stream",
          "text": [
            "usage: saludador.py [-h] [-v] [-r REPETICIONES] nombre\n",
            "\n",
            "Un script que saluda a alguien de forma personalizada.\n",
            "\n",
            "positional arguments:\n",
            "  nombre                El nombre de la persona a saludar.\n",
            "\n",
            "options:\n",
            "  -h, --help            show this help message and exit\n",
            "  -v, --verbose         Activa el modo verboso para más detalles.\n",
            "  -r, --repeticiones REPETICIONES\n",
            "                        Número de veces que se repite el saludo.\n"
          ]
        }
      ],
      "source": [
        "!python saludador.py --help"
      ]
    },
    {
      "cell_type": "code",
      "execution_count": 4,
      "metadata": {},
      "outputs": [
        {
          "name": "stdout",
          "output_type": "stream",
          "text": [
            "Modo verboso activado.\n",
            "Argumentos recibidos: nombre=Ana, repeticiones=3\n",
            "¡Hola, Ana!\n",
            "¡Hola, Ana!\n",
            "¡Hola, Ana!\n"
          ]
        }
      ],
      "source": [
        "!python saludador.py \"Ana\" --repeticiones 3 --verbose"
      ]
    },
    {
      "cell_type": "code",
      "execution_count": 7,
      "metadata": {},
      "outputs": [
        {
          "name": "stdout",
          "output_type": "stream",
          "text": [
            "Modo verboso activado.\n",
            "Argumentos recibidos: nombre=Ana, repeticiones=5\n",
            "¡Hola, Ana!\n",
            "¡Hola, Ana!\n",
            "¡Hola, Ana!\n",
            "¡Hola, Ana!\n",
            "¡Hola, Ana!\n"
          ]
        }
      ],
      "source": [
        "!python saludador.py \"Ana\" --repeticiones 5 -v"
      ]
    },
    {
      "cell_type": "markdown",
      "metadata": {},
      "source": [
        "#### Ejemplo 2: `click` - Calculadora de Área"
      ]
    },
    {
      "cell_type": "markdown",
      "metadata": {},
      "source": [
        "`click` hace que el código sea más declarativo y limpio. Primero, si no lo tienes, instálalo."
      ]
    },
    {
      "cell_type": "code",
      "execution_count": null,
      "metadata": {},
      "outputs": [],
      "source": [
        "# Ejecuta esta celda si no tienes 'click' instalado\n",
        "import sys\n",
        "!{sys.executable} -m pip install click"
      ]
    },
    {
      "cell_type": "markdown",
      "metadata": {},
      "source": [
        "1.  **Escribir el script en un archivo `calculadora_area.py`:**"
      ]
    },
    {
      "cell_type": "code",
      "execution_count": 9,
      "metadata": {},
      "outputs": [
        {
          "name": "stdout",
          "output_type": "stream",
          "text": [
            "Writing calculadora_area.py\n"
          ]
        }
      ],
      "source": [
        "%%writefile calculadora_area.py\n",
        "\n",
        "import click\n",
        "\n",
        "# @click.command() convierte la función 'calcular' en un comando de línea.\n",
        "@click.command()\n",
        "# @click.option() define un argumento opcional.\n",
        "# 'prompt' le pedirá al usuario el valor si no se proporciona.\n",
        "# 'type=float' valida que la entrada sea un número flotante.\n",
        "@click.option(\"--largo\", prompt=\"Largo del rectángulo\", type=float, help=\"El largo del rectángulo.\")\n",
        "@click.option(\"--ancho\", prompt=\"Ancho del rectángulo\", type=float, help=\"El ancho del rectángulo.\")\n",
        "# Este es un flag booleano. Si se usa '--perimetro', el valor de la variable 'perimetro' será True.\n",
        "@click.option(\"--perimetro\", is_flag=True, help=\"Si se activa, calcula el perímetro en lugar del área.\")\n",
        "\n",
        "def calcular(largo, ancho, perimetro):\n",
        "    \"\"\"\n",
        "    Una simple calculadora de área o perímetro de rectángulos.\n",
        "    La descripción de la función (docstring) se usa para el mensaje de ayuda.\n",
        "    \"\"\"\n",
        "    if perimetro:\n",
        "        resultado = 2 * (largo + ancho)\n",
        "        click.echo(f\"El perímetro del rectángulo es: {resultado}\")\n",
        "    else:\n",
        "        resultado = largo * ancho\n",
        "        click.echo(f\"El área del rectángulo es: {resultado}\")\n",
        "\n",
        "if __name__ == '__main__':\n",
        "    calcular()"
      ]
    },
    {
      "cell_type": "markdown",
      "metadata": {},
      "source": [
        "2.  **Ejecutar el script con `click`:**"
      ]
    },
    {
      "cell_type": "markdown",
      "metadata": {},
      "source": [
        "Veamos la ayuda de `click`, que también es excelente."
      ]
    },
    {
      "cell_type": "code",
      "execution_count": 10,
      "metadata": {},
      "outputs": [
        {
          "name": "stdout",
          "output_type": "stream",
          "text": [
            "Usage: calculadora_area.py [OPTIONS]\n",
            "\n",
            "  Una simple calculadora de área o perímetro de rectángulos. La descripción de\n",
            "  la función (docstring) se usa para el mensaje de ayuda.\n",
            "\n",
            "Options:\n",
            "  --largo FLOAT  El largo del rectángulo.\n",
            "  --ancho FLOAT  El ancho del rectángulo.\n",
            "  --perimetro    Si se activa, calcula el perímetro en lugar del área.\n",
            "  --help         Show this message and exit.\n"
          ]
        }
      ],
      "source": [
        "!python calculadora_area.py --help"
      ]
    },
    {
      "cell_type": "code",
      "execution_count": 15,
      "metadata": {},
      "outputs": [
        {
          "name": "stdout",
          "output_type": "stream",
          "text": [
            "El área del rectángulo es: 100.0\n"
          ]
        }
      ],
      "source": [
        "# Calcular área\n",
        "!python calculadora_area.py --largo 10 --ancho 10"
      ]
    },
    {
      "cell_type": "code",
      "execution_count": 12,
      "metadata": {},
      "outputs": [
        {
          "name": "stdout",
          "output_type": "stream",
          "text": [
            "El perímetro del rectángulo es: 27.0\n"
          ]
        }
      ],
      "source": [
        "# Calcular perímetro\n",
        "!python calculadora_area.py --largo 10.5 --ancho 3 --perimetro"
      ]
    },
    {
      "cell_type": "markdown",
      "metadata": {},
      "source": [
        "# 6.  **Ejercicio Práctico**\n"
      ]
    },
    {
      "cell_type": "markdown",
      "metadata": {},
      "source": [
        "**Tarea: Crear un Analizador de Archivos de Texto**\n",
        "\n",
        "Crea un script llamado `analizador.py` que realice las siguientes acciones:\n",
        "\n",
        "1.  Debe aceptar **un argumento posicional obligatorio**: `ruta_archivo`, que es la ruta al archivo de texto que se va a analizar.\n",
        "2.  Debe aceptar una **opción (`flag`)**: `--contar-palabras`. Si esta opción está presente, el script contará e imprimirá el número total de palabras en el archivo.\n",
        "3.  Debe aceptar otra **opción (`flag`)**: `--contar-lineas`. Si esta opción está presente, el script contará e imprimirá el número total de líneas en el archivo.\n",
        "4.  Si **ninguna de las dos opciones** (`--contar-palabras` o `--contar-lineas`) se proporciona, el script debe realizar **ambas acciones** (contar palabras y líneas).\n",
        "5.  El script debe manejar el caso en que el archivo no exista e imprimir un mensaje de error amigable.\n",
        "\n",
        "Puedes usar `argparse` o `click` para este ejercicio. ¡Tú eliges!\n",
        "\n",
        "**Pista:** Para empezar, crea un archivo de texto de prueba usando `%%writefile`. Para la lógica de conteo, recuerda que puedes leer las líneas de un archivo con `file.readlines()` y dividir una línea en palabras con el método `.split()`. Para manejar el error de archivo no encontrado, puedes usar un bloque `try...except FileNotFoundError`."
      ]
    },
    {
      "cell_type": "code",
      "execution_count": 18,
      "metadata": {},
      "outputs": [
        {
          "name": "stdout",
          "output_type": "stream",
          "text": [
            "Writing poema_python.txt\n"
          ]
        }
      ],
      "source": [
        "%%writefile poema_python.txt\n",
        "El Zen de Python, por Tim Peters\n",
        "\n",
        "Bello es mejor que feo.\n",
        "Explícito es mejor que implícito.\n",
        "Simple es mejor que complejo.\n",
        "Complejo es mejor que complicado.\n",
        "\n",
        "Plano es mejor que anidado.\n",
        "Disperso es mejor que denso.\n",
        "La legibilidad cuenta."
      ]
    },
    {
      "cell_type": "code",
      "execution_count": 90,
      "metadata": {},
      "outputs": [
        {
          "name": "stdout",
          "output_type": "stream",
          "text": [
            "Overwriting analizador.py\n"
          ]
        }
      ],
      "source": [
        "%%writefile analizador.py\n",
        "import click\n",
        "\n",
        "@click.command()\n",
        "@click.argument(\"ruta\", type=str)\n",
        "@click.option(\"--contar_palabras\", is_flag=True, help=\"Si esta opción está presente, el script contará e imprimirá el número total de pañabras en el archivo.\")\n",
        "@click.option(\"--contar_lineas\", is_flag=True, help=\"Si esta opción está presente, el script contará e imprimirá el número total de líneas en el archivo.\")\n",
        "\n",
        "def analizador(ruta, contar_palabras, contar_lineas):\n",
        "    \"\"\"\n",
        "        Analizador de documentos, cuenta las palabras y líneas que tenga un documento\n",
        "    \"\"\"\n",
        "    c_palabras = 0\n",
        "    c_lineas = 0\n",
        "\n",
        "    try:\n",
        "        with open(ruta, \"r\", encoding='utf-8') as f:\n",
        "            for i, linea in enumerate(f):\n",
        "                c_lineas += 1\n",
        "                # print(f\"linea numero {c_lineas}, len: {len(linea)}: {linea}\")\n",
        "                palabras = linea.split()\n",
        "                for palabra in palabras:\n",
        "                    c_palabras += 1\n",
        "                    # print(f\"palabra numero {c_palabras}: {palabra}\")\n",
        "\n",
        "        if contar_palabras:\n",
        "            click.echo(f\"El documento tiene {c_palabras} palabras\")\n",
        "        \n",
        "        if contar_lineas:\n",
        "            click.echo(f\"El documento tiene {c_lineas} lineas\")\n",
        "        \n",
        "        if not contar_lineas and not contar_palabras:\n",
        "            click.echo(f\"El documento tiene {c_lineas} lineas y {c_palabras} palabras\")\n",
        "    \n",
        "    except FileNotFoundError:\n",
        "        raise click.FileError(ruta)\n",
        "\n",
        "\n",
        "if __name__ == '__main__':\n",
        "    analizador()\n"
      ]
    },
    {
      "cell_type": "code",
      "execution_count": 60,
      "metadata": {},
      "outputs": [
        {
          "name": "stdout",
          "output_type": "stream",
          "text": [
            "Usage: analizador.py [OPTIONS]\n",
            "\n",
            "  Analizador de documentos, cuenta las palabras y líneas que tenga un\n",
            "  documento\n",
            "\n",
            "Options:\n",
            "  --ruta TEXT        Ruta del archivo.\n",
            "  --contar_palabras  Si esta opción está presente, el script contará e\n",
            "                     imprimirá el número total de pañabras en el archivo.\n",
            "  --contar_lineas    Si esta opción está presente, el script contará e\n",
            "                     imprimirá el número total de líneas en el archivo.\n",
            "  --help             Show this message and exit.\n"
          ]
        }
      ],
      "source": [
        "!python analizador.py --help"
      ]
    },
    {
      "cell_type": "code",
      "execution_count": null,
      "metadata": {},
      "outputs": [
        {
          "name": "stderr",
          "output_type": "stream",
          "text": [
            "Error: Could not open file 'C:\\\\Users\\\\Nicolás\\\\Documents\\\\Python\\\\1._Python\\\\1._Nivel_Básico\\\\notebooks\\\\poema_python.txta': unknown error\n"
          ]
        }
      ],
      "source": [
        "!python analizador.py \"C:\\Users\\Nicolás\\Documents\\Python\\1._Python\\1._Nivel_Básico\\notebooks\\poema_python.txt\""
      ]
    },
    {
      "cell_type": "markdown",
      "metadata": {},
      "source": [
        "# 7.  **Conexión con Otros Temas**\n"
      ]
    },
    {
      "cell_type": "markdown",
      "metadata": {},
      "source": [
        "*   **Conceptos Previos:**\n",
        "    *   **Módulos y `sys`:** `argparse` y `click` son abstracciones sobre `sys.argv`, que es la lista cruda de argumentos de la línea de comandos. Entender `sys.argv` ayuda a valorar lo que estas librerías hacen por ti.\n",
        "    *   **Funciones y Tipos de Datos:** Usarás funciones como el punto de entrada de tu script y tipos de datos (int, float, str) para validar las entradas.\n",
        "    *   **Manejo de Excepciones (`try-except`):** Esencial para crear herramientas robustas que no fallen si el usuario proporciona una entrada inválida (p. ej., un archivo que no existe)."
      ]
    },
    {
      "cell_type": "markdown",
      "metadata": {},
      "source": [
        "*   **Temas Futuros:**\n",
        "    *   **Creación de Paquetes y Distribución:** Una vez que creas una herramienta de línea de comandos útil, el siguiente paso es empaquetarla para que otros puedan instalarla fácilmente con `pip`.\n",
        "    *   **Automatización y Scripting (DevOps):** Estas herramientas son la base de la automatización. Las usarás para interactuar con APIs, gestionar sistemas, procesar datos en lotes, etc.\n",
        "    *   **Testing:** Aprenderás a escribir tests automáticos para tus CLIs para asegurar que funcionan correctamente con diferentes combinaciones de argumentos."
      ]
    },
    {
      "cell_type": "markdown",
      "metadata": {},
      "source": [
        "# 8.  **Aplicaciones en el Mundo Real**\n"
      ]
    },
    {
      "cell_type": "markdown",
      "metadata": {},
      "source": [
        "1.  **Herramientas de Data Science:** Un científico de datos podría escribir un script para entrenar un modelo de machine learning. Los argumentos de línea de comandos permitirían especificar el archivo de datos de entrada, los hiperparámetros del modelo (como `learning-rate`, `batch-size`) y la ruta para guardar el modelo entrenado, todo sin tocar el código.\n",
        "2.  **Frameworks de Desarrollo Web:** Herramientas como `django-admin` o `flask` son CLIs complejas construidas con estos principios. Comandos como `django-admin startproject mi_proyecto` o `flask run` usan argumentos para realizar tareas de desarrollo clave."
      ]
    }
  ],
  "metadata": {
    "kernelspec": {
      "display_name": ".venv",
      "language": "python",
      "name": "python3"
    },
    "language_info": {
      "codemirror_mode": {
        "name": "ipython",
        "version": 3
      },
      "file_extension": ".py",
      "mimetype": "text/x-python",
      "name": "python",
      "nbconvert_exporter": "python",
      "pygments_lexer": "ipython3",
      "version": "3.13.3"
    }
  },
  "nbformat": 4,
  "nbformat_minor": 2
}
