{
  "cells": [
    {
      "cell_type": "markdown",
      "metadata": {},
      "source": [
        "# 1.  **Título del Tema**\n"
      ]
    },
    {
      "cell_type": "markdown",
      "metadata": {},
      "source": [
        "**Módulos y Paquetes en Python: Organizando tu Código**"
      ]
    },
    {
      "cell_type": "markdown",
      "metadata": {},
      "source": [
        "# 2.  **Explicación Conceptual Detallada**\n"
      ]
    },
    {
      "cell_type": "markdown",
      "metadata": {},
      "source": [
        "*   **¿Qué es un Módulo?**\n",
        "    *   En Python, un **módulo** es simplemente un archivo que contiene definiciones y declaraciones de Python. El nombre del archivo es el nombre del módulo con el sufijo `.py` añadido.\n",
        "    *   Por ejemplo, si tienes un archivo llamado `mi_modulo.py`, puedes importarlo en otro script de Python y usar las funciones, clases y variables definidas en él.\n",
        "    *   **Propósito:**\n",
        "        *   **Organización:** Dividir un programa grande en archivos más pequeños y manejables.\n",
        "        *   **Reutilización:** Usar el mismo código (funciones, clases) en múltiples partes de tu proyecto o incluso en diferentes proyectos sin tener que copiar y pegar.\n",
        "        *   **Espacio de Nombres (Namespacing):** Evitar colisiones de nombres. Si tienes una función `calcular()` en `modulo_a.py` y otra función `calcular()` en `modulo_b.py`, puedes usarlas ambas como `modulo_a.calcular()` y `modulo_b.calcular()`."
      ]
    },
    {
      "cell_type": "markdown",
      "metadata": {},
      "source": [
        "*   **¿Qué es un Paquete?**\n",
        "    *   Un **paquete** es una forma de estructurar el espacio de nombres de los módulos de Python utilizando \"nombres de módulos con puntos\".\n",
        "    *   En términos simples, un paquete es una **colección de módulos organizados en un directorio**.\n",
        "    *   Este directorio **debe contener un archivo especial llamado `__init__.py`**. Este archivo puede estar vacío, pero su presencia le indica a Python que el directorio debe ser tratado como un paquete. También puede ejecutar código de inicialización para el paquete o definir la variable `__all__`.\n",
        "    *   **Propósito:**\n",
        "        *   **Jerarquía:** Organizar módulos relacionados en una estructura de directorios, lo que es especialmente útil para bibliotecas grandes o aplicaciones complejas.\n",
        "        *   **Escalabilidad:** Facilitar la gestión de proyectos a medida que crecen."
      ]
    },
    {
      "cell_type": "markdown",
      "metadata": {},
      "source": [
        "*   **Importancia en Python:**\n",
        "    *   Fundamental para construir cualquier aplicación que vaya más allá de unos pocos cientos de líneas de código.\n",
        "    *   Permite el uso de la vasta **librería estándar de Python** (módulos como `math`, `datetime`, `json`, `os`, etc.) y miles de **librerías de terceros** (como NumPy, Pandas, Requests, Django, Flask)."
      ]
    },
    {
      "cell_type": "markdown",
      "metadata": {},
      "source": [
        "*   **Conceptos Clave Asociados y Sintaxis Fundamental:**\n",
        "    *   `import modulo`: Importa el módulo completo. Para acceder a sus miembros, usas `modulo.miembro`.\n",
        "    *   `from modulo import miembro`: Importa un miembro específico (función, clase, variable) del módulo directamente a tu espacio de nombres actual.\n",
        "    *   `from modulo import miembro1 as alias1, miembro2 as alias2`: Importa miembros específicos y les da un alias (un nombre diferente) en tu script.\n",
        "    *   `import modulo as alias_modulo`: Importa el módulo completo y le da un alias.\n",
        "    *   `from paquete import modulo`: Importa un módulo desde un paquete.\n",
        "    *   `from paquete.subpaquete import modulo`: Importa un módulo desde un subpaquete.\n",
        "    *   `__init__.py`: Archivo que marca un directorio como un paquete. Puede estar vacío o contener código de inicialización.\n",
        "    *   `sys.path`: Una lista de cadenas que especifica las rutas de búsqueda de módulos para Python. Cuando intentas importar un módulo, Python busca en estos directorios.\n",
        "    *   `__name__`: Una variable especial. Dentro de un módulo, si el módulo es ejecutado directamente (como `python mi_modulo.py`), `__name__` se establece a `\"__main__\"`. Si es importado, `__name__` se establece al nombre del módulo. Esto es útil para tener código que solo se ejecuta cuando el archivo es el script principal."
      ]
    },
    {
      "cell_type": "markdown",
      "metadata": {},
      "source": [
        "*   **Errores Comunes a Tener en Cuenta:**\n",
        "    *   `ModuleNotFoundError` (Python 3.6+) o `ImportError` (versiones anteriores): Ocurre cuando Python no puede encontrar el módulo o paquete que intentas importar. Puede ser por un error tipográfico, porque el módulo no está instalado, o porque no está en `sys.path`.\n",
        "    *   **Importaciones Circulares:** Cuando el módulo A importa al módulo B, y el módulo B importa al módulo A. Esto puede causar problemas y generalmente indica un mal diseño.\n",
        "    *   **Problemas con rutas relativas vs. absolutas** al importar dentro de paquetes."
      ]
    },
    {
      "cell_type": "markdown",
      "metadata": {},
      "source": [
        "*   **Ventajas:**\n",
        "    *   **Modularidad:** Código dividido en partes lógicas e independientes.\n",
        "    *   **Reutilización del Código:** Escribe una vez, usa muchas veces.\n",
        "    *   **Mantenibilidad:** Código más fácil de entender, depurar y modificar.\n",
        "    *   **Colaboración:** Diferentes desarrolladores pueden trabajar en diferentes módulos/paquetes simultáneamente.\n",
        "    *   **Espacios de Nombres:** Evita conflictos de nombres entre diferentes partes del código."
      ]
    },
    {
      "cell_type": "markdown",
      "metadata": {},
      "source": [
        "*   **Posibles Casos de Uso:**\n",
        "    *   Cualquier proyecto de Python que no sea un script trivial.\n",
        "    *   Desarrollo de bibliotecas para ser utilizadas por otros.\n",
        "    *   Organización de grandes aplicaciones web, herramientas de análisis de datos, sistemas de machine learning, etc."
      ]
    },
    {
      "cell_type": "markdown",
      "metadata": {},
      "source": [
        "*   **Definición y Propósito:**\n",
        "    *   **Módulos:** Archivos `.py` que agrupan definiciones y declaraciones relacionadas para organizar y reutilizar código.\n",
        "    *   **Paquetes:** Directorios que contienen módulos y un archivo `__init__.py`, permitiendo una organización jerárquica de los módulos."
      ]
    },
    {
      "cell_type": "markdown",
      "metadata": {},
      "source": [
        "*   **Cuándo y por qué se utiliza:**\n",
        "    *   **Cuándo:** Prácticamente siempre, excepto para scripts muy pequeños y simples. Tan pronto como sientas que tu archivo se está volviendo demasiado largo o que tienes funciones que podrían ser útiles en otros lugares, es hora de pensar en módulos.\n",
        "    *   **Por qué:** Para mejorar la estructura, legibilidad, mantenibilidad y escalabilidad de tus proyectos."
      ]
    },
    {
      "cell_type": "markdown",
      "metadata": {},
      "source": [
        "*   **Cómo funciona internamente (brevemente):**\n",
        "    1.  Cuando Python encuentra una declaración `import modulo_x`, primero busca `modulo_x` entre los módulos incorporados.\n",
        "    2.  Si no lo encuentra, busca un archivo llamado `modulo_x.py` en los directorios listados en `sys.path`. `sys.path` se inicializa desde:\n",
        "        *   El directorio que contiene el script de entrada (o el directorio actual si no se especifica ningún archivo).\n",
        "        *   `PYTHONPATH` (una variable de entorno, si está definida).\n",
        "        *   Rutas dependientes de la instalación (donde se instalan las bibliotecas estándar y de terceros).\n",
        "    3.  Si se encuentra, el código del módulo se ejecuta (si es la primera vez que se importa en el programa) y se crea un objeto módulo.\n"
      ]
    },
    {
      "cell_type": "markdown",
      "metadata": {},
      "source": [
        "*   **Buenas Prácticas Relacionadas:**\n",
        "    *   Dar nombres descriptivos y en minúsculas a los módulos y paquetes (PEP 8 recomienda `lower_case_with_underscores`).\n",
        "    *   Evitar `from modulo import *` en la medida de lo posible, ya que puede contaminar el espacio de nombres local y hacer que el código sea menos legible (no sabes de dónde viene una función o variable). Es aceptable en algunos casos, como en ciertos frameworks o para conveniencia interactiva, pero con precaución.\n",
        "    *   Usar importaciones absolutas (e.g., `from mi_paquete.mi_modulo import mi_funcion`) dentro de los paquetes para mayor claridad, especialmente en Python 3.\n",
        "    *   Mantener los módulos cohesivos (que contengan funcionalidades relacionadas).\n",
        "    *   Utilizar el bloque `if __name__ == \"__main__\":` para código que solo debe ejecutarse cuando el archivo se ejecuta como script principal."
      ]
    },
    {
      "cell_type": "markdown",
      "metadata": {},
      "source": [
        "# 3.  **Sintaxis y Ejemplos Básicos**\n"
      ]
    },
    {
      "cell_type": "code",
      "execution_count": null,
      "metadata": {},
      "outputs": [],
      "source": [
        "# --- Opción 1: Importar el módulo completo ---\n",
        "# Supongamos que existe un módulo llamado 'matematicas.py'\n",
        "# que contiene una función 'sumar(a, b)'\n",
        "\n",
        "# import matematicas\n",
        "# resultado = matematicas.sumar(5, 3)\n",
        "# print(resultado) # Salida: 8\n",
        "\n",
        "# --- Opción 2: Importar un miembro específico del módulo ---\n",
        "# from matematicas import sumar\n",
        "# resultado = sumar(5, 3) # Se llama directamente\n",
        "# print(resultado) # Salida: 8\n",
        "\n",
        "# --- Opción 3: Importar un miembro específico con un alias ---\n",
        "# from matematicas import sumar as adicion\n",
        "# resultado = adicion(5, 3)\n",
        "# print(resultado) # Salida: 8\n",
        "\n",
        "# --- Opción 4: Importar el módulo completo con un alias ---\n",
        "# import matematicas as mates\n",
        "# resultado = mates.sumar(5, 3)\n",
        "# print(resultado) # Salida: 8\n",
        "\n",
        "# --- Opción 5: Importar múltiples miembros ---\n",
        "# Supongamos que 'matematicas.py' también tiene 'restar(a,b)'\n",
        "# from matematicas import sumar, restar\n",
        "# res_suma = sumar(10, 2)\n",
        "# res_resta = restar(10, 2)\n",
        "# print(f\"Suma: {res_suma}, Resta: {res_resta}\") # Salida: Suma: 12, Resta: 8\n",
        "\n",
        "# --- Opción 6: Importar todo (¡generalmente no recomendado!) ---\n",
        "# from matematicas import *\n",
        "# resultado = sumar(5, 3) # Funciona, pero puede causar conflictos de nombres\n",
        "# print(resultado)"
      ]
    },
    {
      "cell_type": "markdown",
      "metadata": {},
      "source": [
        "# 4.  **Documentación y Recursos Clave**\n"
      ]
    },
    {
      "cell_type": "markdown",
      "metadata": {},
      "source": [
        "*   **Documentación Oficial de Python:**\n",
        "    *   [The import system (Sistema de importación)](https://docs.python.org/3/reference/import.html) (Más técnico)\n",
        "    *   [Modules (Módulos)](https://docs.python.org/3/tutorial/modules.html) (Tutorial más amigable)\n",
        "*   **Recursos Externos de Calidad:**\n",
        "    *   [Python Modules and Packages – An Introduction (Real Python)](https://realpython.com/python-modules-packages/): Un excelente artículo que cubre los conceptos de forma clara y con buenos ejemplos."
      ]
    },
    {
      "cell_type": "markdown",
      "metadata": {},
      "source": [
        "# 5.  **Ejemplos de Código Prácticos**\n"
      ]
    },
    {
      "cell_type": "markdown",
      "metadata": {},
      "source": [
        "**Ejemplo 1: Crear y usar un módulo simple**"
      ]
    },
    {
      "cell_type": "markdown",
      "metadata": {},
      "source": [
        "Primero, crearemos nuestro módulo. Ejecuta la siguiente celda para crear un archivo llamado `mi_calculadora.py`."
      ]
    },
    {
      "cell_type": "code",
      "execution_count": 4,
      "metadata": {},
      "outputs": [
        {
          "name": "stdout",
          "output_type": "stream",
          "text": [
            "Overwriting mi_calculadora.py\n"
          ]
        }
      ],
      "source": [
        "%%writefile mi_calculadora.py\n",
        "# Este es el contenido de mi_calculadora.py\n",
        "\n",
        "PI = 3.14159\n",
        "\n",
        "def sumar(a, b):\n",
        "    \"\"\"Retorna la suma de a y b.\"\"\"\n",
        "    return a + b\n",
        "\n",
        "def restar(a, b):\n",
        "    \"\"\"Retorna la resta de b a a.\"\"\"\n",
        "    return a - b\n",
        "\n",
        "def area_circulo(radio):\n",
        "    \"\"\"Calcula el área de un círculo.\"\"\"\n",
        "    return PI * radio * radio\n",
        "\n",
        "print(\"Módulo mi_calculadora cargado.\") # Esto se imprimirá cuando el módulo se importe por primera vez\n",
        "\n",
        "if __name__ == \"__main__\":\n",
        "    # Este código solo se ejecuta si mi_calculadora.py es ejecutado directamente\n",
        "    # y no cuando es importado.\n",
        "    print(\"Ejecutando mi_calculadora.py como script principal.\")\n",
        "    print(f\"Suma de prueba: 2 + 3 = {sumar(2, 3)}\")\n",
        "    print(f\"Área de círculo de radio 5: {area_circulo(5)}\")"
      ]
    },
    {
      "cell_type": "code",
      "execution_count": 5,
      "metadata": {},
      "outputs": [
        {
          "name": "stdout",
          "output_type": "stream",
          "text": [
            "Módulo mi_calculadora cargado.\n",
            "La suma de 10 y 7 es: 17\n",
            "La resta de 7 a 10 es: 3\n",
            "El valor de PI según mi_calculadora es: 3.14159\n",
            "El área de un círculo con radio 5 es: 78.53975\n",
            "Suma directa usando 'from ... import': 150\n"
          ]
        }
      ],
      "source": [
        "# Importamos el módulo completo\n",
        "import mi_calculadora\n",
        "\n",
        "# Usamos las funciones y variables del módulo\n",
        "num1 = 10\n",
        "num2 = 7\n",
        "\n",
        "suma_resultado = mi_calculadora.sumar(num1, num2)\n",
        "resta_resultado = mi_calculadora.restar(num1, num2)\n",
        "valor_pi = mi_calculadora.PI\n",
        "area = mi_calculadora.area_circulo(5)\n",
        "\n",
        "print(f\"La suma de {num1} y {num2} es: {suma_resultado}\")\n",
        "print(f\"La resta de {num2} a {num1} es: {resta_resultado}\")\n",
        "print(f\"El valor de PI según mi_calculadora es: {valor_pi}\")\n",
        "print(f\"El área de un círculo con radio 5 es: {area}\")\n",
        "\n",
        "# También podemos importar miembros específicos\n",
        "from mi_calculadora import sumar, area_circulo\n",
        "\n",
        "resultado_directo_suma = sumar(100, 50)\n",
        "print(f\"Suma directa usando 'from ... import': {resultado_directo_suma}\")\n",
        "\n",
        "# Si vuelves a importar, el mensaje \"Módulo mi_calculadora cargado.\" no debería aparecer de nuevo\n",
        "# porque Python cachea los módulos importados.\n",
        "import mi_calculadora"
      ]
    },
    {
      "cell_type": "markdown",
      "metadata": {},
      "source": [
        "**Ejemplo 2: Importar módulos de la librería estándar**"
      ]
    },
    {
      "cell_type": "code",
      "execution_count": 6,
      "metadata": {},
      "outputs": [
        {
          "name": "stdout",
          "output_type": "stream",
          "text": [
            "El valor de pi según el módulo math: 3.141592653589793\n",
            "La raíz cuadrada de 16 es: 4.0\n",
            "El factorial de 5 es: 120\n",
            "Número aleatorio entre 1 y 10: 7\n",
            "Elemento elegido al azar de la lista: cereza\n",
            "Fecha y hora actual: 2025-05-19 18:51:05.288663\n",
            "Solo la fecha: 2025-05-19\n",
            "Solo la hora: 18:51:05.288663\n",
            "Año actual: 2025\n"
          ]
        }
      ],
      "source": [
        "import math # Módulo para funciones matemáticas\n",
        "\n",
        "print(f\"El valor de pi según el módulo math: {math.pi}\")\n",
        "print(f\"La raíz cuadrada de 16 es: {math.sqrt(16)}\")\n",
        "print(f\"El factorial de 5 es: {math.factorial(5)}\")\n",
        "\n",
        "import random # Módulo para generación de números aleatorios\n",
        "\n",
        "numero_aleatorio = random.randint(1, 10) # Entero aleatorio entre 1 y 10 (inclusive)\n",
        "print(f\"Número aleatorio entre 1 y 10: {numero_aleatorio}\")\n",
        "elementos = ['manzana', 'banana', 'cereza']\n",
        "elemento_elegido = random.choice(elementos)\n",
        "print(f\"Elemento elegido al azar de la lista: {elemento_elegido}\")\n",
        "\n",
        "import datetime # Módulo para trabajar con fechas y horas\n",
        "\n",
        "ahora = datetime.datetime.now()\n",
        "print(f\"Fecha y hora actual: {ahora}\")\n",
        "print(f\"Solo la fecha: {ahora.date()}\")\n",
        "print(f\"Solo la hora: {ahora.time()}\")\n",
        "print(f\"Año actual: {ahora.year}\")"
      ]
    },
    {
      "cell_type": "markdown",
      "metadata": {},
      "source": [
        "# 6.  **Ejercicio Práctico**\n"
      ]
    },
    {
      "cell_type": "markdown",
      "metadata": {},
      "source": [
        "**Título del Ejercicio:** Organizador de Herramientas Personales"
      ]
    },
    {
      "cell_type": "markdown",
      "metadata": {},
      "source": [
        "**Descripción:**\n",
        "Vas a crear una pequeña biblioteca personal para organizar dos tipos de herramientas (funciones):\n",
        "1.  **Herramientas de Texto:** Funciones que operan sobre cadenas de texto.\n",
        "2.  **Herramientas de Cálculo:** Funciones que realizan operaciones matemáticas simples.\n",
        "\n",
        "**Tarea:**\n",
        "1.  Crea una estructura de paquete llamada `mis_herramientas`.\n",
        "2.  Dentro de `mis_herramientas`, crea dos módulos:\n",
        "    *   `texto_utils.py`:\n",
        "        *   Debe contener una función `contar_vocales(cadena)` que cuente el número de vocales (a, e, i, o, u, mayúsculas y minúsculas) en una cadena dada.\n",
        "        *   Debe contener una función `invertir_cadena(cadena)` que devuelva la cadena invertida.\n",
        "    *   `calculo_utils.py`:\n",
        "        *   Debe contener una función `es_par(numero)` que devuelva `True` si un número es par, `False` en caso contrario.\n",
        "        *   Debe contener una función `potencia(base, exponente)` que calcule `base` elevado a `exponente`.\n",
        "3.  Asegúrate de que `mis_herramientas` sea un paquete (recuerda el archivo `__init__.py`).\n",
        "4.  En tu notebook de Jupyter, importa las funciones de tus módulos (prueba diferentes formas de importar) y úsalas con algunos ejemplos para demostrar que funcionan correctamente.\n",
        "\n",
        "**Pista Sutil:**\n",
        "Recuerda usar `%%writefile` para crear los archivos `.py` y la estructura de directorios directamente desde tu notebook. No olvides el `__init__.py` en el directorio `mis_herramientas`."
      ]
    },
    {
      "cell_type": "markdown",
      "metadata": {},
      "source": [
        "# 7.  **Conexión con Otros Temas**\n"
      ]
    },
    {
      "cell_type": "markdown",
      "metadata": {},
      "source": [
        "*   **Conceptos que Deberías Conocer Previamente:**\n",
        "    *   **Variables y Tipos de Datos:** Los módulos contienen variables y operan sobre datos.\n",
        "    *   **Funciones:** Los módulos son fundamentalmente colecciones de funciones (y clases). Entender cómo definir y llamar funciones es crucial.\n",
        "    *   **Estructuras de Control (if, for, while):** Usadas dentro de las funciones en los módulos.\n",
        "    *   **Estructura Básica de un Script de Python:** Cómo se organiza y ejecuta un archivo `.py`.\n",
        "\n",
        "*   **Temas Futuros para los que este Conocimiento será Importante:**\n",
        "    *   **Programación Orientada a Objetos (POO):** Las clases también se organizan en módulos y paquetes.\n",
        "    *   **Desarrollo de Librerías y APIs:** Los módulos y paquetes son la base para crear tus propias librerías reutilizables.\n",
        "    *   **Frameworks Web (Django, Flask):** Estos frameworks están altamente estructurados usando paquetes y módulos. Entender cómo funcionan las importaciones es vital para usarlos.\n",
        "    *   **Testing:** Escribir pruebas para tu código a menudo implica importar módulos y probar sus componentes individualmente.\n",
        "    *   **Entornos Virtuales:** Ayudan a gestionar las dependencias (módulos de terceros) de diferentes proyectos, evitando conflictos.\n",
        "    *   **Distribución de Paquetes (PyPI):** Si creas una librería útil, querrás empaquetarla y distribuirla para que otros la puedan usar (`pip install tu_libreria`)."
      ]
    },
    {
      "cell_type": "markdown",
      "metadata": {},
      "source": [
        "# 8.  **Aplicaciones en el Mundo Real**\n"
      ]
    },
    {
      "cell_type": "markdown",
      "metadata": {},
      "source": [
        "1.  **Desarrollo de Software Complejo:** Cualquier aplicación grande (un sistema de gestión de inventario, una plataforma de e-commerce, un software científico) se divide en módulos y paquetes. Por ejemplo, en una aplicación web:\n",
        "    *   Un paquete para la autenticación de usuarios (`auth/`).\n",
        "    *   Un paquete para la gestión de productos (`products/`).\n",
        "    *   Módulos para la interacción con la base de datos (`db_utils.py`).\n",
        "    *   Módulos para utilidades generales (`common_utils.py`).\n",
        "\n",
        "2.  **Bibliotecas Científicas y de Análisis de Datos:**\n",
        "    *   **NumPy:** Proporciona un módulo (`numpy`) con potentes herramientas para arrays y operaciones numéricas. Internamente, NumPy es un paquete complejo con muchos submódulos.\n",
        "    *   **Pandas:** Ofrece el módulo `pandas` para manipulación y análisis de datos (DataFrames). Al igual que NumPy, es un paquete grande.\n",
        "    *   **Scikit-learn:** Para machine learning, tiene una estructura de paquetes donde diferentes algoritmos y herramientas están en submódulos (ej. `sklearn.linear_model`, `sklearn.cluster`, `sklearn.metrics`).\n",
        "\n",
        "3.  **Librerías de Terceros en General:**\n",
        "    *   Cuando haces `pip install requests` y luego `import requests`, estás importando un paquete que facilita las solicitudes HTTP.\n",
        "    *   Casi cualquier librería que instales con `pip` estará estructurada como un módulo o, más comúnmente, como un paquete."
      ]
    },
    {
      "cell_type": "markdown",
      "metadata": {},
      "source": [
        "### 1. Librerías de la Librería Estándar (Fundamentales y muy usadas)\n",
        "\n",
        "Estas vienen con Python, ¡así que ya las tienes!\n",
        "\n",
        "*   **`math`**:\n",
        "    *   **Descripción:** Proporciona acceso a funciones matemáticas definidas por el estándar C.\n",
        "    *   **Uso Común:** Operaciones trigonométricas, logarítmicas, exponenciales, constantes como pi y e.\n",
        "*   **`datetime`**:\n",
        "    *   **Descripción:** Suministra clases para manipular fechas y horas de formas simples y complejas.\n",
        "    *   **Uso Común:** Obtener la fecha/hora actual, calcular diferencias entre fechas, formatear fechas y horas.\n",
        "*   **`json`**:\n",
        "    *   **Descripción:** Permite codificar y decodificar datos en formato JSON (JavaScript Object Notation).\n",
        "    *   **Uso Común:** Trabajar con APIs web, guardar configuraciones, intercambiar datos estructurados.\n",
        "*   **`os`**:\n",
        "    *   **Descripción:** Proporciona una forma de usar funcionalidades dependientes del sistema operativo.\n",
        "    *   **Uso Común:** Interactuar con el sistema de archivos (crear directorios, listar archivos, obtener rutas), variables de entorno.\n",
        "*   **`sys`**:\n",
        "    *   **Descripción:** Proporciona acceso a variables y funciones específicas del intérprete de Python.\n",
        "    *   **Uso Común:** Acceder a argumentos de línea de comandos (`sys.argv`), modificar el path de búsqueda de módulos (`sys.path`), salir del script (`sys.exit()`).\n",
        "*   **`re`**:\n",
        "    *   **Descripción:** Módulo para trabajar con expresiones regulares.\n",
        "    *   **Uso Común:** Búsqueda y manipulación avanzada de patrones en texto.\n",
        "*   **`collections`**:\n",
        "    *   **Descripción:** Implementa tipos de datos de contenedores especializados (alternativas a los `dict`, `list`, `set`, `tuple` incorporados).\n",
        "    *   **Uso Común:** `Counter` (para contar elementos), `defaultdict` (diccionarios con valores por defecto), `deque` (colas de doble extremo).\n",
        "*   **`argparse`**:\n",
        "    *   **Descripción:** Facilita la creación de interfaces de línea de comandos amigables para el usuario.\n",
        "    *   **Uso Común:** Parsear argumentos y opciones pasados a un script desde la terminal.\n",
        "*   **`logging`**:\n",
        "    *   **Descripción:** Herramienta flexible para emitir mensajes de log desde aplicaciones y librerías Python.\n",
        "    *   **Uso Común:** Registrar eventos, errores, información de depuración en archivos o en la consola.\n",
        "\n",
        "### 2. Desarrollo Científico y Análisis de Datos\n",
        "\n",
        "Estas son el pilar del ecosistema de Data Science en Python.\n",
        "\n",
        "*   **NumPy (Numerical Python)**:\n",
        "    *   **Descripción:** El paquete fundamental para la computación científica en Python. Proporciona un potente objeto array N-dimensional, funciones sofisticadas (broadcast), herramientas para integrar código C/C++ y Fortran, y capacidades útiles de álgebra lineal, transformada de Fourier y números aleatorios.\n",
        "    *   **Uso Común:** Operaciones numéricas eficientes, manipulación de arrays y matrices, base para muchas otras librerías científicas.\n",
        "*   **Pandas**:\n",
        "    *   **Descripción:** Librería que ofrece estructuras de datos de alto rendimiento y fáciles de usar (principalmente `DataFrame` y `Series`) y herramientas de análisis de datos.\n",
        "    *   **Uso Común:** Limpieza de datos, manipulación, análisis exploratorio, carga y guardado de datos en diversos formatos (CSV, Excel, SQL).\n",
        "*   **Matplotlib**:\n",
        "    *   **Descripción:** Una librería completa para crear visualizaciones estáticas, animadas e interactivas en Python.\n",
        "    *   **Uso Común:** Generar gráficos de líneas, barras, histogramas, diagramas de dispersión, etc.\n",
        "*   **Seaborn**:\n",
        "    *   **Descripción:** Librería de visualización de datos estadísticos basada en Matplotlib. Proporciona una interfaz de alto nivel para dibujar gráficos estadísticos atractivos e informativos.\n",
        "    *   **Uso Común:** Crear gráficos estadísticos más complejos y estéticamente agradables con menos código (mapas de calor, violin plots, pair plots).\n",
        "*   **SciPy (Scientific Python)**:\n",
        "    *   **Descripción:** Construida sobre NumPy, SciPy proporciona muchas funciones amigables y eficientes para tareas científicas y técnicas como optimización, integración, interpolación, procesamiento de señales, álgebra lineal, estadísticas, etc.\n",
        "    *   **Uso Común:** Algoritmos científicos, procesamiento de señales, optimización matemática.\n",
        "*   **Scikit-learn**:\n",
        "    *   **Descripción:** Una de las librerías más populares y robustas para machine learning en Python. Ofrece herramientas simples y eficientes para minería de datos y análisis de datos, accesibles para todos y reutilizables en varios contextos.\n",
        "    *   **Uso Común:** Clasificación, regresión, clustering, reducción de dimensionalidad, selección de modelos, preprocesamiento.\n",
        "\n",
        "### 3. Machine Learning y Deep Learning\n",
        "\n",
        "*   **TensorFlow**:\n",
        "    *   **Descripción:** Una plataforma de código abierto de extremo a extremo para machine learning. Tiene un ecosistema completo y flexible de herramientas, librerías y recursos comunitarios que permite a los investigadores impulsar el estado del arte en ML y a los desarrolladores construir e implementar aplicaciones impulsadas por ML fácilmente. Desarrollada por Google.\n",
        "    *   **Uso Común:** Construcción y entrenamiento de redes neuronales profundas, computación numérica a gran escala.\n",
        "*   **Keras**:\n",
        "    *   **Descripción:** Una API de redes neuronales de alto nivel, escrita en Python y capaz de ejecutarse sobre TensorFlow, CNTK o Theano. Fue desarrollada con un enfoque en permitir la experimentación rápida. (Ahora Keras está fuertemente integrado dentro de TensorFlow como `tf.keras`).\n",
        "    *   **Uso Común:** Prototipado rápido y construcción de modelos de deep learning de forma más sencilla.\n",
        "*   **PyTorch**:\n",
        "    *   **Descripción:** Un framework de machine learning de código abierto basado en la librería Torch, utilizado para aplicaciones como la visión por computadora y el procesamiento del lenguaje natural. Desarrollado principalmente por el laboratorio de investigación de IA de Meta (Facebook). Conocido por su flexibilidad y enfoque \"pythonico\".\n",
        "    *   **Uso Común:** Investigación y desarrollo en deep learning, construcción de redes neuronales con grafos computacionales dinámicos.\n",
        "\n",
        "### 4. Desarrollo Web\n",
        "\n",
        "*   **Flask**:\n",
        "    *   **Descripción:** Un \"microframework\" para desarrollo web en Python. Se llama micro porque no impone dependencias o una estructura de proyecto particular. Es ligero y extensible.\n",
        "    *   **Uso Común:** Creación de APIs RESTful, aplicaciones web pequeñas a medianas, prototipos rápidos.\n",
        "*   **Django**:\n",
        "    *   **Descripción:** Un framework web de Python de alto nivel que fomenta el desarrollo rápido y el diseño limpio y pragmático. Viene con \"baterías incluidas\", lo que significa que ofrece muchas funcionalidades comunes de serie (ORM, panel de administración, sistema de plantillas).\n",
        "    *   **Uso Común:** Desarrollo de aplicaciones web complejas y robustas, sitios web con bases de datos, portales.\n",
        "*   **Requests**:\n",
        "    *   **Descripción:** Una librería HTTP elegante y simple para Python, construida para humanos. Permite enviar solicitudes HTTP/1.1 de forma extremadamente fácil.\n",
        "    *   **Uso Común:** Interactuar con APIs web, descargar contenido de sitios web, automatizar tareas que involucran comunicación HTTP.\n",
        "*   **Beautiful Soup**:\n",
        "    *   **Descripción:** Una librería Python para extraer datos de archivos HTML y XML. Crea un árbol de parseo a partir del código fuente de la página que se puede utilizar para extraer datos de HTML de una manera útil y pythonica.\n",
        "    *   **Uso Común:** Web scraping (extracción de datos de páginas web).\n",
        "*   **FastAPI**:\n",
        "    *   **Descripción:** Un framework web moderno y rápido (de alto rendimiento) para construir APIs con Python 3.7+ basado en type hints estándar de Python. Conocido por su velocidad, facilidad de uso y documentación automática.\n",
        "    *   **Uso Común:** Creación de APIs RESTful de alto rendimiento, microservicios.\n",
        "\n",
        "### 5. Interacción con Bases de Datos\n",
        "\n",
        "*   **SQLAlchemy**:\n",
        "    *   **Descripción:** El SQL toolkit y Object Relational Mapper (ORM) de Python que ofrece a los desarrolladores de aplicaciones toda la potencia y flexibilidad de SQL. Proporciona un conjunto completo de patrones de persistencia de nivel empresarial diseñados para un acceso eficiente y de alto rendimiento a bases de datos.\n",
        "    *   **Uso Común:** Interactuar con bases de datos relacionales de forma programática, mapear objetos Python a tablas de base de datos (ORM).\n",
        "*   **Psycopg2** (para PostgreSQL), **mysql-connector-python** (para MySQL), etc.:\n",
        "    *   **Descripción:** Adaptadores de base de datos específicos que permiten a Python comunicarse con diferentes sistemas de gestión de bases de datos.\n",
        "    *   **Uso Común:** Conexión directa y ejecución de consultas SQL en bases de datos específicas.\n",
        "\n",
        "### 6. Desarrollo de Interfaces Gráficas de Usuario (GUI)\n",
        "\n",
        "*   **Tkinter**:\n",
        "    *   **Descripción:** La interfaz estándar de Python para el kit de herramientas GUI Tk. Es la forma más común de crear aplicaciones de escritorio con Python. Viene incluida en la librería estándar.\n",
        "    *   **Uso Común:** Creación de aplicaciones de escritorio simples y rápidas.\n",
        "*   **PyQt / PySide2 (Qt for Python)**:\n",
        "    *   **Descripción:** Bindings de Python para el framework Qt, una potente librería multiplataforma para crear interfaces gráficas de usuario. PyQt es la versión comercial (con licencia GPL) y PySide2 es la oficial de The Qt Company (con licencia LGPL).\n",
        "    *   **Uso Común:** Desarrollo de aplicaciones de escritorio multiplataforma con interfaces ricas y complejas.\n",
        "*   **Kivy**:\n",
        "    *   **Descripción:** Librería de Python de código abierto para el desarrollo rápido de aplicaciones que hacen uso de interfaces de usuario innovadoras, como las aplicaciones multitáctiles.\n",
        "    *   **Uso Común:** Desarrollo de aplicaciones con interfaces modernas, juegos, aplicaciones para dispositivos móviles.\n",
        "\n",
        "### 7. Automatización y Testing\n",
        "\n",
        "*   **Selenium**:\n",
        "    *   **Descripción:** Herramienta para automatizar navegadores web. Principalmente se utiliza para la automatización de pruebas de aplicaciones web, pero también para web scraping.\n",
        "    *   **Uso Común:** Pruebas de front-end, automatización de tareas en navegadores, extracción de datos de sitios dinámicos.\n",
        "*   **pytest**:\n",
        "    *   **Descripción:** Un framework de testing que hace que sea fácil escribir pruebas pequeñas, pero que escala para soportar pruebas funcionales complejas para aplicaciones y librerías.\n",
        "    *   **Uso Común:** Escribir y ejecutar pruebas unitarias, de integración y funcionales de forma eficiente.\n",
        "*   **Pillow (PIL Fork)**:\n",
        "    *   **Descripción:** La librería de imágenes de Python (PIL - Python Imaging Library) añade capacidades de procesamiento de imágenes a tu intérprete de Python. Este fork, Pillow, es el activamente desarrollado.\n",
        "    *   **Uso Común:** Abrir, manipular y guardar muchos formatos de archivo de imagen diferentes.\n",
        "\n",
        "### 8. Desarrollo de Juegos\n",
        "\n",
        "*   **Pygame**:\n",
        "    *   **Descripción:** Un conjunto de módulos de Python diseñados para escribir videojuegos. Añade funcionalidad sobre la excelente librería SDL.\n",
        "    *   **Uso Común:** Desarrollo de juegos 2D, aplicaciones multimedia.\n"
      ]
    }
  ],
  "metadata": {
    "kernelspec": {
      "display_name": "Python 3",
      "language": "python",
      "name": "python3"
    },
    "language_info": {
      "codemirror_mode": {
        "name": "ipython",
        "version": 3
      },
      "file_extension": ".py",
      "mimetype": "text/x-python",
      "name": "python",
      "nbconvert_exporter": "python",
      "pygments_lexer": "ipython3",
      "version": "3.13.3"
    }
  },
  "nbformat": 4,
  "nbformat_minor": 2
}
