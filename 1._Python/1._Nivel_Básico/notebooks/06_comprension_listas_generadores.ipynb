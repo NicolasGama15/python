{
  "cells": [
    {
      "cell_type": "markdown",
      "metadata": {},
      "source": [
        "# 1.  **Título del Tema**\n"
      ]
    },
    {
      "cell_type": "markdown",
      "metadata": {},
      "source": [
        "**Comprensión de Colecciones y Expresiones Generadoras en Python**"
      ]
    },
    {
      "cell_type": "markdown",
      "metadata": {},
      "source": [
        "# 2.  **Explicación Conceptual Detallada**\n"
      ]
    },
    {
      "cell_type": "markdown",
      "metadata": {},
      "source": [
        "*   **¿Qué son?**\n",
        "    *   **Comprensiones (List, Dict, Set Comprehensions):** Son una sintaxis concisa para crear listas, diccionarios o conjuntos a partir de uno o más iterables. Evalúan una expresión para cada elemento del iterable y, opcionalmente, pueden filtrar elementos usando una condición. El resultado es una *nueva* colección construida en memoria.\n",
        "    *   **Expresiones Generadoras (Generator Expressions):** Son sintácticamente muy similares a las comprensiones de listas, pero en lugar de construir una lista completa en memoria, crean un objeto generador. Este objeto generador produce los elementos uno por uno, bajo demanda (es decir, de forma \"perezosa\" o *lazy*)."
      ]
    },
    {
      "cell_type": "markdown",
      "metadata": {},
      "source": [
        "*   **¿Para qué se utilizan y su importancia?**\n",
        "    *   **Concisión y Legibilidad:** Reemplazan bucles `for` de varias líneas para la creación y transformación de colecciones, haciendo el código más compacto y, a menudo, más fácil de leer (una vez que te familiarizas con la sintaxis).\n",
        "    *   **Eficiencia:**\n",
        "        *   Las comprensiones pueden ser más rápidas que los bucles `for` explícitos para construir listas debido a optimizaciones internas en Python.\n",
        "        *   Las expresiones generadoras son extremadamente eficientes en cuanto a memoria, especialmente cuando se trabaja con grandes conjuntos de datos o secuencias infinitas, ya que no almacenan todos los elementos en memoria a la vez."
      ]
    },
    {
      "cell_type": "markdown",
      "metadata": {},
      "source": [
        "*   **Conceptos Clave Asociados:**\n",
        "    *   **Iterable:** Cualquier objeto en Python que se puede recorrer elemento por elemento (listas, tuplas, cadenas, rangos, archivos, etc.).\n",
        "    *   **Expresión:** La operación que se aplica a cada elemento.\n",
        "    *   **Cláusula `for`:** Especifica el iterable y la variable que tomará el valor de cada elemento.\n",
        "    *   **Cláusula `if` (opcional):** Filtra los elementos antes de aplicar la expresión."
      ]
    },
    {
      "cell_type": "markdown",
      "metadata": {},
      "source": [
        "*   **Sintaxis Fundamental:**\n",
        "    *   **List Comprehension:** `[expresion for elemento in iterable if condicion]`\n",
        "    *   **Dictionary Comprehension:** `{clave_expresion: valor_expresion for elemento in iterable if condicion}`\n",
        "    *   **Set Comprehension:** `{expresion for elemento in iterable if condicion}`\n",
        "    *   **Generator Expression:** `(expresion for elemento in iterable if condicion)` (¡Nota los paréntesis en lugar de corchetes!)"
      ]
    },
    {
      "cell_type": "markdown",
      "metadata": {},
      "source": [
        "*   **Errores Comunes a Tener en Cuenta:**\n",
        "    *   **Complejidad Excesiva:** Si una comprensión se vuelve demasiado larga o anidada, puede ser menos legible que un bucle `for` tradicional.\n",
        "    *   **Efectos Secundarios:** Las comprensiones están diseñadas para crear nuevas colecciones, no para ejecutar operaciones con efectos secundarios (como imprimir o modificar objetos externos) por cada elemento. Aunque técnicamente posible, no es su propósito principal y puede llevar a código confuso.\n",
        "    *   **Olvidar los Paréntesis para Generadores:** Usar corchetes `[]` crea una lista, usar paréntesis `()` crea un generador. Es una diferencia sutil pero crucial."
      ]
    },
    {
      "cell_type": "markdown",
      "metadata": {},
      "source": [
        "*   **Definición y Propósito:**\n",
        "    *   **Comprensiones:** Construir nuevas colecciones (listas, diccionarios, conjuntos) de forma declarativa y eficiente a partir de iterables existentes.\n",
        "    *   **Expresiones Generadoras:** Crear iteradores que producen valores bajo demanda, optimizando el uso de memoria."
      ]
    },
    {
      "cell_type": "markdown",
      "metadata": {},
      "source": [
        "*   **¿Cuándo y por qué se utiliza?**\n",
        "    *   **Comprensiones:** Cuando necesitas la colección completa en memoria para operaciones posteriores y la lógica de creación es relativamente simple (filtrado, transformación).\n",
        "    *   **Expresiones Generadoras:**\n",
        "        *   Al trabajar con conjuntos de datos muy grandes que no cabrían en memoria.\n",
        "        *   Al procesar flujos de datos (streams).\n",
        "        *   Cuando solo necesitas iterar sobre los resultados una vez.\n",
        "        *   Para crear secuencias potencialmente infinitas."
      ]
    },
    {
      "cell_type": "markdown",
      "metadata": {},
      "source": [
        "*   **¿Cómo funciona internamente (si aplica)?**\n",
        "    *   **Comprensiones:** Python las traduce internamente a un bucle optimizado. El proceso es *eager*: todos los elementos se calculan y almacenan inmediatamente.\n",
        "    *   **Expresiones Generadoras:** Crean un objeto generador. Este objeto implementa el protocolo iterador. Cuando se le pide el siguiente elemento (ej. en un bucle `for` o con `next()`), ejecuta el código de la expresión hasta que produce un valor (usando `yield` implícitamente). Luego, pausa su estado hasta que se le pide el siguiente valor. Esto se conoce como evaluación *lazy*.\n"
      ]
    },
    {
      "cell_type": "markdown",
      "metadata": {},
      "source": [
        "*   **Ventajas y Posibles Limitaciones:**\n",
        "    *   **Ventajas Comprensiones:**\n",
        "        *   Código más corto y legible para tareas comunes.\n",
        "        *   A menudo más rápido que bucles `for` manuales.\n",
        "    *   **Limitaciones Comprensiones:**\n",
        "        *   Consume memoria para toda la colección.\n",
        "        *   Puede volverse ilegible si es muy compleja.\n",
        "    *   **Ventajas Generadores:**\n",
        "        *   Muy eficientes en memoria.\n",
        "        *   Permiten trabajar con secuencias infinitas.\n",
        "        *   Composables: puedes encadenar generadores.\n",
        "    *   **Limitaciones Generadores:**\n",
        "        *   Solo se pueden iterar una vez. Si necesitas los datos varias veces, tendrás que recrear el generador o convertirlo a una lista.\n",
        "        *   El acceso aleatorio a elementos no es posible (debes iterar hasta el elemento deseado)."
      ]
    },
    {
      "cell_type": "markdown",
      "metadata": {},
      "source": [
        "*   **Buenas Prácticas Relacionadas:**\n",
        "    *   Mantén las comprensiones simples y legibles. Si una comprensión requiere más de dos o tres líneas o múltiples `for`/`if` anidados, considera usar un bucle `for` tradicional.\n",
        "    *   Prefiere expresiones generadoras sobre comprensiones de listas cuando trabajes con grandes volúmenes de datos o cuando no necesites la lista completa en memoria de inmediato.\n",
        "    *   Nombra tus variables en las comprensiones de forma clara.\n",
        "    *   Evita efectos secundarios dentro de las comprensiones."
      ]
    },
    {
      "cell_type": "markdown",
      "metadata": {},
      "source": [
        "# 3.  **Sintaxis y Ejemplos Básicos**\n"
      ]
    },
    {
      "cell_type": "markdown",
      "metadata": {},
      "source": [
        "**a) List Comprehension:**"
      ]
    },
    {
      "cell_type": "code",
      "execution_count": 1,
      "metadata": {},
      "outputs": [
        {
          "name": "stdout",
          "output_type": "stream",
          "text": [
            "[0, 1, 4, 9, 16]\n",
            "[0, 4, 16, 36, 64]\n"
          ]
        }
      ],
      "source": [
        "# Sintaxis: [expresion for elemento in iterable if condicion]\n",
        "\n",
        "# Ejemplo: Cuadrados de los números del 0 al 4\n",
        "cuadrados = [x**2 for x in range(5)]\n",
        "print(cuadrados)\n",
        "# Salida esperada: [0, 1, 4, 9, 16]\n",
        "\n",
        "# Ejemplo con condición: Cuadrados de números pares del 0 al 9\n",
        "cuadrados_pares = [x**2 for x in range(10) if x % 2 == 0]\n",
        "print(cuadrados_pares)\n",
        "# Salida esperada: [0, 4, 16, 36, 64]"
      ]
    },
    {
      "cell_type": "markdown",
      "metadata": {},
      "source": [
        "**b) Dictionary Comprehension:**"
      ]
    },
    {
      "cell_type": "code",
      "execution_count": 2,
      "metadata": {},
      "outputs": [
        {
          "name": "stdout",
          "output_type": "stream",
          "text": [
            "{0: 0, 1: 1, 2: 4, 3: 9, 4: 16}\n",
            "{'Bob': 3}\n"
          ]
        }
      ],
      "source": [
        "# Sintaxis: {clave_exp: valor_exp for elemento in iterable if condicion}\n",
        "\n",
        "# Ejemplo: Crear un diccionario con números y sus cuadrados\n",
        "dict_cuadrados = {x: x**2 for x in range(5)}\n",
        "print(dict_cuadrados)\n",
        "# Salida esperada: {0: 0, 1: 1, 2: 4, 3: 9, 4: 16}\n",
        "\n",
        "# Ejemplo con condición:\n",
        "nombres = [\"Alice\", \"Bob\", \"Charlie\"]\n",
        "dict_longitudes_nombres_cortos = {nombre: len(nombre) for nombre in nombres if len(nombre) < 5}\n",
        "print(dict_longitudes_nombres_cortos)\n",
        "# Salida esperada: {'Bob': 3}"
      ]
    },
    {
      "cell_type": "markdown",
      "metadata": {},
      "source": [
        "**c) Set Comprehension:**"
      ]
    },
    {
      "cell_type": "code",
      "execution_count": 3,
      "metadata": {},
      "outputs": [
        {
          "name": "stdout",
          "output_type": "stream",
          "text": [
            "{0, 1, 4, 9, 16}\n",
            "{1, 2, 3, 4}\n"
          ]
        }
      ],
      "source": [
        "# Sintaxis: {expresion for elemento in iterable if condicion}\n",
        "\n",
        "# Ejemplo: Conjunto de cuadrados de números del 0 al 4\n",
        "set_cuadrados = {x**2 for x in range(5)}\n",
        "print(set_cuadrados)\n",
        "# Salida esperada (el orden puede variar): {0, 1, 4, 9, 16}\n",
        "\n",
        "# Ejemplo con duplicados en la entrada:\n",
        "numeros_con_duplicados = [1, 2, 2, 3, 3, 3, 4]\n",
        "set_unicos = {x for x in numeros_con_duplicados}\n",
        "print(set_unicos)\n",
        "# Salida esperada (el orden puede variar): {1, 2, 3, 4}"
      ]
    },
    {
      "cell_type": "markdown",
      "metadata": {},
      "source": [
        "**d) Generator Expression:**"
      ]
    },
    {
      "cell_type": "code",
      "execution_count": 4,
      "metadata": {},
      "outputs": [
        {
          "name": "stdout",
          "output_type": "stream",
          "text": [
            "<generator object <genexpr> at 0x000001EF742C4520>\n",
            "Valores del generador:\n",
            "0\n",
            "1\n",
            "4\n",
            "9\n",
            "16\n",
            "\n",
            "Intentando iterar de nuevo sobre el mismo generador:\n",
            "\n",
            "Lista desde generador: [0, 1, 4]\n"
          ]
        }
      ],
      "source": [
        "# Sintaxis: (expresion for elemento in iterable if condicion)\n",
        "\n",
        "# Ejemplo: Generador de cuadrados de números del 0 al 4\n",
        "gen_cuadrados = (x**2 for x in range(5))\n",
        "print(gen_cuadrados)  # Imprime el objeto generador, no los valores\n",
        "# Salida esperada: <generator object <genexpr> at 0x...> (la dirección de memoria variará)\n",
        "\n",
        "# Para obtener los valores, necesitas iterar sobre él:\n",
        "print(\"Valores del generador:\")\n",
        "for valor in gen_cuadrados:\n",
        "    print(valor)\n",
        "# Salida esperada:\n",
        "# Valores del generador:\n",
        "# 0\n",
        "# 1\n",
        "# 4\n",
        "# 9\n",
        "# 16\n",
        "\n",
        "# Importante: Un generador se agota después de iterar sobre él una vez.\n",
        "# Si intentas iterar de nuevo, no producirá más valores.\n",
        "print(\"\\nIntentando iterar de nuevo sobre el mismo generador:\")\n",
        "for valor in gen_cuadrados:\n",
        "    print(valor) # No imprimirá nada, ya que el generador se agotó\n",
        "# Salida esperada:\n",
        "# Intentando iterar de nuevo sobre el mismo generador:\n",
        "# (nada)\n",
        "\n",
        "# Puedes convertir un generador a una lista si necesitas todos los elementos a la vez:\n",
        "gen_cuadrados_nuevamente = (x**2 for x in range(3))\n",
        "lista_desde_generador = list(gen_cuadrados_nuevamente)\n",
        "print(f\"\\nLista desde generador: {lista_desde_generador}\")\n",
        "# Salida esperada:\n",
        "# Lista desde generador: [0, 1, 4]"
      ]
    },
    {
      "cell_type": "markdown",
      "metadata": {},
      "source": [
        "# 4.  **Documentación y Recursos Clave**\n"
      ]
    },
    {
      "cell_type": "markdown",
      "metadata": {},
      "source": [
        "*   **Documentación Oficial de Python:**\n",
        "    *   List Comprehensions (Data Structures): [Python Docs - List Comprehensions](https://docs.python.org/3/tutorial/datastructures.html#list-comprehensions)\n",
        "    *   Generator Expressions (se mencionan en el contexto de generadores): [Python Docs - Generator Expressions](https://docs.python.org/3/reference/expressions.html#generator-expressions)\n",
        "    *   PEP 289 -- Generator Expressions (más técnico, pero es la propuesta original): [PEP 289](https://peps.python.org/pep-0289/)\n",
        "*   **Recursos Externos de Alta Calidad:**\n",
        "    *   Real Python - List Comprehensions in Python: [Real Python - List Comprehensions](https://realpython.com/list-comprehension-python/) (Excelente tutorial con muchos ejemplos)\n",
        "    *   Real Python - Python Generators: [Real Python - Generators](https://realpython.com/introduction-to-python-generators/) (Cubre expresiones generadoras y funciones generadoras)\n"
      ]
    },
    {
      "cell_type": "markdown",
      "metadata": {},
      "source": [
        "# 5.  **Ejemplos de Código Prácticos**\n"
      ]
    },
    {
      "cell_type": "markdown",
      "metadata": {},
      "source": [
        "**Ejemplo 1: List Comprehension - Filtrar y transformar datos**"
      ]
    },
    {
      "cell_type": "code",
      "execution_count": 5,
      "metadata": {},
      "outputs": [
        {
          "name": "stdout",
          "output_type": "stream",
          "text": [
            "Temperaturas originales en Celsius: [0, 10, 15, 22, 30, -5, 35]\n",
            "Temperaturas cálidas en Fahrenheit: [59.0, 71.6, 86.0, 95.0]\n"
          ]
        }
      ],
      "source": [
        "# Lista de temperaturas en Celsius\n",
        "temperaturas_celsius = [0, 10, 15, 22, 30, -5, 35]\n",
        "\n",
        "# Convertir a Fahrenheit solo las temperaturas por encima de 10°C\n",
        "# Fórmula: F = C * 9/5 + 32\n",
        "temperaturas_fahrenheit_filtradas = [\n",
        "    (c * 9/5 + 32) for c in temperaturas_celsius if c > 10\n",
        "]\n",
        "\n",
        "print(f\"Temperaturas originales en Celsius: {temperaturas_celsius}\")\n",
        "print(f\"Temperaturas cálidas en Fahrenheit: {temperaturas_fahrenheit_filtradas}\")\n",
        "\n",
        "# Salida esperada:\n",
        "# Temperaturas originales en Celsius: [0, 10, 15, 22, 30, -5, 35]\n",
        "# Temperaturas cálidas en Fahrenheit: [59.0, 71.6, 86.0, 95.0]"
      ]
    },
    {
      "cell_type": "markdown",
      "metadata": {},
      "source": [
        "**Ejemplo 2: Dictionary Comprehension - Crear un diccionario a partir de otras estructuras**"
      ]
    },
    {
      "cell_type": "code",
      "execution_count": 6,
      "metadata": {},
      "outputs": [
        {
          "name": "stdout",
          "output_type": "stream",
          "text": [
            "Diccionario de estudiantes aprobados: {'Ana': 90, 'Eva': 98, 'Juan': 82}\n",
            "Diccionario de aprobados (usando zip): {'Ana': 90, 'Eva': 98, 'Juan': 82}\n",
            "Productos por ranking: {1: 'productoA', 2: 'productoB', 3: 'productoC'}\n"
          ]
        }
      ],
      "source": [
        "# Dos listas: nombres de estudiantes y sus calificaciones\n",
        "estudiantes = [\"Ana\", \"Luis\", \"Eva\", \"Juan\"]\n",
        "calificaciones = [90, 75, 98, 82]\n",
        "\n",
        "# Crear un diccionario donde las claves son los nombres y los valores son las calificaciones\n",
        "# Solo para estudiantes con calificación >= 80\n",
        "diccionario_aprobados = {\n",
        "    estudiantes[i]: calificaciones[i]\n",
        "    for i in range(len(estudiantes)) # Iteramos usando índices\n",
        "    if calificaciones[i] >= 80\n",
        "}\n",
        "print(f\"Diccionario de estudiantes aprobados: {diccionario_aprobados}\")\n",
        "\n",
        "# Otra forma usando zip() que es más \"Pythonic\"\n",
        "diccionario_aprobados_zip = {\n",
        "    nombre: calificacion\n",
        "    for nombre, calificacion in zip(estudiantes, calificaciones) # zip combina las listas\n",
        "    if calificacion >= 80\n",
        "}\n",
        "print(f\"Diccionario de aprobados (usando zip): {diccionario_aprobados_zip}\")\n",
        "\n",
        "\n",
        "# Invertir un diccionario (claves se vuelven valores y viceversa)\n",
        "# ¡Cuidado con valores duplicados en el diccionario original, ya que las claves deben ser únicas!\n",
        "ranking_productos = {\"productoA\": 1, \"productoB\": 2, \"productoC\": 3}\n",
        "productos_por_ranking = {rank: prod for prod, rank in ranking_productos.items()}\n",
        "print(f\"Productos por ranking: {productos_por_ranking}\")\n",
        "\n",
        "\n",
        "# Salida esperada:\n",
        "# Diccionario de estudiantes aprobados: {'Ana': 90, 'Eva': 98, 'Juan': 82}\n",
        "# Diccionario de aprobados (usando zip): {'Ana': 90, 'Eva': 98, 'Juan': 82}\n",
        "# Productos por ranking: {1: 'productoA', 2: 'productoB', 3: 'productoC'}"
      ]
    },
    {
      "cell_type": "markdown",
      "metadata": {},
      "source": [
        "**Ejemplo 3: Set Comprehension - Encontrar elementos únicos modificados**"
      ]
    },
    {
      "cell_type": "code",
      "execution_count": 7,
      "metadata": {},
      "outputs": [
        {
          "name": "stdout",
          "output_type": "stream",
          "text": [
            "Palabras originales: ['el', 'rápido', 'zorro', 'marrón', 'salta', 'sobre', 'el', 'perro', 'perezoso']\n",
            "Longitudes de palabras únicas (>3 letras): {8, 5, 6}\n"
          ]
        }
      ],
      "source": [
        "# Lista de palabras\n",
        "frase = \"el rápido zorro marrón salta sobre el perro perezoso\"\n",
        "palabras = frase.split()\n",
        "\n",
        "# Crear un conjunto con la longitud de cada palabra única que tenga más de 3 letras\n",
        "longitudes_palabras_unicas_largas = {\n",
        "    len(palabra) for palabra in palabras if len(palabra) > 3\n",
        "}\n",
        "\n",
        "print(f\"Palabras originales: {palabras}\")\n",
        "print(f\"Longitudes de palabras únicas (>3 letras): {longitudes_palabras_unicas_largas}\")\n",
        "# El resultado es un conjunto, por lo que los duplicados de longitudes se eliminan\n",
        "# y el orden no está garantizado.\n",
        "\n",
        "# Salida esperada (el orden de los elementos en el conjunto puede variar):\n",
        "# Palabras originales: ['el', 'rápido', 'zorro', 'marrón', 'salta', 'sobre', 'el', 'perro', 'perezoso']\n",
        "# Longitudes de palabras únicas (>3 letras): {5, 6, 8}\n",
        "# (rápido:6, zorro:5, marrón:6, salta:5, sobre:5, perro:5, perezoso:8 -> únicas longitudes {5,6,8})"
      ]
    },
    {
      "cell_type": "markdown",
      "metadata": {},
      "source": [
        "**Ejemplo 4: Generator Expression - Procesar datos grandes eficientemente**"
      ]
    },
    {
      "cell_type": "code",
      "execution_count": 8,
      "metadata": {},
      "outputs": [
        {
          "name": "stdout",
          "output_type": "stream",
          "text": [
            "Suma de cuadrados de números pares hasta 1,000,000: 166667166667000000\n",
            "\n",
            "Iterando sobre el generador 'gen_procesado':\n",
            "Procesando 0...\n",
            "Valor obtenido: 0\n",
            "Procesando 1...\n",
            "Valor obtenido: 1\n",
            "Procesando 2...\n",
            "Valor obtenido: 4\n",
            "Procesando 3...\n",
            "Valor obtenido: 9\n",
            "Procesando 4...\n",
            "Valor obtenido: 16\n"
          ]
        }
      ],
      "source": [
        "# Simular un archivo grande o un flujo de datos con una lista de números\n",
        "# En un caso real, podrías estar leyendo líneas de un archivo\n",
        "datos_grandes = range(1, 1_000_001) # Un millón de números\n",
        "\n",
        "# Queremos sumar los cuadrados de todos los números pares\n",
        "# Si usamos una list comprehension, crearía una lista con 500,000 cuadrados.\n",
        "# lista_cuadrados_pares = [x**2 for x in datos_grandes if x % 2 == 0]\n",
        "# suma = sum(lista_cuadrados_pares) # Esto consumiría mucha memoria\n",
        "\n",
        "# Usando una generator expression:\n",
        "gen_cuadrados_pares = (x**2 for x in datos_grandes if x % 2 == 0)\n",
        "\n",
        "# El generador no calcula todos los cuadrados de inmediato.\n",
        "# La función sum() itera sobre el generador, consumiendo un valor a la vez.\n",
        "suma_eficiente = sum(gen_cuadrados_pares)\n",
        "\n",
        "print(f\"Suma de cuadrados de números pares hasta 1,000,000: {suma_eficiente}\")\n",
        "# Esta operación se realiza sin crear una lista intermedia masiva en memoria.\n",
        "\n",
        "# Para ilustrar la naturaleza \"lazy\" (perezosa):\n",
        "def procesar_numero(n):\n",
        "    print(f\"Procesando {n}...\")\n",
        "    return n * n\n",
        "\n",
        "# Generador que llama a la función `procesar_numero`\n",
        "gen_procesado = (procesar_numero(x) for x in range(5))\n",
        "\n",
        "print(\"\\nIterando sobre el generador 'gen_procesado':\")\n",
        "# Verás que \"Procesando X...\" se imprime justo antes de que cada valor sea necesario\n",
        "for valor in gen_procesado:\n",
        "    print(f\"Valor obtenido: {valor}\")\n",
        "\n",
        "# Salida esperada (la suma grande es un número muy largo):\n",
        "# Suma de cuadrados de números pares hasta 1,000,000: 166667166667000000 (este valor es aproximado, el cálculo exacto es grande)\n",
        "#\n",
        "# Iterando sobre el generador 'gen_procesado':\n",
        "# Procesando 0...\n",
        "# Valor obtenido: 0\n",
        "# Procesando 1...\n",
        "# Valor obtenido: 1\n",
        "# Procesando 2...\n",
        "# Valor obtenido: 4\n",
        "# Procesando 3...\n",
        "# Valor obtenido: 9\n",
        "# Procesando 4...\n",
        "# Valor obtenido: 16"
      ]
    },
    {
      "cell_type": "code",
      "execution_count": 9,
      "metadata": {},
      "outputs": [
        {
          "name": "stdout",
          "output_type": "stream",
          "text": [
            "Suma de cuadrados de números pares (1 a 1,000,000): 166667166667000000\n"
          ]
        }
      ],
      "source": [
        "# Corrección del cálculo de suma_eficiente para range(1, 1_000_001)\n",
        "datos_grandes = range(1, 1_000_001)\n",
        "gen_cuadrados_pares = (x**2 for x in datos_grandes if x % 2 == 0)\n",
        "suma_eficiente = sum(gen_cuadrados_pares)\n",
        "print(f\"Suma de cuadrados de números pares (1 a 1,000,000): {suma_eficiente}\")\n",
        "# Salida: Suma de cuadrados de números pares (1 a 1,000,000): 166833166500"
      ]
    },
    {
      "cell_type": "markdown",
      "metadata": {},
      "source": [
        "# 6.  **Ejercicio Práctico**\n"
      ]
    },
    {
      "cell_type": "markdown",
      "metadata": {},
      "source": [
        "**Contexto:** Tienes una lista de tuplas, donde cada tupla contiene el nombre de un producto y su precio. Quieres realizar algunas transformaciones y filtrados.\n",
        "\n",
        "**Lista de Productos:**\n",
        "`productos = [(\"Manzana\", 1.0), (\"Banana\", 0.5), (\"Naranja\", 0.75), (\"Leche\", 2.5), (\"Pan\", 1.5), (\"Queso\", 4.0)]`\n",
        "\n",
        "**Tareas:**\n",
        "\n",
        "1.  **Productos Caros:** Usando una **list comprehension**, crea una nueva lista llamada `productos_caros` que contenga solo los nombres de los productos cuyo precio sea mayor a $1.25.\n",
        "2.  **Precios con IVA:** Usando una **dictionary comprehension**, crea un diccionario llamado `precios_con_iva` donde las claves sean los nombres de los productos y los valores sean sus precios con un 21% de IVA añadido (`precio * 1.21`).\n",
        "3.  **Generador de Nombres de Frutas:** Supongamos que tienes una lista más grande y solo te interesan las frutas. Crea una **expresión generadora** llamada `gen_nombres_frutas` que produzca los nombres de los productos que consideres frutas (ej. \"Manzana\", \"Banana\", \"Naranja\"). Luego, itera sobre el generador e imprime cada nombre.\n",
        "\n",
        "**Pista:** Para la tarea 3, puedes definir una pequeña lista de nombres de frutas conocidas para ayudarte a filtrar. Recuerda que las expresiones generadoras se definen con `()`."
      ]
    },
    {
      "cell_type": "code",
      "execution_count": 41,
      "metadata": {},
      "outputs": [
        {
          "name": "stdout",
          "output_type": "stream",
          "text": [
            "productos_caros: ['Leche', 'Pan', 'Queso']\n",
            "precios_con_iva: {'Manzana': 1.21, 'Banana': 0.605, 'Naranja': 0.9075, 'Leche': 3.025, 'Pan': 1.815, 'Queso': 4.84}\n",
            "frutas generadas : Manzana\n",
            "frutas generadas : Banana\n",
            "frutas generadas : Naranja\n"
          ]
        }
      ],
      "source": [
        "productos = [(\"Manzana\", 1.0), (\"Banana\", 0.5), (\"Naranja\", 0.75), (\"Leche\", 2.5), (\"Pan\", 1.5), (\"Queso\", 4.0)]\n",
        "frutas = [\"Manzana\", \"Banana\", \"Naranja\",\"Pera\"]\n",
        "\n",
        "productos_caros = [producto for producto, precio in productos if precio > 1.25]\n",
        "print(f\"productos_caros: {productos_caros}\")\n",
        "\n",
        "precios_con_iva = {producto : precio*1.21 for producto, precio in productos}\n",
        "print(f\"precios_con_iva: {precios_con_iva}\")\n",
        "\n",
        "gen_nombres_frutas = (producto for producto, precio in productos if producto in frutas)\n",
        "\n",
        "for fruta in gen_nombres_frutas:\n",
        "    print(f\"frutas generadas : {fruta}\")"
      ]
    },
    {
      "cell_type": "markdown",
      "metadata": {},
      "source": [
        "# 7.  **Conexión con Otros Temas**\n"
      ]
    },
    {
      "cell_type": "markdown",
      "metadata": {},
      "source": [
        "*   **Conceptos que deberías conocer previamente:**\n",
        "    *   **Tipos de Datos Básicos:** Listas, tuplas, diccionarios, conjuntos, cadenas.\n",
        "    *   **Bucles `for`:** Las comprensiones son una forma alternativa y concisa de escribir muchos bucles `for`.\n",
        "    *   **Condicionales `if`/`else`:** Usados para filtrar en las comprensiones.\n",
        "    *   **Iterables e Iteradores:** Fundamental para entender cómo las comprensiones recorren datos y, especialmente, cómo funcionan los generadores (los generadores *son* iteradores).\n",
        "    *   **Funciones Básicas:** Como `len()`, `range()`, `zip()`."
      ]
    },
    {
      "cell_type": "markdown",
      "metadata": {},
      "source": [
        "*   **Temas futuros para los que este conocimiento será importante:**\n",
        "    *   **Programación Funcional:** Las comprensiones y generadores son herramientas que se alinean bien con los principios de la programación funcional (como `map` y `filter`, aunque las comprensiones suelen ser más \"Pythonic\").\n",
        "    *   **Manejo de Archivos y Flujos de Datos:** Las expresiones generadoras son ideales para procesar archivos grandes línea por línea o cualquier flujo de datos sin cargar todo en memoria.\n",
        "    *   **Generadores Avanzados (Funciones Generadoras con `yield`):** Las expresiones generadoras son una forma simple de crear generadores. Las funciones generadoras (que usan la palabra clave `yield`) te dan más control para crear iteradores complejos.\n",
        "    *   **Bibliotecas de Análisis de Datos (ej. Pandas):** Aunque Pandas tiene sus propias operaciones vectorizadas de alta eficiencia, la comprensión de cómo transformar y filtrar datos es fundamental, y a veces usarás comprensiones para tareas de preprocesamiento o personalizadas.\n",
        "    *   **Corrutinas y Programación Asíncrona (`async/await`):** Los generadores son la base conceptual de las corrutinas en Python."
      ]
    },
    {
      "cell_type": "markdown",
      "metadata": {},
      "source": [
        "# 8.  **Aplicaciones en el Mundo Real**\n"
      ]
    },
    {
      "cell_type": "markdown",
      "metadata": {},
      "source": [
        "1.  **Análisis y Limpieza de Datos:**\n",
        "    *   Leer un archivo CSV y transformar ciertas columnas: `[float(row[2]) * 1.1 for row in csv_reader if row[0] == 'VENTA']` (multiplicar el precio de venta por 1.1).\n",
        "    *   Filtrar registros de logs: `[line for line in log_file if \"ERROR\" in line]` para obtener solo las líneas de error.\n",
        "    *   Crear diccionarios para búsquedas rápidas a partir de listas de objetos.\n",
        "\n",
        "2.  **Procesamiento de Texto y Web Scraping:**\n",
        "    *   Extraer todas las URLs de una lista de cadenas de texto HTML: `{url for text in html_lines for url in extract_urls(text)}` (usando una función `extract_urls`).\n",
        "    *   Normalizar palabras: `[palabra.lower().strip(\".,?!\") for palabra in lista_de_palabras]`\n",
        "    *   Contar la frecuencia de palabras (usando `collections.Counter` con una comprensión o generador como entrada).\n",
        "\n",
        "3.  **Generación de Datos de Prueba o Secuencias:**\n",
        "    *   Crear una lista de tuplas para pruebas: `[(x, x*x, x*x*x) for x in range(100)]`.\n",
        "    *   Un generador para una secuencia matemática que se usa en un cálculo más grande, evitando almacenar todos los términos intermedios.\n"
      ]
    }
  ],
  "metadata": {
    "kernelspec": {
      "display_name": "Python 3",
      "language": "python",
      "name": "python3"
    },
    "language_info": {
      "codemirror_mode": {
        "name": "ipython",
        "version": 3
      },
      "file_extension": ".py",
      "mimetype": "text/x-python",
      "name": "python",
      "nbconvert_exporter": "python",
      "pygments_lexer": "ipython3",
      "version": "3.13.3"
    }
  },
  "nbformat": 4,
  "nbformat_minor": 2
}
