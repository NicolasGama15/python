{
  "cells": [
    {
      "cell_type": "markdown",
      "metadata": {},
      "source": [
        "# 1.  **Título del Tema**\n"
      ]
    },
    {
      "cell_type": "markdown",
      "metadata": {},
      "source": [
        "**Dominando el Control de Versiones con Git y GitHub/GitLab**"
      ]
    },
    {
      "cell_type": "markdown",
      "metadata": {},
      "source": [
        "# 2.  **Explicación Conceptual Detallada**\n"
      ]
    },
    {
      "cell_type": "markdown",
      "metadata": {},
      "source": [
        "*   **¿Qué es el Control de Versiones?**\n",
        "    Es un sistema que registra los cambios realizados en un archivo o conjunto de archivos a lo largo del tiempo, de modo que puedas recuperar versiones específicas más adelante. Permite revertir archivos a un estado anterior, revertir el proyecto entero a un estado anterior, comparar cambios a lo largo del tiempo, ver quién modificó algo por última vez que podría estar causando un problema, y mucho más."
      ]
    },
    {
      "cell_type": "markdown",
      "metadata": {},
      "source": [
        "*   **¿Qué es Git?**\n",
        "    Git es un **Sistema de Control de Versiones Distribuido (DVCS)**. \"Distribuido\" significa que cada desarrollador tiene una copia completa del historial del proyecto en su máquina local, lo que permite trabajar offline y ofrece gran velocidad y redundancia. Git es la herramienta de línea de comandos que realiza el seguimiento de estos cambios. No depende de un servidor central para funcionar (aunque se usa frecuentemente con ellos)."
      ]
    },
    {
      "cell_type": "markdown",
      "metadata": {},
      "source": [
        "*   **¿Para qué se utiliza?**\n",
        "    *   **Rastrear el historial de cambios:** Saber qué cambió, cuándo y por quién.\n",
        "    *   **Colaboración en equipo:** Permite que múltiples personas trabajen en el mismo proyecto simultáneamente sin sobrescribir el trabajo de los demás.\n",
        "    *   **Ramificación (Branching):** Crear líneas de desarrollo independientes (ramas) para trabajar en nuevas características o corregir errores sin afectar la versión principal del código (la \"estable\").\n",
        "    *   **Fusión (Merging):** Combinar los cambios de diferentes ramas.\n",
        "    *   **Revertir errores:** Volver a versiones anteriores si se introduce un error.\n",
        "    *   **Experimentación segura:** Probar nuevas ideas en una rama sin riesgo para el proyecto principal."
      ]
    },
    {
      "cell_type": "markdown",
      "metadata": {},
      "source": [
        "*   **Importancia en Python (y cualquier desarrollo de software):**\n",
        "    En proyectos de Python, desde simples scripts hasta aplicaciones web complejas, el código evoluciona.\n",
        "    *   **Manejo de Proyectos:** Te ayuda a organizar tu proyecto, especialmente a medida que crece.\n",
        "    *   **Colaboración:** Esencial si trabajas con otros desarrolladores Python.\n",
        "    *   **Despliegue:** Facilita el seguimiento de qué versión del código está en producción.\n",
        "    *   **Bibliotecas y Entornos:** Puedes rastrear cambios en tus archivos de requisitos (`requirements.txt`) junto con tu código.\n",
        "    *   **Jupyter Notebooks:** ¡Sí! Los archivos `.ipynb` son archivos de texto (JSON) y pueden ser versionados con Git. Aunque la visualización de diferencias (diffs) puede ser un poco más compleja que con archivos `.py` puros, herramientas como `nbdime` ayudan mucho."
      ]
    },
    {
      "cell_type": "markdown",
      "metadata": {},
      "source": [
        "*   **Conceptos Clave Asociados:**\n",
        "    *   **Repositorio (Repository o \"Repo\"):** Es la base de datos donde Git almacena todo el historial de cambios y metadatos de tu proyecto. Puede ser local (en tu máquina) o remoto (en plataformas como GitHub).\n",
        "    *   **Commit (Confirmación):** Una \"instantánea\" o \"punto de guardado\" de tu proyecto en un momento específico. Cada commit tiene un mensaje descriptivo.\n",
        "    *   **Branch (Rama):** Una línea de desarrollo independiente. La rama principal suele llamarse `main` (anteriormente `master`).\n",
        "    *   **Merge (Fusión):** El proceso de combinar los cambios de una rama en otra.\n",
        "    *   **Clone (Clonar):** Crear una copia local de un repositorio remoto.\n",
        "    *   **Push (Empujar):** Enviar tus commits locales a un repositorio remoto.\n",
        "    *   **Pull (Tirar):** Traer los cambios de un repositorio remoto a tu repositorio local.\n",
        "    *   **Fetch (Obtener):** Similar a `pull`, pero solo descarga los cambios sin intentar fusionarlos automáticamente.\n",
        "    *   **HEAD:** Un puntero que generalmente apunta al último commit de la rama actual.\n",
        "    *   **Staging Area (Área de Preparación) / Index:** Un paso intermedio donde preparas los archivos que quieres incluir en tu próximo commit.\n",
        "    *   **GitHub/GitLab/Bitbucket:** Plataformas web que alojan repositorios Git remotos y proporcionan herramientas adicionales para la colaboración (gestión de incidencias, revisión de código, etc.)."
      ]
    },
    {
      "cell_type": "markdown",
      "metadata": {},
      "source": [
        "*   **Errores Comunes a Tener en Cuenta:**\n",
        "    *   Olvidar `git add` antes de `git commit` (tus cambios no se incluirán).\n",
        "    *   Hacer commits con mensajes poco descriptivos (ej. \"cambios\").\n",
        "    *   Conflictos de fusión (cuando Git no puede combinar automáticamente cambios en el mismo archivo).\n",
        "    *   Empujar accidentalmente código no deseado o sensible a un repositorio público.\n",
        "    *   Trabajar siempre en la rama principal en lugar de usar ramas para nuevas características."
      ]
    },
    {
      "cell_type": "markdown",
      "metadata": {},
      "source": [
        "*   **Ventajas:**\n",
        "    *   **Historial Completo:** Cada cambio queda registrado.\n",
        "    *   **Colaboración Eficiente:** Facilita el trabajo en equipo.\n",
        "    *   **Desarrollo Paralelo:** Las ramas permiten trabajar en múltiples cosas a la vez.\n",
        "    *   **Recuperación de Errores:** Fácil volver atrás.\n",
        "    *   **Integridad:** Git usa sumas de comprobación (checksums) para asegurar la integridad de los datos.\n",
        "    *   **Flexibilidad:** Funciona para proyectos pequeños y muy grandes."
      ]
    },
    {
      "cell_type": "markdown",
      "metadata": {},
      "source": [
        "*   **Posibles Limitaciones:**\n",
        "    *   **Curva de Aprendizaje:** Git tiene muchos comandos y conceptos.\n",
        "    *   **Archivos Binarios Grandes:** Git no es ideal para versionar archivos binarios muy grandes y que cambian frecuentemente (ej. videos, ejecutables compilados muy grandes), aunque existen extensiones como Git LFS (Large File Storage).\n",
        "    *   **Conflictos de Fusión:** Pueden ser tediosos de resolver si no se manejan con cuidado."
      ]
    },
    {
      "cell_type": "markdown",
      "metadata": {},
      "source": [
        "*   **Buenas Prácticas Relacionadas:**\n",
        "    *   **Commits Atómicos:** Cada commit debe representar un cambio lógico y completo.\n",
        "    *   **Mensajes de Commit Claros:** Escribe mensajes descriptivos que expliquen *qué* cambiaste y *por qué*.\n",
        "    *   **Usar Ramas:** Crea ramas para nuevas características, corrección de errores, etc. No trabajes directamente en `main` todo el tiempo.\n",
        "    *   **Fusionar Frecuentemente:** Integra los cambios de la rama principal en tu rama de característica (y viceversa) para evitar conflictos grandes.\n",
        "    *   **Probar Antes de Commitear y Empujar:** Asegúrate de que tu código funciona.\n",
        "    *   **`.gitignore`:** Usa un archivo `.gitignore` para especificar archivos y directorios que Git debe ignorar (ej. archivos de caché, dependencias instaladas, secretos)."
      ]
    },
    {
      "cell_type": "markdown",
      "metadata": {},
      "source": [
        "# 3.  **Sintaxis y Ejemplos Básicos**\n"
      ]
    },
    {
      "cell_type": "markdown",
      "metadata": {},
      "source": [
        "Git se utiliza principalmente desde la línea de comandos (terminal o Git Bash en Windows). En Jupyter Notebook, puedes ejecutar estos comandos en una celda precediéndolos con `!`.\n",
        "\n",
        "**Configuración Inicial (solo una vez por máquina):**\n",
        "```bash\n",
        "!git config --global user.name \"Tu Nombre\"\n",
        "!git config --global user.email \"tu_email@example.com\"\n",
        "```"
      ]
    },
    {
      "cell_type": "markdown",
      "metadata": {},
      "source": [
        "**Comandos Fundamentales en un Flujo de Trabajo Básico:**\n",
        "\n",
        "1.  **`git init`**: Inicializa un nuevo repositorio Git en el directorio actual.\n",
        "    ```bash\n",
        "    # En la terminal, navega a la carpeta de tu proyecto\n",
        "    # mkdir mi_proyecto_python\n",
        "    # cd mi_proyecto_python\n",
        "    !git init\n",
        "    ```\n",
        "\n",
        "2.  **`git status`**: Muestra el estado de tus archivos (modificados, preparados, no rastreados).\n",
        "    ```bash\n",
        "    !git status\n",
        "    ```\n",
        "\n",
        "3.  **`git add <nombre_del_archivo>`** o **`git add .`**: Añade archivos al área de preparación (staging area). `.` añade todos los cambios.\n",
        "    ```bash\n",
        "    # Supongamos que creas un archivo llamado 'script.py'\n",
        "    # !touch script.py # Crea un archivo vacío (o créalo desde Jupyter)\n",
        "    !git add script.py\n",
        "    # o para añadir todos los archivos nuevos/modificados en el directorio actual y subdirectorios\n",
        "    # !git add .\n",
        "    ```\n",
        "\n",
        "4.  **`git commit -m \"Mensaje descriptivo del commit\"`**: Guarda los cambios preparados en el historial del repositorio.\n",
        "    ```bash\n",
        "    !git commit -m \"Commit inicial: Añadido script.py\"\n",
        "    ```\n",
        "\n",
        "5.  **`git log`**: Muestra el historial de commits.\n",
        "    ```bash\n",
        "    !git log\n",
        "    # Para una vista más concisa:\n",
        "    # !git log --oneline --graph --decorate --all\n",
        "    ```\n",
        "\n",
        "6.  **`git branch <nombre_de_rama>`**: Crea una nueva rama.\n",
        "    ```bash\n",
        "    !git branch nueva-funcionalidad\n",
        "    ```\n",
        "\n",
        "7.  **`git checkout <nombre_de_rama>`** o **`git switch <nombre_de_rama>`** (más nuevo): Cambia a una rama existente.\n",
        "    ```bash\n",
        "    !git checkout nueva-funcionalidad\n",
        "    # o !git switch nueva-funcionalidad\n",
        "    ```\n",
        "\n",
        "8.  **`git merge <nombre_de_rama_a_fusionar>`**: Fusiona los cambios de la rama especificada en la rama actual.\n",
        "    ```bash\n",
        "    # Primero, vuelve a la rama donde quieres fusionar los cambios (ej. main)\n",
        "    # !git checkout main\n",
        "    !git merge nueva-funcionalidad\n",
        "    ```\n",
        "\n",
        "9.  **`git clone <URL_del_repositorio_remoto>`**: Descarga un repositorio existente desde una plataforma como GitHub.\n",
        "    ```bash\n",
        "    # Ejemplo (reemplaza con una URL real)\n",
        "    # !git clone https://github.com/usuario/nombre-repositorio.git\n",
        "    ```\n",
        "\n",
        "10. **`git remote add origin <URL_del_repositorio_remoto>`**: Conecta tu repositorio local a un repositorio remoto (llamado `origin`).\n",
        "    ```bash\n",
        "    # Debes crear un repo vacío en GitHub/GitLab primero\n",
        "    # !git remote add origin https://github.com/tu_usuario/tu_repo.git\n",
        "    ```\n",
        "\n",
        "11. **`git push -u origin <nombre_de_rama>`**: Sube tus commits locales a la rama especificada del repositorio remoto. `-u` establece la rama remota como la de seguimiento por defecto.\n",
        "    ```bash\n",
        "    # !git push -u origin main\n",
        "    ```\n",
        "\n",
        "12. **`git pull origin <nombre_de_rama>`**: Descarga y fusiona los cambios desde la rama especificada del repositorio remoto.\n",
        "    ```bash\n",
        "    # !git pull origin main\n",
        "    ```"
      ]
    },
    {
      "cell_type": "markdown",
      "metadata": {},
      "source": [
        "# 4.  **Documentación y Recursos Clave**\n"
      ]
    },
    {
      "cell_type": "markdown",
      "metadata": {},
      "source": [
        "*   **Documentación Oficial de Git:**\n",
        "    *   [Libro Pro Git (muy recomendado, disponible online gratis)](https://git-scm.com/book/es/v2)\n",
        "    *   [Referencia de Comandos de Git](https://git-scm.com/docs)\n",
        "*   **Recursos Externos de Alta Calidad:**\n",
        "    *   [Tutorial Interactivo de Git de Atlassian](https://www.atlassian.com/es/git/tutorials/what-is-version-control) (cubre conceptos y comandos básicos)\n",
        "    *   [GitHub Skills](https://skills.github.com/): Cursos interactivos gratuitos directamente en GitHub.\n",
        "    *   [Learn Git Branching (Interactivo y Visual)](https://learngitbranching.js.org/?locale=es_ES)"
      ]
    },
    {
      "cell_type": "markdown",
      "metadata": {},
      "source": [
        "# 5.  **Ejemplos de Código Prácticos**\n"
      ]
    },
    {
      "cell_type": "markdown",
      "metadata": {},
      "source": [
        "\n",
        "**Importante:** Estos ejemplos utilizan comandos de Git ejecutados desde celdas de Jupyter Notebook usando `!`. Asegúrate de tener Git instalado en tu sistema y accesible desde la línea de comandos. **Estos comandos modificarán archivos y crearán un repositorio Git en el directorio donde estés ejecutando tu notebook.**\n",
        "\n",
        "**Configuración previa (opcional pero recomendado):**\n",
        "Antes de empezar, puedes crear un directorio específico para estos ejemplos para no afectar otros proyectos.\n",
        "En tu terminal (o una celda de Jupyter):\n",
        "```bash\n",
        "!mkdir proyecto_git_jupyter\n",
        "%cd proyecto_git_jupyter\n",
        "```\n",
        "Y luego, realiza la configuración global si no la has hecho antes:\n",
        "```python\n",
        "!git config --global user.name \"Tu Nombre de Prueba\"\n",
        "!git config --global user.email \"tu_email_prueba@example.com\"\n",
        "```"
      ]
    },
    {
      "cell_type": "markdown",
      "metadata": {},
      "source": [
        "**Ejemplo 1: Inicializar un Repositorio y Hacer el Primer Commit**"
      ]
    },
    {
      "cell_type": "code",
      "execution_count": null,
      "metadata": {},
      "outputs": [],
      "source": [
        "# 1. Inicializar un repositorio Git en el directorio actual\n",
        "!git init\n",
        "\n",
        "# 2. Crear un archivo de Python simple (puedes hacerlo también desde la interfaz de Jupyter)\n",
        "#    Vamos a crear un archivo llamado 'mi_script.py' con contenido.\n",
        "#    En Jupyter, el comando '%%writefile' escribe el contenido de la celda a un archivo.\n",
        "%%writefile mi_script.py\n",
        "def saludar(nombre):\n",
        "    print(f\"Hola, {nombre}!\")\n",
        "\n",
        "saludar(\"Mundo Git\")\n",
        "\n",
        "# 3. Verificar el estado del repositorio\n",
        "!git status\n",
        "# Salida esperada (aproximada):\n",
        "# On branch master (o main)\n",
        "#\n",
        "# No commits yet\n",
        "#\n",
        "# Untracked files:\n",
        "#   (use \"git add <file>...\" to include in what will be committed)\n",
        "#         mi_script.py\n",
        "#\n",
        "# nothing added to commit but untracked files present (use \"git add\" to track)\n",
        "\n",
        "# 4. Añadir el nuevo archivo al área de preparación (staging)\n",
        "!git add mi_script.py\n",
        "\n",
        "# 5. Verificar el estado nuevamente\n",
        "!git status\n",
        "# Salida esperada (aproximada):\n",
        "# On branch master (o main)\n",
        "#\n",
        "# No commits yet\n",
        "#\n",
        "# Changes to be committed:\n",
        "#   (use \"git rm --cached <file>...\" to unstage)\n",
        "#         new file:   mi_script.py\n",
        "#\n",
        "\n",
        "# 6. Hacer el primer commit\n",
        "!git commit -m \"Commit inicial: Añadido mi_script.py con función saludar\"\n",
        "# Salida esperada (aproximada):\n",
        "# [master (root-commit) abc1234] Commit inicial: Añadido mi_script.py con función saludar\n",
        "#  1 file changed, 5 insertions(+)\n",
        "#  create mode 100644 mi_script.py\n",
        "\n",
        "# 7. Ver el historial de commits\n",
        "!git log --oneline\n",
        "# Salida esperada (aproximada):\n",
        "# abc1234 (HEAD -> main) Commit inicial: Añadido mi_script.py con función saludar\n",
        "# (El hash 'abc1234' será diferente)"
      ]
    },
    {
      "cell_type": "markdown",
      "metadata": {},
      "source": [
        "**Ejemplo 2: Crear una Rama, Hacer Cambios y Fusionar**"
      ]
    },
    {
      "cell_type": "code",
      "execution_count": null,
      "metadata": {},
      "outputs": [],
      "source": [
        "# (Continuando desde el ejemplo anterior)\n",
        "\n",
        "# 1. Crear una nueva rama llamada 'desarrollo-feature'\n",
        "!git branch desarrollo-feature\n",
        "print(\"Rama 'desarrollo-feature' creada.\")\n",
        "\n",
        "# 2. Ver las ramas existentes\n",
        "!git branch\n",
        "# Salida esperada (aproximada):\n",
        "#   desarrollo-feature\n",
        "# * main  (o master, dependiendo de tu configuración de Git)\n",
        "\n",
        "# 3. Cambiar a la nueva rama 'desarrollo-feature'\n",
        "!git checkout desarrollo-feature\n",
        "# Salida esperada (aproximada):\n",
        "# Switched to branch 'desarrollo-feature'\n",
        "\n",
        "# 4. Modificar 'mi_script.py' en esta rama (añadiremos una nueva función)\n",
        "%%writefile -a mi_script.py\n",
        "\n",
        "def despedir(nombre):\n",
        "    print(f\"Adiós, {nombre}!\")\n",
        "\n",
        "despedir(\"Mundo Git\")\n",
        "\n",
        "# 5. Verificar el estado y los cambios\n",
        "!git status\n",
        "# Salida esperada (aproximada):\n",
        "# On branch desarrollo-feature\n",
        "# Changes not staged for commit:\n",
        "#   (use \"git add <file>...\" to update what will be committed)\n",
        "#   (use \"git restore <file>...\" to discard changes in working directory)\n",
        "#         modified:   mi_script.py\n",
        "#\n",
        "# no changes added to commit (use \"git add\" and/or \"git commit -a\")\n",
        "\n",
        "# 6. Añadir los cambios al staging area y hacer commit en la rama 'desarrollo-feature'\n",
        "!git add mi_script.py\n",
        "!git commit -m \"Añadida función despedir en rama desarrollo-feature\"\n",
        "# Salida esperada (aproximada):\n",
        "# [desarrollo-feature xyz7890] Añadida función despedir en rama desarrollo-feature\n",
        "#  1 file changed, 5 insertions(+)\n",
        "\n",
        "# 7. Volver a la rama principal (main o master)\n",
        "!git checkout main # o master\n",
        "# Salida esperada (aproximada):\n",
        "# Switched to branch 'main'\n",
        "# Your branch is up to date with 'origin/main'. (Si está conectado a un remoto)\n",
        "\n",
        "# Verificar el contenido de mi_script.py en main (no debería tener la función despedir aún)\n",
        "print(\"\\nContenido de mi_script.py en la rama main ANTES de fusionar:\")\n",
        "!cat mi_script.py # En Windows usa !type mi_script.py\n",
        "# Salida esperada (aproximada):\n",
        "# def saludar(nombre):\n",
        "#     print(f\"Hola, {nombre}!\")\n",
        "#\n",
        "# saludar(\"Mundo Git\")\n",
        "\n",
        "\n",
        "# 8. Fusionar los cambios de 'desarrollo-feature' en 'main'\n",
        "!git merge desarrollo-feature\n",
        "# Salida esperada (aproximada, si no hay conflictos):\n",
        "# Updating abc1234..xyz7890\n",
        "# Fast-forward\n",
        "#  mi_script.py | 5 +++++\n",
        "#  1 file changed, 5 insertions(+)\n",
        "# (O un mensaje de merge commit si las historias han divergido)\n",
        "\n",
        "\n",
        "# 9. Verificar el contenido de mi_script.py en main (AHORA debería tener la función despedir)\n",
        "print(\"\\nContenido de mi_script.py en la rama main DESPUÉS de fusionar:\")\n",
        "!cat mi_script.py # En Windows usa !type mi_script.py\n",
        "# Salida esperada (aproximada):\n",
        "# def saludar(nombre):\n",
        "#     print(f\"Hola, {nombre}!\")\n",
        "#\n",
        "# saludar(\"Mundo Git\")\n",
        "#\n",
        "# def despedir(nombre):\n",
        "#     print(f\"Adiós, {nombre}!\")\n",
        "#\n",
        "# despedir(\"Mundo Git\")\n",
        "\n",
        "\n",
        "# 10. Ver el historial de commits con las ramas\n",
        "!git log --oneline --graph --decorate --all\n",
        "# Salida esperada (aproximada):\n",
        "# *   (HEAD -> main) Merge commit (o directamente el commit de la feature si fue fast-forward)\n",
        "# |\\\n",
        "# | * (desarrollo-feature) Añadida función despedir en rama desarrollo-feature\n",
        "# |/\n",
        "# * Commit inicial: Añadido mi_script.py con función saludar"
      ]
    },
    {
      "cell_type": "markdown",
      "metadata": {},
      "source": [
        "**Ejemplo 3: Conectar a un Repositorio Remoto (GitHub/GitLab)**"
      ]
    },
    {
      "cell_type": "markdown",
      "metadata": {},
      "source": [
        "*   **Paso Previo:** Ve a GitHub (o GitLab/Bitbucket) y crea un nuevo repositorio vacío. **No** inicialices con README, .gitignore o licencia, ya que vamos a subir nuestro repo local existente. Copia la URL HTTPS o SSH del repositorio creado. Por ejemplo: `https://github.com/tu_usuario/mi_proyecto_git_jupyter.git`"
      ]
    },
    {
      "cell_type": "code",
      "execution_count": null,
      "metadata": {},
      "outputs": [],
      "source": [
        "# (Continuando desde el ejemplo anterior, asegúrate de estar en el directorio correcto)\n",
        "\n",
        "# REEMPLAZA ESTA URL CON LA URL DE TU PROPIO REPOSITORIO VACÍO EN GITHUB/GITLAB\n",
        "REPO_URL = \"https://github.com/TU_USUARIO/TU_REPOSITORIO.git\" # ¡¡CAMBIA ESTO!!\n",
        "\n",
        "# 1. Añadir el repositorio remoto (comúnmente llamado 'origin')\n",
        "#    Usaremos la variable REPO_URL. ¡Asegúrate de que es la correcta!\n",
        "!git remote add origin {REPO_URL}\n",
        "print(f\"Repositorio remoto 'origin' añadido con URL: {REPO_URL}\")\n",
        "\n",
        "# 2. Verificar que el remoto se añadió\n",
        "!git remote -v\n",
        "# Salida esperada (aproximada):\n",
        "# origin  https://github.com/TU_USUARIO/TU_REPOSITORIO.git (fetch)\n",
        "# origin  https://github.com/TU_USUARIO/TU_REPOSITORIO.git (push)\n",
        "\n",
        "# 3. Renombrar la rama local a 'main' si actualmente se llama 'master' (opcional, pero 'main' es el nuevo estándar)\n",
        "#    Primero, verifica el nombre de tu rama actual:\n",
        "#    !git branch\n",
        "#    Si es 'master', puedes renombrarla (opcional):\n",
        "#    !git branch -M main\n",
        "#    print(\"Rama renombrada a 'main' si existía 'master'.\")\n",
        "\n",
        "# 4. Empujar (push) los cambios de tu rama local 'main' al repositorio remoto 'origin'\n",
        "#    La opción -u establece la rama remota como la de seguimiento por defecto para la rama local actual.\n",
        "!git push -u origin main  # o 'master' si no renombraste\n",
        "# Es posible que te pida tus credenciales de GitHub/GitLab la primera vez.\n",
        "# Salida esperada (aproximada):\n",
        "# Enumerating objects: ..., done.\n",
        "# Counting objects: ..., done.\n",
        "# Delta compression using up to ... threads\n",
        "# Compressing objects: ..., done.\n",
        "# Writing objects: ..., done.\n",
        "# Total ... (delta ...), reused ... (delta ...), pack-reused 0\n",
        "# To https://github.com/TU_USUARIO/TU_REPOSITORIO.git\n",
        "#  * [new branch]      main -> main\n",
        "# Branch 'main' set up to track remote branch 'main' from 'origin'.\n",
        "\n",
        "print(\"¡Cambios subidos a GitHub/GitLab! Revisa tu repositorio online.\")"
      ]
    },
    {
      "cell_type": "markdown",
      "metadata": {},
      "source": [
        "# 6.  **Ejercicio Práctico**\n"
      ]
    },
    {
      "cell_type": "markdown",
      "metadata": {},
      "source": [
        "**Tu Mini-Proyecto con Git y Jupyter**\n",
        "\n",
        "1.  **Creación del Proyecto:**\n",
        "    *   Crea un nuevo directorio en tu sistema llamado `mi_diario_git`.\n",
        "    *   Dentro de `mi_diario_git`, crea un nuevo Jupyter Notebook llamado `diario_personal.ipynb`.\n",
        "    *   En la primera celda del notebook, escribe una entrada de diario breve (puede ser sobre lo que estás aprendiendo hoy).\n",
        "\n",
        "2.  **Inicialización y Primer Commit:**\n",
        "    *   Usando celdas de Jupyter con `!`, navega al directorio `mi_diario_git`.\n",
        "    *   Inicializa un repositorio Git en este directorio.\n",
        "    *   Añade el archivo `diario_personal.ipynb` al área de preparación.\n",
        "    *   Realiza tu primer commit con un mensaje descriptivo (ej. \"Primera entrada del diario\").\n",
        "\n",
        "3.  **Trabajo en una Nueva Característica (Rama):**\n",
        "    *   Crea una nueva rama llamada `ideas_futuras`.\n",
        "    *   Cambia a la rama `ideas_futuras`.\n",
        "    *   En el notebook `diario_personal.ipynb` (estando en la rama `ideas_futuras`), añade una nueva celda con una sección titulada \"Ideas para futuras entradas\" y escribe un par de ideas.\n",
        "    *   Guarda el notebook.\n",
        "    *   Añade los cambios y haz un commit en la rama `ideas_futuras` con un mensaje apropiado (ej. \"Añadida sección de ideas futuras\").\n",
        "\n",
        "4.  **Actualización en la Rama Principal:**\n",
        "    *   Vuelve a cambiar a tu rama principal (`main` o `master`).\n",
        "    *   Imagina que recordaste algo importante para la entrada original. Modifica la primera entrada del diario (la que hiciste en el paso 1) añadiendo una frase más.\n",
        "    *   Guarda el notebook.\n",
        "    *   Añade los cambios y haz un commit en la rama principal con un mensaje adecuado (ej. \"Actualizada primera entrada del diario\").\n",
        "\n",
        "5.  **Fusión de Cambios:**\n",
        "    *   Ahora, fusiona los cambios de la rama `ideas_futuras` en tu rama principal.\n",
        "    *   Git podría intentar una fusión automática. Si hay un **conflicto** (porque ambas ramas modificaron partes cercanas del archivo `.ipynb`), Git te lo indicará. Abrir el archivo `.ipynb` en un editor de texto (o a veces en Jupyter mismo) te mostrará los marcadores de conflicto (`<<<<<<<`, `=======`, `>>>>>>>`). Deberás resolverlos manualmente editando el archivo para quedarte con la versión deseada (o una combinación), guardar el archivo, y luego hacer `!git add diario_personal.ipynb` y `!git commit` (sin `-m`, Git te abrirá un editor para el mensaje de fusión o usará uno por defecto).\n",
        "    *   *Pista para conflictos con notebooks:* A veces es más fácil abrir el notebook en Jupyter, resolver visualmente las diferencias si las celdas están duplicadas o mezcladas, guardar, y luego proceder con `git add` y `git commit`.\n",
        "\n",
        "6.  **Verificación:**\n",
        "    *   Una vez fusionado (y cualquier conflicto resuelto), verifica el contenido de `diario_personal.ipynb` en la rama principal. Debería contener tanto la entrada original actualizada como la sección de \"Ideas para futuras entradas\".\n",
        "    *   Usa `!git log --oneline --graph --all` para ver el historial de tus commits y cómo se fusionaron las ramas.\n",
        "\n",
        "**Pista:** Recuerda que los archivos `.ipynb` son JSON. Los conflictos pueden parecer intimidantes al principio, pero fíjate en las líneas que Git marca. `nbdime` es una herramienta excelente para visualizar diferencias y fusionar notebooks, aunque para este ejercicio puedes intentar resolverlo manualmente si surge un conflicto simple."
      ]
    },
    {
      "cell_type": "markdown",
      "metadata": {},
      "source": [
        "# 7.  **Conexión con Otros Temas**\n"
      ]
    },
    {
      "cell_type": "markdown",
      "metadata": {},
      "source": [
        "*   **Conceptos que Deberías Conocer Previamente:**\n",
        "    *   **Manejo Básico de la Terminal/Línea de Comandos:** Git es una herramienta de línea de comandos.\n",
        "    *   **Estructura de Archivos y Directorios:** Para navegar y entender dónde estás inicializando tu repositorio.\n",
        "    *   **Desarrollo Básico de Software:** Entender el ciclo de escribir código, probarlo y guardarlo.\n",
        "\n",
        "*   **Temas Futuros Para los que Este Conocimiento Será Importante:**\n",
        "    *   **Colaboración en Equipo:** Fundamental para trabajar con otros desarrolladores.\n",
        "    *   **Integración Continua / Despliegue Continuo (CI/CD):** Las herramientas de CI/CD (como GitHub Actions, Jenkins, GitLab CI) se basan en repositorios Git para automatizar la construcción, prueba y despliegue de software.\n",
        "    *   **Desarrollo de Proyectos de Código Abierto:** Casi todos los proyectos de código abierto usan Git y plataformas como GitHub/GitLab.\n",
        "    *   **Gestión de Entornos y Dependencias:** A menudo, los archivos que definen tu entorno (ej. `requirements.txt`, `environment.yml`) se versionan junto con tu código.\n",
        "    *   **Desarrollo Web (Backend y Frontend):** Indispensable.\n",
        "    *   **Ciencia de Datos Reproducible:** Versionar código, notebooks y, a veces, datos (o punteros a datos con herramientas como DVC) es clave para la reproducibilidad."
      ]
    },
    {
      "cell_type": "markdown",
      "metadata": {},
      "source": [
        "# 8.  **Aplicaciones en el Mundo Real**\n"
      ]
    },
    {
      "cell_type": "markdown",
      "metadata": {},
      "source": [
        "1.  **Desarrollo de Software Colaborativo:** Equipos de desarrolladores en empresas como Google, Microsoft, Facebook, y miles de startups, usan Git para construir y mantener sus aplicaciones. Por ejemplo, el kernel de Linux, el proyecto que originó Git, es gestionado por miles de desarrolladores usando Git.\n",
        "2.  **Proyectos de Código Abierto en GitHub/GitLab:** La mayoría de las bibliotecas de Python que usas (NumPy, Pandas, Scikit-learn, Django, Flask, etc.) están alojadas en GitHub y desarrolladas usando Git. Puedes ver su historial, proponer cambios (Pull Requests) y colaborar.\n",
        "3.  **Investigación Científica Reproducible:** Los investigadores usan Git para versionar su código de análisis, scripts y, a veces, pequeños conjuntos de datos, asegurando que sus resultados puedan ser reproducidos por otros y que puedan rastrear la evolución de sus experimentos.\n",
        "4.  **Escritura de Documentación y Libros:** Autores y equipos de documentación usan Git para colaborar en la escritura y mantener un historial de cambios, como el libro \"Pro Git\" que te recomendé."
      ]
    }
  ],
  "metadata": {
    "kernelspec": {
      "display_name": "Python 3",
      "language": "python",
      "name": "python3"
    },
    "language_info": {
      "name": "python",
      "version": "3.13.3"
    }
  },
  "nbformat": 4,
  "nbformat_minor": 2
}
