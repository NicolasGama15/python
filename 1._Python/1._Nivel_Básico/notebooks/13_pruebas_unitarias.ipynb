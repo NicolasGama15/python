{
  "cells": [
    {
      "cell_type": "markdown",
      "metadata": {},
      "source": [
        "# 1.  **Título del Tema**\n"
      ]
    },
    {
      "cell_type": "markdown",
      "metadata": {},
      "source": [
        "**Pruebas Unitarias Básicas con `unittest` en Python**"
      ]
    },
    {
      "cell_type": "markdown",
      "metadata": {},
      "source": [
        "# 2.  **Explicación Conceptual Detallada**\n"
      ]
    },
    {
      "cell_type": "markdown",
      "metadata": {},
      "source": [
        "**Definición y Propósito:**\n",
        "- Las **pruebas unitarias** son un tipo de prueba de software que se enfoca en verificar la correcta funcionalidad de las \"unidades\" más pequeñas de código de forma aislada. En Python, estas unidades suelen ser funciones o métodos de una clase. El propósito principal es asegurar que cada pieza individual de tu código se comporta como esperas bajo diversas condiciones.\n"
      ]
    },
    {
      "cell_type": "markdown",
      "metadata": {},
      "source": [
        "**¿Para qué se utilizan y su importancia en Python?**\n",
        "* Se utilizan para:\n",
        "1.  **Verificar la corrección:** Asegurar que una función produce la salida esperada para entradas dadas.\n",
        "2.  **Detectar errores tempranamente (regresiones):** Si modificas una parte del código y, sin querer, rompes algo que antes funcionaba, una prueba unitaria fallará, alertándote inmediatamente.\n",
        "3.  **Facilitar la refactorización:** Puedes cambiar la implementación interna de una función con confianza, siempre y cuando las pruebas unitarias sigan pasando. Esto significa que la funcionalidad externa no ha cambiado.\n",
        "4.  **Servir como documentación:** Las pruebas muestran cómo se espera que se utilice una función y qué resultados produce.\n",
        "5.  **Promover un mejor diseño:** Pensar en cómo probar una función a menudo te lleva a escribir código más modular y desacoplado.\n",
        "\n",
        "En Python, el módulo `unittest` (inspirado en xUnit, una familia de frameworks de pruebas) es parte de la biblioteca estándar, lo que significa que no necesitas instalar nada adicional para empezar a escribir pruebas unitarias."
      ]
    },
    {
      "cell_type": "markdown",
      "metadata": {},
      "source": [
        "**Conceptos Clave Asociados:**\n",
        "*   **Caso de Prueba (`TestCase`):** Una clase que agrupa un conjunto de pruebas relacionadas. En `unittest`, tus clases de prueba heredarán de `unittest.TestCase`.\n",
        "*   **Prueba (Test Method):** Un método individual dentro de una clase `TestCase` que verifica un aspecto específico de una unidad de código. Estos métodos deben comenzar con el prefijo `test_` (por ejemplo, `test_suma_positivos`).\n",
        "*   **Aserciones (Assertions):** Son las verificaciones que realizas dentro de tus métodos de prueba. `unittest` proporciona varios métodos de aserción (por ejemplo, `assertEqual()`, `assertTrue()`, `assertRaises()`) para comprobar si una condición es verdadera. Si una aserción falla, la prueba falla.\n",
        "*   **Fixture:** El contexto o estado necesario para que una o más pruebas se ejecuten. Esto puede incluir la creación de objetos, la conexión a una base de datos (temporal), o la configuración de datos iniciales. `unittest` proporciona métodos como `setUp()` (se ejecuta antes de cada método de prueba) y `tearDown()` (se ejecuta después de cada método de prueba) para manejar fixtures.\n",
        "*   **Test Runner:** Un componente que descubre y ejecuta las pruebas, y luego reporta los resultados."
      ]
    },
    {
      "cell_type": "markdown",
      "metadata": {},
      "source": [
        "**Sintaxis Fundamental:**"
      ]
    },
    {
      "cell_type": "code",
      "execution_count": 1,
      "metadata": {},
      "outputs": [],
      "source": [
        "import unittest\n",
        "\n",
        "# La función o método que quieres probar (generalmente en otro archivo)\n",
        "def sumar(a, b):\n",
        "    return a + b\n",
        "\n",
        "# La clase de prueba\n",
        "class TestMiModulo(unittest.TestCase):\n",
        "\n",
        "    def test_sumar_numeros_positivos(self):\n",
        "        resultado = sumar(5, 3)\n",
        "        self.assertEqual(resultado, 8) # Aserción: ¿es resultado igual a 8?\n",
        "\n",
        "    def test_sumar_numeros_negativos(self):\n",
        "        self.assertEqual(sumar(-1, -1), -2)\n",
        "\n",
        "# Esto es necesario para ejecutar las pruebas desde un script o, de forma adaptada, en Jupyter\n",
        "# if __name__ == '__main__':\n",
        "#     unittest.main()"
      ]
    },
    {
      "cell_type": "markdown",
      "metadata": {},
      "source": [
        "**Errores Comunes a Tener en Cuenta:**\n",
        "*   **No nombrar los métodos de prueba correctamente:** Olvidar el prefijo `test_` hará que `unittest` no los reconozca como pruebas.\n",
        "*   **Pruebas no aisladas:** Una prueba no debería depender del resultado o estado dejado por otra prueba. Cada prueba debe ser independiente.\n",
        "*   **Probar demasiadas cosas en una sola prueba:** Cada método de prueba debe enfocarse en un aspecto muy específico.\n",
        "*   **Aserciones poco claras:** Usar `assertTrue(a == b)` en lugar de `assertEqual(a, b)` hace que los mensajes de error sean menos informativos.\n",
        "*   **No probar casos límite o erróneos:** Es crucial probar no solo el \"camino feliz\" (entradas válidas y esperadas), sino también cómo se comporta la función con entradas inválidas, valores extremos, etc."
      ]
    },
    {
      "cell_type": "markdown",
      "metadata": {},
      "source": [
        "**¿Cómo funciona internamente (brevemente)?**\n",
        "El `Test Runner` de `unittest` inspecciona las clases que heredan de `unittest.TestCase`. Busca métodos cuyos nombres comiencen con `test_`. Para cada uno de estos métodos:\n",
        "1.  Si existe un método `setUp()`, lo ejecuta.\n",
        "2.  Ejecuta el método de prueba (e.g., `test_mi_funcion`).\n",
        "3.  Dentro del método de prueba, se ejecutan las aserciones. Si alguna falla, se registra un error para esa prueba.\n",
        "4.  Si existe un método `tearDown()`, lo ejecuta (incluso si la prueba falló).\n",
        "5.  Finalmente, el runner recopila los resultados de todas las pruebas (pasadas, falladas, errores) y los presenta."
      ]
    },
    {
      "cell_type": "markdown",
      "metadata": {},
      "source": [
        "**Ventajas:**\n",
        "*   **Confianza en el código:** Saber que tus unidades funcionan reduce el miedo a realizar cambios.\n",
        "*   **Reducción de bugs:** Ayuda a encontrar errores en etapas tempranas del desarrollo.\n",
        "*   **Mejora la calidad del código:** Fomenta un diseño modular y bien definido.\n",
        "*   **Documentación viva:** Las pruebas son ejemplos concretos de cómo usar el código.\n",
        "*   **Facilita la colaboración:** Los desarrolladores pueden entender y verificar el código de otros más fácilmente."
      ]
    },
    {
      "cell_type": "markdown",
      "metadata": {},
      "source": [
        "**Posibles Limitaciones:**\n",
        "*   **No prueban la integración:** Las pruebas unitarias verifican unidades de forma aislada. No garantizan que estas unidades funcionen correctamente juntas (para eso están las pruebas de integración).\n",
        "*   **Pueden ser tediosas de escribir:** Escribir pruebas exhaustivas para todo el código puede consumir tiempo.\n",
        "*   **No encuentran todos los bugs:** Solo prueban lo que el desarrollador pensó en probar."
      ]
    },
    {
      "cell_type": "markdown",
      "metadata": {},
      "source": [
        "**Buenas Prácticas Relacionadas:**\n",
        "*   **FIRST Principles:**\n",
        "    *   **F**ast (Rápidas): Las pruebas deben ejecutarse rápidamente.\n",
        "    *   **I**ndependent/Isolated (Independientes/Aisladas): Las pruebas no deben depender unas de otras.\n",
        "    *   **R**epeatable (Repetibles): Deben producir el mismo resultado cada vez que se ejecutan en el mismo entorno.\n",
        "    *   **S**elf-Validating (Auto-validadoras): Las pruebas deben determinar por sí mismas si pasaron o fallaron (sin intervención manual).\n",
        "    *   **T**imely (Oportunas): Escribir las pruebas justo antes o junto con el código que prueban (Test-Driven Development es un ejemplo extremo de esto).\n",
        "*   **Nombres descriptivos:** Tanto para las clases de prueba como para los métodos de prueba. `test_calculadora_suma_dos_positivos()` es mejor que `test_1()`.\n",
        "*   **Probar una cosa por prueba:** Cada método de prueba debe enfocarse en un único comportamiento o condición.\n",
        "*   **Usar `setUp` y `tearDown` para gestionar el estado:** Si varias pruebas necesitan el mismo objeto o configuración, créalo en `setUp` y límpialo en `tearDown`.\n",
        "*   **Probar los casos límite y los errores:** No solo el \"camino feliz\". ¿Qué pasa con entradas vacías, `None`, números muy grandes o pequeños, tipos incorrectos?"
      ]
    },
    {
      "cell_type": "markdown",
      "metadata": {},
      "source": [
        "# 3.  **Sintaxis y Ejemplos Básicos**\n"
      ]
    },
    {
      "cell_type": "markdown",
      "metadata": {},
      "source": [
        "**Código de la función a probar (imagina que esto está en un archivo `mi_modulo.py`):**"
      ]
    },
    {
      "cell_type": "code",
      "execution_count": 3,
      "metadata": {},
      "outputs": [],
      "source": [
        "# mi_modulo.py (o simplemente definido en una celda de Jupyter antes de las pruebas)\n",
        "def es_palindromo(cadena):\n",
        "    \"\"\"Verifica si una cadena es un palíndromo.\"\"\"\n",
        "    if not isinstance(cadena, str):\n",
        "        raise TypeError(\"La entrada debe ser una cadena de texto.\")\n",
        "    cadena_limpia = ''.join(filter(str.isalnum, cadena)).lower()\n",
        "    return cadena_limpia == cadena_limpia[::-1]"
      ]
    },
    {
      "cell_type": "markdown",
      "metadata": {},
      "source": [
        "**Código de la prueba unitaria (esto iría en un archivo `test_mi_modulo.py` o en una celda de Jupyter):**"
      ]
    },
    {
      "cell_type": "code",
      "execution_count": null,
      "metadata": {},
      "outputs": [
        {
          "name": "stderr",
          "output_type": "stream",
          "text": [
            ".......\n",
            "----------------------------------------------------------------------\n",
            "Ran 7 tests in 0.003s\n",
            "\n",
            "OK\n"
          ]
        }
      ],
      "source": [
        "import unittest\n",
        "\n",
        "# Si 'es_palindromo' está en la misma celda o importado, esto funcionará.\n",
        "# Si estuviera en mi_modulo.py, harías: from mi_modulo import es_palindromo\n",
        "\n",
        "class TestEsPalindromo(unittest.TestCase):\n",
        "\n",
        "    def test_palindromo_simple(self):\n",
        "        self.assertTrue(es_palindromo(\"ana\"))\n",
        "\n",
        "    def test_palindromo_con_mayusculas_espacios(self):\n",
        "        self.assertTrue(es_palindromo(\"Anita lava la tina\"))\n",
        "\n",
        "    def test_no_palindromo(self):\n",
        "        self.assertFalse(es_palindromo(\"python\"))\n",
        "\n",
        "    def test_cadena_vacia_es_palindromo(self):\n",
        "        # Una cadena vacía se considera palíndromo por definición (no hay elementos que no coincidan al revés)\n",
        "        self.assertTrue(es_palindromo(\"\"))\n",
        "\n",
        "    def test_entrada_no_string_lanza_error(self):\n",
        "        # Verificamos que se lanza un TypeError si la entrada no es una cadena\n",
        "        # self.assertRaises(ExcepcionEsperada, funcion_a_llamar, arg1_funcion, arg2_funcion, ...)\n",
        "        with self.assertRaises(TypeError):\n",
        "            es_palindromo(123)\n",
        "\n",
        "# Para ejecutar en Jupyter Notebook:\n",
        "# Es importante usar `exit=False` para que el kernel de Jupyter no se detenga.\n",
        "# `argv=['first-arg-is-ignored']` es para evitar que unittest intente procesar los argumentos de línea de comandos de Jupyter.\n",
        "if __name__ == '__main__':\n",
        "    unittest.main(argv=['first-arg-is-ignored'], exit=False)"
      ]
    },
    {
      "cell_type": "markdown",
      "metadata": {},
      "source": [
        "**Explicación:**\n",
        "*   Importamos `unittest`.\n",
        "*   Definimos una clase `TestEsPalindromo` que hereda de `unittest.TestCase`.\n",
        "*   Cada método dentro de esta clase que comienza con `test_` es una prueba individual.\n",
        "*   `self.assertTrue(condicion)`: Verifica que `condicion` sea verdadera.\n",
        "*   `self.assertFalse(condicion)`: Verifica que `condicion` sea falsa.\n",
        "*   `self.assertEqual(a, b)`: Verifica que `a` sea igual a `b`.\n",
        "*   `self.assertRaises(ExcepcionEsperada, funcion, *args, **kwargs)`: Verifica que llamar a `funcion` con ciertos argumentos lance la `ExcepcionEsperada`. La forma `with self.assertRaises(TypeError):` es más moderna y preferida.\n",
        "\n",
        "Cuando ejecutes esta celda en Jupyter, verás una salida que indica cuántas pruebas se ejecutaron y si todas pasaron."
      ]
    },
    {
      "cell_type": "markdown",
      "metadata": {},
      "source": [
        "# 4.  **Documentación y Recursos Clave**\n"
      ]
    },
    {
      "cell_type": "markdown",
      "metadata": {},
      "source": [
        "*   **Documentación Oficial de `unittest`:**\n",
        "    *   [unittest — Unit testing framework](https://docs.python.org/3/library/unittest.html) (¡Tu fuente principal!)\n",
        "*   **Recursos Externos de Alta Calidad:**\n",
        "    *   [Getting Started With Testing in Python (Real Python)](https://realpython.com/python-testing/): Un excelente artículo introductorio que cubre `unittest` y otros frameworks.\n",
        "    *   [Python unittest Tutorial with Examples (Programiz)](https://www.programiz.com/python-programming/unittest): Un tutorial conciso con buenos ejemplos."
      ]
    },
    {
      "cell_type": "markdown",
      "metadata": {},
      "source": [
        "# 5.  **Ejemplos de Código Prácticos**\n"
      ]
    },
    {
      "cell_type": "markdown",
      "metadata": {},
      "source": [
        "**Ejemplo 1: Probar una función de utilidad matemática simple**"
      ]
    },
    {
      "cell_type": "code",
      "execution_count": 5,
      "metadata": {},
      "outputs": [],
      "source": [
        "# Celda 1: Definición de la función\n",
        "def calcular_factorial(n):\n",
        "    \"\"\"Calcula el factorial de un número entero no negativo.\"\"\"\n",
        "    if not isinstance(n, int):\n",
        "        raise TypeError(\"La entrada debe ser un entero.\")\n",
        "    if n < 0:\n",
        "        raise ValueError(\"El factorial no está definido para números negativos.\")\n",
        "    if n == 0:\n",
        "        return 1\n",
        "    resultado = 1\n",
        "    for i in range(1, n + 1):\n",
        "        resultado *= i\n",
        "    return resultado"
      ]
    },
    {
      "cell_type": "code",
      "execution_count": 6,
      "metadata": {},
      "outputs": [
        {
          "name": "stderr",
          "output_type": "stream",
          "text": [
            "......\n",
            "----------------------------------------------------------------------\n",
            "Ran 6 tests in 0.002s\n",
            "\n",
            "OK\n"
          ]
        },
        {
          "data": {
            "text/plain": [
              "<unittest.runner.TextTestResult run=6 errors=0 failures=0>"
            ]
          },
          "execution_count": 6,
          "metadata": {},
          "output_type": "execute_result"
        }
      ],
      "source": [
        "# Celda 2: Pruebas para calcular_factorial\n",
        "import unittest\n",
        "\n",
        "class TestFactorial(unittest.TestCase):\n",
        "\n",
        "    def test_factorial_de_cero(self):\n",
        "        \"\"\"Prueba el caso base: factorial de 0 es 1.\"\"\"\n",
        "        self.assertEqual(calcular_factorial(0), 1)\n",
        "\n",
        "    def test_factorial_de_uno(self):\n",
        "        \"\"\"Prueba el factorial de 1.\"\"\"\n",
        "        self.assertEqual(calcular_factorial(1), 1)\n",
        "\n",
        "    def test_factorial_de_numero_positivo(self):\n",
        "        \"\"\"Prueba el factorial de un número positivo (5! = 120).\"\"\"\n",
        "        self.assertEqual(calcular_factorial(5), 120)\n",
        "\n",
        "    def test_entrada_negativa_lanza_valueerror(self):\n",
        "        \"\"\"Prueba que una entrada negativa lanza ValueError.\"\"\"\n",
        "        with self.assertRaises(ValueError):\n",
        "            calcular_factorial(-1)\n",
        "        # También podríamos verificar el mensaje de error si quisiéramos ser más específicos:\n",
        "        # with self.assertRaisesRegex(ValueError, \"El factorial no está definido para números negativos.\"):\n",
        "        #     calcular_factorial(-3)\n",
        "\n",
        "    def test_entrada_no_entera_lanza_typeerror(self):\n",
        "        \"\"\"Prueba que una entrada no entera (float) lanza TypeError.\"\"\"\n",
        "        with self.assertRaises(TypeError):\n",
        "            calcular_factorial(3.5)\n",
        "\n",
        "    def test_entrada_string_lanza_typeerror(self):\n",
        "        \"\"\"Prueba que una entrada string lanza TypeError.\"\"\"\n",
        "        with self.assertRaises(TypeError):\n",
        "            calcular_factorial(\"hola\")\n",
        "\n",
        "# Ejecutar las pruebas en Jupyter Notebook\n",
        "# Esta es la forma recomendada para ejecutar pruebas unittest en un notebook\n",
        "# sin que el kernel se detenga o intente procesar argumentos de línea de comando.\n",
        "runner = unittest.TextTestRunner()\n",
        "suite = unittest.TestLoader().loadTestsFromTestCase(TestFactorial)\n",
        "runner.run(suite)"
      ]
    },
    {
      "cell_type": "markdown",
      "metadata": {},
      "source": [
        "**Ejemplo 2: Probar una función que manipula una lista y usa `setUp`**"
      ]
    },
    {
      "cell_type": "code",
      "execution_count": 2,
      "metadata": {},
      "outputs": [],
      "source": [
        "# Celda 1: Definición de la función\n",
        "def agregar_elemento_si_no_existe(lista, elemento):\n",
        "    \"\"\"Agrega un elemento a la lista solo si no existe previamente.\n",
        "    Retorna True si se agregó, False si ya existía.\"\"\"\n",
        "    if elemento not in lista:\n",
        "        lista.append(elemento)\n",
        "        return True\n",
        "    return False\n",
        "\n",
        "def eliminar_elemento(lista, elemento):\n",
        "    \"\"\"Elimina un elemento de la lista si existe.\n",
        "    Retorna True si se eliminó, False si no existía.\"\"\"\n",
        "    if elemento in lista:\n",
        "        lista.remove(elemento)\n",
        "        return True\n",
        "    return False"
      ]
    },
    {
      "cell_type": "code",
      "execution_count": 3,
      "metadata": {},
      "outputs": [],
      "source": [
        "import unittest\n",
        "\n",
        "class TestManipulacionLista(unittest.TestCase):\n",
        "\n",
        "    def setUp(self):\n",
        "        \"\"\"Este método se ejecuta ANTES de cada método de prueba.\"\"\"\n",
        "        print(\"\\nEjecutando setUp...\") # Descomenta para ver cuándo se ejecuta\n",
        "        self.lista_base = [1, 2, 3, \"a\"]\n",
        "\n",
        "    def tearDown(self):\n",
        "        \"\"\"Este método se ejecuta DESPUÉS de cada método de prueba.\"\"\"\n",
        "        print(\"Ejecutando tearDown...\") # Descomenta para ver cuándo se ejecuta\n",
        "        del self.lista_base # Limpia el recurso\n",
        "\n",
        "    def test_agregar_elemento_nuevo(self):\n",
        "        \"\"\"Prueba agregar un elemento que no está en la lista.\"\"\"\n",
        "        # Usamos una copia para no modificar self.lista_base directamente en esta prueba,\n",
        "        # ya que setUp la reinicia para cada test.\n",
        "        # O podemos operar directamente sobre self.lista_base, sabiendo que se reinicia.\n",
        "        resultado = agregar_elemento_si_no_existe(self.lista_base, 4)\n",
        "        self.assertTrue(resultado)\n",
        "        self.assertIn(4, self.lista_base)\n",
        "        self.assertEqual(len(self.lista_base), 5) # Ahora tiene 5 elementos\n",
        "\n",
        "    def test_agregar_elemento_existente(self):\n",
        "        \"\"\"Prueba agregar un elemento que ya está en la lista.\"\"\"\n",
        "        longitud_inicial = len(self.lista_base)\n",
        "        resultado = agregar_elemento_si_no_existe(self.lista_base, \"a\")\n",
        "        self.assertFalse(resultado)\n",
        "        self.assertIn(\"a\", self.lista_base)\n",
        "        self.assertEqual(len(self.lista_base), longitud_inicial) # La longitud no debe cambiar\n",
        "\n",
        "    def test_eliminar_elemento_existente(self):\n",
        "        \"\"\"Prueba eliminar un elemento que sí está en la lista.\"\"\"\n",
        "        resultado = eliminar_elemento(self.lista_base, 2)\n",
        "        self.assertTrue(resultado)\n",
        "        self.assertNotIn(2, self.lista_base)\n",
        "        self.assertEqual(len(self.lista_base), 3)\n",
        "\n",
        "    def test_eliminar_elemento_no_existente(self):\n",
        "        \"\"\"Prueba eliminar un elemento que no está en la lista.\"\"\"\n",
        "        longitud_inicial = len(self.lista_base)\n",
        "        resultado = eliminar_elemento(self.lista_base, \"z\")\n",
        "        self.assertFalse(resultado)\n",
        "        self.assertEqual(len(self.lista_base), longitud_inicial)"
      ]
    },
    {
      "cell_type": "code",
      "execution_count": 4,
      "metadata": {},
      "outputs": [
        {
          "name": "stderr",
          "output_type": "stream",
          "text": [
            "....\n",
            "----------------------------------------------------------------------\n",
            "Ran 4 tests in 0.001s\n",
            "\n",
            "OK\n"
          ]
        },
        {
          "name": "stdout",
          "output_type": "stream",
          "text": [
            "\n",
            "Ejecutando setUp...\n",
            "Ejecutando tearDown...\n",
            "\n",
            "Ejecutando setUp...\n",
            "Ejecutando tearDown...\n",
            "\n",
            "Ejecutando setUp...\n",
            "Ejecutando tearDown...\n",
            "\n",
            "Ejecutando setUp...\n",
            "Ejecutando tearDown...\n"
          ]
        },
        {
          "data": {
            "text/plain": [
              "<unittest.runner.TextTestResult run=4 errors=0 failures=0>"
            ]
          },
          "execution_count": 4,
          "metadata": {},
          "output_type": "execute_result"
        }
      ],
      "source": [
        "# Ejecutar las pruebas en Jupyter Notebook\n",
        "runner = unittest.TextTestRunner()\n",
        "suite = unittest.TestLoader().loadTestsFromTestCase(TestManipulacionLista)\n",
        "runner.run(suite)"
      ]
    },
    {
      "cell_type": "markdown",
      "metadata": {},
      "source": [
        "**Explicación de `setUp` y `tearDown`:**\n",
        "*   `setUp(self)`: Se llama automáticamente *antes* de cada método de prueba (`test_...`). Es útil para configurar un estado común que cada prueba necesita (como `self.lista_base`).\n",
        "*   `tearDown(self)`: Se llama automáticamente *después* de cada método de prueba, incluso si la prueba falla o genera un error. Es útil para limpiar recursos creados en `setUp`."
      ]
    },
    {
      "cell_type": "markdown",
      "metadata": {},
      "source": [
        "# 6.  **Ejercicio Práctico**\n"
      ]
    },
    {
      "cell_type": "markdown",
      "metadata": {},
      "source": [
        "**Enunciado:**\n",
        "Dada la siguiente función `analizar_texto` que cuenta vocales y consonantes en una cadena:\n",
        "\n",
        "```python\n",
        "# Celda 1: Función a probar\n",
        "def analizar_texto(texto):\n",
        "    \"\"\"\n",
        "    Analiza un texto y devuelve un diccionario con el conteo de vocales y consonantes.\n",
        "    Ignora espacios, números y otros símbolos. Solo considera letras del alfabeto inglés.\n",
        "    \"\"\"\n",
        "    if not isinstance(texto, str):\n",
        "        raise TypeError(\"La entrada debe ser una cadena de texto.\")\n",
        "\n",
        "    vocales = \"aeiouAEIOU\"\n",
        "    consonantes_count = 0\n",
        "    vocales_count = 0\n",
        "\n",
        "    for caracter in texto:\n",
        "        if caracter.isalpha(): # Solo procesar letras\n",
        "            if caracter in vocales:\n",
        "                vocales_count += 1\n",
        "            else:\n",
        "                consonantes_count += 1\n",
        "    \n",
        "    return {\"vocales\": vocales_count, \"consonantes\": consonantes_count}\n",
        "\n",
        "# Ejemplo de uso (no es parte de la prueba, solo para entender la función):\n",
        "# print(analizar_texto(\"Hola Mundo 123!\"))\n",
        "# Debería imprimir: {'vocales': 4, 'consonantes': 6}\n",
        "```\n",
        "\n",
        "**Tu Tarea:**\n",
        "Escribe una clase de prueba llamada `TestAnalizarTexto` que herede de `unittest.TestCase`.\n",
        "Dentro de esta clase, crea métodos de prueba para verificar los siguientes escenarios:\n",
        "1.  Una cadena con vocales y consonantes (ej. \"Hola Mundo\").\n",
        "2.  Una cadena solo con vocales (ej. \"aei ou\").\n",
        "3.  Una cadena solo con consonantes (ej. \"rhythm\").\n",
        "4.  Una cadena vacía.\n",
        "5.  Una cadena con números y símbolos, además de letras (ej. \"Prueba123!$%\").\n",
        "6.  Que la función lance un `TypeError` si la entrada no es una cadena (ej. si se le pasa un número entero).\n",
        "\n",
        "**Pista:** Recuerda usar `self.assertEqual()` para comparar diccionarios y `self.assertRaises()` para verificar excepciones. Los nombres de tus métodos de prueba deben empezar con `test_`."
      ]
    },
    {
      "cell_type": "code",
      "execution_count": 5,
      "metadata": {},
      "outputs": [],
      "source": [
        "def analizar_texto(texto):\n",
        "    \"\"\"\n",
        "    Analiza un texto y devuelve un diccionario con el conteo de vocales y consonantes.\n",
        "    Ignora espacios, números y otros símbolos. Solo considera letras del alfabeto inglés.\n",
        "    \"\"\"\n",
        "    if not isinstance(texto, str):\n",
        "        raise TypeError(\"La entrada debe ser una cadena de texto.\")\n",
        "\n",
        "    vocales = \"aeiouAEIOU\"\n",
        "    consonantes_count = 0\n",
        "    vocales_count = 0\n",
        "\n",
        "    for caracter in texto:\n",
        "        if caracter.isalpha(): # Solo procesar letras\n",
        "            if caracter in vocales:\n",
        "                vocales_count += 1\n",
        "            else:\n",
        "                consonantes_count += 1\n",
        "    \n",
        "    return {\"vocales\": vocales_count, \"consonantes\": consonantes_count}"
      ]
    },
    {
      "cell_type": "code",
      "execution_count": 18,
      "metadata": {},
      "outputs": [
        {
          "data": {
            "text/plain": [
              "{'vocales': 3, 'consonantes': 3}"
            ]
          },
          "execution_count": 18,
          "metadata": {},
          "output_type": "execute_result"
        }
      ],
      "source": [
        "analizar_texto(\"Prueba123!$%\")"
      ]
    },
    {
      "cell_type": "code",
      "execution_count": 19,
      "metadata": {},
      "outputs": [],
      "source": [
        "import unittest\n",
        "\n",
        "class Test_Analizar_texto(unittest.TestCase):\n",
        "    \n",
        "    def test_vocales_consonantes(self):\n",
        "        \"\"\"Prueba una cadena con vocales y consonantes\"\"\"\n",
        "        resultado = analizar_texto(\"Hola Mundo\")\n",
        "        self.assertEqual(resultado, {'vocales': 4, 'consonantes': 5})\n",
        "        \n",
        "    def test_vocales(self):\n",
        "        \"\"\"Prueba una cadena con vocales\"\"\"\n",
        "        resultado = analizar_texto(\"ae IoU\")\n",
        "        self.assertEqual(resultado, {'vocales': 5, 'consonantes': 0})\n",
        "        \n",
        "    def test_consonantes(self):\n",
        "        \"\"\"Prueba una cadena con consonantes\"\"\"\n",
        "        resultado = analizar_texto(\"rhythm\")\n",
        "        self.assertEqual(resultado, {'vocales': 0, 'consonantes': 6})\n",
        "        \n",
        "    def test_cadena_vacia(self):\n",
        "        \"\"\"Prueba una cadena vacia\"\"\"\n",
        "        resultado = analizar_texto(\"\")\n",
        "        self.assertEqual(resultado, {'vocales': 0, 'consonantes': 0})\n",
        "        \n",
        "    def test_cadena_numeros_simbolos(self):\n",
        "        \"\"\"Prueba una cadena con números y símbolos, además de letras\"\"\"\n",
        "        resultado = analizar_texto(\"Prueba123!$%\")\n",
        "        self.assertEqual(resultado, {'vocales': 3, 'consonantes': 3})\n",
        "        \n",
        "    def test_cadena_vacia(self):\n",
        "        \"\"\"Prueba sin cadena\"\"\"\n",
        "        with self.assertRaises(TypeError):\n",
        "            analizar_texto(1)"
      ]
    },
    {
      "cell_type": "code",
      "execution_count": 20,
      "metadata": {},
      "outputs": [
        {
          "name": "stderr",
          "output_type": "stream",
          "text": [
            ".....\n",
            "----------------------------------------------------------------------\n",
            "Ran 5 tests in 0.002s\n",
            "\n",
            "OK\n"
          ]
        },
        {
          "data": {
            "text/plain": [
              "<unittest.runner.TextTestResult run=5 errors=0 failures=0>"
            ]
          },
          "execution_count": 20,
          "metadata": {},
          "output_type": "execute_result"
        }
      ],
      "source": [
        "runner = unittest.TextTestRunner()\n",
        "suite = unittest.TestLoader().loadTestsFromTestCase(Test_Analizar_texto)\n",
        "runner.run(suite)"
      ]
    },
    {
      "cell_type": "markdown",
      "metadata": {},
      "source": [
        "# 7.  **Conexión con Otros Temas**\n"
      ]
    },
    {
      "cell_type": "markdown",
      "metadata": {},
      "source": [
        "*   **Conceptos que Deberías Conocer Previamente:**\n",
        "    *   **Funciones:** El objetivo principal es probar funciones.\n",
        "    *   **Clases y Herencia:** Las pruebas se organizan en clases que heredan de `unittest.TestCase`.\n",
        "    *   **Módulos e Importaciones:** A menudo, el código a probar estará en un módulo separado que necesitas importar.\n",
        "    *   **Manejo de Excepciones (`try-except`):** Útil para entender cómo probar que se lanzan excepciones (`assertRaises`).\n",
        "    *   **Tipos de Datos Básicos:** (strings, listas, diccionarios) ya que las pruebas a menudo implican manipularlos y verificar sus estados.\n",
        "\n",
        "*   **Temas Futuros para los que este Conocimiento Será Importante:**\n",
        "    *   **Desarrollo Dirigido por Pruebas (TDD - Test-Driven Development):** Una metodología donde escribes las pruebas *antes* de escribir el código funcional.\n",
        "    *   **Pruebas de Integración:** Pruebas que verifican cómo interactúan varias unidades de código juntas.\n",
        "    *   **Mocking y Patching (`unittest.mock`):** Técnicas para aislar aún más las unidades bajo prueba, reemplazando dependencias externas (como llamadas a APIs, bases de datos) con objetos simulados.\n",
        "    *   **Cobertura de Código (Code Coverage):** Herramientas que miden qué porcentaje de tu código está siendo ejecutado por tus pruebas.\n",
        "    *   **Integración Continua / Despliegue Continuo (CI/CD):** Sistemas automatizados que ejecutan tus pruebas cada vez que se realiza un cambio en el código, asegurando que las nuevas modificaciones no rompan nada.\n",
        "    *   **Frameworks de Pruebas más Avanzados:** Como `pytest`, que ofrece una sintaxis más concisa y características adicionales, aunque `unittest` es una excelente base."
      ]
    },
    {
      "cell_type": "markdown",
      "metadata": {},
      "source": [
        "# 8.  **Aplicaciones en el Mundo Real**\n"
      ]
    },
    {
      "cell_type": "markdown",
      "metadata": {},
      "source": [
        "1.  **Desarrollo de Software Robusto:** En cualquier aplicación (web, de escritorio, científica, backend, etc.), las pruebas unitarias son cruciales para asegurar que cada componente individual funciona correctamente. Empresas como Google, Facebook, Dropbox, etc., tienen extensas suites de pruebas unitarias para su software.\n",
        "2.  **Mantenimiento de Librerías y Paquetes:** Si desarrollas una librería que otros usarán (como NumPy, Pandas, Requests), las pruebas unitarias son esenciales para garantizar su fiabilidad y para permitir que se hagan mejoras y correcciones de errores sin introducir nuevas regresiones. Los usuarios de estas librerías confían en que han sido probadas exhaustivamente.\n",
        "3.  **Refactorización Segura de Código Legado:** Cuando se trabaja con código antiguo que necesita ser modernizado o mejorado, escribir pruebas unitarias para el comportamiento existente antes de hacer cambios permite refactorizar con la confianza de que no se está alterando la funcionalidad original de manera no deseada."
      ]
    }
  ],
  "metadata": {
    "kernelspec": {
      "display_name": "Python 3",
      "language": "python",
      "name": "python3"
    },
    "language_info": {
      "codemirror_mode": {
        "name": "ipython",
        "version": 3
      },
      "file_extension": ".py",
      "mimetype": "text/x-python",
      "name": "python",
      "nbconvert_exporter": "python",
      "pygments_lexer": "ipython3",
      "version": "3.13.3"
    }
  },
  "nbformat": 4,
  "nbformat_minor": 2
}
